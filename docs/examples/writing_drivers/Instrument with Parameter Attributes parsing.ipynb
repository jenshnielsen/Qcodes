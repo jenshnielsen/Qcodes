{
 "cells": [
  {
   "cell_type": "code",
   "execution_count": 204,
   "metadata": {},
   "outputs": [],
   "source": [
    "classcode = \\\n",
    "\"\"\"\n",
    "from qcodes.instrument.visa import VisaInstrument\n",
    "from qcodes import Parameter\n",
    "\n",
    "class Weinschel_8320(VisaInstrument):\n",
    "\n",
    "    def __init__(self, name, address, **kwargs):\n",
    "        super().__init__(name, address, **kwargs)\n",
    "    \n",
    "        self.attenuation = Parameter('attenuation', \n",
    "                                      unit='dB',\n",
    "                                      instrument=self,\n",
    "                                      set_cmd='ATTN ALL {:02.0f}',\n",
    "                                      get_cmd='ATTN? 1',\n",
    "                                      vals=vals.Enum(*np.arange(0, 60.1, 2).tolist()),\n",
    "                                      get_parser=float)\n",
    "    def _foo_bar() -> None:\n",
    "        pass\n",
    "\"\"\"\n"
   ]
  },
  {
   "cell_type": "code",
   "execution_count": 107,
   "metadata": {},
   "outputs": [],
   "source": [
    "import parso"
   ]
  },
  {
   "cell_type": "code",
   "execution_count": 172,
   "metadata": {},
   "outputs": [],
   "source": [
    "def parse_init_function_from_str(code: str, classname) -> parso.python.tree.Function:\n",
    "    module = parso.parse(classcode)\n",
    "    classes = tuple(child for child in module.children if isinstance(child, parso.python.tree.Class) and child.name.value == classname)\n",
    "    assert len(classes) == 1\n",
    "    myclass = classes[0]\n",
    "    nodes = tuple(child for child in myclass.children if isinstance(child, parso.python.tree.PythonNode))\n",
    "    assert len(nodes) == 1\n",
    "    node = nodes[0]\n",
    "    init_funcs = tuple(child for child in node.children if isinstance(child, parso.python.tree.Function) and child.name.value == '__init__')\n",
    "    assert len(init_funcs) == 1\n",
    "    return init_funcs[0]\n",
    "    \n",
    "\n"
   ]
  },
  {
   "cell_type": "code",
   "execution_count": 173,
   "metadata": {},
   "outputs": [],
   "source": [
    "init_func_tree = parse_init_function_from_str(classcode, \"Weinschel_8320\")"
   ]
  },
  {
   "cell_type": "code",
   "execution_count": 174,
   "metadata": {},
   "outputs": [],
   "source": [
    "def extract_statements_from_func_node(parso_func: parso.python.tree.Function):\n",
    "    function_bodys = tuple(child for child in init_func_tree.children if isinstance(child, parso.python.tree.PythonNode) and child.type == \"suite\")\n",
    "    assert len(function_bodys) == 1\n",
    "    function_body = function_bodys[0]\n",
    "    statement_lines = tuple(child.children[0] for child in function_body.children if isinstance(child, parso.python.tree.PythonNode) and isinstance(child.children[0],  parso.python.tree.ExprStmt))\n",
    "    \n",
    "    return statement_lines\n",
    "\n",
    "    "
   ]
  },
  {
   "cell_type": "code",
   "execution_count": 176,
   "metadata": {},
   "outputs": [],
   "source": [
    "stm = extract_statements_from_func_node(init_func_tree)[0]"
   ]
  },
  {
   "cell_type": "code",
   "execution_count": 178,
   "metadata": {},
   "outputs": [
    {
     "data": {
      "text/plain": [
       "parso.python.tree.ExprStmt"
      ]
     },
     "execution_count": 178,
     "metadata": {},
     "output_type": "execute_result"
    }
   ],
   "source": [
    "type(stm)"
   ]
  },
  {
   "cell_type": "code",
   "execution_count": 199,
   "metadata": {},
   "outputs": [],
   "source": [
    "from typing import Optional, Tuple"
   ]
  },
  {
   "cell_type": "code",
   "execution_count": 200,
   "metadata": {},
   "outputs": [],
   "source": [
    "def extract_code_without_self_from_statement(stm: parso.python.tree.ExprStmt) -> Optional[Tuple[str, str]]:\n",
    "    lhs = stm.children[0]\n",
    "    rhs = stm.get_rhs()\n",
    "    if len(lhs.children) == 2 and lhs.children[0].value == \"self\":\n",
    "        # more robust extraction of arglist\n",
    "        name = lhs.children[1].children[1].value\n",
    "        arglist = rhs.children[1].children[1]\n",
    "        to_remove = []\n",
    "        for i, arg in enumerate(arglist.children):\n",
    "            if parse_string_or_node(arg):\n",
    "                to_remove.append(i)\n",
    "                to_remove.append(i+1)\n",
    "        to_remove.sort(reverse=True)\n",
    "        for j in to_remove:\n",
    "            arglist.children.pop(j)\n",
    "        return name, rhs.get_code().strip()\n",
    "    else:\n",
    "        return {}\n",
    "    \n",
    "    \n",
    "    "
   ]
  },
  {
   "cell_type": "code",
   "execution_count": 210,
   "metadata": {},
   "outputs": [],
   "source": [
    "def eval_params_from_code(code: str, classname: str) -> Dict[str, Parameter]:\n",
    "    init_func_tree = parse_init_function_from_str(classcode, \"Weinschel_8320\")\n",
    "    stms = extract_statements_from_func_node(init_func_tree)\n",
    "    \n",
    "    param_dict = {}\n",
    "\n",
    "    for stm in stms:\n",
    "        name, code = extract_code_without_self_from_statement(stm)\n",
    "        param_dict[name] = eval(code)\n",
    "    return param_dict\n",
    "\n",
    "        \n"
   ]
  },
  {
   "cell_type": "code",
   "execution_count": 211,
   "metadata": {},
   "outputs": [
    {
     "data": {
      "text/plain": [
       "{'attenuation': <qcodes.instrument.parameter.Parameter: attenuation at 2363786406152>}"
      ]
     },
     "execution_count": 211,
     "metadata": {},
     "output_type": "execute_result"
    }
   ],
   "source": [
    "eval_params_from_code(classcode, \"Weinschel_8320\")"
   ]
  },
  {
   "cell_type": "code",
   "execution_count": 195,
   "metadata": {},
   "outputs": [
    {
     "data": {
      "text/plain": [
       "\"Parameter('attenuation', \\n                                      unit='dB',\\n                                      set_cmd='ATTN ALL {:02.0f}',\\n                                      get_cmd='ATTN? 1',\\n                                      vals=vals.Enum(*np.arange(0, 60.1, 2).tolist()),\\n                                      get_parser=float)\""
      ]
     },
     "execution_count": 195,
     "metadata": {},
     "output_type": "execute_result"
    }
   ],
   "source": [
    "b[\"attenuation\"].get_code().strip()"
   ]
  },
  {
   "cell_type": "code",
   "execution_count": 196,
   "metadata": {},
   "outputs": [],
   "source": [
    "c = {}\n",
    "c[\"attenuation\"] = eval(b[\"attenuation\"].get_code().strip())\n"
   ]
  },
  {
   "cell_type": "code",
   "execution_count": null,
   "metadata": {},
   "outputs": [],
   "source": []
  }
 ],
 "metadata": {
  "kernelspec": {
   "display_name": "Python 3 (ipykernel)",
   "language": "python",
   "name": "python3"
  },
  "language_info": {
   "codemirror_mode": {
    "name": "ipython",
    "version": 3
   },
   "file_extension": ".py",
   "mimetype": "text/x-python",
   "name": "python",
   "nbconvert_exporter": "python",
   "pygments_lexer": "ipython3",
   "version": "3.7.10"
  },
  "nbsphinx": {
   "execute": "never"
  }
 },
 "nbformat": 4,
 "nbformat_minor": 4
}
