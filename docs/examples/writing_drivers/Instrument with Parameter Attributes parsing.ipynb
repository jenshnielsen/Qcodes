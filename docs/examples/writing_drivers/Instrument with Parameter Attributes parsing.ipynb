{
 "cells": [
  {
   "cell_type": "code",
   "execution_count": 40,
   "metadata": {},
   "outputs": [],
   "source": [
    "classcode = \\\n",
    "\"\"\"\n",
    "from qcodes.instrument.visa import VisaInstrument\n",
    "from qcodes import Parameter\n",
    "\n",
    "class Weinschel_8320(VisaInstrument):\n",
    "\n",
    "    def __init__(self, name, address, **kwargs):\n",
    "        super().__init__(name, address, **kwargs)\n",
    "    \n",
    "        self.attenuation = Parameter('attenuation', unit='dB',\n",
    "                                      instrument=self,\n",
    "                                      set_cmd='ATTN ALL {:02.0f}',\n",
    "                                      get_cmd='ATTN? 1',\n",
    "                                      vals=vals.Enum(*np.arange(0, 60.1, 2).tolist()),\n",
    "                                      get_parser=float,\n",
    "                                      instrument=self)\n",
    "    def _foo_bar() -> None:\n",
    "        pass\n",
    "\"\"\"\n"
   ]
  },
  {
   "cell_type": "code",
   "execution_count": 41,
   "metadata": {},
   "outputs": [],
   "source": [
    "import parso"
   ]
  },
  {
   "cell_type": "code",
   "execution_count": 117,
   "metadata": {},
   "outputs": [],
   "source": [
    "def parse_init_function_from_str(code: str, classname) -> parso.python.tree.Function:\n",
    "    module = parso.parse(classcode)\n",
    "    classes = tuple(child for child in module.children if isinstance(child, parso.python.tree.Class) and child.name.value == classname)\n",
    "    assert len(classes) == 1\n",
    "    myclass = classes[0]\n",
    "    nodes = tuple(child for child in myclass.children if isinstance(child, parso.python.tree.PythonNode))\n",
    "    assert len(nodes) == 1\n",
    "    node = nodes[0]\n",
    "    init_funcs = tuple(child for child in node.children if isinstance(child, parso.python.tree.Function) and child.name.value == '__init__')\n",
    "    assert len(init_funcs) == 1\n",
    "    return init_funcs[0]\n",
    "    \n",
    "\n"
   ]
  },
  {
   "cell_type": "code",
   "execution_count": 120,
   "metadata": {},
   "outputs": [],
   "source": [
    "init_func_tree = parse_init_function_from_str(classcode, \"Weinschel_8320\")"
   ]
  },
  {
   "cell_type": "code",
   "execution_count": 225,
   "metadata": {},
   "outputs": [],
   "source": [
    "def extract_statements_from_func_node(parso_func: parso.python.tree.Function):\n",
    "    function_bodys = tuple(child for child in init_func_tree.children if isinstance(child, parso.python.tree.PythonNode) and child.type == \"suite\")\n",
    "    assert len(function_bodys) == 1\n",
    "    function_body = function_bodys[0]\n",
    "    statement_lines = tuple(child.children[0] for child in function_body.children if isinstance(child, parso.python.tree.PythonNode) and isinstance(child.children[0],  parso.python.tree.ExprStmt))\n",
    "    \n",
    "    return statement_lines\n",
    "\n",
    "    "
   ]
  },
  {
   "cell_type": "code",
   "execution_count": 226,
   "metadata": {},
   "outputs": [],
   "source": [
    "a = extract_statements_from_func_node(init_func_tree)"
   ]
  },
  {
   "cell_type": "code",
   "execution_count": 246,
   "metadata": {},
   "outputs": [
    {
     "data": {
      "text/plain": [
       "True"
      ]
     },
     "execution_count": 246,
     "metadata": {},
     "output_type": "execute_result"
    }
   ],
   "source": [
    "a[0].get_rhs().children[0].value == 'Parameter'"
   ]
  },
  {
   "cell_type": "code",
   "execution_count": 210,
   "metadata": {},
   "outputs": [
    {
     "data": {
      "text/plain": [
       "<ExprStmt: self.attenuation = Parameter('attenuation', unit='dB',                                       instrument=self,                                       set_cmd='ATTN ALL {:02.0f}',                                       get_cmd='ATTN? 1',                                       vals=vals.Enum(*np.arange(0, 60.1, 2).tolist()),                                       get_parser=float,                                       instrument=self)@10,8>"
      ]
     },
     "execution_count": 210,
     "metadata": {},
     "output_type": "execute_result"
    }
   ],
   "source": [
    "a[1].children[0]"
   ]
  },
  {
   "cell_type": "code",
   "execution_count": 207,
   "metadata": {},
   "outputs": [
    {
     "data": {
      "text/plain": [
       "parso.python.tree.ExprStmt"
      ]
     },
     "execution_count": 207,
     "metadata": {},
     "output_type": "execute_result"
    }
   ],
   "source": [
    "type(a[1].children[0])"
   ]
  },
  {
   "cell_type": "code",
   "execution_count": 209,
   "metadata": {},
   "outputs": [
    {
     "data": {
      "text/plain": [
       "parso.python.tree.ExprStmt"
      ]
     },
     "execution_count": 209,
     "metadata": {},
     "output_type": "execute_result"
    }
   ],
   "source": [
    "parso.python.tree.ExprStmt"
   ]
  },
  {
   "cell_type": "code",
   "execution_count": 146,
   "metadata": {},
   "outputs": [
    {
     "data": {
      "text/plain": [
       "PythonNode(simple_stmt, [<ExprStmt: self.attenuation = Parameter('attenuation', unit='dB',                                       instrument=self,                                       set_cmd='ATTN ALL {:02.0f}',                                       get_cmd='ATTN? 1',                                       vals=vals.Enum(*np.arange(0, 60.1, 2).tolist()),                                       get_parser=float,                                       instrument=self)@10,8>, <Newline: '\\n'>])"
      ]
     },
     "execution_count": 146,
     "metadata": {},
     "output_type": "execute_result"
    }
   ],
   "source": [
    "node.children[2]"
   ]
  },
  {
   "cell_type": "code",
   "execution_count": 88,
   "metadata": {},
   "outputs": [
    {
     "data": {
      "text/plain": [
       "(<Function: __init__@7-17>,)"
      ]
     },
     "execution_count": 88,
     "metadata": {},
     "output_type": "execute_result"
    }
   ],
   "source": [
    "node.c"
   ]
  },
  {
   "cell_type": "code",
   "execution_count": 55,
   "metadata": {},
   "outputs": [
    {
     "data": {
      "text/plain": [
       "<Function: __init__@7-17>"
      ]
     },
     "execution_count": 55,
     "metadata": {},
     "output_type": "execute_result"
    }
   ],
   "source": []
  },
  {
   "cell_type": "code",
   "execution_count": 44,
   "metadata": {},
   "outputs": [
    {
     "data": {
      "text/plain": [
       "PythonNode(suite, [<Newline: '\\n'>, <Function: __init__@7-17>, <Function: _foo_bar@17-19>])"
      ]
     },
     "execution_count": 44,
     "metadata": {},
     "output_type": "execute_result"
    }
   ],
   "source": []
  },
  {
   "cell_type": "code",
   "execution_count": null,
   "metadata": {},
   "outputs": [],
   "source": []
  },
  {
   "cell_type": "code",
   "execution_count": null,
   "metadata": {},
   "outputs": [],
   "source": []
  },
  {
   "cell_type": "markdown",
   "metadata": {},
   "source": [
    "classes[0].children[1]"
   ]
  },
  {
   "cell_type": "code",
   "execution_count": 32,
   "metadata": {},
   "outputs": [
    {
     "data": {
      "text/plain": [
       "<Name: VisaInstrument@5,21>"
      ]
     },
     "execution_count": 32,
     "metadata": {},
     "output_type": "execute_result"
    }
   ],
   "source": [
    "classes[0].children[3]"
   ]
  },
  {
   "cell_type": "code",
   "execution_count": 33,
   "metadata": {},
   "outputs": [
    {
     "data": {
      "text/plain": [
       "parso.python.tree.Class"
      ]
     },
     "execution_count": 33,
     "metadata": {},
     "output_type": "execute_result"
    }
   ],
   "source": [
    "type(myclass)"
   ]
  },
  {
   "cell_type": "code",
   "execution_count": 6,
   "metadata": {},
   "outputs": [
    {
     "ename": "AttributeError",
     "evalue": "'Newline' object has no attribute 'children'",
     "output_type": "error",
     "traceback": [
      "\u001b[1;31m---------------------------------------------------------------------------\u001b[0m",
      "\u001b[1;31mAttributeError\u001b[0m                            Traceback (most recent call last)",
      "\u001b[1;32mC:\\Users\\JENS-W~1\\AppData\\Local\\Temp/ipykernel_26912/2138335468.py\u001b[0m in \u001b[0;36m<module>\u001b[1;34m\u001b[0m\n\u001b[0;32m      1\u001b[0m \u001b[0mmodule\u001b[0m \u001b[1;33m=\u001b[0m \u001b[0mparso\u001b[0m\u001b[1;33m.\u001b[0m\u001b[0mparse\u001b[0m\u001b[1;33m(\u001b[0m\u001b[0mclasscode\u001b[0m\u001b[1;33m)\u001b[0m\u001b[1;33m\u001b[0m\u001b[1;33m\u001b[0m\u001b[0m\n\u001b[0;32m      2\u001b[0m \u001b[0mmyclass\u001b[0m \u001b[1;33m=\u001b[0m \u001b[0mmodule\u001b[0m\u001b[1;33m.\u001b[0m\u001b[0mchildren\u001b[0m\u001b[1;33m[\u001b[0m\u001b[1;36m0\u001b[0m\u001b[1;33m]\u001b[0m\u001b[1;33m\u001b[0m\u001b[1;33m\u001b[0m\u001b[0m\n\u001b[1;32m----> 3\u001b[1;33m \u001b[0mmyclass\u001b[0m\u001b[1;33m.\u001b[0m\u001b[0mchildren\u001b[0m\u001b[1;33m[\u001b[0m\u001b[1;33m-\u001b[0m\u001b[1;36m1\u001b[0m\u001b[1;33m]\u001b[0m\u001b[1;33m.\u001b[0m\u001b[0mchildren\u001b[0m\u001b[1;33m[\u001b[0m\u001b[1;33m-\u001b[0m\u001b[1;36m1\u001b[0m\u001b[1;33m]\u001b[0m\u001b[1;33m.\u001b[0m\u001b[0mchildren\u001b[0m\u001b[1;33m[\u001b[0m\u001b[1;33m-\u001b[0m\u001b[1;36m1\u001b[0m\u001b[1;33m]\u001b[0m\u001b[1;33m.\u001b[0m\u001b[0mchildren\u001b[0m\u001b[1;33m[\u001b[0m\u001b[1;33m-\u001b[0m\u001b[1;36m1\u001b[0m\u001b[1;33m]\u001b[0m\u001b[1;33m.\u001b[0m\u001b[0mchildren\u001b[0m\u001b[1;33m[\u001b[0m\u001b[1;36m0\u001b[0m\u001b[1;33m]\u001b[0m\u001b[1;33m\u001b[0m\u001b[1;33m\u001b[0m\u001b[0m\n\u001b[0m",
      "\u001b[1;31mAttributeError\u001b[0m: 'Newline' object has no attribute 'children'"
     ]
    }
   ],
   "source": [
    "module = parso.parse(classcode)\n",
    "myclass = module.children[0]\n",
    "myclass.children[-1].children[-1].children[-1].children[-1].children[0]"
   ]
  },
  {
   "cell_type": "code",
   "execution_count": 17,
   "metadata": {},
   "outputs": [],
   "source": []
  },
  {
   "cell_type": "code",
   "execution_count": 18,
   "metadata": {},
   "outputs": [],
   "source": [
    "myclass = module.children[0]"
   ]
  },
  {
   "cell_type": "code",
   "execution_count": 19,
   "metadata": {},
   "outputs": [
    {
     "data": {
      "text/plain": [
       "<ExprStmt: self.attenuation = Parameter('attenuation', unit='dB',                                       set_cmd='ATTN ALL {:02.0f}',                                       get_cmd='ATTN? 1',                                       vals=vals.Enum(*np.arange(0, 60.1, 2).tolist()),                                       get_parser=float,                                       instrument=self)@7,8>"
      ]
     },
     "execution_count": 19,
     "metadata": {},
     "output_type": "execute_result"
    }
   ],
   "source": [
    "myclass.children[-1].children[-1].children[-1].children[-1].children[0]"
   ]
  },
  {
   "cell_type": "code",
   "execution_count": 25,
   "metadata": {},
   "outputs": [
    {
     "name": "stdout",
     "output_type": "stream",
     "text": [
      "<Keyword: class>\n",
      "<Name: Weinschel_8320@2,6>\n",
      "<Operator: (>\n",
      "<Name: VisaInstrument@2,21>\n",
      "<Operator: )>\n",
      "<Operator: :>\n",
      "<Newline: '\\n'>\n",
      "<Keyword: def>\n",
      "<Name: __init__@4,8>\n",
      "<Operator: (>\n",
      "<Name: self@4,17>\n",
      "<Operator: ,>\n",
      "<Name: name@4,23>\n",
      "<Operator: ,>\n",
      "<Name: address@4,29>\n",
      "<Operator: ,>\n",
      "<Operator: **>\n",
      "<Name: kwargs@4,40>\n",
      "<Operator: )>\n",
      "<Operator: :>\n",
      "<Newline: '\\n'>\n",
      "<Name: super@5,8>\n",
      "<Operator: (>\n",
      "<Operator: )>\n",
      "<Operator: .>\n",
      "<Name: __init__@5,16>\n",
      "<Operator: (>\n",
      "<Name: name@5,25>\n",
      "<Operator: ,>\n",
      "<Name: address@5,31>\n",
      "<Operator: ,>\n",
      "<Name: terminator@5,40>\n",
      "<Operator: =>\n",
      "<PythonErrorLeaf: ERRORTOKEN:\"'\", (5, 51)>\n",
      "<PythonErrorLeaf: ERRORTOKEN:\"'\", (6, 0)>\n",
      "<PythonErrorLeaf: OP:',', (6, 1)>\n",
      "<PythonErrorLeaf: OP:'**', (6, 3)>\n",
      "<Name: kwargs@6,5>\n",
      "<PythonErrorLeaf: OP:')', (6, 11)>\n",
      "<Newline: '\\n'>\n",
      "<Name: self@8,8>\n",
      "<Operator: .>\n",
      "<Name: attenuation@8,13>\n",
      "<Operator: =>\n",
      "<Name: Parameter@8,27>\n",
      "<Operator: (>\n",
      "<String: 'attenuation'>\n",
      "<Operator: ,>\n",
      "<Name: unit@8,52>\n",
      "<Operator: =>\n",
      "<String: 'dB'>\n",
      "<Operator: ,>\n",
      "<Name: set_cmd@9,38>\n",
      "<Operator: =>\n",
      "<String: 'ATTN ALL {:02.0f}'>\n",
      "<Operator: ,>\n",
      "<Name: get_cmd@10,38>\n",
      "<Operator: =>\n",
      "<String: 'ATTN? 1'>\n",
      "<Operator: ,>\n",
      "<Name: vals@11,38>\n",
      "<Operator: =>\n",
      "<Name: vals@11,43>\n",
      "<Operator: .>\n",
      "<Name: Enum@11,48>\n",
      "<Operator: (>\n",
      "<Operator: *>\n",
      "<Name: np@11,54>\n",
      "<Operator: .>\n",
      "<Name: arange@11,57>\n",
      "<Operator: (>\n",
      "<Number: 0>\n",
      "<Operator: ,>\n",
      "<Number: 60.1>\n",
      "<Operator: ,>\n",
      "<Number: 2>\n",
      "<Operator: )>\n",
      "<Operator: .>\n",
      "<Name: tolist@11,76>\n",
      "<Operator: (>\n",
      "<Operator: )>\n",
      "<Operator: )>\n",
      "<Operator: ,>\n",
      "<Name: get_parser@12,38>\n",
      "<Operator: =>\n",
      "<Name: float@12,49>\n",
      "<Operator: ,>\n",
      "<Name: instrument@13,38>\n",
      "<Operator: =>\n",
      "<Name: self@13,49>\n",
      "<Operator: )>\n",
      "<Newline: '\\n'>\n",
      "<EndMarker: prefix='' end_pos=(14, 0)>\n"
     ]
    }
   ],
   "source": [
    "b = a.get_first_leaf()\n",
    "while b is not None:\n",
    "    print(b)\n",
    "    b = b.get_next_leaf()"
   ]
  },
  {
   "cell_type": "code",
   "execution_count": 31,
   "metadata": {},
   "outputs": [],
   "source": [
    "from inspect import getfullargspec, signature, getargs, getmembers"
   ]
  },
  {
   "cell_type": "code",
   "execution_count": 32,
   "metadata": {},
   "outputs": [
    {
     "data": {
      "text/plain": [
       "[('__abstractmethods__', frozenset()),\n",
       " ('__annotations__',\n",
       "  {'_all_instruments': 'Dict[str, weakref.ref[Instrument]]',\n",
       "   '_instances': 'List[weakref.ref[Instrument]]'}),\n",
       " ('__class__', abc.ABCMeta),\n",
       " ('__del__',\n",
       "  <function qcodes.instrument.base.Instrument.__del__(self) -> None>),\n",
       " ('__delattr__', <slot wrapper '__delattr__' of 'object' objects>),\n",
       " ('__dict__',\n",
       "  mappingproxy({'__module__': '__main__',\n",
       "                '__doc__': '\\n    QCoDeS driver for the stepped attenuator\\n    Weinschel is formerly known as Aeroflex/Weinschel\\n    ',\n",
       "                'attenuation1': <qcodes.instrument.parameter.Parameter: attenuation at 2591177886792>,\n",
       "                '__init__': <function __main__.Weinschel_8320.__init__(self, name, address, **kwargs)>,\n",
       "                '__abstractmethods__': frozenset(),\n",
       "                '_abc_impl': <_abc_data at 0x25b4e7e51b0>})),\n",
       " ('__dir__',\n",
       "  <function qcodes.utils.helpers.DelegateAttributes.__dir__(self) -> List[str]>),\n",
       " ('__doc__',\n",
       "  '\\n    QCoDeS driver for the stepped attenuator\\n    Weinschel is formerly known as Aeroflex/Weinschel\\n    '),\n",
       " ('__eq__', <slot wrapper '__eq__' of 'object' objects>),\n",
       " ('__format__', <method '__format__' of 'object' objects>),\n",
       " ('__ge__', <slot wrapper '__ge__' of 'object' objects>),\n",
       " ('__getattr__',\n",
       "  <function qcodes.utils.helpers.DelegateAttributes.__getattr__(self, key: str) -> Any>),\n",
       " ('__getattribute__', <slot wrapper '__getattribute__' of 'object' objects>),\n",
       " ('__getitem__',\n",
       "  <function qcodes.instrument.base.InstrumentBase.__getitem__(self, key: str) -> Union[Callable[..., Any], qcodes.instrument.parameter.Parameter]>),\n",
       " ('__getstate__',\n",
       "  <function qcodes.instrument.base.InstrumentBase.__getstate__(self) -> None>),\n",
       " ('__gt__', <slot wrapper '__gt__' of 'object' objects>),\n",
       " ('__hash__', <slot wrapper '__hash__' of 'object' objects>),\n",
       " ('__init__',\n",
       "  <function __main__.Weinschel_8320.__init__(self, name, address, **kwargs)>),\n",
       " ('__init_subclass__', <function Weinschel_8320.__init_subclass__>),\n",
       " ('__le__', <slot wrapper '__le__' of 'object' objects>),\n",
       " ('__lt__', <slot wrapper '__lt__' of 'object' objects>),\n",
       " ('__module__', '__main__'),\n",
       " ('__ne__', <slot wrapper '__ne__' of 'object' objects>),\n",
       " ('__new__', <function object.__new__(*args, **kwargs)>),\n",
       " ('__reduce__', <method '__reduce__' of 'object' objects>),\n",
       " ('__reduce_ex__', <method '__reduce_ex__' of 'object' objects>),\n",
       " ('__repr__',\n",
       "  <function qcodes.instrument.base.Instrument.__repr__(self) -> str>),\n",
       " ('__setattr__', <slot wrapper '__setattr__' of 'object' objects>),\n",
       " ('__sizeof__', <method '__sizeof__' of 'object' objects>),\n",
       " ('__slots__', ()),\n",
       " ('__str__', <slot wrapper '__str__' of 'object' objects>),\n",
       " ('__subclasshook__', <function Weinschel_8320.__subclasshook__>),\n",
       " ('__weakref__', <attribute '__weakref__' of 'Metadatable' objects>),\n",
       " ('_abc_impl', <_abc_data at 0x25b4e7e51b0>),\n",
       " ('_all_instruments',\n",
       "  {'wein_sim': <weakref at 0x0000025B2D61CDB8; to 'Weinschel_8320' at 0x0000025B2D54AA08>}),\n",
       " ('_get_visa_timeout',\n",
       "  <function qcodes.instrument.visa.VisaInstrument._get_visa_timeout(self) -> Union[float, NoneType]>),\n",
       " ('_instances', []),\n",
       " ('_set_visa_timeout',\n",
       "  <function qcodes.instrument.visa.VisaInstrument._set_visa_timeout(self, timeout: Union[float, NoneType]) -> None>),\n",
       " ('_type', None),\n",
       " ('add_function',\n",
       "  <function qcodes.instrument.base.InstrumentBase.add_function(self, name: str, **kwargs: Any) -> None>),\n",
       " ('add_parameter',\n",
       "  <function qcodes.instrument.base.InstrumentBase.add_parameter(self, name: str, parameter_class: type = <class 'qcodes.instrument.parameter.Parameter'>, **kwargs: Any) -> None>),\n",
       " ('add_submodule',\n",
       "  <function qcodes.instrument.base.InstrumentBase.add_submodule(self, name: str, submodule: Union[ForwardRef('InstrumentBase'), ForwardRef('ChannelList')]) -> None>),\n",
       " ('ancestors', <property at 0x25b4cd1a598>),\n",
       " ('ask',\n",
       "  <function qcodes.instrument.base.Instrument.ask(self, cmd: str) -> str>),\n",
       " ('ask_raw',\n",
       "  <function qcodes.instrument.visa.VisaInstrument.ask_raw(self, cmd: str) -> str>),\n",
       " ('attenuation1',\n",
       "  <qcodes.instrument.parameter.Parameter: attenuation at 2591177886792>),\n",
       " ('call',\n",
       "  <function qcodes.instrument.base.InstrumentBase.call(self, func_name: str, *args: Any) -> Any>),\n",
       " ('check_error',\n",
       "  <function qcodes.instrument.visa.VisaInstrument.check_error(self, ret_code: int) -> None>),\n",
       " ('close',\n",
       "  <function qcodes.instrument.visa.VisaInstrument.close(self) -> None>),\n",
       " ('close_all',\n",
       "  <bound method Instrument.close_all of <class '__main__.Weinschel_8320'>>),\n",
       " ('connect_message',\n",
       "  <function qcodes.instrument.base.Instrument.connect_message(self, idn_param: str = 'IDN', begin_time: Union[float, NoneType] = None) -> None>),\n",
       " ('delegate_attr_dicts', ['parameters', 'functions', 'submodules']),\n",
       " ('delegate_attr_objects', []),\n",
       " ('device_clear',\n",
       "  <function qcodes.instrument.visa.VisaInstrument.device_clear(self) -> None>),\n",
       " ('exist',\n",
       "  <function qcodes.instrument.base.Instrument.exist(name: str, instrument_class: Union[type, NoneType] = None) -> bool>),\n",
       " ('find_instrument',\n",
       "  <bound method Instrument.find_instrument of <class '__main__.Weinschel_8320'>>),\n",
       " ('full_name', <property at 0x25b4cd1a818>),\n",
       " ('get',\n",
       "  <function qcodes.instrument.base.InstrumentBase.get(self, param_name: str) -> Any>),\n",
       " ('get_idn',\n",
       "  <function qcodes.instrument.base.Instrument.get_idn(self) -> Dict[str, Union[str, NoneType]]>),\n",
       " ('instances',\n",
       "  <bound method Instrument.instances of <class '__main__.Weinschel_8320'>>),\n",
       " ('is_valid',\n",
       "  <function qcodes.instrument.base.Instrument.is_valid(instr_instance: 'Instrument') -> bool>),\n",
       " ('load_metadata',\n",
       "  <function qcodes.utils.metadata.Metadatable.load_metadata(self, metadata: Dict[Any, Any]) -> None>),\n",
       " ('name', <property at 0x25b3d3f8368>),\n",
       " ('name_parts', <property at 0x25b4cd1a7c8>),\n",
       " ('omit_delegate_attrs', []),\n",
       " ('parent', <property at 0x25b3d404778>),\n",
       " ('print_readable_snapshot',\n",
       "  <function qcodes.instrument.base.InstrumentBase.print_readable_snapshot(self, update: bool = False, max_chars: int = 80) -> None>),\n",
       " ('record_instance',\n",
       "  <bound method Instrument.record_instance of <class '__main__.Weinschel_8320'>>),\n",
       " ('remove_instance',\n",
       "  <bound method Instrument.remove_instance of <class '__main__.Weinschel_8320'>>),\n",
       " ('root_instrument', <property at 0x25b4cd1a778>),\n",
       " ('set',\n",
       "  <function qcodes.instrument.base.InstrumentBase.set(self, param_name: str, value: Any) -> None>),\n",
       " ('set_address',\n",
       "  <function qcodes.instrument.visa.VisaInstrument.set_address(self, address: str) -> None>),\n",
       " ('set_terminator',\n",
       "  <function qcodes.instrument.visa.VisaInstrument.set_terminator(self, terminator: str) -> None>),\n",
       " ('shared_kwargs', ()),\n",
       " ('short_name', <property at 0x25b3d3e6408>),\n",
       " ('snapshot',\n",
       "  <function qcodes.utils.metadata.Metadatable.snapshot(self, update: Union[bool, NoneType] = False) -> Dict[Any, Any]>),\n",
       " ('snapshot_base',\n",
       "  <function qcodes.instrument.visa.VisaInstrument.snapshot_base(self, update: Union[bool, NoneType] = True, params_to_skip_update: Union[Sequence[str], NoneType] = None) -> Dict[Any, Any]>),\n",
       " ('validate_status',\n",
       "  <function qcodes.instrument.base.InstrumentBase.validate_status(self, verbose: bool = False) -> None>),\n",
       " ('write',\n",
       "  <function qcodes.instrument.base.Instrument.write(self, cmd: str) -> None>),\n",
       " ('write_raw',\n",
       "  <function qcodes.instrument.visa.VisaInstrument.write_raw(self, cmd: str) -> None>)]"
      ]
     },
     "execution_count": 32,
     "metadata": {},
     "output_type": "execute_result"
    }
   ],
   "source": [
    "getmembers(Weinschel_8320)"
   ]
  },
  {
   "cell_type": "markdown",
   "metadata": {},
   "source": [
    "### The `.yaml` file"
   ]
  },
  {
   "cell_type": "markdown",
   "metadata": {},
   "source": [
    "The yaml file we use is"
   ]
  },
  {
   "cell_type": "markdown",
   "metadata": {},
   "source": [
    "```\n",
    "spec: \"1.0\"\n",
    "devices:\n",
    "  device 1:\n",
    "    eom:\n",
    "      GPIB INSTR:\n",
    "        q: \"\\r\"  # MAKE SURE! that this matches the terminator of the driver!\n",
    "        r: \"\\r\"\n",
    "    error: ERROR\n",
    "    dialogues:\n",
    "      - q: \"*IDN?\"\n",
    "        r: \"QCoDeS, Weinschel 8320 (Simulated), 1337, 0.0.01\"\n",
    "\n",
    "    properties:\n",
    "\n",
    "      attenuation:\n",
    "        default: 0\n",
    "        getter:\n",
    "          q: \"ATTN? 1\"  # the set/get commands have to simply be copied over from the driver\n",
    "          r: \"{:02.0f}\"\n",
    "        setter:\n",
    "          q: \"ATTN ALL {:02.0f}\"          \n",
    "\n",
    "resources:  \n",
    "  GPIB::1::INSTR:\n",
    "    device: device 1\n",
    "```"
   ]
  },
  {
   "cell_type": "markdown",
   "metadata": {},
   "source": [
    "Note that since no physical connection is made, it doesn't matter what interface we pretend to use (GPIB, USB, ethernet, serial, ...). As a convention, we always write GPIB in the `.yaml` files.\n",
    "\n",
    "We save the above file as `qcodes/instrument/sims/Weinschel_8320.yaml`. This simulates an instrument with no settable parameter; only an `*IDN?` response. This is enough to instantiate the instrument.\n",
    "\n",
    "Then we may connect to the simulated instrument."
   ]
  },
  {
   "cell_type": "code",
   "execution_count": 2,
   "metadata": {},
   "outputs": [],
   "source": [
    "import qcodes.instrument.sims as sims\n",
    "# path to the .yaml file containing the simulated instrument\n",
    "visalib = sims.__file__.replace('__init__.py', 'Weinschel_8320.yaml@sim')\n",
    "\n",
    "wein_sim = Weinschel_8320('wein_sim',\n",
    "                          address='GPIB::1::INSTR',  # This matches the address in the .yaml file\n",
    "                          visalib=visalib\n",
    "                          )"
   ]
  },
  {
   "cell_type": "code",
   "execution_count": 16,
   "metadata": {},
   "outputs": [
    {
     "ename": "AttributeError",
     "evalue": "type object 'Weinschel_8320' has no attribute 'attenuation'",
     "output_type": "error",
     "traceback": [
      "\u001b[1;31m---------------------------------------------------------------------------\u001b[0m",
      "\u001b[1;31mAttributeError\u001b[0m                            Traceback (most recent call last)",
      "\u001b[1;32m<ipython-input-16-b318c9ed82e0>\u001b[0m in \u001b[0;36m<module>\u001b[1;34m\u001b[0m\n\u001b[1;32m----> 1\u001b[1;33m \u001b[0mgetattr\u001b[0m\u001b[1;33m(\u001b[0m\u001b[0mWeinschel_8320\u001b[0m\u001b[1;33m,\u001b[0m \u001b[1;34m\"attenuation\"\u001b[0m\u001b[1;33m)\u001b[0m\u001b[1;33m\u001b[0m\u001b[1;33m\u001b[0m\u001b[0m\n\u001b[0m",
      "\u001b[1;31mAttributeError\u001b[0m: type object 'Weinschel_8320' has no attribute 'attenuation'"
     ]
    }
   ],
   "source": [
    "getattr(Weinschel_8320, \"attenuation\")"
   ]
  },
  {
   "cell_type": "code",
   "execution_count": 15,
   "metadata": {},
   "outputs": [
    {
     "data": {
      "text/plain": [
       "<qcodes.instrument.parameter.Parameter: attenuation at 2591177188424>"
      ]
     },
     "execution_count": 15,
     "metadata": {},
     "output_type": "execute_result"
    }
   ],
   "source": [
    "getattr(Weinschel_8320, \"attenuation1\")\n"
   ]
  },
  {
   "cell_type": "code",
   "execution_count": 7,
   "metadata": {},
   "outputs": [],
   "source": [
    "wein_sim.attenuation.set(2)"
   ]
  },
  {
   "cell_type": "code",
   "execution_count": 8,
   "metadata": {},
   "outputs": [
    {
     "data": {
      "text/plain": [
       "2.0"
      ]
     },
     "execution_count": 8,
     "metadata": {},
     "output_type": "execute_result"
    }
   ],
   "source": [
    "wein_sim.attenuation.get()"
   ]
  },
  {
   "cell_type": "code",
   "execution_count": 9,
   "metadata": {},
   "outputs": [
    {
     "data": {
      "text/plain": [
       "{'functions': {},\n",
       " 'submodules': {},\n",
       " '__class__': '__main__.Weinschel_8320',\n",
       " 'parameters': {'IDN': {'__class__': 'qcodes.instrument.parameter.Parameter',\n",
       "   'full_name': 'wein_sim_IDN',\n",
       "   'value': None,\n",
       "   'raw_value': None,\n",
       "   'ts': None,\n",
       "   'inter_delay': 0,\n",
       "   'unit': '',\n",
       "   'label': 'IDN',\n",
       "   'name': 'IDN',\n",
       "   'instrument': '__main__.Weinschel_8320',\n",
       "   'instrument_name': 'wein_sim',\n",
       "   'vals': '<Anything>',\n",
       "   'post_delay': 0},\n",
       "  'timeout': {'__class__': 'qcodes.instrument.parameter.Parameter',\n",
       "   'full_name': 'wein_sim_timeout',\n",
       "   'value': 5,\n",
       "   'raw_value': 5,\n",
       "   'ts': '2021-06-25 10:49:14',\n",
       "   'inter_delay': 0,\n",
       "   'unit': 's',\n",
       "   'label': 'timeout',\n",
       "   'name': 'timeout',\n",
       "   'instrument': '__main__.Weinschel_8320',\n",
       "   'instrument_name': 'wein_sim',\n",
       "   'vals': '<MultiType: Numbers v>=0, Enum: {None}>',\n",
       "   'post_delay': 0},\n",
       "  'attenuation': {'__class__': 'qcodes.instrument.parameter.Parameter',\n",
       "   'full_name': 'wein_sim_attenuation',\n",
       "   'value': 2.0,\n",
       "   'raw_value': '02',\n",
       "   'ts': '2021-06-25 10:49:23',\n",
       "   'inter_delay': 0,\n",
       "   'unit': 'dB',\n",
       "   'label': 'attenuation',\n",
       "   'name': 'attenuation',\n",
       "   'instrument': '__main__.Weinschel_8320',\n",
       "   'instrument_name': 'wein_sim',\n",
       "   'vals': '<Enum: {0.0, 2.0, 4.0, 6.0, 8.0, 10.0, 12.0, 14.0, 16.0, 18.0, 20.0, 22.0, 24.0, 26.0, 28.0, 30.0, 32.0, 34.0, 36.0, 38.0, 40.0, 42.0, 44.0, 46.0, 48.0, 50.0, 52.0, 54.0, 56.0, 58.0, 60.0}>',\n",
       "   'post_delay': 0}},\n",
       " 'name': 'wein_sim',\n",
       " 'address': 'GPIB::1::INSTR',\n",
       " 'terminator': '\\r',\n",
       " 'timeout': 5.0}"
      ]
     },
     "execution_count": 9,
     "metadata": {},
     "output_type": "execute_result"
    }
   ],
   "source": [
    "wein_sim.snapshot()"
   ]
  },
  {
   "cell_type": "markdown",
   "metadata": {},
   "source": [
    "Here is an example of how this looks in the docs"
   ]
  },
  {
   "attachments": {
    "ccf7367e-d358-4045-889e-af35a1830c84.png": {
     "image/png": "[encoded data removed]"
    }
   },
   "cell_type": "markdown",
   "metadata": {},
   "source": [
    "![Screenshot 2021-06-25 110856.png](attachment:ccf7367e-d358-4045-889e-af35a1830c84.png)"
   ]
  },
  {
   "cell_type": "code",
   "execution_count": null,
   "metadata": {},
   "outputs": [],
   "source": []
  }
 ],
 "metadata": {
  "kernelspec": {
   "display_name": "Python 3 (ipykernel)",
   "language": "python",
   "name": "python3"
  },
  "language_info": {
   "codemirror_mode": {
    "name": "ipython",
    "version": 3
   },
   "file_extension": ".py",
   "mimetype": "text/x-python",
   "name": "python",
   "nbconvert_exporter": "python",
   "pygments_lexer": "ipython3",
   "version": "3.7.10"
  },
  "nbsphinx": {
   "execute": "never"
  }
 },
 "nbformat": 4,
 "nbformat_minor": 4
}
