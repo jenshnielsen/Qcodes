{
 "cells": [
  {
   "cell_type": "markdown",
   "id": "4dbf5958-3ae2-474c-b1d7-1fde98ea51a7",
   "metadata": {},
   "source": [
    "# Graph experiments "
   ]
  },
  {
   "cell_type": "code",
   "execution_count": 1,
   "id": "c10e8352-a25c-4871-a3c5-d756f0de9220",
   "metadata": {},
   "outputs": [
    {
     "name": "stdout",
     "output_type": "stream",
     "text": [
      "Logging hadn't been started.\n",
      "Activating auto-logging. Current session state plus future input saved.\n",
      "Filename       : C:\\Users\\Jens-work\\.qcodes\\logs\\command_history.log\n",
      "Mode           : append\n",
      "Output logging : True\n",
      "Raw input log  : False\n",
      "Timestamping   : True\n",
      "State          : active\n",
      "Qcodes Logfile : C:\\Users\\Jens-work\\.qcodes\\logs\\210907-13332-qcodes.log\n"
     ]
    }
   ],
   "source": [
    "from qcodes.instrument import Instrument, Parameter\n",
    "from qcodes.instrument.graph import StationGraph, Edge\n",
    "\n",
    "class ToggleSwitch(Instrument):\n",
    "    def __init__(self, name: str):\n",
    "        super().__init__(name)\n",
    "        self._position = \"a\"\n",
    "        self.switch_position = Parameter(\n",
    "            \"switch_position\",\n",
    "            unit=\"V\",\n",
    "            get_cmd=self.get_position,\n",
    "            set_cmd=self.set_position,\n",
    "        )\n",
    "        self._graph = self._make_graph()\n",
    "\n",
    "    \n",
    "    def get_position(self):\n",
    "        return self._position\n",
    "    \n",
    "    def set_position(self, value):\n",
    "        if value in [\"a\", \"b\"]:\n",
    "            self._position = value\n",
    "            \n",
    "                    \n",
    "    @property\n",
    "    def graph(self) -> StationGraph:\n",
    "        return self._graph\n",
    "\n",
    "    def _make_graph(self):\n",
    "        graph = MutableStationGraph()\n",
    "\n",
    "        #name the nodes\n",
    "        node_a = f\"{self.name}.node_a\"\n",
    "        node_b = f\"{self.name}.node_b\"\n",
    "        switch_node = f\"{self.name}.node_common\"\n",
    "\n",
    "        #define nodes\n",
    "        graph[node_a] = ForwardingNode()\n",
    "        graph[node_b] = ForwardingNode()\n",
    "        graph[switch_node] = ForwardingNode()\n",
    "\n",
    "        #define edges\n",
    "        graph[switch_node, node_a] = Edge.Inactive\n",
    "        graph[switch_node, node_b] = Edge.Inactive\n",
    "\n",
    "        return graph"
   ]
  },
  {
   "cell_type": "code",
   "execution_count": null,
   "id": "8abc7513-15a6-4f93-84c2-e412b2c55b34",
   "metadata": {},
   "outputs": [],
   "source": [
    "from qchar.instruments.base import Quellable, Routable\n",
    "from qchar.routing.graphing import StationGraph, MutableStationGraph, ForwardingNode\n",
    "\n",
    "class RoutableToggleSwitch(ToggleSwitch, Routable):\n",
    "\n",
    "    def __init__(self, name: str):\n",
    "        super().__init__(name)\n",
    "        self._graph = self._make_graph()\n",
    "\n",
    "    @property\n",
    "    def graph(self) -> StationGraph:\n",
    "        return self._graph\n",
    "\n",
    "    def _make_graph(self):\n",
    "        graph = MutableStationGraph()\n",
    "\n",
    "        #name the nodes\n",
    "        node_a = f\"{self.name}.node_a\"\n",
    "        node_b = f\"{self.name}.node_b\"\n",
    "        switch_node = f\"{self.name}.node_common\"\n",
    "\n",
    "        #define nodes\n",
    "        graph[node_a] = ForwardingNode()\n",
    "        graph[node_b] = ForwardingNode()\n",
    "        graph[switch_node] = ForwardingNode()\n",
    "\n",
    "        #define edges\n",
    "        graph[switch_node, node_a] = StationGraph.Edge.Inactive\n",
    "        graph[switch_node, node_b] = StationGraph.Edge.Inactive\n",
    "\n",
    "        return graph"
   ]
  }
 ],
 "metadata": {
  "kernelspec": {
   "display_name": "Python 3 (ipykernel)",
   "language": "python",
   "name": "python3"
  },
  "language_info": {
   "codemirror_mode": {
    "name": "ipython",
    "version": 3
   },
   "file_extension": ".py",
   "mimetype": "text/x-python",
   "name": "python",
   "nbconvert_exporter": "python",
   "pygments_lexer": "ipython3",
   "version": "3.7.11"
  }
 },
 "nbformat": 4,
 "nbformat_minor": 5
}
