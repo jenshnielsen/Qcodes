{
 "cells": [
  {
   "cell_type": "code",
   "execution_count": 1,
   "id": "b4b4b558-4bb6-47a7-ba3d-ad9cb7c3d2ea",
   "metadata": {},
   "outputs": [],
   "source": [
    "from __future__ import annotations"
   ]
  },
  {
   "cell_type": "code",
   "execution_count": 2,
   "id": "b00cf314-f7bd-4b59-9008-d5db92692746",
   "metadata": {},
   "outputs": [],
   "source": [
    "from typing import TypedDict, get_type_hints\n",
    "\n"
   ]
  },
  {
   "cell_type": "code",
   "execution_count": null,
   "id": "e0eb3371-f3ea-491f-a767-e8ad7048a0af",
   "metadata": {},
   "outputs": [],
   "source": []
  },
  {
   "cell_type": "code",
   "execution_count": 4,
   "id": "2684b5ff-101f-49df-af96-96ab1633dba3",
   "metadata": {},
   "outputs": [],
   "source": [
    "from qcodes import Parameter"
   ]
  },
  {
   "cell_type": "code",
   "execution_count": 27,
   "id": "2dfaaad0-3dde-4fd1-9291-1586c48f5195",
   "metadata": {},
   "outputs": [],
   "source": [
    "class DictParameter(Parameter):\n",
    "\n",
    "    def __init__(self,\n",
    "                 name,\n",
    "                 dicttype: Type[T],\n",
    "                 converter,\n",
    "                 filtered=None,\n",
    "                 **kwargs):\n",
    "        # TODO Need a safe way to pull out the types\n",
    "        # Annotations may not cut it due to from __future__ import Annotations\n",
    "        self._dicttype = dicttype\n",
    "        self._converter = converter\n",
    "        if filtered is None:\n",
    "            self._typemap = get_type_hints(dicttype)\n",
    "        else:\n",
    "            self._typemap = {k: v for k, v in get_type_hints(dicttype).items() if k in filtered}\n",
    "        super().__init__(name, **kwargs)\n",
    "\n",
    "\n",
    "    def _from_raw_value_to_value(self, raw_value: Any\n",
    "                                 ) -> T:\n",
    "        if self._converter is not None:\n",
    "            converted_output = self._converter(raw_value)\n",
    "        else:\n",
    "            converted_output = raw_value\n",
    "        \n",
    "        return dict((k, converted_output[k]) for k in self._typemap.keys()\n",
    "                                        if k in converted_output)\n",
    "\n",
    "    def __getitem__(self, item: Sequence[str]) -> DataClassParameter:\n",
    "        return type(self)(self.name, self._dicttype, self._converter, filtered=item)"
   ]
  },
  {
   "cell_type": "code",
   "execution_count": 28,
   "id": "fa475ebe-8137-400b-8b9b-0c0526f9a409",
   "metadata": {},
   "outputs": [],
   "source": [
    "class MyParameter(DictParameter):\n",
    "\n",
    "    def get_raw(self):\n",
    "        return {\"a\": 1, \"b\": 10.0, \"c\": \"ABC\"} "
   ]
  },
  {
   "cell_type": "code",
   "execution_count": 29,
   "id": "34a676a0-9c8f-42ab-923a-c4a90ce84901",
   "metadata": {},
   "outputs": [],
   "source": [
    "class DataDict(TypedDict):\n",
    "    a: int\n",
    "    b: float\n",
    "    c: str\n",
    "\n",
    "B = MyParameter(\"foo\", DataDict, converter=None)"
   ]
  },
  {
   "cell_type": "code",
   "execution_count": 30,
   "id": "71b65e40-775c-411d-b7c4-30bb10654e92",
   "metadata": {},
   "outputs": [
    {
     "data": {
      "text/plain": [
       "{'a': 1, 'b': 10.0, 'c': 'ABC'}"
      ]
     },
     "execution_count": 30,
     "metadata": {},
     "output_type": "execute_result"
    }
   ],
   "source": [
    "B.get()"
   ]
  },
  {
   "cell_type": "code",
   "execution_count": 31,
   "id": "ff865853-1f3c-4fdb-a0c9-41853f56c490",
   "metadata": {},
   "outputs": [],
   "source": [
    "a = B[\"a\",\"b\"]"
   ]
  },
  {
   "cell_type": "code",
   "execution_count": 36,
   "id": "6af06c5f-f8e6-446b-a720-ee384952cafd",
   "metadata": {},
   "outputs": [
    {
     "data": {
      "text/plain": [
       "{'a': 1, 'b': 10.0}"
      ]
     },
     "execution_count": 36,
     "metadata": {},
     "output_type": "execute_result"
    }
   ],
   "source": [
    "a.get()"
   ]
  },
  {
   "cell_type": "code",
   "execution_count": 37,
   "id": "e53fa436-5f4c-436e-bf19-d8f0c950d9ca",
   "metadata": {},
   "outputs": [
    {
     "data": {
      "text/plain": [
       "{'a': int, 'b': float, 'c': str}"
      ]
     },
     "execution_count": 37,
     "metadata": {},
     "output_type": "execute_result"
    }
   ],
   "source": [
    "B._typemap"
   ]
  },
  {
   "cell_type": "code",
   "execution_count": 38,
   "id": "fbb068ed-de78-4ec2-83cf-3d08f6f961b1",
   "metadata": {},
   "outputs": [
    {
     "data": {
      "text/plain": [
       "{'a': int, 'b': float}"
      ]
     },
     "execution_count": 38,
     "metadata": {},
     "output_type": "execute_result"
    }
   ],
   "source": [
    "a._typemap"
   ]
  },
  {
   "cell_type": "code",
   "execution_count": 39,
   "id": "84ee820a-c6bf-4813-ad5d-26b34052e0f9",
   "metadata": {},
   "outputs": [
    {
     "data": {
      "text/plain": [
       "{'a': int, 'b': float, 'c': str}"
      ]
     },
     "execution_count": 39,
     "metadata": {},
     "output_type": "execute_result"
    }
   ],
   "source": [
    "get_type_hints(DataDict)"
   ]
  },
  {
   "cell_type": "markdown",
   "id": "1b275fda-beeb-4888-ab4d-c2042c7a24fa",
   "metadata": {},
   "source": [
    "* Prototype how to register this\n",
    "* How to do setpoints\n",
    "* Define interface in measurement for getting data with setpoints"
   ]
  },
  {
   "cell_type": "code",
   "execution_count": null,
   "id": "33bd4012-5851-4398-b96e-e4769b2674a1",
   "metadata": {},
   "outputs": [],
   "source": []
  },
  {
   "cell_type": "code",
   "execution_count": null,
   "id": "65a249d6-4317-44cc-906e-88b0e20973be",
   "metadata": {},
   "outputs": [],
   "source": []
  }
 ],
 "metadata": {
  "kernelspec": {
   "display_name": "Python 3 (ipykernel)",
   "language": "python",
   "name": "python3"
  },
  "language_info": {
   "codemirror_mode": {
    "name": "ipython",
    "version": 3
   },
   "file_extension": ".py",
   "mimetype": "text/x-python",
   "name": "python",
   "nbconvert_exporter": "python",
   "pygments_lexer": "ipython3",
   "version": "3.9.7"
  }
 },
 "nbformat": 4,
 "nbformat_minor": 5
}
