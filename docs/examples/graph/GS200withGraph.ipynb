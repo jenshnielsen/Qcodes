{
 "cells": [
  {
   "cell_type": "code",
   "execution_count": 1,
   "id": "e58d9dda-69ef-462d-8141-4a2d0e73d17c",
   "metadata": {},
   "outputs": [
    {
     "name": "stdout",
     "output_type": "stream",
     "text": [
      "Logging hadn't been started.\n",
      "Activating auto-logging. Current session state plus future input saved.\n",
      "Filename       : C:\\Users\\jenielse\\.qcodes\\logs\\command_history.log\n",
      "Mode           : append\n",
      "Output logging : True\n",
      "Raw input log  : False\n",
      "Timestamping   : True\n",
      "State          : active\n",
      "Qcodes Logfile : C:\\Users\\jenielse\\.qcodes\\logs\\220505-13244-qcodes.log\n"
     ]
    }
   ],
   "source": [
    "import pytest\n",
    "\n",
    "import qcodes.instrument.sims as sims\n",
    "from qcodes.instrument_drivers.yokogawa.GS200Graph import GS200\n",
    "from qcodes.graph.visulization import draw\n",
    "from qcodes.graph.graph import NodeStatus\n",
    "import networkx as nx\n",
    "import itertools\n",
    "VISALIB = sims.__file__.replace(\"__init__.py\", \"Yokogawa_GS200.yaml@sim\")"
   ]
  },
  {
   "cell_type": "markdown",
   "id": "cdc551bc-1cff-4c66-9ae3-1c8b0a177ee4",
   "metadata": {},
   "source": [
    "# Description\n",
    "\n",
    "The Yokogawa GS200 is a voltage or current source with an optional measurement unit that may or may not be available depending on the configuration of the instrument.\n",
    "The measurement unit enables you to measure current when sourcing voltage and the other way around. It is worth noting that the instruments VISA api is highly stateful such that\n",
    "there is one set command (`:SOUR:LEV`) which will set the voltage or the current depending on the mode set on the instrument (via `:SOUR:FUNC`) \n",
    "\n",
    "In qcodes this has previously been implemented as as 2 parameters for voltage and current which both explicitly checks that the instrument is in the correct mode before allowing users to set/get the parameter.\n",
    "For convenience these have then been delegated to a generic parameter which has its source and unit switched when changing mode on the instrument. \n",
    "\n",
    "To ensure correct snapshooting the snapshot status of the voltage/current parameters was enabled/disabled as the mode of the instrument was switched. This was enabled using custom callbacks on mode switching.\n",
    "\n",
    "In the following we will explore modeling this using a InstrumentModule (Channel) for voltage sourcing and on for current sourcing. These modules may they (depending on if the feature is installed) have a submodule for measuring. \n",
    "The idea is that the connection to the device under measurement will be at the main node of the instrument which maps to the Instrument class. When the instrument is in the voltage mode the voltage set (and if exists current measure sub) node will be forwarded \n",
    "to the device and the user will not see the other nodes. \n"
   ]
  },
  {
   "cell_type": "code",
   "execution_count": null,
   "id": "318c87ff-76c5-437a-ab4e-1118bc9a1c42",
   "metadata": {},
   "outputs": [],
   "source": []
  },
  {
   "cell_type": "code",
   "execution_count": 2,
   "id": "b0cc7c21-c05f-4051-9bb2-c79894225281",
   "metadata": {},
   "outputs": [
    {
     "name": "stdout",
     "output_type": "stream",
     "text": [
      "Connected to: QCoDeS Yokogawa Mock GS200 (serial:xxxxxxxx, firmware:MOCKFW) in 0.08s\n"
     ]
    }
   ],
   "source": [
    "gs200 = GS200(\"GS200\", address=\"GPIB0::1::INSTR\", visalib=VISALIB)"
   ]
  },
  {
   "cell_type": "markdown",
   "id": "1059bf29-a7f1-4899-ba6c-64f0c194e3c8",
   "metadata": {},
   "source": [
    "Lets first draw the graph of the instrument in voltage mode"
   ]
  },
  {
   "cell_type": "code",
   "execution_count": 3,
   "id": "b91ce58a-6e42-48c3-b1e5-2b5091607a75",
   "metadata": {},
   "outputs": [
    {
     "name": "stdout",
     "output_type": "stream",
     "text": [
      "adding node GS200\n",
      "adding node GS200_program\n",
      "adding node GS200_current_source\n",
      "adding node GS200_current_source_measure\n",
      "adding node GS200_voltage_source\n",
      "adding node GS200_voltage_source_measure\n"
     ]
    }
   ],
   "source": [
    "a = gs200.instrument_graph"
   ]
  },
  {
   "cell_type": "code",
   "execution_count": 4,
   "id": "e4ea3d31-d828-4e21-bfb8-be02dda1414d",
   "metadata": {},
   "outputs": [],
   "source": [
    "gs200.source_mode(\"VOLT\")"
   ]
  },
  {
   "cell_type": "code",
   "execution_count": 5,
   "id": "bcb19613-131d-4cbc-843e-c2740532d181",
   "metadata": {},
   "outputs": [
    {
     "name": "stdout",
     "output_type": "stream",
     "text": [
      "adding node GS200\n",
      "adding node GS200_program\n",
      "adding node GS200_current_source\n",
      "adding node GS200_current_source_measure\n",
      "adding node GS200_voltage_source\n",
      "adding node GS200_voltage_source_measure\n",
      "adding CustomNode(data={'id': 'GS200_container'}, position={})\n",
      "adding CustomNode(data={'id': 'GS200_container'}, position={})\n",
      "adding CustomNode(data={'id': 'GS200_container'}, position={})\n",
      "adding CustomNode(data={'id': 'GS200_container'}, position={})\n",
      "adding CustomNode(data={'id': 'GS200_container'}, position={})\n",
      "adding CustomNode(data={'id': 'GS200_container'}, position={})\n"
     ]
    },
    {
     "data": {
      "application/vnd.jupyter.widget-view+json": {
       "model_id": "1ac20b7f891e4165a53361aa972b7781",
       "version_major": 2,
       "version_minor": 0
      },
      "text/plain": [
       "HBox(children=(CytoscapeWidget(cytoscape_layout={'name': 'cola', 'avoidOverlap': True, 'maxSimulationTime': 40…"
      ]
     },
     "metadata": {},
     "output_type": "display_data"
    }
   ],
   "source": [
    "draw(gs200.instrument_graph)"
   ]
  },
  {
   "cell_type": "code",
   "execution_count": 6,
   "id": "4b7f28f9-3ca4-45a7-af1b-d9a1ad2c769a",
   "metadata": {},
   "outputs": [
    {
     "name": "stdout",
     "output_type": "stream",
     "text": [
      "adding node GS200\n",
      "adding node GS200_program\n",
      "adding node GS200_current_source\n",
      "adding node GS200_current_source_measure\n",
      "adding node GS200_voltage_source\n",
      "adding node GS200_voltage_source_measure\n",
      "adding CustomNode(data={'id': 'GS200_container'}, position={})\n",
      "adding CustomNode(data={'id': 'GS200_container'}, position={})\n",
      "adding CustomNode(data={'id': 'GS200_container'}, position={})\n",
      "adding CustomNode(data={'id': 'GS200_container'}, position={})\n",
      "adding CustomNode(data={'id': 'GS200_container'}, position={})\n"
     ]
    },
    {
     "data": {
      "application/vnd.jupyter.widget-view+json": {
       "model_id": "5a664e8fe8ec41e98e16b0e0ccc6b98a",
       "version_major": 2,
       "version_minor": 0
      },
      "text/plain": [
       "HBox(children=(CytoscapeWidget(cytoscape_layout={'name': 'cola', 'avoidOverlap': True, 'maxSimulationTime': 40…"
      ]
     },
     "metadata": {},
     "output_type": "display_data"
    }
   ],
   "source": [
    "draw(gs200.instrument_graph.active_subgraph())"
   ]
  },
  {
   "cell_type": "markdown",
   "id": "3e3358ca-1cab-4475-8fca-59db2f41c3bc",
   "metadata": {},
   "source": [
    "Here we see that the voltage source and the edge from main instrument to voltage source are marked active (Green and blue respectively)"
   ]
  },
  {
   "cell_type": "code",
   "execution_count": 7,
   "id": "9fa24138-cff3-4dd5-8b8c-34c31e6127fa",
   "metadata": {},
   "outputs": [
    {
     "data": {
      "text/plain": [
       "<EdgeStatus.INACTIVE_ELECTRICAL_CONNECTION: 'inactive_electrical_connection'>"
      ]
     },
     "execution_count": 7,
     "metadata": {},
     "output_type": "execute_result"
    }
   ],
   "source": [
    "a[('GS200', 'GS200_current_source')].activator.status"
   ]
  },
  {
   "cell_type": "code",
   "execution_count": 8,
   "id": "c29075fc-9ebf-4ad6-b824-179ef35bcd96",
   "metadata": {},
   "outputs": [
    {
     "data": {
      "text/plain": [
       "<EdgeStatus.ACTIVE_ELECTRICAL_CONNECTION: 'active_electrical_connection'>"
      ]
     },
     "execution_count": 8,
     "metadata": {},
     "output_type": "execute_result"
    }
   ],
   "source": [
    "a[('GS200', 'GS200_voltage_source')].activator.status"
   ]
  },
  {
   "cell_type": "code",
   "execution_count": 9,
   "id": "14a3d70e-7fba-4ab1-b085-625d956f766a",
   "metadata": {},
   "outputs": [
    {
     "data": {
      "text/plain": [
       "<NodeStatus.ACTIVE: 'active'>"
      ]
     },
     "execution_count": 9,
     "metadata": {},
     "output_type": "execute_result"
    }
   ],
   "source": [
    "a[('GS200')].activator.status"
   ]
  },
  {
   "cell_type": "code",
   "execution_count": 10,
   "id": "d3440075-f375-4e37-82f6-7b56cf528933",
   "metadata": {},
   "outputs": [
    {
     "data": {
      "text/plain": [
       "<NodeStatus.ACTIVE: 'active'>"
      ]
     },
     "execution_count": 10,
     "metadata": {},
     "output_type": "execute_result"
    }
   ],
   "source": [
    "a[('GS200_voltage_source')].activator.status"
   ]
  },
  {
   "cell_type": "code",
   "execution_count": 11,
   "id": "52318df2-1269-41e0-995d-394e92b79e9f",
   "metadata": {},
   "outputs": [
    {
     "data": {
      "text/plain": [
       "<NodeStatus.INACTIVE: 'inactive'>"
      ]
     },
     "execution_count": 11,
     "metadata": {},
     "output_type": "execute_result"
    }
   ],
   "source": [
    "a[('GS200_current_source')].activator.status"
   ]
  },
  {
   "cell_type": "markdown",
   "id": "4ba002f2-dfb7-48b9-baa2-16a4394d6ed8",
   "metadata": {},
   "source": [
    "And we can see that the status of the repective edges/nodes matches this."
   ]
  },
  {
   "cell_type": "markdown",
   "id": "087f8279-6525-404d-a77f-903674e3419a",
   "metadata": {},
   "source": [
    "Switching to current mode we can see that things have switched"
   ]
  },
  {
   "cell_type": "code",
   "execution_count": 12,
   "id": "dfcbdb3e-1198-4d48-9087-2c33c42d3e99",
   "metadata": {},
   "outputs": [],
   "source": [
    "gs200.source_mode(\"CURR\")"
   ]
  },
  {
   "cell_type": "code",
   "execution_count": 13,
   "id": "2b3823b5-3bc9-4a0a-9243-572b3eb4ce8d",
   "metadata": {},
   "outputs": [
    {
     "data": {
      "text/plain": [
       "<EdgeStatus.ACTIVE_ELECTRICAL_CONNECTION: 'active_electrical_connection'>"
      ]
     },
     "execution_count": 13,
     "metadata": {},
     "output_type": "execute_result"
    }
   ],
   "source": [
    "a[('GS200', 'GS200_current_source')].activator.status"
   ]
  },
  {
   "cell_type": "code",
   "execution_count": 14,
   "id": "99d1f076-22a2-4aa0-af36-ced31ae512a9",
   "metadata": {},
   "outputs": [
    {
     "data": {
      "text/plain": [
       "<EdgeStatus.INACTIVE_ELECTRICAL_CONNECTION: 'inactive_electrical_connection'>"
      ]
     },
     "execution_count": 14,
     "metadata": {},
     "output_type": "execute_result"
    }
   ],
   "source": [
    "a[('GS200', 'GS200_voltage_source')].activator.status"
   ]
  },
  {
   "cell_type": "code",
   "execution_count": 15,
   "id": "529b7281-314a-40d0-83f0-c11b4d46f792",
   "metadata": {},
   "outputs": [
    {
     "data": {
      "text/plain": [
       "<NodeStatus.ACTIVE: 'active'>"
      ]
     },
     "execution_count": 15,
     "metadata": {},
     "output_type": "execute_result"
    }
   ],
   "source": [
    "a[('GS200')].activator.status"
   ]
  },
  {
   "cell_type": "code",
   "execution_count": 16,
   "id": "6e8ca325-4307-4ae3-93af-cdfe473dde88",
   "metadata": {},
   "outputs": [
    {
     "data": {
      "text/plain": [
       "<NodeStatus.ACTIVE: 'active'>"
      ]
     },
     "execution_count": 16,
     "metadata": {},
     "output_type": "execute_result"
    }
   ],
   "source": [
    "a[('GS200_current_source')].activator.status"
   ]
  },
  {
   "cell_type": "code",
   "execution_count": 17,
   "id": "5259376d-3519-4c0b-a959-f4b1d867bec0",
   "metadata": {},
   "outputs": [
    {
     "data": {
      "text/plain": [
       "<EdgeStatus.INACTIVE_ELECTRICAL_CONNECTION: 'inactive_electrical_connection'>"
      ]
     },
     "execution_count": 17,
     "metadata": {},
     "output_type": "execute_result"
    }
   ],
   "source": [
    "a[('GS200', 'GS200_voltage_source')].activator.status"
   ]
  },
  {
   "cell_type": "code",
   "execution_count": 18,
   "id": "ce138610-912f-4b2e-9c90-bd9ef638d269",
   "metadata": {},
   "outputs": [
    {
     "data": {
      "text/plain": [
       "<NodeStatus.INACTIVE: 'inactive'>"
      ]
     },
     "execution_count": 18,
     "metadata": {},
     "output_type": "execute_result"
    }
   ],
   "source": [
    "a[('GS200_voltage_source')].activator.status"
   ]
  },
  {
   "cell_type": "code",
   "execution_count": 19,
   "id": "fbdff71b-eeb8-44a4-8d54-4496df919624",
   "metadata": {},
   "outputs": [
    {
     "name": "stdout",
     "output_type": "stream",
     "text": [
      "adding node GS200\n",
      "adding node GS200_program\n",
      "adding node GS200_current_source\n",
      "adding node GS200_current_source_measure\n",
      "adding node GS200_voltage_source\n",
      "adding node GS200_voltage_source_measure\n",
      "adding CustomNode(data={'id': 'GS200_container'}, position={})\n",
      "adding CustomNode(data={'id': 'GS200_container'}, position={})\n",
      "adding CustomNode(data={'id': 'GS200_container'}, position={})\n",
      "adding CustomNode(data={'id': 'GS200_container'}, position={})\n",
      "adding CustomNode(data={'id': 'GS200_container'}, position={})\n",
      "adding CustomNode(data={'id': 'GS200_container'}, position={})\n"
     ]
    },
    {
     "data": {
      "application/vnd.jupyter.widget-view+json": {
       "model_id": "83dc85c2fc804a04bbc53f315d135794",
       "version_major": 2,
       "version_minor": 0
      },
      "text/plain": [
       "HBox(children=(CytoscapeWidget(cytoscape_layout={'name': 'cola', 'avoidOverlap': True, 'maxSimulationTime': 40…"
      ]
     },
     "metadata": {},
     "output_type": "display_data"
    }
   ],
   "source": [
    "draw(gs200.instrument_graph)"
   ]
  },
  {
   "cell_type": "code",
   "execution_count": 20,
   "id": "b1d50088-e6de-4009-b035-61f0f6579fd1",
   "metadata": {},
   "outputs": [
    {
     "name": "stdout",
     "output_type": "stream",
     "text": [
      "adding node GS200\n",
      "adding node GS200_program\n",
      "adding node GS200_current_source\n",
      "adding node GS200_current_source_measure\n",
      "adding node GS200_voltage_source\n",
      "adding node GS200_voltage_source_measure\n"
     ]
    },
    {
     "data": {
      "text/plain": [
       "<GS200: GS200>"
      ]
     },
     "execution_count": 20,
     "metadata": {},
     "output_type": "execute_result"
    }
   ],
   "source": [
    "gs200.instrument_graph['GS200']"
   ]
  },
  {
   "cell_type": "code",
   "execution_count": 21,
   "id": "dd847d65-c00e-4edd-90bc-197586e6f528",
   "metadata": {},
   "outputs": [
    {
     "name": "stdout",
     "output_type": "stream",
     "text": [
      "adding node GS200\n",
      "adding node GS200_program\n",
      "adding node GS200_current_source\n",
      "adding node GS200_current_source_measure\n",
      "adding node GS200_voltage_source\n",
      "adding node GS200_voltage_source_measure\n"
     ]
    }
   ],
   "source": [
    "mygraph = gs200.instrument_graph._graph"
   ]
  },
  {
   "cell_type": "code",
   "execution_count": 22,
   "id": "0681f368-c875-4a4b-b6dc-52a17803a0f8",
   "metadata": {},
   "outputs": [],
   "source": [
    "def filter_node(nodeid: str) -> bool:\n",
    "    return mygraph.nodes[nodeid][\"value\"].activator.status == NodeStatus.ACTIVE"
   ]
  },
  {
   "cell_type": "code",
   "execution_count": 23,
   "id": "5724570f-4ae7-48de-a061-b6f30be9e663",
   "metadata": {},
   "outputs": [
    {
     "name": "stdout",
     "output_type": "stream",
     "text": [
      "adding node GS200\n",
      "adding node GS200_program\n",
      "adding node GS200_current_source\n",
      "adding node GS200_current_source_measure\n",
      "adding node GS200_voltage_source\n",
      "adding node GS200_voltage_source_measure\n"
     ]
    }
   ],
   "source": [
    "a = nx.subgraph_view(gs200.instrument_graph._graph, filter_node=filter_node)"
   ]
  },
  {
   "cell_type": "code",
   "execution_count": 24,
   "id": "154dec67-04c1-4e3d-976b-514f283aa0ea",
   "metadata": {},
   "outputs": [],
   "source": [
    "node_id = \"GS200\""
   ]
  },
  {
   "cell_type": "code",
   "execution_count": 25,
   "id": "4beba96b-59fb-4aac-91ee-1731fbaa3230",
   "metadata": {},
   "outputs": [],
   "source": [
    "edges = nx.breadth_first_search.bfs_edges(a, node_id)"
   ]
  },
  {
   "cell_type": "code",
   "execution_count": 26,
   "id": "941a0822-da19-4600-8e84-ca83fc5aa30f",
   "metadata": {},
   "outputs": [
    {
     "data": {
      "text/plain": [
       "['GS200',\n",
       " 'GS200_program',\n",
       " 'GS200_current_source',\n",
       " 'GS200_current_source_measure']"
      ]
     },
     "execution_count": 26,
     "metadata": {},
     "output_type": "execute_result"
    }
   ],
   "source": [
    "list(itertools.chain([node_id], map(lambda edge: edge[1], edges)))"
   ]
  },
  {
   "cell_type": "code",
   "execution_count": 28,
   "id": "ddf41f3f-b51e-4a67-87b2-2b5bfa2c9123",
   "metadata": {},
   "outputs": [
    {
     "name": "stdout",
     "output_type": "stream",
     "text": [
      "adding node GS200\n",
      "adding node GS200_program\n",
      "adding node GS200_current_source\n",
      "adding node GS200_current_source_measure\n",
      "adding node GS200_voltage_source\n",
      "adding node GS200_voltage_source_measure\n"
     ]
    },
    {
     "data": {
      "text/plain": [
       "['GS200',\n",
       " 'GS200_program',\n",
       " 'GS200_current_source',\n",
       " 'GS200_current_source_measure']"
      ]
     },
     "execution_count": 28,
     "metadata": {},
     "output_type": "execute_result"
    }
   ],
   "source": [
    "list(gs200.activator.upstream_nodes(gs200.instrument_graph))"
   ]
  },
  {
   "cell_type": "markdown",
   "id": "cc8c957c-4470-41d1-8ad4-f3197c96775a",
   "metadata": {},
   "source": [
    "## Implementation\n",
    "\n",
    "### General implementation\n",
    "A node is a class that implements the following interface. This means that an InsturmentModule in it self is a node\n",
    "```python\n",
    "class Node(Protocol):\n",
    "\n",
    "    parameters: Dict[str, _BaseParameter]\n",
    "    instrument_modules: Dict[str, InstrumentModule]\n",
    "\n",
    "    @property\n",
    "    def short_name(self) -> str:\n",
    "        \"\"\"Short name of the instrument\"\"\"\n",
    "        pass\n",
    "\n",
    "    @property\n",
    "    def full_name(self) -> str:\n",
    "        \"\"\"Unique name of the Port with elements separated by .\n",
    "        Equivalent to parent.name + . + self.short_name\n",
    "        \"\"\"\n",
    "        pass\n",
    "\n",
    "    @property\n",
    "    def activator(self) -> NodeActivator:\n",
    "        ...class Node(Protocol):\n",
    "\n",
    "    parameters: Dict[str, _BaseParameter]\n",
    "    instrument_modules: Dict[str, InstrumentModule]\n",
    "\n",
    "    @property\n",
    "    def short_name(self) -> str:\n",
    "        \"\"\"Short name of the instrument\"\"\"\n",
    "        pass\n",
    "\n",
    "    @property\n",
    "    def full_name(self) -> str:\n",
    "        \"\"\"Unique name of the Port with elements separated by .\n",
    "        Equivalent to parent.name + . + self.short_name\n",
    "        \"\"\"\n",
    "        pass\n",
    "\n",
    "    @property\n",
    "    def activator(self) -> NodeActivator:\n",
    "        ...\n",
    "\n",
    "```\n",
    "\n",
    "Where the Activator implements the following protocol. (This currently contains the logic from QChar nodes) \n",
    "With a few changes. Status is an Enum (so it can contain more values than just off and on) It is possible to query the status\n",
    "\n",
    "```python\n",
    "class NodeActivator(abc.ABC):\n",
    "    def __init__(self, *, node: Node):\n",
    "        self._node = node\n",
    "        self._status = NodeStatus.INACTIVE\n",
    "\n",
    "    @property\n",
    "    @abc.abstractmethod\n",
    "    def parameters(self) -> Iterable[Parameter]:\n",
    "        pass\n",
    "\n",
    "    def add_source(self, source: Node) -> None:\n",
    "        _LOG.info(f\"Adding Source {source.full_name} to Node: {self.node.full_name}\")\n",
    "\n",
    "    def remove_source(self, source: Node) -> None:\n",
    "        _LOG.info(\n",
    "            f\"Removing Source {source.full_name} from Node: {self.node.full_name}\"\n",
    "        )\n",
    "\n",
    "    def activate(self) -> None:\n",
    "        _LOG.info(f\"Activating Node: {self.node.full_name}\")\n",
    "\n",
    "    def deactivate(self) -> None:\n",
    "        _LOG.info(f\"Deactivating Node: {self.node.full_name}\")\n",
    "\n",
    "    @property\n",
    "    def node(self) -> Node:\n",
    "        return self._node\n",
    "\n",
    "    @abc.abstractmethod\n",
    "    def upstream_nodes(self) -> Iterable[Node]:\n",
    "        # todo naming\n",
    "        pass\n",
    "\n",
    "    @abc.abstractmethod\n",
    "    def connection_attributes(self) -> Dict[str, Dict[NodeId, ConnectionAttributeType]]:\n",
    "        pass\n",
    "\n",
    "    @property\n",
    "    def status(self) -> NodeStatus:\n",
    "        return self._statusclass NodeActivator(abc.ABC):\n",
    "    def __init__(self, *, node: Node):\n",
    "        self._node = node\n",
    "        self._status = NodeStatus.INACTIVE\n",
    "\n",
    "    @property\n",
    "    @abc.abstractmethod\n",
    "    def parameters(self) -> Iterable[Parameter]:\n",
    "        pass\n",
    "\n",
    "    def add_source(self, source: Node) -> None:\n",
    "        _LOG.info(f\"Adding Source {source.full_name} to Node: {self.node.full_name}\")\n",
    "\n",
    "    def remove_source(self, source: Node) -> None:\n",
    "        _LOG.info(\n",
    "            f\"Removing Source {source.full_name} from Node: {self.node.full_name}\"\n",
    "        )\n",
    "\n",
    "    def activate(self) -> None:\n",
    "        _LOG.info(f\"Activating Node: {self.node.full_name}\")\n",
    "\n",
    "    def deactivate(self) -> None:\n",
    "        _LOG.info(f\"Deactivating Node: {self.node.full_name}\")\n",
    "\n",
    "    @property\n",
    "    def node(self) -> Node:\n",
    "        return self._node\n",
    "\n",
    "    @abc.abstractmethod\n",
    "    def upstream_nodes(self) -> Iterable[Node]:\n",
    "        # todo naming\n",
    "        pass\n",
    "\n",
    "    @abc.abstractmethod\n",
    "    def connection_attributes(self) -> Dict[str, Dict[NodeId, ConnectionAttributeType]]:\n",
    "        pass\n",
    "\n",
    "    @property\n",
    "    def status(self) -> NodeStatus:\n",
    "        return self._status\n",
    "```\n",
    "\n",
    "\n",
    "This means that it is possible to generically implement this interface for all instruments with a node for each instrument module.\n",
    "\n",
    "\n",
    "\n",
    "\n"
   ]
  },
  {
   "cell_type": "markdown",
   "id": "38e06f71-e885-4ad4-8909-e2ac526267a4",
   "metadata": {},
   "source": [
    "### Specific implementation\n",
    "\n",
    "\n",
    "To implement the necessary logic the GS200 driver has its own implementation of `_make_instrument_graph`\n",
    "Which importantly uses a activator that has a mode that depends on the state of a given parameter \n",
    "\n",
    "```python\n",
    "    def _make_instrument_graph(self) -> \"StationGraph\":\n",
    "        subgraph_primary_node_names = []\n",
    "        self_graph = MutableStationGraph()\n",
    "        self_graph[self.full_name] = self\n",
    "        subgraphs = [self_graph]\n",
    "        for submodule in self.instrument_modules.values():\n",
    "            subgraph = submodule._make_graph()\n",
    "            subgraph_primary_node_names.append(submodule.full_name)\n",
    "            subgraphs.append(subgraph)\n",
    "\n",
    "        graph = MutableStationGraph.compose(*subgraphs)\n",
    "\n",
    "        for name in subgraph_primary_node_names:\n",
    "            if \"current_source\" in name:\n",
    "                activator = SourceEdgeActivator(\n",
    "                    status_parameter=self.source_mode, active_state=\"CURR\"\n",
    "                )\n",
    "            elif \"voltage_source\" in name:\n",
    "                activator = SourceEdgeActivator(\n",
    "                    status_parameter=self.source_mode, active_state=\"VOLT\"\n",
    "                )\n",
    "            else:\n",
    "                activator = BasicEdgeActivator(edge_status=EdgeStatus.PART_OF)\n",
    "\n",
    "            graph[self.full_name, name] = Edge(activator=activator)\n",
    "\n",
    "        return graph.as_station_graph()\n",
    "```\n",
    "\n",
    "And by using a custom activator on the current and voltage source modules which also reads its status from a parameter.\n",
    "\n",
    "\n",
    "```python\n",
    "        self._activator: NodeActivator = SourceModuleActivator(\n",
    "            node=self,\n",
    "            parent=self.parent,\n",
    "            active_state=\"VOLT\",\n",
    "            inactive_state=\"CURR\",\n",
    "            status_parameter=self.root_instrument.source_mode,\n",
    "        )\n",
    "        \n",
    " ```python\n",
    "class NodeActivator(abc.ABC):\n",
    "    def __init__(self, *, node: Node):\n",
    "        self._node = node\n",
    "        self._status = NodeStatus.INACTIVE\n",
    "\n",
    "    @property\n",
    "    @abc.abstractmethod\n",
    "    def parameters(self) -> Iterable[Parameter]:\n",
    "        pass\n",
    "\n",
    "    def add_source(self, source: Node) -> None:\n",
    "        _LOG.info(f\"Adding Source {source.full_name} to Node: {self.node.full_name}\")\n",
    "\n",
    "    def remove_source(self, source: Node) -> None:\n",
    "        _LOG.info(\n",
    "            f\"Removing Source {source.full_name} from Node: {self.node.full_name}\"\n",
    "        )\n",
    "\n",
    "    def activate(self) -> None:\n",
    "        _LOG.info(f\"Activating Node: {self.node.full_name}\")\n",
    "\n",
    "    def deactivate(self) -> None:\n",
    "        _LOG.info(f\"Deactivating Node: {self.node.full_name}\")\n",
    "\n",
    "    @property\n",
    "    def node(self) -> Node:\n",
    "        return self._node\n",
    "\n",
    "    @abc.abstractmethod\n",
    "    def upstream_nodes(self) -> Iterable[Node]:\n",
    "        # todo naming\n",
    "        pass\n",
    "\n",
    "    @abc.abstractmethod\n",
    "    def connection_attributes(self) -> Dict[str, Dict[NodeId, ConnectionAttributeType]]:\n",
    "        pass\n",
    "\n",
    "    @property\n",
    "    def status(self) -> NodeStatus:\n",
    "        return self._statusclass NodeActivator(abc.ABC):\n",
    "    def __init__(self, *, node: Node):\n",
    "        self._node = node\n",
    "        self._status = NodeStatus.INACTIVE\n",
    "\n",
    "    @property\n",
    "    @abc.abstractmethod\n",
    "    def parameters(self) -> Iterable[Parameter]:\n",
    "        pass\n",
    "\n",
    "    def add_source(self, source: Node) -> None:\n",
    "        _LOG.info(f\"Adding Source {source.full_name} to Node: {self.node.full_name}\")\n",
    "\n",
    "    def remove_source(self, source: Node) -> None:\n",
    "        _LOG.info(\n",
    "            f\"Removing Source {source.full_name} from Node: {self.node.full_name}\"\n",
    "        )\n",
    "\n",
    "    def activate(self) -> None:\n",
    "        _LOG.info(f\"Activating Node: {self.node.full_name}\")\n",
    "\n",
    "    def deactivate(self) -> None:\n",
    "        _LOG.info(f\"Deactivating Node: {self.node.full_name}\")\n",
    "\n",
    "    @property\n",
    "    def node(self) -> Node:\n",
    "        return self._node\n",
    "\n",
    "    @abc.abstractmethod\n",
    "    def upstream_nodes(self) -> Iterable[Node]:\n",
    "        # todo naming\n",
    "        pass\n",
    "\n",
    "    @abc.abstractmethod\n",
    "    def connection_attributes(self) -> Dict[str, Dict[NodeId, ConnectionAttributeType]]:\n",
    "        pass\n",
    "\n",
    "    @property\n",
    "    def status(self) -> NodeStatus:\n",
    "        return self._status\n",
    "```"
   ]
  },
  {
   "cell_type": "markdown",
   "id": "86bcf84f-ef76-420b-9a1d-da362d9e3391",
   "metadata": {},
   "source": [
    "## Missing / Open Questions at the moment.\n",
    "\n",
    "\n",
    "1. How do we enable/disable instrument modules when switching modes. \n",
    "    1. Remove the module/ Move to a private module and perhaps replace with empty dummy module. This modifies the state of the instrument, makes typechecking less powerful.\n",
    "       Module is not shapshotted since its not there anymore\n",
    "    2. Let parameters get/set check that the module they are bound to is not marked as inactivate. This would require extending the parameter to check status of its bound instrument when getting/setting.\n",
    "       Using this implementation the . \n",
    "       \n",
    "1. It would probably also be beneficial to be able to invalidate the cache of all parameters in a instrument module (since its not clear that switching from current to voltage and back to current mode would leave all current related parameters as they were)\n",
    "\n",
    "1. How should parameter forwarding work. Currently the interface suggests that you can do list(gs200.activator.upstream_nodes())[0] to get the source / current module depending on mode. This is less than ideal\n",
    "\n",
    "\n",
    "1. Visualization.\n",
    "    1. Style is obviously sub optimal\n",
    "    2. Currently The graph is directly linked to a the status of the relevant mode parameters as shown above. However the graph when drawn is not interactive (need to call draw again)\n",
    "    \n",
    "\n",
    "\n"
   ]
  },
  {
   "cell_type": "code",
   "execution_count": null,
   "id": "c847d6a7-e381-4d29-a177-ef06eb535eb5",
   "metadata": {},
   "outputs": [],
   "source": []
  }
 ],
 "metadata": {
  "kernelspec": {
   "display_name": "Python 3 (ipykernel)",
   "language": "python",
   "name": "python3"
  },
  "language_info": {
   "codemirror_mode": {
    "name": "ipython",
    "version": 3
   },
   "file_extension": ".py",
   "mimetype": "text/x-python",
   "name": "python",
   "nbconvert_exporter": "python",
   "pygments_lexer": "ipython3",
   "version": "3.8.12"
  },
  "widgets": {
   "application/vnd.jupyter.widget-state+json": {
    "state": {
     "0029cb8fea24408682cc231205202ffb": {
      "model_module": "jupyter-cytoscape",
      "model_module_version": "^1.3.3",
      "model_name": "GraphModel",
      "state": {
       "_adj": {},
       "_model_module_version": "^1.3.3",
       "_view_module": "jupyter-cytoscape",
       "_view_module_version": "^1.3.3"
      }
     },
     "015456eb60ef40ffbfe70e2d6bd83ff9": {
      "model_module": "jupyter-cytoscape",
      "model_module_version": "^1.3.3",
      "model_name": "GraphModel",
      "state": {
       "_adj": {},
       "_model_module_version": "^1.3.3",
       "_view_module": "jupyter-cytoscape",
       "_view_module_version": "^1.3.3"
      }
     },
     "03de688e584e44bbaf3f2bfd8f3df6c4": {
      "model_module": "jupyter-cytoscape",
      "model_module_version": "^1.3.3",
      "model_name": "NodeModel",
      "state": {
       "_model_module_version": "^1.3.3",
       "_view_module_version": "^1.3.3",
       "classes": "NodeStatus_ACTIVE",
       "data": {
        "id": "GS200_voltage_source_measure",
        "parent": "GS200_container"
       },
       "grabbable": true,
       "grabbed": false,
       "position": {
        "x": 1113.0848157156538,
        "y": 379.09187734161543
       },
       "selectable": false
      }
     },
     "08aedbcda0424ff4b94beae077a51223": {
      "model_module": "jupyter-cytoscape",
      "model_module_version": "^1.3.3",
      "model_name": "NodeModel",
      "state": {
       "_model_module_version": "^1.3.3",
       "_view_module_version": "^1.3.3",
       "data": {
        "id": "GS200_container"
       },
       "grabbable": true,
       "grabbed": false,
       "selectable": false
      }
     },
     "0cceb887c74f45298cc3033b53b4df0c": {
      "model_module": "jupyter-cytoscape",
      "model_module_version": "^1.3.3",
      "model_name": "NodeModel",
      "state": {
       "_model_module_version": "^1.3.3",
       "_view_module_version": "^1.3.3",
       "data": {
        "id": "GS200_container"
       },
       "grabbable": true,
       "grabbed": false,
       "selectable": false
      }
     },
     "14a5acc4f41a434daa0c20211260c75b": {
      "model_module": "jupyter-cytoscape",
      "model_module_version": "^1.3.3",
      "model_name": "EdgeModel",
      "state": {
       "_model_module_version": "^1.3.3",
       "_view_module_version": "^1.3.3",
       "classes": "EdgeStatus_ACTIVE_ELECTRICAL_CONNECTION directed ",
       "data": {
        "id": "26178569-ea3c-47e2-8465-05b2808a8753",
        "source": "GS200",
        "target": "GS200_current_source"
       },
       "selectable": false
      }
     },
     "156ebb7f5c554f8197d2833a55bc8721": {
      "model_module": "jupyter-cytoscape",
      "model_module_version": "^1.3.3",
      "model_name": "NodeModel",
      "state": {
       "_model_module_version": "^1.3.3",
       "_view_module_version": "^1.3.3",
       "classes": "NodeStatus_ACTIVE",
       "data": {
        "id": "GS200_program",
        "parent": "GS200_container"
       },
       "grabbable": true,
       "grabbed": false,
       "position": {
        "x": 907.1218833333824,
        "y": 178.73786928542413
       },
       "selectable": false
      }
     },
     "184e552874f04750bb3327e280cb538e": {
      "model_module": "jupyter-cytoscape",
      "model_module_version": "^1.3.3",
      "model_name": "NodeModel",
      "state": {
       "_model_module_version": "^1.3.3",
       "_view_module_version": "^1.3.3",
       "data": {
        "id": "GS200_container"
       },
       "grabbable": true,
       "grabbed": false,
       "selectable": false
      }
     },
     "19672556b4ad4e8bb6a5c50e76717b2b": {
      "model_module": "jupyter-cytoscape",
      "model_module_version": "^1.3.3",
      "model_name": "EdgeModel",
      "state": {
       "_model_module_version": "^1.3.3",
       "_view_module_version": "^1.3.3",
       "classes": "EdgeStatus_ACTIVE_ELECTRICAL_CONNECTION directed ",
       "data": {
        "id": "c89b6c06-ede5-44fa-af74-4935c6ad951a",
        "source": "GS200",
        "target": "GS200_voltage_source"
       },
       "selectable": false
      }
     },
     "1ac20b7f891e4165a53361aa972b7781": {
      "model_module": "@jupyter-widgets/controls",
      "model_module_version": "1.5.0",
      "model_name": "HBoxModel",
      "state": {
       "children": [
        "IPY_MODEL_e941f3463615474c8d72095801bc13bf"
       ],
       "layout": "IPY_MODEL_429c8d0570384f5c9c71e5fd912ba1ea"
      }
     },
     "1b7d3143d4224feeb9c34efdc78e61eb": {
      "model_module": "jupyter-cytoscape",
      "model_module_version": "^1.3.3",
      "model_name": "NodeModel",
      "state": {
       "_model_module_version": "^1.3.3",
       "_view_module_version": "^1.3.3",
       "classes": "NodeStatus_ACTIVE",
       "data": {
        "id": "GS200",
        "parent": "GS200_container"
       },
       "grabbable": true,
       "grabbed": false,
       "position": {
        "x": 1012.8564162340003,
        "y": 196.8026857470011
       },
       "selectable": false
      }
     },
     "1c5511237db24eb396e9a25c34c934af": {
      "model_module": "jupyter-cytoscape",
      "model_module_version": "^1.3.3",
      "model_name": "NodeModel",
      "state": {
       "_model_module_version": "^1.3.3",
       "_view_module_version": "^1.3.3",
       "data": {
        "id": "GS200_container"
       },
       "grabbable": true,
       "grabbed": false,
       "position": {
        "x": 516.6656956136734,
        "y": 196.07856637205487
       },
       "selectable": false
      }
     },
     "1c6b37d8e082491597f2c45607b25e68": {
      "model_module": "jupyter-cytoscape",
      "model_module_version": "^1.3.3",
      "model_name": "NodeModel",
      "state": {
       "_model_module_version": "^1.3.3",
       "_view_module_version": "^1.3.3",
       "data": {
        "id": "GS200_container"
       },
       "grabbable": true,
       "grabbed": false,
       "selectable": false
      }
     },
     "20bcccede4eb4f2eaf36317d03822a9f": {
      "model_module": "jupyter-cytoscape",
      "model_module_version": "^1.3.3",
      "model_name": "GraphModel",
      "state": {
       "_adj": {
        "GS200_container": {},
        "GS200_current_source_measure": {}
       },
       "_model_module_version": "^1.3.3",
       "_view_module": "jupyter-cytoscape",
       "_view_module_version": "^1.3.3",
       "nodes": [
        "IPY_MODEL_1c5511237db24eb396e9a25c34c934af",
        "IPY_MODEL_fa32c1cb0979492dad1af350bb2cd3cc"
       ]
      }
     },
     "2295570219b14036b4d5375c7ef22475": {
      "model_module": "jupyter-cytoscape",
      "model_module_version": "^1.3.3",
      "model_name": "EdgeModel",
      "state": {
       "_model_module_version": "^1.3.3",
       "_view_module_version": "^1.3.3",
       "classes": "EdgeStatus_PART_OF directed ",
       "data": {
        "id": "c30b00cd-5289-4709-b4af-9b102c5440f4",
        "source": "GS200_current_source",
        "target": "GS200_current_source_measure"
       },
       "selectable": false
      }
     },
     "25983d5f71f44114a66565a5da873784": {
      "model_module": "jupyter-cytoscape",
      "model_module_version": "^1.3.3",
      "model_name": "EdgeModel",
      "state": {
       "_model_module_version": "^1.3.3",
       "_view_module_version": "^1.3.3",
       "classes": "EdgeStatus_INACTIVE_ELECTRICAL_CONNECTION directed ",
       "data": {
        "id": "b410989e-5424-4d21-b628-e1a560189dfe",
        "source": "GS200",
        "target": "GS200_current_source"
       },
       "selectable": false
      }
     },
     "2ac9697380654ca9a1ed937af8b6d277": {
      "model_module": "@jupyter-widgets/base",
      "model_module_version": "1.2.0",
      "model_name": "LayoutModel",
      "state": {}
     },
     "300c1811123a43c49441d83fedfab408": {
      "model_module": "@jupyter-widgets/base",
      "model_module_version": "1.2.0",
      "model_name": "LayoutModel",
      "state": {}
     },
     "31666d5d033d452182f0a48958f19a83": {
      "model_module": "jupyter-cytoscape",
      "model_module_version": "^1.3.3",
      "model_name": "NodeModel",
      "state": {
       "_model_module_version": "^1.3.3",
       "_view_module_version": "^1.3.3",
       "data": {
        "id": "GS200_container"
       },
       "grabbable": true,
       "grabbed": false,
       "position": {
        "x": 1055.1914040438014,
        "y": 206.51839691702085
       },
       "selectable": false
      }
     },
     "335d42750a0543f4a51e44ef59a2d633": {
      "model_module": "jupyter-cytoscape",
      "model_module_version": "^1.3.3",
      "model_name": "CytoscapeModel",
      "state": {
       "_interaction_handlers": {},
       "_model_module_version": "^1.3.3",
       "_view_module_version": "^1.3.3",
       "auto_ungrabify": false,
       "autolock": false,
       "cytoscape_layout": {
        "avoidOverlap": true,
        "maxSimulationTime": 4000,
        "name": "cola"
       },
       "cytoscape_style": [
        {
         "css": {
          "background-color": "#11479e",
          "color": "white",
          "content": "data(id)",
          "text-outline-color": "#11479e",
          "text-outline-width": 2,
          "text-valign": "center"
         },
         "selector": "node"
        },
        {
         "css": {
          "background-color": "red"
         },
         "selector": "node.NodeStatus_INACTIVE"
        },
        {
         "css": {
          "background-opacity": 0.333,
          "content": ""
         },
         "selector": "node:parent"
        },
        {
         "css": {
          "background-color": "black",
          "line-color": "black",
          "source-arrow-color": "black",
          "target-arrow-color": "black",
          "text-outline-color": "black"
         },
         "selector": ":selected"
        },
        {
         "selector": "edge",
         "style": {
          "line-color": "#9dbaea",
          "width": 4
         }
        },
        {
         "selector": "edge.EdgeStatus_ACTIVE_ELECTRICAL_CONNECTION",
         "style": {
          "curve-style": "haystack",
          "line-color": "#9dbaea",
          "target-arrow-color": "#9dbaea",
          "target-arrow-shape": "triangle"
         }
        },
        {
         "selector": "edge.EdgeStatus_INACTIVE_ELECTRICAL_CONNECTION",
         "style": {
          "curve-style": "haystack",
          "line-color": "red",
          "target-arrow-color": "red",
          "target-arrow-shape": "triangle"
         }
        },
        {
         "selector": "edge.EdgeStatus_PART_OF",
         "style": {
          "curve-style": "haystack",
          "line-color": "green",
          "target-arrow-color": "green",
          "target-arrow-shape": "triangle"
         }
        },
        {
         "selector": "edge.multiple_edges",
         "style": {
          "curve-style": "haystack"
         }
        }
       ],
       "desktop_tap_threshold": 4,
       "graph": "IPY_MODEL_20bcccede4eb4f2eaf36317d03822a9f",
       "headless": false,
       "hide_edges_on_viewport": false,
       "layout": "IPY_MODEL_db388ce13d4d4961b1a799044d1fcdbd",
       "max_zoom": 5,
       "min_zoom": 0.2,
       "motion_blur": false,
       "motion_blur_opacity": 0.2,
       "panning_enabled": true,
       "pixel_ratio": "auto",
       "rendered_position": {
        "renderedPosition": {
         "x": 100,
         "y": 100
        }
       },
       "selection_type": "single",
       "style_enabled": true,
       "texture_on_viewport": false,
       "tooltip_source": "tooltip",
       "touch_tap_threshold": 8,
       "user_panning_enabled": true,
       "user_zooming_enabled": true,
       "wheel_sensitivity": 0.1,
       "zoom": 2,
       "zooming_enabled": true
      }
     },
     "34b3b5cc648144d692db68349c261384": {
      "model_module": "jupyter-cytoscape",
      "model_module_version": "^1.3.3",
      "model_name": "GraphModel",
      "state": {
       "_adj": {
        "GS200": {},
        "GS200_container": {},
        "GS200_current_source": {},
        "GS200_current_source_measure": {},
        "GS200_program": {},
        "GS200_voltage_source": {},
        "GS200_voltage_source_measure": {}
       },
       "_model_module_version": "^1.3.3",
       "_view_module": "jupyter-cytoscape",
       "_view_module_version": "^1.3.3",
       "edges": [
        "IPY_MODEL_e0c4e04050b8434caade3e2ff574625b",
        "IPY_MODEL_14a5acc4f41a434daa0c20211260c75b",
        "IPY_MODEL_e18f9c0668a84f8ebcff43f257d44a8a",
        "IPY_MODEL_2295570219b14036b4d5375c7ef22475",
        "IPY_MODEL_b638b17fcb9848cbbb09ae86927efca8"
       ],
       "nodes": [
        "IPY_MODEL_b8868b76453746df9b2ce8914c24500f",
        "IPY_MODEL_1b7d3143d4224feeb9c34efdc78e61eb",
        "IPY_MODEL_156ebb7f5c554f8197d2833a55bc8721",
        "IPY_MODEL_9b39e96078a24536809d13db67f29316",
        "IPY_MODEL_8d067d74f6a0413fa02332a9b439c8b2",
        "IPY_MODEL_43a96a78f95547159f57121dd3919de3",
        "IPY_MODEL_03de688e584e44bbaf3f2bfd8f3df6c4"
       ]
      }
     },
     "37dc7c9c20d34eaeb2f27cbd968c1c54": {
      "model_module": "jupyter-cytoscape",
      "model_module_version": "^1.3.3",
      "model_name": "NodeModel",
      "state": {
       "_model_module_version": "^1.3.3",
       "_view_module_version": "^1.3.3",
       "classes": "NodeStatus_ACTIVE",
       "data": {
        "id": "GS200_current_source_measure",
        "parent": "GS200_container"
       },
       "grabbable": true,
       "grabbed": false,
       "position": {
        "x": 1144.1184970512966,
        "y": 33.523607098255134
       },
       "selectable": false
      }
     },
     "429c8d0570384f5c9c71e5fd912ba1ea": {
      "model_module": "@jupyter-widgets/base",
      "model_module_version": "1.2.0",
      "model_name": "LayoutModel",
      "state": {}
     },
     "43a96a78f95547159f57121dd3919de3": {
      "model_module": "jupyter-cytoscape",
      "model_module_version": "^1.3.3",
      "model_name": "NodeModel",
      "state": {
       "_model_module_version": "^1.3.3",
       "_view_module_version": "^1.3.3",
       "classes": "NodeStatus_INACTIVE",
       "data": {
        "id": "GS200_voltage_source",
        "parent": "GS200_container"
       },
       "grabbable": true,
       "grabbed": false,
       "position": {
        "x": 1047.928562577594,
        "y": 299.58210257715
       },
       "selectable": false
      }
     },
     "457a480e3aaf4050adc7975fdd4dd6c0": {
      "model_module": "jupyter-cytoscape",
      "model_module_version": "^1.3.3",
      "model_name": "EdgeModel",
      "state": {
       "_model_module_version": "^1.3.3",
       "_view_module_version": "^1.3.3",
       "classes": "EdgeStatus_PART_OF directed ",
       "data": {
        "id": "80441ece-0dd8-4e6d-b13b-e73c6848b2e0",
        "source": "GS200_voltage_source",
        "target": "GS200_voltage_source_measure"
       },
       "selectable": false
      }
     },
     "4683950bc9cc43a8902d71f2e10566b4": {
      "model_module": "jupyter-cytoscape",
      "model_module_version": "^1.3.3",
      "model_name": "NodeModel",
      "state": {
       "_model_module_version": "^1.3.3",
       "_view_module_version": "^1.3.3",
       "classes": "NodeStatus_ACTIVE",
       "data": {
        "id": "GS200_voltage_source",
        "parent": "GS200_container"
       },
       "grabbable": true,
       "grabbed": false,
       "position": {
        "x": 1048.3621985597276,
        "y": 299.463045852082
       },
       "selectable": false
      }
     },
     "4e5172480b8b494fbe65c6eab6007e83": {
      "model_module": "jupyter-cytoscape",
      "model_module_version": "^1.3.3",
      "model_name": "NodeModel",
      "state": {
       "_model_module_version": "^1.3.3",
       "_view_module_version": "^1.3.3",
       "data": {
        "id": "GS200_container"
       },
       "grabbable": true,
       "grabbed": false,
       "selectable": false
      }
     },
     "50938e1a3fa241d084869f024f6d58b9": {
      "model_module": "jupyter-cytoscape",
      "model_module_version": "^1.3.3",
      "model_name": "NodeModel",
      "state": {
       "_model_module_version": "^1.3.3",
       "_view_module_version": "^1.3.3",
       "classes": "NodeStatus_ACTIVE",
       "data": {
        "id": "GS200_program",
        "parent": "GS200_container"
       },
       "grabbable": true,
       "grabbed": false,
       "position": {
        "x": 367.0603121185386,
        "y": 178.2980948782591
       },
       "selectable": false
      }
     },
     "52d6728c7ef24158b72b320b74f0c674": {
      "model_module": "jupyter-cytoscape",
      "model_module_version": "^1.3.3",
      "model_name": "GraphModel",
      "state": {
       "_adj": {
        "GS200": {},
        "GS200_container": {},
        "GS200_current_source": {},
        "GS200_current_source_measure": {},
        "GS200_program": {},
        "GS200_voltage_source": {},
        "GS200_voltage_source_measure": {}
       },
       "_model_module_version": "^1.3.3",
       "_view_module": "jupyter-cytoscape",
       "_view_module_version": "^1.3.3",
       "edges": [
        "IPY_MODEL_b25f5b6107574bc88e9103635597e969",
        "IPY_MODEL_25983d5f71f44114a66565a5da873784",
        "IPY_MODEL_19672556b4ad4e8bb6a5c50e76717b2b",
        "IPY_MODEL_6a2f3d0bfbd2401199b73da4e447cbf6",
        "IPY_MODEL_457a480e3aaf4050adc7975fdd4dd6c0"
       ],
       "nodes": [
        "IPY_MODEL_31666d5d033d452182f0a48958f19a83",
        "IPY_MODEL_76655e5105dc49b3bb506961523a6545",
        "IPY_MODEL_8cf04c9f138d426eb7e7192405d3c95f",
        "IPY_MODEL_d44c89f53f2a45aeab583d2afa27b9f0",
        "IPY_MODEL_37dc7c9c20d34eaeb2f27cbd968c1c54",
        "IPY_MODEL_4683950bc9cc43a8902d71f2e10566b4",
        "IPY_MODEL_b7e716a23400493ba51007c4aaae3f94"
       ]
      }
     },
     "5a664e8fe8ec41e98e16b0e0ccc6b98a": {
      "model_module": "@jupyter-widgets/controls",
      "model_module_version": "1.5.0",
      "model_name": "HBoxModel",
      "state": {
       "children": [
        "IPY_MODEL_b290b4e0f6e74434a68f28c37fc964e3",
        "IPY_MODEL_335d42750a0543f4a51e44ef59a2d633"
       ],
       "layout": "IPY_MODEL_cb7bbe637e5f4b0a9d6ab1e87141c07c"
      }
     },
     "6a2f3d0bfbd2401199b73da4e447cbf6": {
      "model_module": "jupyter-cytoscape",
      "model_module_version": "^1.3.3",
      "model_name": "EdgeModel",
      "state": {
       "_model_module_version": "^1.3.3",
       "_view_module_version": "^1.3.3",
       "classes": "EdgeStatus_PART_OF directed ",
       "data": {
        "id": "9d5f7842-0c59-4e1c-bf6e-b3d85ab4f7ac",
        "source": "GS200_current_source",
        "target": "GS200_current_source_measure"
       },
       "selectable": false
      }
     },
     "6b0a0438e950418bafc32d0952e3f6ec": {
      "model_module": "jupyter-cytoscape",
      "model_module_version": "^1.3.3",
      "model_name": "NodeModel",
      "state": {
       "_model_module_version": "^1.3.3",
       "_view_module_version": "^1.3.3",
       "classes": "NodeStatus_ACTIVE",
       "data": {
        "id": "GS200_voltage_source_measure",
        "parent": "GS200_container"
       },
       "grabbable": true,
       "grabbed": false,
       "position": {
        "x": 689.0697192565376,
        "y": 176.72591956636523
       },
       "selectable": false
      }
     },
     "725cd588af604f3d8ba32158faaa50a7": {
      "model_module": "jupyter-cytoscape",
      "model_module_version": "^1.3.3",
      "model_name": "EdgeModel",
      "state": {
       "_model_module_version": "^1.3.3",
       "_view_module_version": "^1.3.3",
       "classes": "EdgeStatus_PART_OF directed ",
       "data": {
        "id": "a927bd23-f5e6-467a-9ad6-5eaa5c66b194",
        "source": "GS200",
        "target": "GS200_program"
       },
       "selectable": false
      }
     },
     "76655e5105dc49b3bb506961523a6545": {
      "model_module": "jupyter-cytoscape",
      "model_module_version": "^1.3.3",
      "model_name": "NodeModel",
      "state": {
       "_model_module_version": "^1.3.3",
       "_view_module_version": "^1.3.3",
       "classes": "NodeStatus_ACTIVE",
       "data": {
        "id": "GS200",
        "parent": "GS200_container"
       },
       "grabbable": true,
       "grabbed": false,
       "position": {
        "x": 1013.0862798429911,
        "y": 196.7780483777494
       },
       "selectable": false
      }
     },
     "7b2c93e2253c4d76b69396f7ce17100b": {
      "model_module": "jupyter-cytoscape",
      "model_module_version": "^1.3.3",
      "model_name": "NodeModel",
      "state": {
       "_model_module_version": "^1.3.3",
       "_view_module_version": "^1.3.3",
       "data": {
        "id": "GS200_container"
       },
       "grabbable": true,
       "grabbed": false,
       "selectable": false
      }
     },
     "7dc99389c597437e862e1375d8ac792b": {
      "model_module": "jupyter-cytoscape",
      "model_module_version": "^1.3.3",
      "model_name": "NodeModel",
      "state": {
       "_model_module_version": "^1.3.3",
       "_view_module_version": "^1.3.3",
       "data": {
        "id": "GS200_container"
       },
       "grabbable": true,
       "grabbed": false,
       "selectable": false
      }
     },
     "83dc85c2fc804a04bbc53f315d135794": {
      "model_module": "@jupyter-widgets/controls",
      "model_module_version": "1.5.0",
      "model_name": "HBoxModel",
      "state": {
       "children": [
        "IPY_MODEL_9455bb4a70fb42abaad1537942f3e78b"
       ],
       "layout": "IPY_MODEL_2ac9697380654ca9a1ed937af8b6d277"
      }
     },
     "84a19e5bd53d43d0ac6a202b7a95bb99": {
      "model_module": "jupyter-cytoscape",
      "model_module_version": "^1.3.3",
      "model_name": "EdgeModel",
      "state": {
       "_model_module_version": "^1.3.3",
       "_view_module_version": "^1.3.3",
       "classes": "EdgeStatus_PART_OF directed ",
       "data": {
        "id": "961c54ed-0a24-4fba-8e52-548b167bde21",
        "source": "GS200_voltage_source",
        "target": "GS200_voltage_source_measure"
       },
       "selectable": false
      }
     },
     "8cf04c9f138d426eb7e7192405d3c95f": {
      "model_module": "jupyter-cytoscape",
      "model_module_version": "^1.3.3",
      "model_name": "NodeModel",
      "state": {
       "_model_module_version": "^1.3.3",
       "_view_module_version": "^1.3.3",
       "classes": "NodeStatus_ACTIVE",
       "data": {
        "id": "GS200_program",
        "parent": "GS200_container"
       },
       "grabbable": true,
       "grabbed": false,
       "position": {
        "x": 907.2643110363064,
        "y": 179.1837946355947
       },
       "selectable": false
      }
     },
     "8d067d74f6a0413fa02332a9b439c8b2": {
      "model_module": "jupyter-cytoscape",
      "model_module_version": "^1.3.3",
      "model_name": "NodeModel",
      "state": {
       "_model_module_version": "^1.3.3",
       "_view_module_version": "^1.3.3",
       "classes": "NodeStatus_ACTIVE",
       "data": {
        "id": "GS200_current_source_measure",
        "parent": "GS200_container"
       },
       "grabbable": true,
       "grabbed": false,
       "position": {
        "x": 1144.6368848729383,
        "y": 34.12910026428724
       },
       "selectable": false
      }
     },
     "8e4885af3b82478db37107ea72716ae4": {
      "model_module": "jupyter-cytoscape",
      "model_module_version": "^1.3.3",
      "model_name": "NodeModel",
      "state": {
       "_model_module_version": "^1.3.3",
       "_view_module_version": "^1.3.3",
       "data": {
        "id": "GS200_container"
       },
       "grabbable": true,
       "grabbed": false,
       "selectable": false
      }
     },
     "91f4e321c1c647aeb863912faaf36457": {
      "model_module": "jupyter-cytoscape",
      "model_module_version": "^1.3.3",
      "model_name": "NodeModel",
      "state": {
       "_model_module_version": "^1.3.3",
       "_view_module_version": "^1.3.3",
       "data": {
        "id": "GS200_container"
       },
       "grabbable": true,
       "grabbed": false,
       "selectable": false
      }
     },
     "9455bb4a70fb42abaad1537942f3e78b": {
      "model_module": "jupyter-cytoscape",
      "model_module_version": "^1.3.3",
      "model_name": "CytoscapeModel",
      "state": {
       "_interaction_handlers": {},
       "_model_module_version": "^1.3.3",
       "_view_module_version": "^1.3.3",
       "auto_ungrabify": false,
       "autolock": false,
       "cytoscape_layout": {
        "avoidOverlap": true,
        "maxSimulationTime": 4000,
        "name": "cola"
       },
       "cytoscape_style": [
        {
         "css": {
          "background-color": "#11479e",
          "color": "white",
          "content": "data(id)",
          "text-outline-color": "#11479e",
          "text-outline-width": 2,
          "text-valign": "center"
         },
         "selector": "node"
        },
        {
         "css": {
          "background-color": "red"
         },
         "selector": "node.NodeStatus_INACTIVE"
        },
        {
         "css": {
          "background-opacity": 0.333,
          "content": ""
         },
         "selector": "node:parent"
        },
        {
         "css": {
          "background-color": "black",
          "line-color": "black",
          "source-arrow-color": "black",
          "target-arrow-color": "black",
          "text-outline-color": "black"
         },
         "selector": ":selected"
        },
        {
         "selector": "edge",
         "style": {
          "line-color": "#9dbaea",
          "width": 4
         }
        },
        {
         "selector": "edge.EdgeStatus_ACTIVE_ELECTRICAL_CONNECTION",
         "style": {
          "curve-style": "haystack",
          "line-color": "#9dbaea",
          "target-arrow-color": "#9dbaea",
          "target-arrow-shape": "triangle"
         }
        },
        {
         "selector": "edge.EdgeStatus_INACTIVE_ELECTRICAL_CONNECTION",
         "style": {
          "curve-style": "haystack",
          "line-color": "red",
          "target-arrow-color": "red",
          "target-arrow-shape": "triangle"
         }
        },
        {
         "selector": "edge.EdgeStatus_PART_OF",
         "style": {
          "curve-style": "haystack",
          "line-color": "green",
          "target-arrow-color": "green",
          "target-arrow-shape": "triangle"
         }
        },
        {
         "selector": "edge.multiple_edges",
         "style": {
          "curve-style": "haystack"
         }
        }
       ],
       "desktop_tap_threshold": 4,
       "graph": "IPY_MODEL_34b3b5cc648144d692db68349c261384",
       "headless": false,
       "hide_edges_on_viewport": false,
       "layout": "IPY_MODEL_acee6bf68434418fa498328d82ad894b",
       "max_zoom": 5,
       "min_zoom": 0.2,
       "motion_blur": false,
       "motion_blur_opacity": 0.2,
       "panning_enabled": true,
       "pixel_ratio": "auto",
       "rendered_position": {
        "renderedPosition": {
         "x": 100,
         "y": 100
        }
       },
       "selection_type": "single",
       "style_enabled": true,
       "texture_on_viewport": false,
       "tooltip_source": "tooltip",
       "touch_tap_threshold": 8,
       "user_panning_enabled": true,
       "user_zooming_enabled": true,
       "wheel_sensitivity": 0.1,
       "zoom": 2,
       "zooming_enabled": true
      }
     },
     "9b39e96078a24536809d13db67f29316": {
      "model_module": "jupyter-cytoscape",
      "model_module_version": "^1.3.3",
      "model_name": "NodeModel",
      "state": {
       "_model_module_version": "^1.3.3",
       "_view_module_version": "^1.3.3",
       "classes": "NodeStatus_ACTIVE",
       "data": {
        "id": "GS200_current_source",
        "parent": "GS200_container"
       },
       "grabbable": true,
       "grabbed": false,
       "position": {
        "x": 1074.8288627228105,
        "y": 107.74920799226463
       },
       "selectable": false
      }
     },
     "aa69ae89dedd4f198dd99bd852617417": {
      "model_module": "jupyter-cytoscape",
      "model_module_version": "^1.3.3",
      "model_name": "NodeModel",
      "state": {
       "_model_module_version": "^1.3.3",
       "_view_module_version": "^1.3.3",
       "data": {
        "id": "GS200_container"
       },
       "grabbable": true,
       "grabbed": false,
       "selectable": false
      }
     },
     "acee6bf68434418fa498328d82ad894b": {
      "model_module": "@jupyter-widgets/base",
      "model_module_version": "1.2.0",
      "model_name": "LayoutModel",
      "state": {}
     },
     "b25f5b6107574bc88e9103635597e969": {
      "model_module": "jupyter-cytoscape",
      "model_module_version": "^1.3.3",
      "model_name": "EdgeModel",
      "state": {
       "_model_module_version": "^1.3.3",
       "_view_module_version": "^1.3.3",
       "classes": "EdgeStatus_PART_OF directed ",
       "data": {
        "id": "dd1be395-90eb-454f-bc2b-f22706589c79",
        "source": "GS200",
        "target": "GS200_program"
       },
       "selectable": false
      }
     },
     "b290b4e0f6e74434a68f28c37fc964e3": {
      "model_module": "jupyter-cytoscape",
      "model_module_version": "^1.3.3",
      "model_name": "CytoscapeModel",
      "state": {
       "_interaction_handlers": {},
       "_model_module_version": "^1.3.3",
       "_view_module_version": "^1.3.3",
       "auto_ungrabify": false,
       "autolock": false,
       "cytoscape_layout": {
        "avoidOverlap": true,
        "maxSimulationTime": 4000,
        "name": "cola"
       },
       "cytoscape_style": [
        {
         "css": {
          "background-color": "#11479e",
          "color": "white",
          "content": "data(id)",
          "text-outline-color": "#11479e",
          "text-outline-width": 2,
          "text-valign": "center"
         },
         "selector": "node"
        },
        {
         "css": {
          "background-color": "red"
         },
         "selector": "node.NodeStatus_INACTIVE"
        },
        {
         "css": {
          "background-opacity": 0.333,
          "content": ""
         },
         "selector": "node:parent"
        },
        {
         "css": {
          "background-color": "black",
          "line-color": "black",
          "source-arrow-color": "black",
          "target-arrow-color": "black",
          "text-outline-color": "black"
         },
         "selector": ":selected"
        },
        {
         "selector": "edge",
         "style": {
          "line-color": "#9dbaea",
          "width": 4
         }
        },
        {
         "selector": "edge.EdgeStatus_ACTIVE_ELECTRICAL_CONNECTION",
         "style": {
          "curve-style": "haystack",
          "line-color": "#9dbaea",
          "target-arrow-color": "#9dbaea",
          "target-arrow-shape": "triangle"
         }
        },
        {
         "selector": "edge.EdgeStatus_INACTIVE_ELECTRICAL_CONNECTION",
         "style": {
          "curve-style": "haystack",
          "line-color": "red",
          "target-arrow-color": "red",
          "target-arrow-shape": "triangle"
         }
        },
        {
         "selector": "edge.EdgeStatus_PART_OF",
         "style": {
          "curve-style": "haystack",
          "line-color": "green",
          "target-arrow-color": "green",
          "target-arrow-shape": "triangle"
         }
        },
        {
         "selector": "edge.multiple_edges",
         "style": {
          "curve-style": "haystack"
         }
        }
       ],
       "desktop_tap_threshold": 4,
       "graph": "IPY_MODEL_c03ecc369ba64493b71f6991d458e5e8",
       "headless": false,
       "hide_edges_on_viewport": false,
       "layout": "IPY_MODEL_300c1811123a43c49441d83fedfab408",
       "max_zoom": 5,
       "min_zoom": 0.2,
       "motion_blur": false,
       "motion_blur_opacity": 0.2,
       "panning_enabled": true,
       "pixel_ratio": "auto",
       "rendered_position": {
        "renderedPosition": {
         "x": 100,
         "y": 100
        }
       },
       "selection_type": "single",
       "style_enabled": true,
       "texture_on_viewport": false,
       "tooltip_source": "tooltip",
       "touch_tap_threshold": 8,
       "user_panning_enabled": true,
       "user_zooming_enabled": true,
       "wheel_sensitivity": 0.1,
       "zoom": 2,
       "zooming_enabled": true
      }
     },
     "b638b17fcb9848cbbb09ae86927efca8": {
      "model_module": "jupyter-cytoscape",
      "model_module_version": "^1.3.3",
      "model_name": "EdgeModel",
      "state": {
       "_model_module_version": "^1.3.3",
       "_view_module_version": "^1.3.3",
       "classes": "EdgeStatus_PART_OF directed ",
       "data": {
        "id": "c52bdecc-b511-4fc3-b41a-c3c564a6eff4",
        "source": "GS200_voltage_source",
        "target": "GS200_voltage_source_measure"
       },
       "selectable": false
      }
     },
     "b7e716a23400493ba51007c4aaae3f94": {
      "model_module": "jupyter-cytoscape",
      "model_module_version": "^1.3.3",
      "model_name": "NodeModel",
      "state": {
       "_model_module_version": "^1.3.3",
       "_view_module_version": "^1.3.3",
       "classes": "NodeStatus_ACTIVE",
       "data": {
        "id": "GS200_voltage_source_measure",
        "parent": "GS200_container"
       },
       "grabbable": true,
       "grabbed": false,
       "position": {
        "x": 1112.762610959098,
        "y": 379.5131867357866
       },
       "selectable": false
      }
     },
     "b8868b76453746df9b2ce8914c24500f": {
      "model_module": "jupyter-cytoscape",
      "model_module_version": "^1.3.3",
      "model_name": "NodeModel",
      "state": {
       "_model_module_version": "^1.3.3",
       "_view_module_version": "^1.3.3",
       "data": {
        "id": "GS200_container"
       },
       "grabbable": true,
       "grabbed": false,
       "position": {
        "x": 1055.3793841031602,
        "y": 206.61048880295132
       },
       "selectable": false
      }
     },
     "bbed0f1cecce4fa68d1b7d8dab807977": {
      "model_module": "jupyter-cytoscape",
      "model_module_version": "^1.3.3",
      "model_name": "NodeModel",
      "state": {
       "_model_module_version": "^1.3.3",
       "_view_module_version": "^1.3.3",
       "data": {
        "id": "GS200_container"
       },
       "grabbable": true,
       "grabbed": false,
       "selectable": false
      }
     },
     "c03ecc369ba64493b71f6991d458e5e8": {
      "model_module": "jupyter-cytoscape",
      "model_module_version": "^1.3.3",
      "model_name": "GraphModel",
      "state": {
       "_adj": {
        "GS200": {},
        "GS200_container": {},
        "GS200_program": {},
        "GS200_voltage_source": {},
        "GS200_voltage_source_measure": {}
       },
       "_model_module_version": "^1.3.3",
       "_view_module": "jupyter-cytoscape",
       "_view_module_version": "^1.3.3",
       "edges": [
        "IPY_MODEL_725cd588af604f3d8ba32158faaa50a7",
        "IPY_MODEL_ec1deb3f8260409bb3df0188ab9fe6f3",
        "IPY_MODEL_84a19e5bd53d43d0ac6a202b7a95bb99"
       ],
       "nodes": [
        "IPY_MODEL_cef3885673ac4b6ea5a42397a16e711a",
        "IPY_MODEL_cea136954d1e4c8ebc523ed307199ee7",
        "IPY_MODEL_50938e1a3fa241d084869f024f6d58b9",
        "IPY_MODEL_ce1e7290e5ba457ca5db7d6571da2fda",
        "IPY_MODEL_6b0a0438e950418bafc32d0952e3f6ec"
       ]
      }
     },
     "c99f4f7f3ac14853a304198b3780b80a": {
      "model_module": "jupyter-cytoscape",
      "model_module_version": "^1.3.3",
      "model_name": "NodeModel",
      "state": {
       "_model_module_version": "^1.3.3",
       "_view_module_version": "^1.3.3",
       "data": {
        "id": "GS200_container"
       },
       "grabbable": true,
       "grabbed": false,
       "selectable": false
      }
     },
     "cb7bbe637e5f4b0a9d6ab1e87141c07c": {
      "model_module": "@jupyter-widgets/base",
      "model_module_version": "1.2.0",
      "model_name": "LayoutModel",
      "state": {}
     },
     "ce1e7290e5ba457ca5db7d6571da2fda": {
      "model_module": "jupyter-cytoscape",
      "model_module_version": "^1.3.3",
      "model_name": "NodeModel",
      "state": {
       "_model_module_version": "^1.3.3",
       "_view_module_version": "^1.3.3",
       "classes": "NodeStatus_ACTIVE",
       "data": {
        "id": "GS200_voltage_source",
        "parent": "GS200_container"
       },
       "grabbable": true,
       "grabbed": false,
       "position": {
        "x": 570.291292157394,
        "y": 222.2572822999323
       },
       "selectable": false
      }
     },
     "cea136954d1e4c8ebc523ed307199ee7": {
      "model_module": "jupyter-cytoscape",
      "model_module_version": "^1.3.3",
      "model_name": "NodeModel",
      "state": {
       "_model_module_version": "^1.3.3",
       "_view_module_version": "^1.3.3",
       "classes": "NodeStatus_ACTIVE",
       "data": {
        "id": "GS200",
        "parent": "GS200_container"
       },
       "grabbable": true,
       "grabbed": false,
       "position": {
        "x": 486.8581082518958,
        "y": 174.76346000837717
       },
       "selectable": false
      }
     },
     "cef3885673ac4b6ea5a42397a16e711a": {
      "model_module": "jupyter-cytoscape",
      "model_module_version": "^1.3.3",
      "model_name": "NodeModel",
      "state": {
       "_model_module_version": "^1.3.3",
       "_view_module_version": "^1.3.3",
       "data": {
        "id": "GS200_container"
       },
       "grabbable": true,
       "grabbed": false,
       "position": {
        "x": 558.0650156875381,
        "y": 198.51037115415474
       },
       "selectable": false
      }
     },
     "d44c89f53f2a45aeab583d2afa27b9f0": {
      "model_module": "jupyter-cytoscape",
      "model_module_version": "^1.3.3",
      "model_name": "NodeModel",
      "state": {
       "_model_module_version": "^1.3.3",
       "_view_module_version": "^1.3.3",
       "classes": "NodeStatus_INACTIVE",
       "data": {
        "id": "GS200_current_source",
        "parent": "GS200_container"
       },
       "grabbable": true,
       "grabbed": false,
       "position": {
        "x": 1074.867287608147,
        "y": 107.63300234599326
       },
       "selectable": false
      }
     },
     "db060d726ce341a3b994ff3dbdae8303": {
      "model_module": "jupyter-cytoscape",
      "model_module_version": "^1.3.3",
      "model_name": "NodeModel",
      "state": {
       "_model_module_version": "^1.3.3",
       "_view_module_version": "^1.3.3",
       "data": {
        "id": "GS200_container"
       },
       "grabbable": true,
       "grabbed": false,
       "selectable": false
      }
     },
     "db388ce13d4d4961b1a799044d1fcdbd": {
      "model_module": "@jupyter-widgets/base",
      "model_module_version": "1.2.0",
      "model_name": "LayoutModel",
      "state": {}
     },
     "dfd67aea3fbf419d85a70a7c65ffcae5": {
      "model_module": "@jupyter-widgets/base",
      "model_module_version": "1.2.0",
      "model_name": "LayoutModel",
      "state": {}
     },
     "e0c4e04050b8434caade3e2ff574625b": {
      "model_module": "jupyter-cytoscape",
      "model_module_version": "^1.3.3",
      "model_name": "EdgeModel",
      "state": {
       "_model_module_version": "^1.3.3",
       "_view_module_version": "^1.3.3",
       "classes": "EdgeStatus_PART_OF directed ",
       "data": {
        "id": "2614c633-ce97-4b68-b6b8-1dd37d857d99",
        "source": "GS200",
        "target": "GS200_program"
       },
       "selectable": false
      }
     },
     "e18f9c0668a84f8ebcff43f257d44a8a": {
      "model_module": "jupyter-cytoscape",
      "model_module_version": "^1.3.3",
      "model_name": "EdgeModel",
      "state": {
       "_model_module_version": "^1.3.3",
       "_view_module_version": "^1.3.3",
       "classes": "EdgeStatus_INACTIVE_ELECTRICAL_CONNECTION directed ",
       "data": {
        "id": "4cb3990b-259a-43a5-9e87-b627d6916358",
        "source": "GS200",
        "target": "GS200_voltage_source"
       },
       "selectable": false
      }
     },
     "e941f3463615474c8d72095801bc13bf": {
      "model_module": "jupyter-cytoscape",
      "model_module_version": "^1.3.3",
      "model_name": "CytoscapeModel",
      "state": {
       "_interaction_handlers": {},
       "_model_module_version": "^1.3.3",
       "_view_module_version": "^1.3.3",
       "auto_ungrabify": false,
       "autolock": false,
       "cytoscape_layout": {
        "avoidOverlap": true,
        "maxSimulationTime": 4000,
        "name": "cola"
       },
       "cytoscape_style": [
        {
         "css": {
          "background-color": "#11479e",
          "color": "white",
          "content": "data(id)",
          "text-outline-color": "#11479e",
          "text-outline-width": 2,
          "text-valign": "center"
         },
         "selector": "node"
        },
        {
         "css": {
          "background-color": "red"
         },
         "selector": "node.NodeStatus_INACTIVE"
        },
        {
         "css": {
          "background-opacity": 0.333,
          "content": ""
         },
         "selector": "node:parent"
        },
        {
         "css": {
          "background-color": "black",
          "line-color": "black",
          "source-arrow-color": "black",
          "target-arrow-color": "black",
          "text-outline-color": "black"
         },
         "selector": ":selected"
        },
        {
         "selector": "edge",
         "style": {
          "line-color": "#9dbaea",
          "width": 4
         }
        },
        {
         "selector": "edge.EdgeStatus_ACTIVE_ELECTRICAL_CONNECTION",
         "style": {
          "curve-style": "haystack",
          "line-color": "#9dbaea",
          "target-arrow-color": "#9dbaea",
          "target-arrow-shape": "triangle"
         }
        },
        {
         "selector": "edge.EdgeStatus_INACTIVE_ELECTRICAL_CONNECTION",
         "style": {
          "curve-style": "haystack",
          "line-color": "red",
          "target-arrow-color": "red",
          "target-arrow-shape": "triangle"
         }
        },
        {
         "selector": "edge.EdgeStatus_PART_OF",
         "style": {
          "curve-style": "haystack",
          "line-color": "green",
          "target-arrow-color": "green",
          "target-arrow-shape": "triangle"
         }
        },
        {
         "selector": "edge.multiple_edges",
         "style": {
          "curve-style": "haystack"
         }
        }
       ],
       "desktop_tap_threshold": 4,
       "graph": "IPY_MODEL_52d6728c7ef24158b72b320b74f0c674",
       "headless": false,
       "hide_edges_on_viewport": false,
       "layout": "IPY_MODEL_dfd67aea3fbf419d85a70a7c65ffcae5",
       "max_zoom": 5,
       "min_zoom": 0.2,
       "motion_blur": false,
       "motion_blur_opacity": 0.2,
       "panning_enabled": true,
       "pixel_ratio": "auto",
       "rendered_position": {
        "renderedPosition": {
         "x": 100,
         "y": 100
        }
       },
       "selection_type": "single",
       "style_enabled": true,
       "texture_on_viewport": false,
       "tooltip_source": "tooltip",
       "touch_tap_threshold": 8,
       "user_panning_enabled": true,
       "user_zooming_enabled": true,
       "wheel_sensitivity": 0.1,
       "zoom": 2,
       "zooming_enabled": true
      }
     },
     "e9a73e266d3a49ffad5c3cad95594f32": {
      "model_module": "jupyter-cytoscape",
      "model_module_version": "^1.3.3",
      "model_name": "GraphModel",
      "state": {
       "_adj": {},
       "_model_module_version": "^1.3.3",
       "_view_module": "jupyter-cytoscape",
       "_view_module_version": "^1.3.3"
      }
     },
     "ec1deb3f8260409bb3df0188ab9fe6f3": {
      "model_module": "jupyter-cytoscape",
      "model_module_version": "^1.3.3",
      "model_name": "EdgeModel",
      "state": {
       "_model_module_version": "^1.3.3",
       "_view_module_version": "^1.3.3",
       "classes": "EdgeStatus_ACTIVE_ELECTRICAL_CONNECTION directed ",
       "data": {
        "id": "f7f90bf7-e925-4cab-bc86-e54e6162f1e2",
        "source": "GS200",
        "target": "GS200_voltage_source"
       },
       "selectable": false
      }
     },
     "f77f054762b4473e8d75d3353826ffcf": {
      "model_module": "jupyter-cytoscape",
      "model_module_version": "^1.3.3",
      "model_name": "GraphModel",
      "state": {
       "_adj": {},
       "_model_module_version": "^1.3.3",
       "_view_module": "jupyter-cytoscape",
       "_view_module_version": "^1.3.3"
      }
     },
     "fa32c1cb0979492dad1af350bb2cd3cc": {
      "model_module": "jupyter-cytoscape",
      "model_module_version": "^1.3.3",
      "model_name": "NodeModel",
      "state": {
       "_model_module_version": "^1.3.3",
       "_view_module_version": "^1.3.3",
       "classes": "NodeStatus_ACTIVE",
       "data": {
        "id": "GS200_current_source_measure",
        "parent": "GS200_container"
       },
       "grabbable": true,
       "grabbed": false,
       "position": {
        "x": 516.6656956136734,
        "y": 196.07856637205487
       },
       "selectable": false
      }
     }
    },
    "version_major": 2,
    "version_minor": 0
   }
  }
 },
 "nbformat": 4,
 "nbformat_minor": 5
}
