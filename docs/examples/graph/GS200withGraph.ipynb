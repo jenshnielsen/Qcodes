{
 "cells": [
  {
   "cell_type": "code",
   "execution_count": 1,
   "id": "e58d9dda-69ef-462d-8141-4a2d0e73d17c",
   "metadata": {},
   "outputs": [
    {
     "name": "stdout",
     "output_type": "stream",
     "text": [
      "Logging hadn't been started.\n",
      "Activating auto-logging. Current session state plus future input saved.\n",
      "Filename       : C:\\Users\\jenielse\\.qcodes\\logs\\command_history.log\n",
      "Mode           : append\n",
      "Output logging : True\n",
      "Raw input log  : False\n",
      "Timestamping   : True\n",
      "State          : active\n",
      "Qcodes Logfile : C:\\Users\\jenielse\\.qcodes\\logs\\220506-2688-qcodes.log\n"
     ]
    }
   ],
   "source": [
    "import pytest\n",
    "\n",
    "import qcodes.instrument.sims as sims\n",
    "from qcodes.instrument_drivers.yokogawa.GS200Graph import GS200\n",
    "from qcodes.graph.visulization import draw\n",
    "from qcodes.graph.graph import NodeStatus\n",
    "import networkx as nx\n",
    "import itertools\n",
    "VISALIB = sims.__file__.replace(\"__init__.py\", \"Yokogawa_GS200.yaml@sim\")"
   ]
  },
  {
   "cell_type": "markdown",
   "id": "cdc551bc-1cff-4c66-9ae3-1c8b0a177ee4",
   "metadata": {},
   "source": [
    "# Description\n",
    "\n",
    "The Yokogawa GS200 is a voltage or current source with an optional measurement unit that may or may not be available depending on the configuration of the instrument.\n",
    "The measurement unit enables you to measure current when sourcing voltage and the other way around. It is worth noting that the instruments VISA api is highly stateful such that\n",
    "there is one set command (`:SOUR:LEV`) which will set the voltage or the current depending on the mode set on the instrument (via `:SOUR:FUNC`) \n",
    "\n",
    "In qcodes this has previously been implemented as as 2 parameters for voltage and current which both explicitly checks that the instrument is in the correct mode before allowing users to set/get the parameter.\n",
    "For convenience these have then been delegated to a generic parameter which has its source and unit switched when changing mode on the instrument. \n",
    "\n",
    "To ensure correct snapshooting the snapshot status of the voltage/current parameters was enabled/disabled as the mode of the instrument was switched. This was enabled using custom callbacks on mode switching.\n",
    "\n",
    "In the following we will explore modeling this using a InstrumentModule (Channel) for voltage sourcing and on for current sourcing. These modules may they (depending on if the feature is installed) have a submodule for measuring. \n",
    "The idea is that the connection to the device under measurement will be at the main node of the instrument which maps to the Instrument class. When the instrument is in the voltage mode the voltage set (and if exists current measure sub) node will be forwarded \n",
    "to the device and the user will not see the other nodes. \n"
   ]
  },
  {
   "cell_type": "code",
   "execution_count": null,
   "id": "318c87ff-76c5-437a-ab4e-1118bc9a1c42",
   "metadata": {},
   "outputs": [],
   "source": []
  },
  {
   "cell_type": "code",
   "execution_count": 2,
   "id": "b0cc7c21-c05f-4051-9bb2-c79894225281",
   "metadata": {},
   "outputs": [
    {
     "name": "stdout",
     "output_type": "stream",
     "text": [
      "Connected to: QCoDeS Yokogawa Mock GS200 (serial:xxxxxxxx, firmware:MOCKFW) in 0.08s\n"
     ]
    }
   ],
   "source": [
    "gs200 = GS200(\"GS200\", address=\"GPIB0::1::INSTR\", visalib=VISALIB)"
   ]
  },
  {
   "cell_type": "markdown",
   "id": "1059bf29-a7f1-4899-ba6c-64f0c194e3c8",
   "metadata": {},
   "source": [
    "Lets first draw the graph of the instrument in voltage mode"
   ]
  },
  {
   "cell_type": "code",
   "execution_count": 3,
   "id": "b91ce58a-6e42-48c3-b1e5-2b5091607a75",
   "metadata": {},
   "outputs": [
    {
     "name": "stdout",
     "output_type": "stream",
     "text": [
      "adding node GS200\n",
      "adding node GS200_program\n",
      "adding node GS200_current_source\n",
      "adding node GS200_current_source_measure\n",
      "adding node GS200_voltage_source\n",
      "adding node GS200_voltage_source_measure\n"
     ]
    }
   ],
   "source": [
    "a = gs200.instrument_graph"
   ]
  },
  {
   "cell_type": "code",
   "execution_count": 4,
   "id": "e4ea3d31-d828-4e21-bfb8-be02dda1414d",
   "metadata": {},
   "outputs": [],
   "source": [
    "gs200.source_mode(\"VOLT\")"
   ]
  },
  {
   "cell_type": "code",
   "execution_count": 28,
   "id": "bcb19613-131d-4cbc-843e-c2740532d181",
   "metadata": {},
   "outputs": [
    {
     "name": "stdout",
     "output_type": "stream",
     "text": [
      "adding node GS200\n",
      "adding node GS200_program\n",
      "adding node GS200_current_source\n",
      "adding node GS200_current_source_measure\n",
      "adding node GS200_voltage_source\n",
      "adding node GS200_voltage_source_measure\n",
      "adding CustomNode(data={'id': 'GS200_container'}, position={})\n",
      "adding CustomNode(data={'id': 'GS200_container'}, position={})\n",
      "adding CustomNode(data={'id': 'GS200_container'}, position={})\n",
      "adding CustomNode(data={'id': 'GS200_container'}, position={})\n",
      "adding CustomNode(data={'id': 'GS200_container'}, position={})\n",
      "adding CustomNode(data={'id': 'GS200_container'}, position={})\n"
     ]
    },
    {
     "data": {
      "application/vnd.jupyter.widget-view+json": {
       "model_id": "b8afef4f3f184163a939b2d9e54581d7",
       "version_major": 2,
       "version_minor": 0
      },
      "text/plain": [
       "HBox(children=(CytoscapeWidget(cytoscape_layout={'name': 'cola', 'avoidOverlap': True, 'maxSimulationTime': 40…"
      ]
     },
     "metadata": {},
     "output_type": "display_data"
    }
   ],
   "source": [
    "draw(gs200.instrument_graph)"
   ]
  },
  {
   "cell_type": "code",
   "execution_count": 29,
   "id": "4b7f28f9-3ca4-45a7-af1b-d9a1ad2c769a",
   "metadata": {},
   "outputs": [
    {
     "name": "stdout",
     "output_type": "stream",
     "text": [
      "adding node GS200\n",
      "adding node GS200_program\n",
      "adding node GS200_current_source\n",
      "adding node GS200_current_source_measure\n",
      "adding node GS200_voltage_source\n",
      "adding node GS200_voltage_source_measure\n",
      "adding CustomNode(data={'id': 'GS200_container'}, position={})\n",
      "adding CustomNode(data={'id': 'GS200_container'}, position={})\n",
      "adding CustomNode(data={'id': 'GS200_container'}, position={})\n",
      "adding CustomNode(data={'id': 'GS200_container'}, position={})\n",
      "adding CustomNode(data={'id': 'GS200_container'}, position={})\n"
     ]
    },
    {
     "data": {
      "application/vnd.jupyter.widget-view+json": {
       "model_id": "4256d55f7c714bb2b0e92ca0287126e6",
       "version_major": 2,
       "version_minor": 0
      },
      "text/plain": [
       "HBox(children=(CytoscapeWidget(cytoscape_layout={'name': 'cola', 'avoidOverlap': True, 'maxSimulationTime': 40…"
      ]
     },
     "metadata": {},
     "output_type": "display_data"
    }
   ],
   "source": [
    "draw(gs200.instrument_graph.active_subgraph())"
   ]
  },
  {
   "cell_type": "markdown",
   "id": "3e3358ca-1cab-4475-8fca-59db2f41c3bc",
   "metadata": {},
   "source": [
    "Here we see that the voltage source and the edge from main instrument to voltage source are marked active (Green and blue respectively)"
   ]
  },
  {
   "cell_type": "code",
   "execution_count": 7,
   "id": "9fa24138-cff3-4dd5-8b8c-34c31e6127fa",
   "metadata": {},
   "outputs": [
    {
     "data": {
      "text/plain": [
       "<EdgeStatus.INACTIVE_ELECTRICAL_CONNECTION: 'inactive_electrical_connection'>"
      ]
     },
     "execution_count": 7,
     "metadata": {},
     "output_type": "execute_result"
    }
   ],
   "source": [
    "a[('GS200', 'GS200_current_source')].activator.status"
   ]
  },
  {
   "cell_type": "code",
   "execution_count": 8,
   "id": "c29075fc-9ebf-4ad6-b824-179ef35bcd96",
   "metadata": {},
   "outputs": [
    {
     "data": {
      "text/plain": [
       "<EdgeStatus.ACTIVE_ELECTRICAL_CONNECTION: 'active_electrical_connection'>"
      ]
     },
     "execution_count": 8,
     "metadata": {},
     "output_type": "execute_result"
    }
   ],
   "source": [
    "a[('GS200', 'GS200_voltage_source')].activator.status"
   ]
  },
  {
   "cell_type": "code",
   "execution_count": 9,
   "id": "14a3d70e-7fba-4ab1-b085-625d956f766a",
   "metadata": {},
   "outputs": [
    {
     "data": {
      "text/plain": [
       "<NodeStatus.ACTIVE: 'active'>"
      ]
     },
     "execution_count": 9,
     "metadata": {},
     "output_type": "execute_result"
    }
   ],
   "source": [
    "a[('GS200')].activator.status"
   ]
  },
  {
   "cell_type": "code",
   "execution_count": 10,
   "id": "d3440075-f375-4e37-82f6-7b56cf528933",
   "metadata": {},
   "outputs": [
    {
     "data": {
      "text/plain": [
       "<NodeStatus.ACTIVE: 'active'>"
      ]
     },
     "execution_count": 10,
     "metadata": {},
     "output_type": "execute_result"
    }
   ],
   "source": [
    "a[('GS200_voltage_source')].activator.status"
   ]
  },
  {
   "cell_type": "code",
   "execution_count": 11,
   "id": "52318df2-1269-41e0-995d-394e92b79e9f",
   "metadata": {},
   "outputs": [
    {
     "data": {
      "text/plain": [
       "<NodeStatus.INACTIVE: 'inactive'>"
      ]
     },
     "execution_count": 11,
     "metadata": {},
     "output_type": "execute_result"
    }
   ],
   "source": [
    "a[('GS200_current_source')].activator.status"
   ]
  },
  {
   "cell_type": "markdown",
   "id": "4ba002f2-dfb7-48b9-baa2-16a4394d6ed8",
   "metadata": {},
   "source": [
    "And we can see that the status of the repective edges/nodes matches this."
   ]
  },
  {
   "cell_type": "markdown",
   "id": "087f8279-6525-404d-a77f-903674e3419a",
   "metadata": {},
   "source": [
    "Switching to current mode we can see that things have switched"
   ]
  },
  {
   "cell_type": "code",
   "execution_count": 12,
   "id": "dfcbdb3e-1198-4d48-9087-2c33c42d3e99",
   "metadata": {},
   "outputs": [],
   "source": [
    "gs200.source_mode(\"CURR\")"
   ]
  },
  {
   "cell_type": "code",
   "execution_count": 13,
   "id": "2b3823b5-3bc9-4a0a-9243-572b3eb4ce8d",
   "metadata": {},
   "outputs": [
    {
     "data": {
      "text/plain": [
       "<EdgeStatus.ACTIVE_ELECTRICAL_CONNECTION: 'active_electrical_connection'>"
      ]
     },
     "execution_count": 13,
     "metadata": {},
     "output_type": "execute_result"
    }
   ],
   "source": [
    "a[('GS200', 'GS200_current_source')].activator.status"
   ]
  },
  {
   "cell_type": "code",
   "execution_count": 14,
   "id": "99d1f076-22a2-4aa0-af36-ced31ae512a9",
   "metadata": {},
   "outputs": [
    {
     "data": {
      "text/plain": [
       "<EdgeStatus.INACTIVE_ELECTRICAL_CONNECTION: 'inactive_electrical_connection'>"
      ]
     },
     "execution_count": 14,
     "metadata": {},
     "output_type": "execute_result"
    }
   ],
   "source": [
    "a[('GS200', 'GS200_voltage_source')].activator.status"
   ]
  },
  {
   "cell_type": "code",
   "execution_count": 15,
   "id": "529b7281-314a-40d0-83f0-c11b4d46f792",
   "metadata": {},
   "outputs": [
    {
     "data": {
      "text/plain": [
       "<NodeStatus.ACTIVE: 'active'>"
      ]
     },
     "execution_count": 15,
     "metadata": {},
     "output_type": "execute_result"
    }
   ],
   "source": [
    "a[('GS200')].activator.status"
   ]
  },
  {
   "cell_type": "code",
   "execution_count": 16,
   "id": "6e8ca325-4307-4ae3-93af-cdfe473dde88",
   "metadata": {},
   "outputs": [
    {
     "data": {
      "text/plain": [
       "<NodeStatus.ACTIVE: 'active'>"
      ]
     },
     "execution_count": 16,
     "metadata": {},
     "output_type": "execute_result"
    }
   ],
   "source": [
    "a[('GS200_current_source')].activator.status"
   ]
  },
  {
   "cell_type": "code",
   "execution_count": 17,
   "id": "5259376d-3519-4c0b-a959-f4b1d867bec0",
   "metadata": {},
   "outputs": [
    {
     "data": {
      "text/plain": [
       "<EdgeStatus.INACTIVE_ELECTRICAL_CONNECTION: 'inactive_electrical_connection'>"
      ]
     },
     "execution_count": 17,
     "metadata": {},
     "output_type": "execute_result"
    }
   ],
   "source": [
    "a[('GS200', 'GS200_voltage_source')].activator.status"
   ]
  },
  {
   "cell_type": "code",
   "execution_count": 18,
   "id": "ce138610-912f-4b2e-9c90-bd9ef638d269",
   "metadata": {},
   "outputs": [
    {
     "data": {
      "text/plain": [
       "<NodeStatus.INACTIVE: 'inactive'>"
      ]
     },
     "execution_count": 18,
     "metadata": {},
     "output_type": "execute_result"
    }
   ],
   "source": [
    "a[('GS200_voltage_source')].activator.status"
   ]
  },
  {
   "cell_type": "code",
   "execution_count": 19,
   "id": "fbdff71b-eeb8-44a4-8d54-4496df919624",
   "metadata": {},
   "outputs": [
    {
     "name": "stdout",
     "output_type": "stream",
     "text": [
      "adding node GS200\n",
      "adding node GS200_program\n",
      "adding node GS200_current_source\n",
      "adding node GS200_current_source_measure\n",
      "adding node GS200_voltage_source\n",
      "adding node GS200_voltage_source_measure\n",
      "adding CustomNode(data={'id': 'GS200_container'}, position={})\n",
      "adding CustomNode(data={'id': 'GS200_container'}, position={})\n",
      "adding CustomNode(data={'id': 'GS200_container'}, position={})\n",
      "adding CustomNode(data={'id': 'GS200_container'}, position={})\n",
      "adding CustomNode(data={'id': 'GS200_container'}, position={})\n",
      "adding CustomNode(data={'id': 'GS200_container'}, position={})\n"
     ]
    },
    {
     "data": {
      "application/vnd.jupyter.widget-view+json": {
       "model_id": "134c3126f02949e8aac0c583236b6f4e",
       "version_major": 2,
       "version_minor": 0
      },
      "text/plain": [
       "HBox(children=(CytoscapeWidget(cytoscape_layout={'name': 'cola', 'avoidOverlap': True, 'maxSimulationTime': 40…"
      ]
     },
     "metadata": {},
     "output_type": "display_data"
    }
   ],
   "source": [
    "draw(gs200.instrument_graph)"
   ]
  },
  {
   "cell_type": "code",
   "execution_count": 20,
   "id": "b1d50088-e6de-4009-b035-61f0f6579fd1",
   "metadata": {},
   "outputs": [
    {
     "name": "stdout",
     "output_type": "stream",
     "text": [
      "adding node GS200\n",
      "adding node GS200_program\n",
      "adding node GS200_current_source\n",
      "adding node GS200_current_source_measure\n",
      "adding node GS200_voltage_source\n",
      "adding node GS200_voltage_source_measure\n"
     ]
    },
    {
     "data": {
      "text/plain": [
       "<GS200: GS200>"
      ]
     },
     "execution_count": 20,
     "metadata": {},
     "output_type": "execute_result"
    }
   ],
   "source": [
    "gs200.instrument_graph['GS200']"
   ]
  },
  {
   "cell_type": "code",
   "execution_count": 21,
   "id": "dd847d65-c00e-4edd-90bc-197586e6f528",
   "metadata": {},
   "outputs": [
    {
     "name": "stdout",
     "output_type": "stream",
     "text": [
      "adding node GS200\n",
      "adding node GS200_program\n",
      "adding node GS200_current_source\n",
      "adding node GS200_current_source_measure\n",
      "adding node GS200_voltage_source\n",
      "adding node GS200_voltage_source_measure\n"
     ]
    }
   ],
   "source": [
    "mygraph = gs200.instrument_graph._graph"
   ]
  },
  {
   "cell_type": "code",
   "execution_count": 22,
   "id": "0681f368-c875-4a4b-b6dc-52a17803a0f8",
   "metadata": {},
   "outputs": [],
   "source": [
    "def filter_node(nodeid: str) -> bool:\n",
    "    return mygraph.nodes[nodeid][\"value\"].activator.status == NodeStatus.ACTIVE"
   ]
  },
  {
   "cell_type": "code",
   "execution_count": 23,
   "id": "5724570f-4ae7-48de-a061-b6f30be9e663",
   "metadata": {},
   "outputs": [
    {
     "name": "stdout",
     "output_type": "stream",
     "text": [
      "adding node GS200\n",
      "adding node GS200_program\n",
      "adding node GS200_current_source\n",
      "adding node GS200_current_source_measure\n",
      "adding node GS200_voltage_source\n",
      "adding node GS200_voltage_source_measure\n"
     ]
    }
   ],
   "source": [
    "a = nx.subgraph_view(gs200.instrument_graph._graph, filter_node=filter_node)"
   ]
  },
  {
   "cell_type": "code",
   "execution_count": 24,
   "id": "154dec67-04c1-4e3d-976b-514f283aa0ea",
   "metadata": {},
   "outputs": [],
   "source": [
    "node_id = \"GS200\""
   ]
  },
  {
   "cell_type": "code",
   "execution_count": 25,
   "id": "4beba96b-59fb-4aac-91ee-1731fbaa3230",
   "metadata": {},
   "outputs": [],
   "source": [
    "edges = nx.breadth_first_search.bfs_edges(a, node_id)"
   ]
  },
  {
   "cell_type": "code",
   "execution_count": 26,
   "id": "941a0822-da19-4600-8e84-ca83fc5aa30f",
   "metadata": {},
   "outputs": [
    {
     "data": {
      "text/plain": [
       "['GS200',\n",
       " 'GS200_program',\n",
       " 'GS200_current_source',\n",
       " 'GS200_current_source_measure']"
      ]
     },
     "execution_count": 26,
     "metadata": {},
     "output_type": "execute_result"
    }
   ],
   "source": [
    "list(itertools.chain([node_id], map(lambda edge: edge[1], edges)))"
   ]
  },
  {
   "cell_type": "code",
   "execution_count": 27,
   "id": "ddf41f3f-b51e-4a67-87b2-2b5bfa2c9123",
   "metadata": {},
   "outputs": [
    {
     "name": "stdout",
     "output_type": "stream",
     "text": [
      "adding node GS200\n",
      "adding node GS200_program\n",
      "adding node GS200_current_source\n",
      "adding node GS200_current_source_measure\n",
      "adding node GS200_voltage_source\n",
      "adding node GS200_voltage_source_measure\n"
     ]
    },
    {
     "data": {
      "text/plain": [
       "['GS200',\n",
       " 'GS200_program',\n",
       " 'GS200_current_source',\n",
       " 'GS200_current_source_measure']"
      ]
     },
     "execution_count": 27,
     "metadata": {},
     "output_type": "execute_result"
    }
   ],
   "source": [
    "list(gs200.activator.upstream_nodes(gs200.instrument_graph))"
   ]
  },
  {
   "cell_type": "markdown",
   "id": "cc8c957c-4470-41d1-8ad4-f3197c96775a",
   "metadata": {},
   "source": [
    "## Implementation\n",
    "\n",
    "### General implementation\n",
    "A node is a class that implements the following interface. This means that an InsturmentModule in it self is a node\n",
    "```python\n",
    "class Node(Protocol):\n",
    "\n",
    "    parameters: Dict[str, _BaseParameter]\n",
    "    instrument_modules: Dict[str, InstrumentModule]\n",
    "\n",
    "    @property\n",
    "    def short_name(self) -> str:\n",
    "        \"\"\"Short name of the instrument\"\"\"\n",
    "        pass\n",
    "\n",
    "    @property\n",
    "    def full_name(self) -> str:\n",
    "        \"\"\"Unique name of the Port with elements separated by .\n",
    "        Equivalent to parent.name + . + self.short_name\n",
    "        \"\"\"\n",
    "        pass\n",
    "\n",
    "    @property\n",
    "    def activator(self) -> NodeActivator:\n",
    "        ...class Node(Protocol):\n",
    "\n",
    "    parameters: Dict[str, _BaseParameter]\n",
    "    instrument_modules: Dict[str, InstrumentModule]\n",
    "\n",
    "    @property\n",
    "    def short_name(self) -> str:\n",
    "        \"\"\"Short name of the instrument\"\"\"\n",
    "        pass\n",
    "\n",
    "    @property\n",
    "    def full_name(self) -> str:\n",
    "        \"\"\"Unique name of the Port with elements separated by .\n",
    "        Equivalent to parent.name + . + self.short_name\n",
    "        \"\"\"\n",
    "        pass\n",
    "\n",
    "    @property\n",
    "    def activator(self) -> NodeActivator:\n",
    "        ...\n",
    "\n",
    "```\n",
    "\n",
    "Where the Activator implements the following protocol. (This currently contains the logic from QChar nodes) \n",
    "With a few changes. Status is an Enum (so it can contain more values than just off and on) It is possible to query the status\n",
    "\n",
    "```python\n",
    "class NodeActivator(abc.ABC):\n",
    "    def __init__(self, *, node: Node):\n",
    "        self._node = node\n",
    "        self._status = NodeStatus.INACTIVE\n",
    "\n",
    "    @property\n",
    "    @abc.abstractmethod\n",
    "    def parameters(self) -> Iterable[Parameter]:\n",
    "        pass\n",
    "\n",
    "    def add_source(self, source: Node) -> None:\n",
    "        _LOG.info(f\"Adding Source {source.full_name} to Node: {self.node.full_name}\")\n",
    "\n",
    "    def remove_source(self, source: Node) -> None:\n",
    "        _LOG.info(\n",
    "            f\"Removing Source {source.full_name} from Node: {self.node.full_name}\"\n",
    "        )\n",
    "\n",
    "    def activate(self) -> None:\n",
    "        _LOG.info(f\"Activating Node: {self.node.full_name}\")\n",
    "\n",
    "    def deactivate(self) -> None:\n",
    "        _LOG.info(f\"Deactivating Node: {self.node.full_name}\")\n",
    "\n",
    "    @property\n",
    "    def node(self) -> Node:\n",
    "        return self._node\n",
    "\n",
    "    @abc.abstractmethod\n",
    "    def upstream_nodes(self) -> Iterable[Node]:\n",
    "        # todo naming\n",
    "        pass\n",
    "\n",
    "    @abc.abstractmethod\n",
    "    def connection_attributes(self) -> Dict[str, Dict[NodeId, ConnectionAttributeType]]:\n",
    "        pass\n",
    "\n",
    "    @property\n",
    "    def status(self) -> NodeStatus:\n",
    "        return self._statusclass NodeActivator(abc.ABC):\n",
    "    def __init__(self, *, node: Node):\n",
    "        self._node = node\n",
    "        self._status = NodeStatus.INACTIVE\n",
    "\n",
    "    @property\n",
    "    @abc.abstractmethod\n",
    "    def parameters(self) -> Iterable[Parameter]:\n",
    "        pass\n",
    "\n",
    "    def add_source(self, source: Node) -> None:\n",
    "        _LOG.info(f\"Adding Source {source.full_name} to Node: {self.node.full_name}\")\n",
    "\n",
    "    def remove_source(self, source: Node) -> None:\n",
    "        _LOG.info(\n",
    "            f\"Removing Source {source.full_name} from Node: {self.node.full_name}\"\n",
    "        )\n",
    "\n",
    "    def activate(self) -> None:\n",
    "        _LOG.info(f\"Activating Node: {self.node.full_name}\")\n",
    "\n",
    "    def deactivate(self) -> None:\n",
    "        _LOG.info(f\"Deactivating Node: {self.node.full_name}\")\n",
    "\n",
    "    @property\n",
    "    def node(self) -> Node:\n",
    "        return self._node\n",
    "\n",
    "    @abc.abstractmethod\n",
    "    def upstream_nodes(self) -> Iterable[Node]:\n",
    "        # todo naming\n",
    "        pass\n",
    "\n",
    "    @abc.abstractmethod\n",
    "    def connection_attributes(self) -> Dict[str, Dict[NodeId, ConnectionAttributeType]]:\n",
    "        pass\n",
    "\n",
    "    @property\n",
    "    def status(self) -> NodeStatus:\n",
    "        return self._status\n",
    "```\n",
    "\n",
    "\n",
    "This means that it is possible to generically implement this interface for all instruments with a node for each instrument module.\n",
    "\n",
    "\n",
    "\n",
    "\n"
   ]
  },
  {
   "cell_type": "markdown",
   "id": "38e06f71-e885-4ad4-8909-e2ac526267a4",
   "metadata": {},
   "source": [
    "### Specific implementation\n",
    "\n",
    "\n",
    "To implement the necessary logic the GS200 driver has its own implementation of `_make_instrument_graph`\n",
    "Which importantly uses a activator that has a mode that depends on the state of a given parameter \n",
    "\n",
    "```python\n",
    "    def _make_instrument_graph(self) -> \"StationGraph\":\n",
    "        subgraph_primary_node_names = []\n",
    "        self_graph = MutableStationGraph()\n",
    "        self_graph[self.full_name] = self\n",
    "        subgraphs = [self_graph]\n",
    "        for submodule in self.instrument_modules.values():\n",
    "            subgraph = submodule._make_graph()\n",
    "            subgraph_primary_node_names.append(submodule.full_name)\n",
    "            subgraphs.append(subgraph)\n",
    "\n",
    "        graph = MutableStationGraph.compose(*subgraphs)\n",
    "\n",
    "        for name in subgraph_primary_node_names:\n",
    "            if \"current_source\" in name:\n",
    "                activator = SourceEdgeActivator(\n",
    "                    status_parameter=self.source_mode, active_state=\"CURR\"\n",
    "                )\n",
    "            elif \"voltage_source\" in name:\n",
    "                activator = SourceEdgeActivator(\n",
    "                    status_parameter=self.source_mode, active_state=\"VOLT\"\n",
    "                )\n",
    "            else:\n",
    "                activator = BasicEdgeActivator(edge_status=EdgeStatus.PART_OF)\n",
    "\n",
    "            graph[self.full_name, name] = Edge(activator=activator)\n",
    "\n",
    "        return graph.as_station_graph()\n",
    "```\n",
    "\n",
    "And by using a custom activator on the current and voltage source modules which also reads its status from a parameter.\n",
    "\n",
    "\n",
    "```python\n",
    "        self._activator: NodeActivator = SourceModuleActivator(\n",
    "            node=self,\n",
    "            parent=self.parent,\n",
    "            active_state=\"VOLT\",\n",
    "            inactive_state=\"CURR\",\n",
    "            status_parameter=self.root_instrument.source_mode,\n",
    "        )\n",
    "        \n",
    " ```python\n",
    "class NodeActivator(abc.ABC):\n",
    "    def __init__(self, *, node: Node):\n",
    "        self._node = node\n",
    "        self._status = NodeStatus.INACTIVE\n",
    "\n",
    "    @property\n",
    "    @abc.abstractmethod\n",
    "    def parameters(self) -> Iterable[Parameter]:\n",
    "        pass\n",
    "\n",
    "    def add_source(self, source: Node) -> None:\n",
    "        _LOG.info(f\"Adding Source {source.full_name} to Node: {self.node.full_name}\")\n",
    "\n",
    "    def remove_source(self, source: Node) -> None:\n",
    "        _LOG.info(\n",
    "            f\"Removing Source {source.full_name} from Node: {self.node.full_name}\"\n",
    "        )\n",
    "\n",
    "    def activate(self) -> None:\n",
    "        _LOG.info(f\"Activating Node: {self.node.full_name}\")\n",
    "\n",
    "    def deactivate(self) -> None:\n",
    "        _LOG.info(f\"Deactivating Node: {self.node.full_name}\")\n",
    "\n",
    "    @property\n",
    "    def node(self) -> Node:\n",
    "        return self._node\n",
    "\n",
    "    @abc.abstractmethod\n",
    "    def upstream_nodes(self) -> Iterable[Node]:\n",
    "        # todo naming\n",
    "        pass\n",
    "\n",
    "    @abc.abstractmethod\n",
    "    def connection_attributes(self) -> Dict[str, Dict[NodeId, ConnectionAttributeType]]:\n",
    "        pass\n",
    "\n",
    "    @property\n",
    "    def status(self) -> NodeStatus:\n",
    "        return self._statusclass NodeActivator(abc.ABC):\n",
    "    def __init__(self, *, node: Node):\n",
    "        self._node = node\n",
    "        self._status = NodeStatus.INACTIVE\n",
    "\n",
    "    @property\n",
    "    @abc.abstractmethod\n",
    "    def parameters(self) -> Iterable[Parameter]:\n",
    "        pass\n",
    "\n",
    "    def add_source(self, source: Node) -> None:\n",
    "        _LOG.info(f\"Adding Source {source.full_name} to Node: {self.node.full_name}\")\n",
    "\n",
    "    def remove_source(self, source: Node) -> None:\n",
    "        _LOG.info(\n",
    "            f\"Removing Source {source.full_name} from Node: {self.node.full_name}\"\n",
    "        )\n",
    "\n",
    "    def activate(self) -> None:\n",
    "        _LOG.info(f\"Activating Node: {self.node.full_name}\")\n",
    "\n",
    "    def deactivate(self) -> None:\n",
    "        _LOG.info(f\"Deactivating Node: {self.node.full_name}\")\n",
    "\n",
    "    @property\n",
    "    def node(self) -> Node:\n",
    "        return self._node\n",
    "\n",
    "    @abc.abstractmethod\n",
    "    def upstream_nodes(self) -> Iterable[Node]:\n",
    "        # todo naming\n",
    "        pass\n",
    "\n",
    "    @abc.abstractmethod\n",
    "    def connection_attributes(self) -> Dict[str, Dict[NodeId, ConnectionAttributeType]]:\n",
    "        pass\n",
    "\n",
    "    @property\n",
    "    def status(self) -> NodeStatus:\n",
    "        return self._status\n",
    "```"
   ]
  },
  {
   "cell_type": "markdown",
   "id": "86bcf84f-ef76-420b-9a1d-da362d9e3391",
   "metadata": {},
   "source": [
    "## Missing / Open Questions at the moment.\n",
    "\n",
    "\n",
    "1. How do we enable/disable instrument modules when switching modes. \n",
    "    1. Remove the module/ Move to a private module and perhaps replace with empty dummy module. This modifies the state of the instrument, makes typechecking less powerful.\n",
    "       Module is not shapshotted since its not there anymore\n",
    "    2. Let parameters get/set check that the module they are bound to is not marked as inactivate. This would require extending the parameter to check status of its bound instrument when getting/setting.\n",
    "       Using this implementation the . \n",
    "       \n",
    "1. It would probably also be beneficial to be able to invalidate the cache of all parameters in a instrument module (since its not clear that switching from current to voltage and back to current mode would leave all current related parameters as they were)\n",
    "\n",
    "1. How should parameter forwarding work. Currently the interface suggests that you can do list(gs200.activator.upstream_nodes())[0] to get the source / current module depending on mode. This is less than ideal\n",
    "\n",
    "\n",
    "1. Visualization.\n",
    "    1. Style is obviously sub optimal\n",
    "    2. Currently The graph is directly linked to a the status of the relevant mode parameters as shown above. However the graph when drawn is not interactive (need to call draw again)\n",
    "    \n",
    "\n",
    "\n"
   ]
  },
  {
   "cell_type": "code",
   "execution_count": null,
   "id": "c847d6a7-e381-4d29-a177-ef06eb535eb5",
   "metadata": {},
   "outputs": [],
   "source": []
  }
 ],
 "metadata": {
  "kernelspec": {
   "display_name": "Python 3 (ipykernel)",
   "language": "python",
   "name": "python3"
  },
  "language_info": {
   "codemirror_mode": {
    "name": "ipython",
    "version": 3
   },
   "file_extension": ".py",
   "mimetype": "text/x-python",
   "name": "python",
   "nbconvert_exporter": "python",
   "pygments_lexer": "ipython3",
   "version": "3.8.12"
  },
  "widgets": {
   "application/vnd.jupyter.widget-state+json": {
    "state": {
     "011edac62367469fba2f7f2d4043efd6": {
      "model_module": "jupyter-cytoscape",
      "model_module_version": "^1.3.3",
      "model_name": "EdgeModel",
      "state": {
       "_model_module_version": "^1.3.3",
       "_view_module_version": "^1.3.3",
       "classes": "EdgeStatus_INACTIVE_ELECTRICAL_CONNECTION directed ",
       "data": {
        "id": "ec99fc71-b4bd-4182-9cdf-7b1dcda9bb34",
        "source": "GS200",
        "target": "GS200_current_source"
       },
       "selectable": false
      }
     },
     "01aafeb1aad64d4cb73538708b6fc115": {
      "model_module": "@jupyter-widgets/base",
      "model_module_version": "1.2.0",
      "model_name": "LayoutModel",
      "state": {}
     },
     "02427e3f63a7415c834908465d6b8437": {
      "model_module": "jupyter-cytoscape",
      "model_module_version": "^1.3.3",
      "model_name": "CytoscapeModel",
      "state": {
       "_interaction_handlers": {},
       "_model_module_version": "^1.3.3",
       "_view_module_version": "^1.3.3",
       "auto_ungrabify": false,
       "autolock": false,
       "cytoscape_layout": {
        "avoidOverlap": true,
        "maxSimulationTime": 4000,
        "name": "cola"
       },
       "cytoscape_style": [
        {
         "css": {
          "background-color": "#11479e",
          "color": "white",
          "content": "data(id)",
          "text-outline-color": "#11479e",
          "text-outline-width": 2,
          "text-valign": "center"
         },
         "selector": "node"
        },
        {
         "css": {
          "background-color": "red"
         },
         "selector": "node.NodeStatus_INACTIVE"
        },
        {
         "css": {
          "background-opacity": 0.333,
          "content": ""
         },
         "selector": "node:parent"
        },
        {
         "css": {
          "background-color": "black",
          "line-color": "black",
          "source-arrow-color": "black",
          "target-arrow-color": "black",
          "text-outline-color": "black"
         },
         "selector": ":selected"
        },
        {
         "selector": "edge",
         "style": {
          "line-color": "#9dbaea",
          "width": 4
         }
        },
        {
         "selector": "edge.EdgeStatus_ACTIVE_ELECTRICAL_CONNECTION",
         "style": {
          "curve-style": "haystack",
          "line-color": "#9dbaea",
          "target-arrow-color": "#9dbaea",
          "target-arrow-shape": "triangle"
         }
        },
        {
         "selector": "edge.EdgeStatus_INACTIVE_ELECTRICAL_CONNECTION",
         "style": {
          "curve-style": "haystack",
          "line-color": "red",
          "target-arrow-color": "red",
          "target-arrow-shape": "triangle"
         }
        },
        {
         "selector": "edge.EdgeStatus_PART_OF",
         "style": {
          "curve-style": "haystack",
          "line-color": "green",
          "target-arrow-color": "green",
          "target-arrow-shape": "triangle"
         }
        },
        {
         "selector": "edge.multiple_edges",
         "style": {
          "curve-style": "haystack"
         }
        }
       ],
       "desktop_tap_threshold": 4,
       "graph": "IPY_MODEL_d9ae140b81824d6cad11e253a04bc8e3",
       "headless": false,
       "hide_edges_on_viewport": false,
       "layout": "IPY_MODEL_e8e8e985f32f4055a806bdbf8e61d9bb",
       "max_zoom": 5,
       "min_zoom": 0.2,
       "motion_blur": false,
       "motion_blur_opacity": 0.2,
       "panning_enabled": true,
       "pixel_ratio": "auto",
       "rendered_position": {
        "renderedPosition": {
         "x": 100,
         "y": 100
        }
       },
       "selection_type": "single",
       "style_enabled": true,
       "texture_on_viewport": false,
       "tooltip_source": "tooltip",
       "touch_tap_threshold": 8,
       "user_panning_enabled": true,
       "user_zooming_enabled": true,
       "wheel_sensitivity": 0.1,
       "zoom": 2,
       "zooming_enabled": true
      }
     },
     "045bb55c8c2845cbbf64f8ad0827ea31": {
      "model_module": "jupyter-cytoscape",
      "model_module_version": "^1.3.3",
      "model_name": "CytoscapeModel",
      "state": {
       "_interaction_handlers": {},
       "_model_module_version": "^1.3.3",
       "_view_module_version": "^1.3.3",
       "auto_ungrabify": false,
       "autolock": false,
       "cytoscape_layout": {
        "avoidOverlap": true,
        "maxSimulationTime": 4000,
        "name": "cola"
       },
       "cytoscape_style": [
        {
         "css": {
          "background-color": "#11479e",
          "color": "white",
          "content": "data(id)",
          "text-outline-color": "#11479e",
          "text-outline-width": 2,
          "text-valign": "center"
         },
         "selector": "node"
        },
        {
         "css": {
          "background-color": "red"
         },
         "selector": "node.NodeStatus_INACTIVE"
        },
        {
         "css": {
          "background-opacity": 0.333,
          "content": ""
         },
         "selector": "node:parent"
        },
        {
         "css": {
          "background-color": "black",
          "line-color": "black",
          "source-arrow-color": "black",
          "target-arrow-color": "black",
          "text-outline-color": "black"
         },
         "selector": ":selected"
        },
        {
         "selector": "edge",
         "style": {
          "line-color": "#9dbaea",
          "width": 4
         }
        },
        {
         "selector": "edge.EdgeStatus_ACTIVE_ELECTRICAL_CONNECTION",
         "style": {
          "curve-style": "haystack",
          "line-color": "#9dbaea",
          "target-arrow-color": "#9dbaea",
          "target-arrow-shape": "triangle"
         }
        },
        {
         "selector": "edge.EdgeStatus_INACTIVE_ELECTRICAL_CONNECTION",
         "style": {
          "curve-style": "haystack",
          "line-color": "red",
          "target-arrow-color": "red",
          "target-arrow-shape": "triangle"
         }
        },
        {
         "selector": "edge.EdgeStatus_PART_OF",
         "style": {
          "curve-style": "haystack",
          "line-color": "green",
          "target-arrow-color": "green",
          "target-arrow-shape": "triangle"
         }
        },
        {
         "selector": "edge.multiple_edges",
         "style": {
          "curve-style": "haystack"
         }
        }
       ],
       "desktop_tap_threshold": 4,
       "graph": "IPY_MODEL_46a88a6e3e254cd586fb665e3fdac970",
       "headless": false,
       "hide_edges_on_viewport": false,
       "layout": "IPY_MODEL_bb779cb378ef46fe80b27458fea5c5a6",
       "max_zoom": 5,
       "min_zoom": 0.2,
       "motion_blur": false,
       "motion_blur_opacity": 0.2,
       "panning_enabled": true,
       "pixel_ratio": "auto",
       "rendered_position": {
        "renderedPosition": {
         "x": 100,
         "y": 100
        }
       },
       "selection_type": "single",
       "style_enabled": true,
       "texture_on_viewport": false,
       "tooltip_source": "tooltip",
       "touch_tap_threshold": 8,
       "user_panning_enabled": true,
       "user_zooming_enabled": true,
       "wheel_sensitivity": 0.1,
       "zoom": 2,
       "zooming_enabled": true
      }
     },
     "0758720540054867b2e7202011164789": {
      "model_module": "jupyter-cytoscape",
      "model_module_version": "^1.3.3",
      "model_name": "EdgeModel",
      "state": {
       "_model_module_version": "^1.3.3",
       "_view_module_version": "^1.3.3",
       "classes": "EdgeStatus_PART_OF directed ",
       "data": {
        "id": "95269dab-23e0-41ea-a92b-c466fd2c9c90",
        "source": "GS200",
        "target": "GS200_program"
       },
       "selectable": false
      }
     },
     "091b14699ef146aa82e84c8f2b682f88": {
      "model_module": "jupyter-cytoscape",
      "model_module_version": "^1.3.3",
      "model_name": "GraphModel",
      "state": {
       "_adj": {},
       "_model_module_version": "^1.3.3",
       "_view_module": "jupyter-cytoscape",
       "_view_module_version": "^1.3.3"
      }
     },
     "0a6e3d9e8616464b9bfb08c60319111e": {
      "model_module": "jupyter-cytoscape",
      "model_module_version": "^1.3.3",
      "model_name": "NodeModel",
      "state": {
       "_model_module_version": "^1.3.3",
       "_view_module_version": "^1.3.3",
       "classes": "NodeStatus_ACTIVE",
       "data": {
        "id": "GS200_voltage_source_measure",
        "parent": "GS200_container"
       },
       "grabbable": true,
       "grabbed": false,
       "position": {
        "x": 1112.4354636198439,
        "y": 379.9624772728666
       },
       "selectable": false
      }
     },
     "0d5ebb9979cc4461b10a3ff0d64d9868": {
      "model_module": "jupyter-cytoscape",
      "model_module_version": "^1.3.3",
      "model_name": "NodeModel",
      "state": {
       "_model_module_version": "^1.3.3",
       "_view_module_version": "^1.3.3",
       "classes": "NodeStatus_ACTIVE",
       "data": {
        "id": "GS200_current_source_measure",
        "parent": "GS200_container"
       },
       "grabbable": true,
       "grabbed": false,
       "position": {
        "x": 1053.5,
        "y": 200
       },
       "selectable": false
      }
     },
     "0fd020bded4f4fd7842b717282f7c692": {
      "model_module": "jupyter-cytoscape",
      "model_module_version": "^1.3.3",
      "model_name": "NodeModel",
      "state": {
       "_model_module_version": "^1.3.3",
       "_view_module_version": "^1.3.3",
       "classes": "NodeStatus_ACTIVE",
       "data": {
        "id": "GS200_voltage_source_measure",
        "parent": "GS200_container"
       },
       "grabbable": true,
       "grabbed": false,
       "position": {
        "x": 1053.5,
        "y": 200
       },
       "selectable": false
      }
     },
     "11af336112344c06b01fa5e5a6b0c2ef": {
      "model_module": "@jupyter-widgets/controls",
      "model_module_version": "1.5.0",
      "model_name": "HBoxModel",
      "state": {
       "children": [
        "IPY_MODEL_b8cd1b8497114543a99e8a961f7c0012",
        "IPY_MODEL_4644c3a8a82d44f0ae31ae23ad2be5ed"
       ],
       "layout": "IPY_MODEL_75762d82f4814ab2be05775f5a0b7fe6"
      }
     },
     "11b974db67b24102bf081bdb0d753775": {
      "model_module": "jupyter-cytoscape",
      "model_module_version": "^1.3.3",
      "model_name": "EdgeModel",
      "state": {
       "_model_module_version": "^1.3.3",
       "_view_module_version": "^1.3.3",
       "classes": "EdgeStatus_ACTIVE_ELECTRICAL_CONNECTION directed ",
       "data": {
        "id": "d66060b1-7297-4370-bcea-7d3ef1fd0b8e",
        "source": "GS200",
        "target": "GS200_current_source"
       },
       "selectable": false
      }
     },
     "12a9e7e572e94af18f61e309588f21bd": {
      "model_module": "jupyter-cytoscape",
      "model_module_version": "^1.3.3",
      "model_name": "NodeModel",
      "state": {
       "_model_module_version": "^1.3.3",
       "_view_module_version": "^1.3.3",
       "classes": "NodeStatus_ACTIVE",
       "data": {
        "id": "GS200_program",
        "parent": "GS200_container"
       },
       "grabbable": true,
       "grabbed": false,
       "position": {
        "x": 383.3917636864958,
        "y": 169.88492285840235
       },
       "selectable": false
      }
     },
     "134c3126f02949e8aac0c583236b6f4e": {
      "model_module": "@jupyter-widgets/controls",
      "model_module_version": "1.5.0",
      "model_name": "HBoxModel",
      "state": {
       "children": [
        "IPY_MODEL_39cb49c2628f4de2b7dd328c04a15212"
       ],
       "layout": "IPY_MODEL_27ec6382809947d5b311bcf6daec5b3f"
      }
     },
     "13a6bc2dea9640bdb150830094dd0ef8": {
      "model_module": "jupyter-cytoscape",
      "model_module_version": "^1.3.3",
      "model_name": "NodeModel",
      "state": {
       "_model_module_version": "^1.3.3",
       "_view_module_version": "^1.3.3",
       "data": {
        "id": "GS200_container"
       },
       "grabbable": true,
       "grabbed": false,
       "position": {
        "x": 573.608779570925,
        "y": 194.31271482229602
       },
       "selectable": false
      }
     },
     "164f93bb69f84d9cb6a3c81df9d5c302": {
      "model_module": "jupyter-cytoscape",
      "model_module_version": "^1.3.3",
      "model_name": "NodeModel",
      "state": {
       "_model_module_version": "^1.3.3",
       "_view_module_version": "^1.3.3",
       "data": {
        "id": "GS200_container"
       },
       "grabbable": true,
       "grabbed": false,
       "position": {
        "x": 1053.5,
        "y": 200
       },
       "selectable": false
      }
     },
     "171bdd31737444419c29bcdf2139dde5": {
      "model_module": "jupyter-cytoscape",
      "model_module_version": "^1.3.3",
      "model_name": "NodeModel",
      "state": {
       "_model_module_version": "^1.3.3",
       "_view_module_version": "^1.3.3",
       "data": {
        "id": "GS200_container"
       },
       "grabbable": true,
       "grabbed": false,
       "selectable": false
      }
     },
     "1b04435c72b74e10b080c61e31682686": {
      "model_module": "jupyter-cytoscape",
      "model_module_version": "^1.3.3",
      "model_name": "EdgeModel",
      "state": {
       "_model_module_version": "^1.3.3",
       "_view_module_version": "^1.3.3",
       "classes": "EdgeStatus_PART_OF directed ",
       "data": {
        "id": "5d66bff3-7285-49c2-9fbb-b4450e0da700",
        "source": "GS200_current_source",
        "target": "GS200_current_source_measure"
       },
       "selectable": false
      }
     },
     "21423a9f61a14f9dab0eac7e4d3b2dac": {
      "model_module": "@jupyter-widgets/base",
      "model_module_version": "1.2.0",
      "model_name": "LayoutModel",
      "state": {}
     },
     "2642250f96f84fd382d32232b0e8f9ad": {
      "model_module": "jupyter-cytoscape",
      "model_module_version": "^1.3.3",
      "model_name": "NodeModel",
      "state": {
       "_model_module_version": "^1.3.3",
       "_view_module_version": "^1.3.3",
       "classes": "NodeStatus_ACTIVE",
       "data": {
        "id": "GS200",
        "parent": "GS200_container"
       },
       "grabbable": true,
       "grabbed": false,
       "position": {
        "x": 482.8989684778456,
        "y": 169.81453529081438
       },
       "selectable": false
      }
     },
     "27ec6382809947d5b311bcf6daec5b3f": {
      "model_module": "@jupyter-widgets/base",
      "model_module_version": "1.2.0",
      "model_name": "LayoutModel",
      "state": {}
     },
     "28f50b43542d4a04a1958a4e1fd66b49": {
      "model_module": "jupyter-cytoscape",
      "model_module_version": "^1.3.3",
      "model_name": "NodeModel",
      "state": {
       "_model_module_version": "^1.3.3",
       "_view_module_version": "^1.3.3",
       "data": {
        "id": "GS200_container"
       },
       "grabbable": true,
       "grabbed": false,
       "selectable": false
      }
     },
     "2d0cb61527c24aff9716a34de8aed810": {
      "model_module": "jupyter-cytoscape",
      "model_module_version": "^1.3.3",
      "model_name": "NodeModel",
      "state": {
       "_model_module_version": "^1.3.3",
       "_view_module_version": "^1.3.3",
       "classes": "NodeStatus_ACTIVE",
       "data": {
        "id": "GS200_program",
        "parent": "GS200_container"
       },
       "grabbable": true,
       "grabbed": false,
       "position": {
        "x": 1053.5,
        "y": 200
       },
       "selectable": false
      }
     },
     "2dfa02e79a7e4403901c999ec77983b3": {
      "model_module": "jupyter-cytoscape",
      "model_module_version": "^1.3.3",
      "model_name": "NodeModel",
      "state": {
       "_model_module_version": "^1.3.3",
       "_view_module_version": "^1.3.3",
       "data": {
        "id": "GS200_container"
       },
       "grabbable": true,
       "grabbed": false,
       "selectable": false
      }
     },
     "2fac6eeb209d46389bfef10d3b07d0c0": {
      "model_module": "jupyter-cytoscape",
      "model_module_version": "^1.3.3",
      "model_name": "NodeModel",
      "state": {
       "_model_module_version": "^1.3.3",
       "_view_module_version": "^1.3.3",
       "data": {
        "id": "GS200_container"
       },
       "grabbable": true,
       "grabbed": false,
       "position": {
        "x": 527,
        "y": 200
       },
       "selectable": false
      }
     },
     "309d4b821c37438c88f49ac0e654eb93": {
      "model_module": "jupyter-cytoscape",
      "model_module_version": "^1.3.3",
      "model_name": "GraphModel",
      "state": {
       "_adj": {
        "GS200": {},
        "GS200_container": {},
        "GS200_current_source": {},
        "GS200_current_source_measure": {},
        "GS200_program": {},
        "GS200_voltage_source": {},
        "GS200_voltage_source_measure": {}
       },
       "_model_module_version": "^1.3.3",
       "_view_module": "jupyter-cytoscape",
       "_view_module_version": "^1.3.3",
       "edges": [
        "IPY_MODEL_caec0a5aa5c2467db36b45991a6f88aa",
        "IPY_MODEL_cf4331f0c3524659a994023a047be777",
        "IPY_MODEL_a318c8eaa8074a0989c70c9b8354ced2",
        "IPY_MODEL_ef6666be9d3e4f318cea478315e11f81",
        "IPY_MODEL_b3e5a73745514b15ad19be4f9ace8f92"
       ],
       "nodes": [
        "IPY_MODEL_f3e340edc5c14ad596e22f47fe72116b",
        "IPY_MODEL_4e28e9038ef84d41b78f63e8c377a961",
        "IPY_MODEL_c5af3dfb5c34412b832c8fea8fcc3eeb",
        "IPY_MODEL_b06ee45d57e7409091b21afb87b6f2fa",
        "IPY_MODEL_3cfdb16a71074ebeb54ec6028d81b985",
        "IPY_MODEL_4d0b3acbee0d40b297283683ae9f0b99",
        "IPY_MODEL_0a6e3d9e8616464b9bfb08c60319111e"
       ]
      }
     },
     "39cb49c2628f4de2b7dd328c04a15212": {
      "model_module": "jupyter-cytoscape",
      "model_module_version": "^1.3.3",
      "model_name": "CytoscapeModel",
      "state": {
       "_interaction_handlers": {},
       "_model_module_version": "^1.3.3",
       "_view_module_version": "^1.3.3",
       "auto_ungrabify": false,
       "autolock": false,
       "cytoscape_layout": {
        "avoidOverlap": true,
        "maxSimulationTime": 4000,
        "name": "cola"
       },
       "cytoscape_style": [
        {
         "css": {
          "background-color": "#11479e",
          "color": "white",
          "content": "data(id)",
          "text-outline-color": "#11479e",
          "text-outline-width": 2,
          "text-valign": "center"
         },
         "selector": "node"
        },
        {
         "css": {
          "background-color": "red"
         },
         "selector": "node.NodeStatus_INACTIVE"
        },
        {
         "css": {
          "background-opacity": 0.333,
          "content": ""
         },
         "selector": "node:parent"
        },
        {
         "css": {
          "background-color": "black",
          "line-color": "black",
          "source-arrow-color": "black",
          "target-arrow-color": "black",
          "text-outline-color": "black"
         },
         "selector": ":selected"
        },
        {
         "selector": "edge",
         "style": {
          "line-color": "#9dbaea",
          "width": 4
         }
        },
        {
         "selector": "edge.EdgeStatus_ACTIVE_ELECTRICAL_CONNECTION",
         "style": {
          "curve-style": "haystack",
          "line-color": "#9dbaea",
          "target-arrow-color": "#9dbaea",
          "target-arrow-shape": "triangle"
         }
        },
        {
         "selector": "edge.EdgeStatus_INACTIVE_ELECTRICAL_CONNECTION",
         "style": {
          "curve-style": "haystack",
          "line-color": "red",
          "target-arrow-color": "red",
          "target-arrow-shape": "triangle"
         }
        },
        {
         "selector": "edge.EdgeStatus_PART_OF",
         "style": {
          "curve-style": "haystack",
          "line-color": "green",
          "target-arrow-color": "green",
          "target-arrow-shape": "triangle"
         }
        },
        {
         "selector": "edge.multiple_edges",
         "style": {
          "curve-style": "haystack"
         }
        }
       ],
       "desktop_tap_threshold": 4,
       "graph": "IPY_MODEL_4696e042fbbb41a780caa088303bc8ba",
       "headless": false,
       "hide_edges_on_viewport": false,
       "layout": "IPY_MODEL_01aafeb1aad64d4cb73538708b6fc115",
       "max_zoom": 5,
       "min_zoom": 0.2,
       "motion_blur": false,
       "motion_blur_opacity": 0.2,
       "panning_enabled": true,
       "pixel_ratio": "auto",
       "rendered_position": {
        "renderedPosition": {
         "x": 100,
         "y": 100
        }
       },
       "selection_type": "single",
       "style_enabled": true,
       "texture_on_viewport": false,
       "tooltip_source": "tooltip",
       "touch_tap_threshold": 8,
       "user_panning_enabled": true,
       "user_zooming_enabled": true,
       "wheel_sensitivity": 0.1,
       "zoom": 2,
       "zooming_enabled": true
      }
     },
     "3a2e7fd7ac2e40d2b46f822858ef85b6": {
      "model_module": "jupyter-cytoscape",
      "model_module_version": "^1.3.3",
      "model_name": "NodeModel",
      "state": {
       "_model_module_version": "^1.3.3",
       "_view_module_version": "^1.3.3",
       "data": {
        "id": "GS200_container"
       },
       "grabbable": true,
       "grabbed": false,
       "selectable": false
      }
     },
     "3b5cba21302b463ab4f9bf56f7606de6": {
      "model_module": "jupyter-cytoscape",
      "model_module_version": "^1.3.3",
      "model_name": "GraphModel",
      "state": {
       "_adj": {},
       "_model_module_version": "^1.3.3",
       "_view_module": "jupyter-cytoscape",
       "_view_module_version": "^1.3.3"
      }
     },
     "3cfdb16a71074ebeb54ec6028d81b985": {
      "model_module": "jupyter-cytoscape",
      "model_module_version": "^1.3.3",
      "model_name": "NodeModel",
      "state": {
       "_model_module_version": "^1.3.3",
       "_view_module_version": "^1.3.3",
       "classes": "NodeStatus_ACTIVE",
       "data": {
        "id": "GS200_current_source_measure",
        "parent": "GS200_container"
       },
       "grabbable": true,
       "grabbed": false,
       "position": {
        "x": 1143.5186600087302,
        "y": 32.85530329331327
       },
       "selectable": false
      }
     },
     "3e8246eeeb844af69ef9cff4f4d36bdb": {
      "model_module": "jupyter-cytoscape",
      "model_module_version": "^1.3.3",
      "model_name": "NodeModel",
      "state": {
       "_model_module_version": "^1.3.3",
       "_view_module_version": "^1.3.3",
       "data": {
        "id": "GS200_container"
       },
       "grabbable": true,
       "grabbed": false,
       "position": {
        "x": 527,
        "y": 200
       },
       "selectable": false
      }
     },
     "41d785d57d704617a84021bdd8baf058": {
      "model_module": "jupyter-cytoscape",
      "model_module_version": "^1.3.3",
      "model_name": "EdgeModel",
      "state": {
       "_model_module_version": "^1.3.3",
       "_view_module_version": "^1.3.3",
       "classes": "EdgeStatus_ACTIVE_ELECTRICAL_CONNECTION directed ",
       "data": {
        "id": "b8f70884-f66c-4da6-a904-ba50484ed9f6",
        "source": "GS200",
        "target": "GS200_voltage_source"
       },
       "selectable": false
      }
     },
     "4256d55f7c714bb2b0e92ca0287126e6": {
      "model_module": "@jupyter-widgets/controls",
      "model_module_version": "1.5.0",
      "model_name": "HBoxModel",
      "state": {
       "children": [
        "IPY_MODEL_b6e767f8f4964fe8ba4d78d96e9aa055",
        "IPY_MODEL_02427e3f63a7415c834908465d6b8437"
       ],
       "layout": "IPY_MODEL_533faacc9fe54cc68f01a65a3852fe15"
      }
     },
     "42fa1a83e2664e46b20eb20aa0d8f96b": {
      "model_module": "jupyter-cytoscape",
      "model_module_version": "^1.3.3",
      "model_name": "NodeModel",
      "state": {
       "_model_module_version": "^1.3.3",
       "_view_module_version": "^1.3.3",
       "data": {
        "id": "GS200_container"
       },
       "grabbable": true,
       "grabbed": false,
       "selectable": false
      }
     },
     "446f19f768134f16a31c39721a670ecb": {
      "model_module": "jupyter-cytoscape",
      "model_module_version": "^1.3.3",
      "model_name": "NodeModel",
      "state": {
       "_model_module_version": "^1.3.3",
       "_view_module_version": "^1.3.3",
       "data": {
        "id": "GS200_container"
       },
       "grabbable": true,
       "grabbed": false,
       "position": {
        "x": 522.6415507444581,
        "y": 192.5473792493184
       },
       "selectable": false
      }
     },
     "4569ca50502a4b93adbc1949ebfce7d8": {
      "model_module": "jupyter-cytoscape",
      "model_module_version": "^1.3.3",
      "model_name": "NodeModel",
      "state": {
       "_model_module_version": "^1.3.3",
       "_view_module_version": "^1.3.3",
       "classes": "NodeStatus_ACTIVE",
       "data": {
        "id": "GS200_program",
        "parent": "GS200_container"
       },
       "grabbable": true,
       "grabbed": false,
       "position": {
        "x": 527,
        "y": 200
       },
       "selectable": false
      }
     },
     "4644c3a8a82d44f0ae31ae23ad2be5ed": {
      "model_module": "jupyter-cytoscape",
      "model_module_version": "^1.3.3",
      "model_name": "CytoscapeModel",
      "state": {
       "_interaction_handlers": {},
       "_model_module_version": "^1.3.3",
       "_view_module_version": "^1.3.3",
       "auto_ungrabify": false,
       "autolock": false,
       "cytoscape_layout": {
        "avoidOverlap": true,
        "maxSimulationTime": 4000,
        "name": "cola"
       },
       "cytoscape_style": [
        {
         "css": {
          "background-color": "#11479e",
          "color": "white",
          "content": "data(id)",
          "text-outline-color": "#11479e",
          "text-outline-width": 2,
          "text-valign": "center"
         },
         "selector": "node"
        },
        {
         "css": {
          "background-color": "red"
         },
         "selector": "node.NodeStatus_INACTIVE"
        },
        {
         "css": {
          "background-opacity": 0.333,
          "content": ""
         },
         "selector": "node:parent"
        },
        {
         "css": {
          "background-color": "black",
          "line-color": "black",
          "source-arrow-color": "black",
          "target-arrow-color": "black",
          "text-outline-color": "black"
         },
         "selector": ":selected"
        },
        {
         "selector": "edge",
         "style": {
          "line-color": "#9dbaea",
          "width": 4
         }
        },
        {
         "selector": "edge.EdgeStatus_ACTIVE_ELECTRICAL_CONNECTION",
         "style": {
          "curve-style": "haystack",
          "line-color": "#9dbaea",
          "target-arrow-color": "#9dbaea",
          "target-arrow-shape": "triangle"
         }
        },
        {
         "selector": "edge.EdgeStatus_INACTIVE_ELECTRICAL_CONNECTION",
         "style": {
          "curve-style": "haystack",
          "line-color": "red",
          "target-arrow-color": "red",
          "target-arrow-shape": "triangle"
         }
        },
        {
         "selector": "edge.EdgeStatus_PART_OF",
         "style": {
          "curve-style": "haystack",
          "line-color": "green",
          "target-arrow-color": "green",
          "target-arrow-shape": "triangle"
         }
        },
        {
         "selector": "edge.multiple_edges",
         "style": {
          "curve-style": "haystack"
         }
        }
       ],
       "desktop_tap_threshold": 4,
       "graph": "IPY_MODEL_62f9b8386c0a4a45be3f48334d8b2cf3",
       "headless": false,
       "hide_edges_on_viewport": false,
       "layout": "IPY_MODEL_ad99eab7356b40dd98d60d79228f80ce",
       "max_zoom": 5,
       "min_zoom": 0.2,
       "motion_blur": false,
       "motion_blur_opacity": 0.2,
       "panning_enabled": true,
       "pixel_ratio": "auto",
       "rendered_position": {
        "renderedPosition": {
         "x": 100,
         "y": 100
        }
       },
       "selection_type": "single",
       "style_enabled": true,
       "texture_on_viewport": false,
       "tooltip_source": "tooltip",
       "touch_tap_threshold": 8,
       "user_panning_enabled": true,
       "user_zooming_enabled": true,
       "wheel_sensitivity": 0.1,
       "zoom": 2,
       "zooming_enabled": true
      }
     },
     "4688384c9adc455fb730f38786d17897": {
      "model_module": "jupyter-cytoscape",
      "model_module_version": "^1.3.3",
      "model_name": "EdgeModel",
      "state": {
       "_model_module_version": "^1.3.3",
       "_view_module_version": "^1.3.3",
       "classes": "EdgeStatus_PART_OF directed ",
       "data": {
        "id": "c6af09a9-68e0-4b94-8f7c-0f2940e5af75",
        "source": "GS200_voltage_source",
        "target": "GS200_voltage_source_measure"
       },
       "selectable": false
      }
     },
     "4696e042fbbb41a780caa088303bc8ba": {
      "model_module": "jupyter-cytoscape",
      "model_module_version": "^1.3.3",
      "model_name": "GraphModel",
      "state": {
       "_adj": {
        "GS200": {},
        "GS200_container": {},
        "GS200_current_source": {},
        "GS200_current_source_measure": {},
        "GS200_program": {},
        "GS200_voltage_source": {},
        "GS200_voltage_source_measure": {}
       },
       "_model_module_version": "^1.3.3",
       "_view_module": "jupyter-cytoscape",
       "_view_module_version": "^1.3.3",
       "edges": [
        "IPY_MODEL_0758720540054867b2e7202011164789",
        "IPY_MODEL_11b974db67b24102bf081bdb0d753775",
        "IPY_MODEL_c4d33e371a1d4ca6815d8c4530adf3c2",
        "IPY_MODEL_a282c5937fb5409082824398be2b6240",
        "IPY_MODEL_8dd6af4220444a7e817edcb021e4ae61"
       ],
       "nodes": [
        "IPY_MODEL_164f93bb69f84d9cb6a3c81df9d5c302",
        "IPY_MODEL_ad9fdadd1530403a9528589c78fb85ce",
        "IPY_MODEL_2d0cb61527c24aff9716a34de8aed810",
        "IPY_MODEL_8e76de428f464b1b8b3d2f9fc2671b1f",
        "IPY_MODEL_0d5ebb9979cc4461b10a3ff0d64d9868",
        "IPY_MODEL_88b2b554c92a4306aea72509166fbd84",
        "IPY_MODEL_cfd2d91a6d2f4d9ba3a5941d837762d9"
       ]
      }
     },
     "46a88a6e3e254cd586fb665e3fdac970": {
      "model_module": "jupyter-cytoscape",
      "model_module_version": "^1.3.3",
      "model_name": "GraphModel",
      "state": {
       "_adj": {
        "GS200": {},
        "GS200_container": {},
        "GS200_current_source": {},
        "GS200_current_source_measure": {},
        "GS200_program": {},
        "GS200_voltage_source": {},
        "GS200_voltage_source_measure": {}
       },
       "_model_module_version": "^1.3.3",
       "_view_module": "jupyter-cytoscape",
       "_view_module_version": "^1.3.3",
       "edges": [
        "IPY_MODEL_fb5799a8ab3948cbb577b47c3524fed8",
        "IPY_MODEL_011edac62367469fba2f7f2d4043efd6",
        "IPY_MODEL_41d785d57d704617a84021bdd8baf058",
        "IPY_MODEL_1b04435c72b74e10b080c61e31682686",
        "IPY_MODEL_f9ad648eba7f46cbbef378c47117a665"
       ],
       "nodes": [
        "IPY_MODEL_a340a3eff2b04471b87b21b70e58a348",
        "IPY_MODEL_da50e559893d4fccb9167bda595766ce",
        "IPY_MODEL_ecf34463256b48e3a37c3da27a176b54",
        "IPY_MODEL_519e6a09e0ca425b82c92c71ce21249f",
        "IPY_MODEL_74ee3a98fd074d3b9cc3b96872d4c29a",
        "IPY_MODEL_dcbe9a9d7b8f4133b76568b89d660d5a",
        "IPY_MODEL_0fd020bded4f4fd7842b717282f7c692"
       ]
      }
     },
     "48b1f300bfb141aaaf379e7e135ce661": {
      "model_module": "jupyter-cytoscape",
      "model_module_version": "^1.3.3",
      "model_name": "GraphModel",
      "state": {
       "_adj": {
        "GS200": {},
        "GS200_container": {},
        "GS200_current_source": {},
        "GS200_current_source_measure": {},
        "GS200_program": {}
       },
       "_model_module_version": "^1.3.3",
       "_view_module": "jupyter-cytoscape",
       "_view_module_version": "^1.3.3",
       "edges": [
        "IPY_MODEL_e50061fa8efa47d3b0a828967c87ff94",
        "IPY_MODEL_f8f4258771d448a5ac1255cc9ddd7d32",
        "IPY_MODEL_babe9541d6b949b2a8d168df6d4f9265"
       ],
       "nodes": [
        "IPY_MODEL_13a6bc2dea9640bdb150830094dd0ef8",
        "IPY_MODEL_2642250f96f84fd382d32232b0e8f9ad",
        "IPY_MODEL_12a9e7e572e94af18f61e309588f21bd",
        "IPY_MODEL_dfb1e59864434fecbb62bd1a1cd604fd",
        "IPY_MODEL_53b5349aee6749d5898c8c0acdfc3385"
       ]
      }
     },
     "4d0b3acbee0d40b297283683ae9f0b99": {
      "model_module": "jupyter-cytoscape",
      "model_module_version": "^1.3.3",
      "model_name": "NodeModel",
      "state": {
       "_model_module_version": "^1.3.3",
       "_view_module_version": "^1.3.3",
       "classes": "NodeStatus_INACTIVE",
       "data": {
        "id": "GS200_voltage_source",
        "parent": "GS200_container"
       },
       "grabbable": true,
       "grabbed": false,
       "position": {
        "x": 1048.8570353173363,
        "y": 299.33479467555236
       },
       "selectable": false
      }
     },
     "4e28e9038ef84d41b78f63e8c377a961": {
      "model_module": "jupyter-cytoscape",
      "model_module_version": "^1.3.3",
      "model_name": "NodeModel",
      "state": {
       "_model_module_version": "^1.3.3",
       "_view_module_version": "^1.3.3",
       "classes": "NodeStatus_ACTIVE",
       "data": {
        "id": "GS200",
        "parent": "GS200_container"
       },
       "grabbable": true,
       "grabbed": false,
       "position": {
        "x": 1013.3321493155166,
        "y": 196.76215417021805
       },
       "selectable": false
      }
     },
     "4f0325de824d4a3aa529fe9f2140b108": {
      "model_module": "jupyter-cytoscape",
      "model_module_version": "^1.3.3",
      "model_name": "NodeModel",
      "state": {
       "_model_module_version": "^1.3.3",
       "_view_module_version": "^1.3.3",
       "data": {
        "id": "GS200_container"
       },
       "grabbable": true,
       "grabbed": false,
       "selectable": false
      }
     },
     "519e6a09e0ca425b82c92c71ce21249f": {
      "model_module": "jupyter-cytoscape",
      "model_module_version": "^1.3.3",
      "model_name": "NodeModel",
      "state": {
       "_model_module_version": "^1.3.3",
       "_view_module_version": "^1.3.3",
       "classes": "NodeStatus_INACTIVE",
       "data": {
        "id": "GS200_current_source",
        "parent": "GS200_container"
       },
       "grabbable": true,
       "grabbed": false,
       "position": {
        "x": 1053.5,
        "y": 200
       },
       "selectable": false
      }
     },
     "533faacc9fe54cc68f01a65a3852fe15": {
      "model_module": "@jupyter-widgets/base",
      "model_module_version": "1.2.0",
      "model_name": "LayoutModel",
      "state": {}
     },
     "53b5349aee6749d5898c8c0acdfc3385": {
      "model_module": "jupyter-cytoscape",
      "model_module_version": "^1.3.3",
      "model_name": "NodeModel",
      "state": {
       "_model_module_version": "^1.3.3",
       "_view_module_version": "^1.3.3",
       "classes": "NodeStatus_ACTIVE",
       "data": {
        "id": "GS200_current_source_measure",
        "parent": "GS200_container"
       },
       "grabbable": true,
       "grabbed": false,
       "position": {
        "x": 704.8257954553542,
        "y": 218.81089435377766
       },
       "selectable": false
      }
     },
     "60dae06d444f4cfe891b883d33438028": {
      "model_module": "jupyter-cytoscape",
      "model_module_version": "^1.3.3",
      "model_name": "NodeModel",
      "state": {
       "_model_module_version": "^1.3.3",
       "_view_module_version": "^1.3.3",
       "data": {
        "id": "GS200_container"
       },
       "grabbable": true,
       "grabbed": false,
       "selectable": false
      }
     },
     "62dc8f39073a48a79cd33b97e519ca6d": {
      "model_module": "jupyter-cytoscape",
      "model_module_version": "^1.3.3",
      "model_name": "EdgeModel",
      "state": {
       "_model_module_version": "^1.3.3",
       "_view_module_version": "^1.3.3",
       "classes": "EdgeStatus_ACTIVE_ELECTRICAL_CONNECTION directed ",
       "data": {
        "id": "cb25675d-a462-4ca5-8a93-968ebe62b194",
        "source": "GS200",
        "target": "GS200_voltage_source"
       },
       "selectable": false
      }
     },
     "62f9b8386c0a4a45be3f48334d8b2cf3": {
      "model_module": "jupyter-cytoscape",
      "model_module_version": "^1.3.3",
      "model_name": "GraphModel",
      "state": {
       "_adj": {
        "GS200_container": {},
        "GS200_current_source_measure": {}
       },
       "_model_module_version": "^1.3.3",
       "_view_module": "jupyter-cytoscape",
       "_view_module_version": "^1.3.3",
       "nodes": [
        "IPY_MODEL_3e8246eeeb844af69ef9cff4f4d36bdb",
        "IPY_MODEL_cac8095ae63645dda0d1f53262a32fd2"
       ]
      }
     },
     "67653b1d1c4a471d9873c9cea4a90ce9": {
      "model_module": "@jupyter-widgets/base",
      "model_module_version": "1.2.0",
      "model_name": "LayoutModel",
      "state": {}
     },
     "68e52f15141c423f818b8135298f3a28": {
      "model_module": "jupyter-cytoscape",
      "model_module_version": "^1.3.3",
      "model_name": "GraphModel",
      "state": {
       "_adj": {},
       "_model_module_version": "^1.3.3",
       "_view_module": "jupyter-cytoscape",
       "_view_module_version": "^1.3.3"
      }
     },
     "6ba9e15c86b3405291feeff7868e802e": {
      "model_module": "jupyter-cytoscape",
      "model_module_version": "^1.3.3",
      "model_name": "NodeModel",
      "state": {
       "_model_module_version": "^1.3.3",
       "_view_module_version": "^1.3.3",
       "data": {
        "id": "GS200_container"
       },
       "grabbable": true,
       "grabbed": false,
       "selectable": false
      }
     },
     "74ee3a98fd074d3b9cc3b96872d4c29a": {
      "model_module": "jupyter-cytoscape",
      "model_module_version": "^1.3.3",
      "model_name": "NodeModel",
      "state": {
       "_model_module_version": "^1.3.3",
       "_view_module_version": "^1.3.3",
       "classes": "NodeStatus_ACTIVE",
       "data": {
        "id": "GS200_current_source_measure",
        "parent": "GS200_container"
       },
       "grabbable": true,
       "grabbed": false,
       "position": {
        "x": 1053.5,
        "y": 200
       },
       "selectable": false
      }
     },
     "75762d82f4814ab2be05775f5a0b7fe6": {
      "model_module": "@jupyter-widgets/base",
      "model_module_version": "1.2.0",
      "model_name": "LayoutModel",
      "state": {}
     },
     "78211bf4fb0b4cd69e8e7111d7977945": {
      "model_module": "jupyter-cytoscape",
      "model_module_version": "^1.3.3",
      "model_name": "EdgeModel",
      "state": {
       "_model_module_version": "^1.3.3",
       "_view_module_version": "^1.3.3",
       "classes": "EdgeStatus_PART_OF directed ",
       "data": {
        "id": "24c76318-1ae3-4a14-bdf3-b719df9a402c",
        "source": "GS200",
        "target": "GS200_program"
       },
       "selectable": false
      }
     },
     "7839ee79a1f0440ab38b177bd0b83465": {
      "model_module": "jupyter-cytoscape",
      "model_module_version": "^1.3.3",
      "model_name": "NodeModel",
      "state": {
       "_model_module_version": "^1.3.3",
       "_view_module_version": "^1.3.3",
       "data": {
        "id": "GS200_container"
       },
       "grabbable": true,
       "grabbed": false,
       "selectable": false
      }
     },
     "7b482504763d4a18886839389d945a9e": {
      "model_module": "jupyter-cytoscape",
      "model_module_version": "^1.3.3",
      "model_name": "GraphModel",
      "state": {
       "_adj": {},
       "_model_module_version": "^1.3.3",
       "_view_module": "jupyter-cytoscape",
       "_view_module_version": "^1.3.3"
      }
     },
     "7e1d7c31a4be4794a214c632f057a526": {
      "model_module": "@jupyter-widgets/base",
      "model_module_version": "1.2.0",
      "model_name": "LayoutModel",
      "state": {}
     },
     "84f0abdd30f04bdeae2c2a2b8d95a8cf": {
      "model_module": "jupyter-cytoscape",
      "model_module_version": "^1.3.3",
      "model_name": "NodeModel",
      "state": {
       "_model_module_version": "^1.3.3",
       "_view_module_version": "^1.3.3",
       "data": {
        "id": "GS200_container"
       },
       "grabbable": true,
       "grabbed": false,
       "selectable": false
      }
     },
     "85390536cd8d4bd684ae0d95e739d306": {
      "model_module": "jupyter-cytoscape",
      "model_module_version": "^1.3.3",
      "model_name": "NodeModel",
      "state": {
       "_model_module_version": "^1.3.3",
       "_view_module_version": "^1.3.3",
       "data": {
        "id": "GS200_container"
       },
       "grabbable": true,
       "grabbed": false,
       "selectable": false
      }
     },
     "86db7f87423c4a689a515d1dff483fac": {
      "model_module": "jupyter-cytoscape",
      "model_module_version": "^1.3.3",
      "model_name": "NodeModel",
      "state": {
       "_model_module_version": "^1.3.3",
       "_view_module_version": "^1.3.3",
       "data": {
        "id": "GS200_container"
       },
       "grabbable": true,
       "grabbed": false,
       "selectable": false
      }
     },
     "88b2b554c92a4306aea72509166fbd84": {
      "model_module": "jupyter-cytoscape",
      "model_module_version": "^1.3.3",
      "model_name": "NodeModel",
      "state": {
       "_model_module_version": "^1.3.3",
       "_view_module_version": "^1.3.3",
       "classes": "NodeStatus_INACTIVE",
       "data": {
        "id": "GS200_voltage_source",
        "parent": "GS200_container"
       },
       "grabbable": true,
       "grabbed": false,
       "position": {
        "x": 1053.5,
        "y": 200
       },
       "selectable": false
      }
     },
     "897e7ce9b8b0485081938f0b01a43357": {
      "model_module": "jupyter-cytoscape",
      "model_module_version": "^1.3.3",
      "model_name": "NodeModel",
      "state": {
       "_model_module_version": "^1.3.3",
       "_view_module_version": "^1.3.3",
       "data": {
        "id": "GS200_container"
       },
       "grabbable": true,
       "grabbed": false,
       "selectable": false
      }
     },
     "8dd6af4220444a7e817edcb021e4ae61": {
      "model_module": "jupyter-cytoscape",
      "model_module_version": "^1.3.3",
      "model_name": "EdgeModel",
      "state": {
       "_model_module_version": "^1.3.3",
       "_view_module_version": "^1.3.3",
       "classes": "EdgeStatus_PART_OF directed ",
       "data": {
        "id": "5049a7da-d8e2-4156-895d-85d85fa9d07c",
        "source": "GS200_voltage_source",
        "target": "GS200_voltage_source_measure"
       },
       "selectable": false
      }
     },
     "8e76de428f464b1b8b3d2f9fc2671b1f": {
      "model_module": "jupyter-cytoscape",
      "model_module_version": "^1.3.3",
      "model_name": "NodeModel",
      "state": {
       "_model_module_version": "^1.3.3",
       "_view_module_version": "^1.3.3",
       "classes": "NodeStatus_ACTIVE",
       "data": {
        "id": "GS200_current_source",
        "parent": "GS200_container"
       },
       "grabbable": true,
       "grabbed": false,
       "position": {
        "x": 1053.5,
        "y": 200
       },
       "selectable": false
      }
     },
     "90077cc0a2f74d2187d4c962d29c57bf": {
      "model_module": "jupyter-cytoscape",
      "model_module_version": "^1.3.3",
      "model_name": "NodeModel",
      "state": {
       "_model_module_version": "^1.3.3",
       "_view_module_version": "^1.3.3",
       "data": {
        "id": "GS200_container"
       },
       "grabbable": true,
       "grabbed": false,
       "selectable": false
      }
     },
     "94e03b3b972743a180a1ef3628837338": {
      "model_module": "jupyter-cytoscape",
      "model_module_version": "^1.3.3",
      "model_name": "NodeModel",
      "state": {
       "_model_module_version": "^1.3.3",
       "_view_module_version": "^1.3.3",
       "data": {
        "id": "GS200_container"
       },
       "grabbable": true,
       "grabbed": false,
       "selectable": false
      }
     },
     "9743d1ceb98744a2a6afd2aff1c34c57": {
      "model_module": "jupyter-cytoscape",
      "model_module_version": "^1.3.3",
      "model_name": "NodeModel",
      "state": {
       "_model_module_version": "^1.3.3",
       "_view_module_version": "^1.3.3",
       "classes": "NodeStatus_ACTIVE",
       "data": {
        "id": "GS200",
        "parent": "GS200_container"
       },
       "grabbable": true,
       "grabbed": false,
       "position": {
        "x": 527,
        "y": 200
       },
       "selectable": false
      }
     },
     "99c41fc0a2484e10bd6a09044defbf1e": {
      "model_module": "jupyter-cytoscape",
      "model_module_version": "^1.3.3",
      "model_name": "NodeModel",
      "state": {
       "_model_module_version": "^1.3.3",
       "_view_module_version": "^1.3.3",
       "classes": "NodeStatus_ACTIVE",
       "data": {
        "id": "GS200_voltage_source_measure",
        "parent": "GS200_container"
       },
       "grabbable": true,
       "grabbed": false,
       "position": {
        "x": 527,
        "y": 200
       },
       "selectable": false
      }
     },
     "9a6cc60de09245d994b580e6b76e5784": {
      "model_module": "@jupyter-widgets/base",
      "model_module_version": "1.2.0",
      "model_name": "LayoutModel",
      "state": {}
     },
     "a282c5937fb5409082824398be2b6240": {
      "model_module": "jupyter-cytoscape",
      "model_module_version": "^1.3.3",
      "model_name": "EdgeModel",
      "state": {
       "_model_module_version": "^1.3.3",
       "_view_module_version": "^1.3.3",
       "classes": "EdgeStatus_PART_OF directed ",
       "data": {
        "id": "1f178acc-5705-4b59-b661-44f0366d735a",
        "source": "GS200_current_source",
        "target": "GS200_current_source_measure"
       },
       "selectable": false
      }
     },
     "a318c8eaa8074a0989c70c9b8354ced2": {
      "model_module": "jupyter-cytoscape",
      "model_module_version": "^1.3.3",
      "model_name": "EdgeModel",
      "state": {
       "_model_module_version": "^1.3.3",
       "_view_module_version": "^1.3.3",
       "classes": "EdgeStatus_INACTIVE_ELECTRICAL_CONNECTION directed ",
       "data": {
        "id": "ec2e54d6-8437-4940-a9c2-07fd9e5478c8",
        "source": "GS200",
        "target": "GS200_voltage_source"
       },
       "selectable": false
      }
     },
     "a340a3eff2b04471b87b21b70e58a348": {
      "model_module": "jupyter-cytoscape",
      "model_module_version": "^1.3.3",
      "model_name": "NodeModel",
      "state": {
       "_model_module_version": "^1.3.3",
       "_view_module_version": "^1.3.3",
       "data": {
        "id": "GS200_container"
       },
       "grabbable": true,
       "grabbed": false,
       "position": {
        "x": 1053.5,
        "y": 200
       },
       "selectable": false
      }
     },
     "ad99eab7356b40dd98d60d79228f80ce": {
      "model_module": "@jupyter-widgets/base",
      "model_module_version": "1.2.0",
      "model_name": "LayoutModel",
      "state": {}
     },
     "ad9fdadd1530403a9528589c78fb85ce": {
      "model_module": "jupyter-cytoscape",
      "model_module_version": "^1.3.3",
      "model_name": "NodeModel",
      "state": {
       "_model_module_version": "^1.3.3",
       "_view_module_version": "^1.3.3",
       "classes": "NodeStatus_ACTIVE",
       "data": {
        "id": "GS200",
        "parent": "GS200_container"
       },
       "grabbable": true,
       "grabbed": false,
       "position": {
        "x": 1053.5,
        "y": 200
       },
       "selectable": false
      }
     },
     "b06ee45d57e7409091b21afb87b6f2fa": {
      "model_module": "jupyter-cytoscape",
      "model_module_version": "^1.3.3",
      "model_name": "NodeModel",
      "state": {
       "_model_module_version": "^1.3.3",
       "_view_module_version": "^1.3.3",
       "classes": "NodeStatus_ACTIVE",
       "data": {
        "id": "GS200_current_source",
        "parent": "GS200_container"
       },
       "grabbable": true,
       "grabbed": false,
       "position": {
        "x": 1074.9026555050416,
        "y": 107.51532030867894
       },
       "selectable": false
      }
     },
     "b3e5a73745514b15ad19be4f9ace8f92": {
      "model_module": "jupyter-cytoscape",
      "model_module_version": "^1.3.3",
      "model_name": "EdgeModel",
      "state": {
       "_model_module_version": "^1.3.3",
       "_view_module_version": "^1.3.3",
       "classes": "EdgeStatus_PART_OF directed ",
       "data": {
        "id": "53713100-a2a2-4616-b4ac-48765e636700",
        "source": "GS200_voltage_source",
        "target": "GS200_voltage_source_measure"
       },
       "selectable": false
      }
     },
     "b6e767f8f4964fe8ba4d78d96e9aa055": {
      "model_module": "jupyter-cytoscape",
      "model_module_version": "^1.3.3",
      "model_name": "CytoscapeModel",
      "state": {
       "_interaction_handlers": {},
       "_model_module_version": "^1.3.3",
       "_view_module_version": "^1.3.3",
       "auto_ungrabify": false,
       "autolock": false,
       "cytoscape_layout": {
        "avoidOverlap": true,
        "maxSimulationTime": 4000,
        "name": "cola"
       },
       "cytoscape_style": [
        {
         "css": {
          "background-color": "#11479e",
          "color": "white",
          "content": "data(id)",
          "text-outline-color": "#11479e",
          "text-outline-width": 2,
          "text-valign": "center"
         },
         "selector": "node"
        },
        {
         "css": {
          "background-color": "red"
         },
         "selector": "node.NodeStatus_INACTIVE"
        },
        {
         "css": {
          "background-opacity": 0.333,
          "content": ""
         },
         "selector": "node:parent"
        },
        {
         "css": {
          "background-color": "black",
          "line-color": "black",
          "source-arrow-color": "black",
          "target-arrow-color": "black",
          "text-outline-color": "black"
         },
         "selector": ":selected"
        },
        {
         "selector": "edge",
         "style": {
          "line-color": "#9dbaea",
          "width": 4
         }
        },
        {
         "selector": "edge.EdgeStatus_ACTIVE_ELECTRICAL_CONNECTION",
         "style": {
          "curve-style": "haystack",
          "line-color": "#9dbaea",
          "target-arrow-color": "#9dbaea",
          "target-arrow-shape": "triangle"
         }
        },
        {
         "selector": "edge.EdgeStatus_INACTIVE_ELECTRICAL_CONNECTION",
         "style": {
          "curve-style": "haystack",
          "line-color": "red",
          "target-arrow-color": "red",
          "target-arrow-shape": "triangle"
         }
        },
        {
         "selector": "edge.EdgeStatus_PART_OF",
         "style": {
          "curve-style": "haystack",
          "line-color": "green",
          "target-arrow-color": "green",
          "target-arrow-shape": "triangle"
         }
        },
        {
         "selector": "edge.multiple_edges",
         "style": {
          "curve-style": "haystack"
         }
        }
       ],
       "desktop_tap_threshold": 4,
       "graph": "IPY_MODEL_48b1f300bfb141aaaf379e7e135ce661",
       "headless": false,
       "hide_edges_on_viewport": false,
       "layout": "IPY_MODEL_edbcba2246054c5cadae34b81f4edadd",
       "max_zoom": 5,
       "min_zoom": 0.2,
       "motion_blur": false,
       "motion_blur_opacity": 0.2,
       "panning_enabled": true,
       "pixel_ratio": "auto",
       "rendered_position": {
        "renderedPosition": {
         "x": 100,
         "y": 100
        }
       },
       "selection_type": "single",
       "style_enabled": true,
       "texture_on_viewport": false,
       "tooltip_source": "tooltip",
       "touch_tap_threshold": 8,
       "user_panning_enabled": true,
       "user_zooming_enabled": true,
       "wheel_sensitivity": 0.1,
       "zoom": 2,
       "zooming_enabled": true
      }
     },
     "b8afef4f3f184163a939b2d9e54581d7": {
      "model_module": "@jupyter-widgets/controls",
      "model_module_version": "1.5.0",
      "model_name": "HBoxModel",
      "state": {
       "children": [
        "IPY_MODEL_dc30d67f445145e48bf451f7c3a9a355"
       ],
       "layout": "IPY_MODEL_67653b1d1c4a471d9873c9cea4a90ce9"
      }
     },
     "b8cd1b8497114543a99e8a961f7c0012": {
      "model_module": "jupyter-cytoscape",
      "model_module_version": "^1.3.3",
      "model_name": "CytoscapeModel",
      "state": {
       "_interaction_handlers": {},
       "_model_module_version": "^1.3.3",
       "_view_module_version": "^1.3.3",
       "auto_ungrabify": false,
       "autolock": false,
       "cytoscape_layout": {
        "avoidOverlap": true,
        "maxSimulationTime": 4000,
        "name": "cola"
       },
       "cytoscape_style": [
        {
         "css": {
          "background-color": "#11479e",
          "color": "white",
          "content": "data(id)",
          "text-outline-color": "#11479e",
          "text-outline-width": 2,
          "text-valign": "center"
         },
         "selector": "node"
        },
        {
         "css": {
          "background-color": "red"
         },
         "selector": "node.NodeStatus_INACTIVE"
        },
        {
         "css": {
          "background-opacity": 0.333,
          "content": ""
         },
         "selector": "node:parent"
        },
        {
         "css": {
          "background-color": "black",
          "line-color": "black",
          "source-arrow-color": "black",
          "target-arrow-color": "black",
          "text-outline-color": "black"
         },
         "selector": ":selected"
        },
        {
         "selector": "edge",
         "style": {
          "line-color": "#9dbaea",
          "width": 4
         }
        },
        {
         "selector": "edge.EdgeStatus_ACTIVE_ELECTRICAL_CONNECTION",
         "style": {
          "curve-style": "haystack",
          "line-color": "#9dbaea",
          "target-arrow-color": "#9dbaea",
          "target-arrow-shape": "triangle"
         }
        },
        {
         "selector": "edge.EdgeStatus_INACTIVE_ELECTRICAL_CONNECTION",
         "style": {
          "curve-style": "haystack",
          "line-color": "red",
          "target-arrow-color": "red",
          "target-arrow-shape": "triangle"
         }
        },
        {
         "selector": "edge.EdgeStatus_PART_OF",
         "style": {
          "curve-style": "haystack",
          "line-color": "green",
          "target-arrow-color": "green",
          "target-arrow-shape": "triangle"
         }
        },
        {
         "selector": "edge.multiple_edges",
         "style": {
          "curve-style": "haystack"
         }
        }
       ],
       "desktop_tap_threshold": 4,
       "graph": "IPY_MODEL_f520387ca2ef4aceb54213b47215db5f",
       "headless": false,
       "hide_edges_on_viewport": false,
       "layout": "IPY_MODEL_7e1d7c31a4be4794a214c632f057a526",
       "max_zoom": 5,
       "min_zoom": 0.2,
       "motion_blur": false,
       "motion_blur_opacity": 0.2,
       "panning_enabled": true,
       "pixel_ratio": "auto",
       "rendered_position": {
        "renderedPosition": {
         "x": 100,
         "y": 100
        }
       },
       "selection_type": "single",
       "style_enabled": true,
       "texture_on_viewport": false,
       "tooltip_source": "tooltip",
       "touch_tap_threshold": 8,
       "user_panning_enabled": true,
       "user_zooming_enabled": true,
       "wheel_sensitivity": 0.1,
       "zoom": 2,
       "zooming_enabled": true
      }
     },
     "babe9541d6b949b2a8d168df6d4f9265": {
      "model_module": "jupyter-cytoscape",
      "model_module_version": "^1.3.3",
      "model_name": "EdgeModel",
      "state": {
       "_model_module_version": "^1.3.3",
       "_view_module_version": "^1.3.3",
       "classes": "EdgeStatus_PART_OF directed ",
       "data": {
        "id": "4185f933-7740-4057-8b15-c653c8cd91ae",
        "source": "GS200_current_source",
        "target": "GS200_current_source_measure"
       },
       "selectable": false
      }
     },
     "bb779cb378ef46fe80b27458fea5c5a6": {
      "model_module": "@jupyter-widgets/base",
      "model_module_version": "1.2.0",
      "model_name": "LayoutModel",
      "state": {}
     },
     "be26749c3b3544d2aed5c39f49744080": {
      "model_module": "jupyter-cytoscape",
      "model_module_version": "^1.3.3",
      "model_name": "NodeModel",
      "state": {
       "_model_module_version": "^1.3.3",
       "_view_module_version": "^1.3.3",
       "classes": "NodeStatus_ACTIVE",
       "data": {
        "id": "GS200_voltage_source_measure",
        "parent": "GS200_container"
       },
       "grabbable": true,
       "grabbed": false,
       "position": {
        "x": 522.6415507444581,
        "y": 192.5473792493184
       },
       "selectable": false
      }
     },
     "c2813d3cb5e94f1daae55599abcaca52": {
      "model_module": "jupyter-cytoscape",
      "model_module_version": "^1.3.3",
      "model_name": "NodeModel",
      "state": {
       "_model_module_version": "^1.3.3",
       "_view_module_version": "^1.3.3",
       "data": {
        "id": "GS200_container"
       },
       "grabbable": true,
       "grabbed": false,
       "selectable": false
      }
     },
     "c4d33e371a1d4ca6815d8c4530adf3c2": {
      "model_module": "jupyter-cytoscape",
      "model_module_version": "^1.3.3",
      "model_name": "EdgeModel",
      "state": {
       "_model_module_version": "^1.3.3",
       "_view_module_version": "^1.3.3",
       "classes": "EdgeStatus_INACTIVE_ELECTRICAL_CONNECTION directed ",
       "data": {
        "id": "11530b21-4dca-496a-89f8-1fde5ee6cb9e",
        "source": "GS200",
        "target": "GS200_voltage_source"
       },
       "selectable": false
      }
     },
     "c5af3dfb5c34412b832c8fea8fcc3eeb": {
      "model_module": "jupyter-cytoscape",
      "model_module_version": "^1.3.3",
      "model_name": "NodeModel",
      "state": {
       "_model_module_version": "^1.3.3",
       "_view_module_version": "^1.3.3",
       "classes": "NodeStatus_ACTIVE",
       "data": {
        "id": "GS200_program",
        "parent": "GS200_container"
       },
       "grabbable": true,
       "grabbed": false,
       "position": {
        "x": 907.419666110779,
        "y": 179.66682545751078
       },
       "selectable": false
      }
     },
     "c8a7b5de44db4832a70524b0d09dac07": {
      "model_module": "jupyter-cytoscape",
      "model_module_version": "^1.3.3",
      "model_name": "NodeModel",
      "state": {
       "_model_module_version": "^1.3.3",
       "_view_module_version": "^1.3.3",
       "data": {
        "id": "GS200_container"
       },
       "grabbable": true,
       "grabbed": false,
       "selectable": false
      }
     },
     "cac8095ae63645dda0d1f53262a32fd2": {
      "model_module": "jupyter-cytoscape",
      "model_module_version": "^1.3.3",
      "model_name": "NodeModel",
      "state": {
       "_model_module_version": "^1.3.3",
       "_view_module_version": "^1.3.3",
       "classes": "NodeStatus_ACTIVE",
       "data": {
        "id": "GS200_current_source_measure",
        "parent": "GS200_container"
       },
       "grabbable": true,
       "grabbed": false,
       "position": {
        "x": 527,
        "y": 200
       },
       "selectable": false
      }
     },
     "caec0a5aa5c2467db36b45991a6f88aa": {
      "model_module": "jupyter-cytoscape",
      "model_module_version": "^1.3.3",
      "model_name": "EdgeModel",
      "state": {
       "_model_module_version": "^1.3.3",
       "_view_module_version": "^1.3.3",
       "classes": "EdgeStatus_PART_OF directed ",
       "data": {
        "id": "87046a0c-cb4d-4aff-aec0-190fc11d6aa3",
        "source": "GS200",
        "target": "GS200_program"
       },
       "selectable": false
      }
     },
     "cf4331f0c3524659a994023a047be777": {
      "model_module": "jupyter-cytoscape",
      "model_module_version": "^1.3.3",
      "model_name": "EdgeModel",
      "state": {
       "_model_module_version": "^1.3.3",
       "_view_module_version": "^1.3.3",
       "classes": "EdgeStatus_ACTIVE_ELECTRICAL_CONNECTION directed ",
       "data": {
        "id": "c6931686-f956-47c7-8e0f-47d781a0bc0f",
        "source": "GS200",
        "target": "GS200_current_source"
       },
       "selectable": false
      }
     },
     "cfd2d91a6d2f4d9ba3a5941d837762d9": {
      "model_module": "jupyter-cytoscape",
      "model_module_version": "^1.3.3",
      "model_name": "NodeModel",
      "state": {
       "_model_module_version": "^1.3.3",
       "_view_module_version": "^1.3.3",
       "classes": "NodeStatus_ACTIVE",
       "data": {
        "id": "GS200_voltage_source_measure",
        "parent": "GS200_container"
       },
       "grabbable": true,
       "grabbed": false,
       "position": {
        "x": 1053.5,
        "y": 200
       },
       "selectable": false
      }
     },
     "d7c8f197eab94e119219ccf94a51ae37": {
      "model_module": "jupyter-cytoscape",
      "model_module_version": "^1.3.3",
      "model_name": "GraphModel",
      "state": {
       "_adj": {},
       "_model_module_version": "^1.3.3",
       "_view_module": "jupyter-cytoscape",
       "_view_module_version": "^1.3.3"
      }
     },
     "d9ae140b81824d6cad11e253a04bc8e3": {
      "model_module": "jupyter-cytoscape",
      "model_module_version": "^1.3.3",
      "model_name": "GraphModel",
      "state": {
       "_adj": {
        "GS200_container": {},
        "GS200_voltage_source_measure": {}
       },
       "_model_module_version": "^1.3.3",
       "_view_module": "jupyter-cytoscape",
       "_view_module_version": "^1.3.3",
       "nodes": [
        "IPY_MODEL_446f19f768134f16a31c39721a670ecb",
        "IPY_MODEL_be26749c3b3544d2aed5c39f49744080"
       ]
      }
     },
     "da4be79f0bc34ce6a07b85256ccdbfb4": {
      "model_module": "jupyter-cytoscape",
      "model_module_version": "^1.3.3",
      "model_name": "NodeModel",
      "state": {
       "_model_module_version": "^1.3.3",
       "_view_module_version": "^1.3.3",
       "data": {
        "id": "GS200_container"
       },
       "grabbable": true,
       "grabbed": false,
       "selectable": false
      }
     },
     "da50e559893d4fccb9167bda595766ce": {
      "model_module": "jupyter-cytoscape",
      "model_module_version": "^1.3.3",
      "model_name": "NodeModel",
      "state": {
       "_model_module_version": "^1.3.3",
       "_view_module_version": "^1.3.3",
       "classes": "NodeStatus_ACTIVE",
       "data": {
        "id": "GS200",
        "parent": "GS200_container"
       },
       "grabbable": true,
       "grabbed": false,
       "position": {
        "x": 1053.5,
        "y": 200
       },
       "selectable": false
      }
     },
     "dba36a55d19249138f2c5ee9c15b752c": {
      "model_module": "jupyter-cytoscape",
      "model_module_version": "^1.3.3",
      "model_name": "NodeModel",
      "state": {
       "_model_module_version": "^1.3.3",
       "_view_module_version": "^1.3.3",
       "data": {
        "id": "GS200_container"
       },
       "grabbable": true,
       "grabbed": false,
       "selectable": false
      }
     },
     "dc30d67f445145e48bf451f7c3a9a355": {
      "model_module": "jupyter-cytoscape",
      "model_module_version": "^1.3.3",
      "model_name": "CytoscapeModel",
      "state": {
       "_interaction_handlers": {},
       "_model_module_version": "^1.3.3",
       "_view_module_version": "^1.3.3",
       "auto_ungrabify": false,
       "autolock": false,
       "cytoscape_layout": {
        "avoidOverlap": true,
        "maxSimulationTime": 4000,
        "name": "cola"
       },
       "cytoscape_style": [
        {
         "css": {
          "background-color": "#11479e",
          "color": "white",
          "content": "data(id)",
          "text-outline-color": "#11479e",
          "text-outline-width": 2,
          "text-valign": "center"
         },
         "selector": "node"
        },
        {
         "css": {
          "background-color": "red"
         },
         "selector": "node.NodeStatus_INACTIVE"
        },
        {
         "css": {
          "background-opacity": 0.333,
          "content": ""
         },
         "selector": "node:parent"
        },
        {
         "css": {
          "background-color": "black",
          "line-color": "black",
          "source-arrow-color": "black",
          "target-arrow-color": "black",
          "text-outline-color": "black"
         },
         "selector": ":selected"
        },
        {
         "selector": "edge",
         "style": {
          "line-color": "#9dbaea",
          "width": 4
         }
        },
        {
         "selector": "edge.EdgeStatus_ACTIVE_ELECTRICAL_CONNECTION",
         "style": {
          "curve-style": "haystack",
          "line-color": "#9dbaea",
          "target-arrow-color": "#9dbaea",
          "target-arrow-shape": "triangle"
         }
        },
        {
         "selector": "edge.EdgeStatus_INACTIVE_ELECTRICAL_CONNECTION",
         "style": {
          "curve-style": "haystack",
          "line-color": "red",
          "target-arrow-color": "red",
          "target-arrow-shape": "triangle"
         }
        },
        {
         "selector": "edge.EdgeStatus_PART_OF",
         "style": {
          "curve-style": "haystack",
          "line-color": "green",
          "target-arrow-color": "green",
          "target-arrow-shape": "triangle"
         }
        },
        {
         "selector": "edge.multiple_edges",
         "style": {
          "curve-style": "haystack"
         }
        }
       ],
       "desktop_tap_threshold": 4,
       "graph": "IPY_MODEL_309d4b821c37438c88f49ac0e654eb93",
       "headless": false,
       "hide_edges_on_viewport": false,
       "layout": "IPY_MODEL_9a6cc60de09245d994b580e6b76e5784",
       "max_zoom": 5,
       "min_zoom": 0.2,
       "motion_blur": false,
       "motion_blur_opacity": 0.2,
       "panning_enabled": true,
       "pixel_ratio": "auto",
       "rendered_position": {
        "renderedPosition": {
         "x": 100,
         "y": 100
        }
       },
       "selection_type": "single",
       "style_enabled": true,
       "texture_on_viewport": false,
       "tooltip_source": "tooltip",
       "touch_tap_threshold": 8,
       "user_panning_enabled": true,
       "user_zooming_enabled": true,
       "wheel_sensitivity": 0.1,
       "zoom": 2,
       "zooming_enabled": true
      }
     },
     "dcbe9a9d7b8f4133b76568b89d660d5a": {
      "model_module": "jupyter-cytoscape",
      "model_module_version": "^1.3.3",
      "model_name": "NodeModel",
      "state": {
       "_model_module_version": "^1.3.3",
       "_view_module_version": "^1.3.3",
       "classes": "NodeStatus_ACTIVE",
       "data": {
        "id": "GS200_voltage_source",
        "parent": "GS200_container"
       },
       "grabbable": true,
       "grabbed": false,
       "position": {
        "x": 1053.5,
        "y": 200
       },
       "selectable": false
      }
     },
     "dfb1e59864434fecbb62bd1a1cd604fd": {
      "model_module": "jupyter-cytoscape",
      "model_module_version": "^1.3.3",
      "model_name": "NodeModel",
      "state": {
       "_model_module_version": "^1.3.3",
       "_view_module_version": "^1.3.3",
       "classes": "NodeStatus_ACTIVE",
       "data": {
        "id": "GS200_current_source",
        "parent": "GS200_container"
       },
       "grabbable": true,
       "grabbed": false,
       "position": {
        "x": 564.8494870405095,
        "y": 205.9711023617538
       },
       "selectable": false
      }
     },
     "e3d5e1b0952443738da55df4e167c113": {
      "model_module": "@jupyter-widgets/controls",
      "model_module_version": "1.5.0",
      "model_name": "HBoxModel",
      "state": {
       "children": [
        "IPY_MODEL_045bb55c8c2845cbbf64f8ad0827ea31"
       ],
       "layout": "IPY_MODEL_21423a9f61a14f9dab0eac7e4d3b2dac"
      }
     },
     "e50061fa8efa47d3b0a828967c87ff94": {
      "model_module": "jupyter-cytoscape",
      "model_module_version": "^1.3.3",
      "model_name": "EdgeModel",
      "state": {
       "_model_module_version": "^1.3.3",
       "_view_module_version": "^1.3.3",
       "classes": "EdgeStatus_PART_OF directed ",
       "data": {
        "id": "91d29d07-ea14-4f1c-9048-5a00afc203a0",
        "source": "GS200",
        "target": "GS200_program"
       },
       "selectable": false
      }
     },
     "e77f841a21774911bbaad884618d0fa3": {
      "model_module": "jupyter-cytoscape",
      "model_module_version": "^1.3.3",
      "model_name": "NodeModel",
      "state": {
       "_model_module_version": "^1.3.3",
       "_view_module_version": "^1.3.3",
       "classes": "NodeStatus_ACTIVE",
       "data": {
        "id": "GS200_voltage_source",
        "parent": "GS200_container"
       },
       "grabbable": true,
       "grabbed": false,
       "position": {
        "x": 527,
        "y": 200
       },
       "selectable": false
      }
     },
     "e8e8e985f32f4055a806bdbf8e61d9bb": {
      "model_module": "@jupyter-widgets/base",
      "model_module_version": "1.2.0",
      "model_name": "LayoutModel",
      "state": {}
     },
     "ecf34463256b48e3a37c3da27a176b54": {
      "model_module": "jupyter-cytoscape",
      "model_module_version": "^1.3.3",
      "model_name": "NodeModel",
      "state": {
       "_model_module_version": "^1.3.3",
       "_view_module_version": "^1.3.3",
       "classes": "NodeStatus_ACTIVE",
       "data": {
        "id": "GS200_program",
        "parent": "GS200_container"
       },
       "grabbable": true,
       "grabbed": false,
       "position": {
        "x": 1053.5,
        "y": 200
       },
       "selectable": false
      }
     },
     "edbcba2246054c5cadae34b81f4edadd": {
      "model_module": "@jupyter-widgets/base",
      "model_module_version": "1.2.0",
      "model_name": "LayoutModel",
      "state": {}
     },
     "ef6666be9d3e4f318cea478315e11f81": {
      "model_module": "jupyter-cytoscape",
      "model_module_version": "^1.3.3",
      "model_name": "EdgeModel",
      "state": {
       "_model_module_version": "^1.3.3",
       "_view_module_version": "^1.3.3",
       "classes": "EdgeStatus_PART_OF directed ",
       "data": {
        "id": "b43f0c3d-2131-42cc-bdbc-c3a6e2184a2a",
        "source": "GS200_current_source",
        "target": "GS200_current_source_measure"
       },
       "selectable": false
      }
     },
     "ef684b606e5e4456ab17e475066578db": {
      "model_module": "jupyter-cytoscape",
      "model_module_version": "^1.3.3",
      "model_name": "GraphModel",
      "state": {
       "_adj": {},
       "_model_module_version": "^1.3.3",
       "_view_module": "jupyter-cytoscape",
       "_view_module_version": "^1.3.3"
      }
     },
     "f3e340edc5c14ad596e22f47fe72116b": {
      "model_module": "jupyter-cytoscape",
      "model_module_version": "^1.3.3",
      "model_name": "NodeModel",
      "state": {
       "_model_module_version": "^1.3.3",
       "_view_module_version": "^1.3.3",
       "data": {
        "id": "GS200_container"
       },
       "grabbable": true,
       "grabbed": false,
       "position": {
        "x": 1054.9691630597545,
        "y": 206.40889028308993
       },
       "selectable": false
      }
     },
     "f520387ca2ef4aceb54213b47215db5f": {
      "model_module": "jupyter-cytoscape",
      "model_module_version": "^1.3.3",
      "model_name": "GraphModel",
      "state": {
       "_adj": {
        "GS200": {},
        "GS200_container": {},
        "GS200_program": {},
        "GS200_voltage_source": {},
        "GS200_voltage_source_measure": {}
       },
       "_model_module_version": "^1.3.3",
       "_view_module": "jupyter-cytoscape",
       "_view_module_version": "^1.3.3",
       "edges": [
        "IPY_MODEL_78211bf4fb0b4cd69e8e7111d7977945",
        "IPY_MODEL_62dc8f39073a48a79cd33b97e519ca6d",
        "IPY_MODEL_4688384c9adc455fb730f38786d17897"
       ],
       "nodes": [
        "IPY_MODEL_2fac6eeb209d46389bfef10d3b07d0c0",
        "IPY_MODEL_9743d1ceb98744a2a6afd2aff1c34c57",
        "IPY_MODEL_4569ca50502a4b93adbc1949ebfce7d8",
        "IPY_MODEL_e77f841a21774911bbaad884618d0fa3",
        "IPY_MODEL_99c41fc0a2484e10bd6a09044defbf1e"
       ]
      }
     },
     "f8bd9db39da449d6b84f2a9c62d59197": {
      "model_module": "jupyter-cytoscape",
      "model_module_version": "^1.3.3",
      "model_name": "NodeModel",
      "state": {
       "_model_module_version": "^1.3.3",
       "_view_module_version": "^1.3.3",
       "data": {
        "id": "GS200_container"
       },
       "grabbable": true,
       "grabbed": false,
       "selectable": false
      }
     },
     "f8f4258771d448a5ac1255cc9ddd7d32": {
      "model_module": "jupyter-cytoscape",
      "model_module_version": "^1.3.3",
      "model_name": "EdgeModel",
      "state": {
       "_model_module_version": "^1.3.3",
       "_view_module_version": "^1.3.3",
       "classes": "EdgeStatus_ACTIVE_ELECTRICAL_CONNECTION directed ",
       "data": {
        "id": "4dd5e2a9-468f-4147-9b02-cb072d557553",
        "source": "GS200",
        "target": "GS200_current_source"
       },
       "selectable": false
      }
     },
     "f9ad648eba7f46cbbef378c47117a665": {
      "model_module": "jupyter-cytoscape",
      "model_module_version": "^1.3.3",
      "model_name": "EdgeModel",
      "state": {
       "_model_module_version": "^1.3.3",
       "_view_module_version": "^1.3.3",
       "classes": "EdgeStatus_PART_OF directed ",
       "data": {
        "id": "4defb7fe-b597-41c5-8c89-a6bf6c55c7a2",
        "source": "GS200_voltage_source",
        "target": "GS200_voltage_source_measure"
       },
       "selectable": false
      }
     },
     "fb5799a8ab3948cbb577b47c3524fed8": {
      "model_module": "jupyter-cytoscape",
      "model_module_version": "^1.3.3",
      "model_name": "EdgeModel",
      "state": {
       "_model_module_version": "^1.3.3",
       "_view_module_version": "^1.3.3",
       "classes": "EdgeStatus_PART_OF directed ",
       "data": {
        "id": "3d2ff997-8ff4-447f-a973-0a230fdcfb18",
        "source": "GS200",
        "target": "GS200_program"
       },
       "selectable": false
      }
     },
     "fbda822e98fc4e62ad988bb97aa7600e": {
      "model_module": "jupyter-cytoscape",
      "model_module_version": "^1.3.3",
      "model_name": "GraphModel",
      "state": {
       "_adj": {},
       "_model_module_version": "^1.3.3",
       "_view_module": "jupyter-cytoscape",
       "_view_module_version": "^1.3.3"
      }
     },
     "fcf73ba49505445dbfd05b3b43535871": {
      "model_module": "jupyter-cytoscape",
      "model_module_version": "^1.3.3",
      "model_name": "NodeModel",
      "state": {
       "_model_module_version": "^1.3.3",
       "_view_module_version": "^1.3.3",
       "data": {
        "id": "GS200_container"
       },
       "grabbable": true,
       "grabbed": false,
       "selectable": false
      }
     }
    },
    "version_major": 2,
    "version_minor": 0
   }
  }
 },
 "nbformat": 4,
 "nbformat_minor": 5
}
