{
 "cells": [
  {
   "cell_type": "code",
   "execution_count": 1,
   "id": "e58d9dda-69ef-462d-8141-4a2d0e73d17c",
   "metadata": {},
   "outputs": [
    {
     "name": "stdout",
     "output_type": "stream",
     "text": [
      "Logging hadn't been started.\n",
      "Activating auto-logging. Current session state plus future input saved.\n",
      "Filename       : C:\\Users\\jenielse\\.qcodes\\logs\\command_history.log\n",
      "Mode           : append\n",
      "Output logging : True\n",
      "Raw input log  : False\n",
      "Timestamping   : True\n",
      "State          : active\n",
      "Qcodes Logfile : C:\\Users\\jenielse\\.qcodes\\logs\\220502-18800-qcodes.log\n"
     ]
    }
   ],
   "source": [
    "import pytest\n",
    "\n",
    "import qcodes.instrument.sims as sims\n",
    "from qcodes.instrument_drivers.yokogawa.GS200Graph import GS200\n",
    "from qcodes.graph.visulization import draw\n",
    "\n",
    "VISALIB = sims.__file__.replace(\"__init__.py\", \"Yokogawa_GS200.yaml@sim\")"
   ]
  },
  {
   "cell_type": "markdown",
   "id": "cdc551bc-1cff-4c66-9ae3-1c8b0a177ee4",
   "metadata": {},
   "source": [
    "# Description\n",
    "\n",
    "The Yokogawa GS200 is a voltage or current source with an optional measurement unit that may or may not be available depending on the configuration of the instrument.\n",
    "The measurement unit enables you to measure current when sourcing voltage and the other way around. It is worth noting that the instruments VISA api is highly stateful such that\n",
    "there is one set command (`:SOUR:LEV`) which will set the voltage or the current depending on the mode set on the instrument (via `:SOUR:FUNC`) \n",
    "\n",
    "In qcodes this has previously been implemented as as 2 parameters for voltage and current which both explicitly checks that the instrument is in the correct mode before allowing users to set/get the parameter.\n",
    "For convenience these have then been delegated to a generic parameter which has its source and unit switched when changing mode on the instrument. \n",
    "\n",
    "To ensure correct snapshooting the snapshot status of the voltage/current parameters was enabled/disabled as the mode of the instrument was switched. This was enabled using custom callbacks on mode switching.\n",
    "\n",
    "In the following we will explore modeling this using a InstrumentModule (Channel) for voltage sourcing and on for current sourcing. These modules may they (depending on if the feature is installed) have a submodule for measuring. \n",
    "The idea is that the connection to the device under measurement will be at the main node of the instrument which maps to the Instrument class. When the instrument is in the voltage mode the voltage set (and if exists current measure sub) node will be forwarded \n",
    "to the device and the user will not see the other nodes. \n"
   ]
  },
  {
   "cell_type": "code",
   "execution_count": null,
   "id": "318c87ff-76c5-437a-ab4e-1118bc9a1c42",
   "metadata": {},
   "outputs": [],
   "source": []
  },
  {
   "cell_type": "code",
   "execution_count": 25,
   "id": "b0cc7c21-c05f-4051-9bb2-c79894225281",
   "metadata": {},
   "outputs": [],
   "source": [
    "gs200 = GS200(\"GS200\", address=\"GPIB0::1::INSTR\", visalib=VISALIB)"
   ]
  },
  {
   "cell_type": "markdown",
   "id": "1059bf29-a7f1-4899-ba6c-64f0c194e3c8",
   "metadata": {},
   "source": [
    "Lets first draw the graph of the instrument in voltage mode"
   ]
  },
  {
   "cell_type": "code",
   "execution_count": 43,
   "id": "b91ce58a-6e42-48c3-b1e5-2b5091607a75",
   "metadata": {},
   "outputs": [
    {
     "name": "stdout",
     "output_type": "stream",
     "text": [
      "adding node GS200\n",
      "adding node GS200_program\n",
      "adding node GS200_current_source\n",
      "adding node GS200_voltage_source\n",
      "GS200_program\n",
      "GS200_current_source\n",
      "GS200_voltage_source\n"
     ]
    }
   ],
   "source": [
    "a = gs200.instrument_graph"
   ]
  },
  {
   "cell_type": "code",
   "execution_count": 44,
   "id": "e4ea3d31-d828-4e21-bfb8-be02dda1414d",
   "metadata": {},
   "outputs": [],
   "source": [
    "gs200.source_mode(\"VOLT\")"
   ]
  },
  {
   "cell_type": "code",
   "execution_count": 45,
   "id": "bcb19613-131d-4cbc-843e-c2740532d181",
   "metadata": {},
   "outputs": [
    {
     "name": "stdout",
     "output_type": "stream",
     "text": [
      "adding node GS200\n",
      "adding node GS200_program\n",
      "adding node GS200_current_source\n",
      "adding node GS200_voltage_source\n",
      "GS200_program\n",
      "GS200_current_source\n",
      "GS200_voltage_source\n"
     ]
    },
    {
     "data": {
      "application/vnd.jupyter.widget-view+json": {
       "model_id": "c1df6b79718a4065ab01357447ff0d19",
       "version_major": 2,
       "version_minor": 0
      },
      "text/plain": [
       "HBox(children=(CytoscapeWidget(cytoscape_layout={'name': 'cola', 'avoidOverlap': True, 'maxSimulationTime': 40…"
      ]
     },
     "metadata": {},
     "output_type": "display_data"
    }
   ],
   "source": [
    "draw(gs200.instrument_graph)"
   ]
  },
  {
   "cell_type": "markdown",
   "id": "3e3358ca-1cab-4475-8fca-59db2f41c3bc",
   "metadata": {},
   "source": [
    "Here we see that the voltage source and the edge from main instrument to voltage source are marked active (Green and blue respectively)"
   ]
  },
  {
   "cell_type": "code",
   "execution_count": 46,
   "id": "9fa24138-cff3-4dd5-8b8c-34c31e6127fa",
   "metadata": {},
   "outputs": [
    {
     "data": {
      "text/plain": [
       "<EdgeStatus.INACTIVE_ELECTRICAL_CONNECTION: 'inactive_electrical_connection'>"
      ]
     },
     "execution_count": 46,
     "metadata": {},
     "output_type": "execute_result"
    }
   ],
   "source": [
    "a[('GS200', 'GS200_current_source')].activator.status"
   ]
  },
  {
   "cell_type": "code",
   "execution_count": 47,
   "id": "c29075fc-9ebf-4ad6-b824-179ef35bcd96",
   "metadata": {},
   "outputs": [
    {
     "data": {
      "text/plain": [
       "<EdgeStatus.ACTIVE_ELECTRICAL_CONNECTION: 'active_electrical_connection'>"
      ]
     },
     "execution_count": 47,
     "metadata": {},
     "output_type": "execute_result"
    }
   ],
   "source": [
    "a[('GS200', 'GS200_voltage_source')].activator.status"
   ]
  },
  {
   "cell_type": "code",
   "execution_count": 48,
   "id": "14a3d70e-7fba-4ab1-b085-625d956f766a",
   "metadata": {},
   "outputs": [
    {
     "data": {
      "text/plain": [
       "<NodeStatus.INACTIVE: 'inactive'>"
      ]
     },
     "execution_count": 48,
     "metadata": {},
     "output_type": "execute_result"
    }
   ],
   "source": [
    "a[('GS200')].activator.status"
   ]
  },
  {
   "cell_type": "code",
   "execution_count": 49,
   "id": "d3440075-f375-4e37-82f6-7b56cf528933",
   "metadata": {},
   "outputs": [
    {
     "data": {
      "text/plain": [
       "<NodeStatus.ACTIVE: 'active'>"
      ]
     },
     "execution_count": 49,
     "metadata": {},
     "output_type": "execute_result"
    }
   ],
   "source": [
    "a[('GS200_voltage_source')].activator.status"
   ]
  },
  {
   "cell_type": "code",
   "execution_count": 50,
   "id": "52318df2-1269-41e0-995d-394e92b79e9f",
   "metadata": {},
   "outputs": [
    {
     "data": {
      "text/plain": [
       "<NodeStatus.INACTIVE: 'inactive'>"
      ]
     },
     "execution_count": 50,
     "metadata": {},
     "output_type": "execute_result"
    }
   ],
   "source": [
    "a[('GS200_current_source')].activator.status"
   ]
  },
  {
   "cell_type": "markdown",
   "id": "4ba002f2-dfb7-48b9-baa2-16a4394d6ed8",
   "metadata": {},
   "source": [
    "And we can see that the status of the repective edges/nodes matches this."
   ]
  },
  {
   "cell_type": "markdown",
   "id": "087f8279-6525-404d-a77f-903674e3419a",
   "metadata": {},
   "source": [
    "Switching to current mode we can see that things have switched"
   ]
  },
  {
   "cell_type": "code",
   "execution_count": 52,
   "id": "dfcbdb3e-1198-4d48-9087-2c33c42d3e99",
   "metadata": {},
   "outputs": [],
   "source": [
    "gs200.source_mode(\"CURR\")"
   ]
  },
  {
   "cell_type": "code",
   "execution_count": 53,
   "id": "2b3823b5-3bc9-4a0a-9243-572b3eb4ce8d",
   "metadata": {},
   "outputs": [
    {
     "data": {
      "text/plain": [
       "<EdgeStatus.ACTIVE_ELECTRICAL_CONNECTION: 'active_electrical_connection'>"
      ]
     },
     "execution_count": 53,
     "metadata": {},
     "output_type": "execute_result"
    }
   ],
   "source": [
    "a[('GS200', 'GS200_current_source')].activator.status"
   ]
  },
  {
   "cell_type": "code",
   "execution_count": 54,
   "id": "99d1f076-22a2-4aa0-af36-ced31ae512a9",
   "metadata": {},
   "outputs": [
    {
     "data": {
      "text/plain": [
       "<EdgeStatus.INACTIVE_ELECTRICAL_CONNECTION: 'inactive_electrical_connection'>"
      ]
     },
     "execution_count": 54,
     "metadata": {},
     "output_type": "execute_result"
    }
   ],
   "source": [
    "a[('GS200', 'GS200_voltage_source')].activator.status"
   ]
  },
  {
   "cell_type": "code",
   "execution_count": 55,
   "id": "529b7281-314a-40d0-83f0-c11b4d46f792",
   "metadata": {},
   "outputs": [
    {
     "data": {
      "text/plain": [
       "<NodeStatus.INACTIVE: 'inactive'>"
      ]
     },
     "execution_count": 55,
     "metadata": {},
     "output_type": "execute_result"
    }
   ],
   "source": [
    "a[('GS200')].activator.status"
   ]
  },
  {
   "cell_type": "code",
   "execution_count": 56,
   "id": "6e8ca325-4307-4ae3-93af-cdfe473dde88",
   "metadata": {},
   "outputs": [
    {
     "data": {
      "text/plain": [
       "<NodeStatus.ACTIVE: 'active'>"
      ]
     },
     "execution_count": 56,
     "metadata": {},
     "output_type": "execute_result"
    }
   ],
   "source": [
    "a[('GS200_current_source')].activator.status"
   ]
  },
  {
   "cell_type": "code",
   "execution_count": 57,
   "id": "5259376d-3519-4c0b-a959-f4b1d867bec0",
   "metadata": {},
   "outputs": [
    {
     "data": {
      "text/plain": [
       "<EdgeStatus.INACTIVE_ELECTRICAL_CONNECTION: 'inactive_electrical_connection'>"
      ]
     },
     "execution_count": 57,
     "metadata": {},
     "output_type": "execute_result"
    }
   ],
   "source": [
    "a[('GS200', 'GS200_voltage_source')].activator.status"
   ]
  },
  {
   "cell_type": "code",
   "execution_count": 58,
   "id": "ce138610-912f-4b2e-9c90-bd9ef638d269",
   "metadata": {},
   "outputs": [
    {
     "data": {
      "text/plain": [
       "<NodeStatus.INACTIVE: 'inactive'>"
      ]
     },
     "execution_count": 58,
     "metadata": {},
     "output_type": "execute_result"
    }
   ],
   "source": [
    "a[('GS200_voltage_source')].activator.status"
   ]
  },
  {
   "cell_type": "code",
   "execution_count": 60,
   "id": "fbdff71b-eeb8-44a4-8d54-4496df919624",
   "metadata": {},
   "outputs": [
    {
     "name": "stdout",
     "output_type": "stream",
     "text": [
      "adding node GS200\n",
      "adding node GS200_program\n",
      "adding node GS200_current_source\n",
      "adding node GS200_voltage_source\n",
      "GS200_program\n",
      "GS200_current_source\n",
      "GS200_voltage_source\n"
     ]
    },
    {
     "data": {
      "application/vnd.jupyter.widget-view+json": {
       "model_id": "9e161d453f26466c81c8a8b7e8e53b2c",
       "version_major": 2,
       "version_minor": 0
      },
      "text/plain": [
       "HBox(children=(CytoscapeWidget(cytoscape_layout={'name': 'cola', 'avoidOverlap': True, 'maxSimulationTime': 40…"
      ]
     },
     "metadata": {},
     "output_type": "display_data"
    }
   ],
   "source": [
    "draw(gs200.instrument_graph)"
   ]
  },
  {
   "cell_type": "markdown",
   "id": "cc8c957c-4470-41d1-8ad4-f3197c96775a",
   "metadata": {},
   "source": [
    "## Implementation\n",
    "\n",
    "### General implementation\n",
    "A node is a class that implements the following interface. This means that an InsturmentModule in it self is a node\n",
    "```python\n",
    "class Node(Protocol):\n",
    "\n",
    "    parameters: Dict[str, _BaseParameter]\n",
    "    instrument_modules: Dict[str, InstrumentModule]\n",
    "\n",
    "    @property\n",
    "    def short_name(self) -> str:\n",
    "        \"\"\"Short name of the instrument\"\"\"\n",
    "        pass\n",
    "\n",
    "    @property\n",
    "    def full_name(self) -> str:\n",
    "        \"\"\"Unique name of the Port with elements separated by .\n",
    "        Equivalent to parent.name + . + self.short_name\n",
    "        \"\"\"\n",
    "        pass\n",
    "\n",
    "    @property\n",
    "    def activator(self) -> NodeActivator:\n",
    "        ...class Node(Protocol):\n",
    "\n",
    "    parameters: Dict[str, _BaseParameter]\n",
    "    instrument_modules: Dict[str, InstrumentModule]\n",
    "\n",
    "    @property\n",
    "    def short_name(self) -> str:\n",
    "        \"\"\"Short name of the instrument\"\"\"\n",
    "        pass\n",
    "\n",
    "    @property\n",
    "    def full_name(self) -> str:\n",
    "        \"\"\"Unique name of the Port with elements separated by .\n",
    "        Equivalent to parent.name + . + self.short_name\n",
    "        \"\"\"\n",
    "        pass\n",
    "\n",
    "    @property\n",
    "    def activator(self) -> NodeActivator:\n",
    "        ...\n",
    "\n",
    "```\n",
    "\n",
    "Where the Activator implements the following protocol. (This currently contains the logic from QChar nodes) \n",
    "With a few changes. Status is an Enum (so it can contain more values than just off and on) It is possible to query the status\n",
    "\n",
    "```python\n",
    "class NodeActivator(abc.ABC):\n",
    "    def __init__(self, *, node: Node):\n",
    "        self._node = node\n",
    "        self._status = NodeStatus.INACTIVE\n",
    "\n",
    "    @property\n",
    "    @abc.abstractmethod\n",
    "    def parameters(self) -> Iterable[Parameter]:\n",
    "        pass\n",
    "\n",
    "    def add_source(self, source: Node) -> None:\n",
    "        _LOG.info(f\"Adding Source {source.full_name} to Node: {self.node.full_name}\")\n",
    "\n",
    "    def remove_source(self, source: Node) -> None:\n",
    "        _LOG.info(\n",
    "            f\"Removing Source {source.full_name} from Node: {self.node.full_name}\"\n",
    "        )\n",
    "\n",
    "    def activate(self) -> None:\n",
    "        _LOG.info(f\"Activating Node: {self.node.full_name}\")\n",
    "\n",
    "    def deactivate(self) -> None:\n",
    "        _LOG.info(f\"Deactivating Node: {self.node.full_name}\")\n",
    "\n",
    "    @property\n",
    "    def node(self) -> Node:\n",
    "        return self._node\n",
    "\n",
    "    @abc.abstractmethod\n",
    "    def upstream_nodes(self) -> Iterable[Node]:\n",
    "        # todo naming\n",
    "        pass\n",
    "\n",
    "    @abc.abstractmethod\n",
    "    def connection_attributes(self) -> Dict[str, Dict[NodeId, ConnectionAttributeType]]:\n",
    "        pass\n",
    "\n",
    "    @property\n",
    "    def status(self) -> NodeStatus:\n",
    "        return self._statusclass NodeActivator(abc.ABC):\n",
    "    def __init__(self, *, node: Node):\n",
    "        self._node = node\n",
    "        self._status = NodeStatus.INACTIVE\n",
    "\n",
    "    @property\n",
    "    @abc.abstractmethod\n",
    "    def parameters(self) -> Iterable[Parameter]:\n",
    "        pass\n",
    "\n",
    "    def add_source(self, source: Node) -> None:\n",
    "        _LOG.info(f\"Adding Source {source.full_name} to Node: {self.node.full_name}\")\n",
    "\n",
    "    def remove_source(self, source: Node) -> None:\n",
    "        _LOG.info(\n",
    "            f\"Removing Source {source.full_name} from Node: {self.node.full_name}\"\n",
    "        )\n",
    "\n",
    "    def activate(self) -> None:\n",
    "        _LOG.info(f\"Activating Node: {self.node.full_name}\")\n",
    "\n",
    "    def deactivate(self) -> None:\n",
    "        _LOG.info(f\"Deactivating Node: {self.node.full_name}\")\n",
    "\n",
    "    @property\n",
    "    def node(self) -> Node:\n",
    "        return self._node\n",
    "\n",
    "    @abc.abstractmethod\n",
    "    def upstream_nodes(self) -> Iterable[Node]:\n",
    "        # todo naming\n",
    "        pass\n",
    "\n",
    "    @abc.abstractmethod\n",
    "    def connection_attributes(self) -> Dict[str, Dict[NodeId, ConnectionAttributeType]]:\n",
    "        pass\n",
    "\n",
    "    @property\n",
    "    def status(self) -> NodeStatus:\n",
    "        return self._status\n",
    "```\n",
    "\n",
    "\n",
    "This means that it is possible to generically implement this interface for all instruments with a node for each instrument module.\n",
    "\n",
    "\n",
    "\n",
    "\n"
   ]
  },
  {
   "cell_type": "markdown",
   "id": "38e06f71-e885-4ad4-8909-e2ac526267a4",
   "metadata": {},
   "source": [
    "### Specific implementation\n",
    "\n",
    "\n",
    "To implement the necessary logic the GS200 driver has its own implementation of `_make_instrument_graph`\n",
    "Which importantly uses a activator that has a mode that depends on the state of a given parameter \n",
    "\n",
    "```python\n",
    "    def _make_instrument_graph(self) -> \"StationGraph\":\n",
    "        subgraph_primary_node_names = []\n",
    "        self_graph = MutableStationGraph()\n",
    "        self_graph[self.full_name] = self\n",
    "        subgraphs = [self_graph]\n",
    "        for submodule in self.instrument_modules.values():\n",
    "            subgraph = submodule._make_graph()\n",
    "            subgraph_primary_node_names.append(submodule.full_name)\n",
    "            subgraphs.append(subgraph)\n",
    "\n",
    "        graph = MutableStationGraph.compose(*subgraphs)\n",
    "\n",
    "        for name in subgraph_primary_node_names:\n",
    "            if \"current_source\" in name:\n",
    "                activator = SourceEdgeActivator(\n",
    "                    status_parameter=self.source_mode, active_state=\"CURR\"\n",
    "                )\n",
    "            elif \"voltage_source\" in name:\n",
    "                activator = SourceEdgeActivator(\n",
    "                    status_parameter=self.source_mode, active_state=\"VOLT\"\n",
    "                )\n",
    "            else:\n",
    "                activator = BasicEdgeActivator(edge_status=EdgeStatus.PART_OF)\n",
    "\n",
    "            graph[self.full_name, name] = Edge(activator=activator)\n",
    "\n",
    "        return graph.as_station_graph()\n",
    "```\n",
    "\n",
    "And by using a custom activator on the current and voltage source modules which also reads its status from a parameter.\n",
    "\n",
    "\n",
    "```python\n",
    "        self._activator: NodeActivator = SourceModuleActivator(\n",
    "            node=self,\n",
    "            parent=self.parent,\n",
    "            active_state=\"VOLT\",\n",
    "            inactive_state=\"CURR\",\n",
    "            status_parameter=self.root_instrument.source_mode,\n",
    "        )\n",
    "        \n",
    " ```python\n",
    "class NodeActivator(abc.ABC):\n",
    "    def __init__(self, *, node: Node):\n",
    "        self._node = node\n",
    "        self._status = NodeStatus.INACTIVE\n",
    "\n",
    "    @property\n",
    "    @abc.abstractmethod\n",
    "    def parameters(self) -> Iterable[Parameter]:\n",
    "        pass\n",
    "\n",
    "    def add_source(self, source: Node) -> None:\n",
    "        _LOG.info(f\"Adding Source {source.full_name} to Node: {self.node.full_name}\")\n",
    "\n",
    "    def remove_source(self, source: Node) -> None:\n",
    "        _LOG.info(\n",
    "            f\"Removing Source {source.full_name} from Node: {self.node.full_name}\"\n",
    "        )\n",
    "\n",
    "    def activate(self) -> None:\n",
    "        _LOG.info(f\"Activating Node: {self.node.full_name}\")\n",
    "\n",
    "    def deactivate(self) -> None:\n",
    "        _LOG.info(f\"Deactivating Node: {self.node.full_name}\")\n",
    "\n",
    "    @property\n",
    "    def node(self) -> Node:\n",
    "        return self._node\n",
    "\n",
    "    @abc.abstractmethod\n",
    "    def upstream_nodes(self) -> Iterable[Node]:\n",
    "        # todo naming\n",
    "        pass\n",
    "\n",
    "    @abc.abstractmethod\n",
    "    def connection_attributes(self) -> Dict[str, Dict[NodeId, ConnectionAttributeType]]:\n",
    "        pass\n",
    "\n",
    "    @property\n",
    "    def status(self) -> NodeStatus:\n",
    "        return self._statusclass NodeActivator(abc.ABC):\n",
    "    def __init__(self, *, node: Node):\n",
    "        self._node = node\n",
    "        self._status = NodeStatus.INACTIVE\n",
    "\n",
    "    @property\n",
    "    @abc.abstractmethod\n",
    "    def parameters(self) -> Iterable[Parameter]:\n",
    "        pass\n",
    "\n",
    "    def add_source(self, source: Node) -> None:\n",
    "        _LOG.info(f\"Adding Source {source.full_name} to Node: {self.node.full_name}\")\n",
    "\n",
    "    def remove_source(self, source: Node) -> None:\n",
    "        _LOG.info(\n",
    "            f\"Removing Source {source.full_name} from Node: {self.node.full_name}\"\n",
    "        )\n",
    "\n",
    "    def activate(self) -> None:\n",
    "        _LOG.info(f\"Activating Node: {self.node.full_name}\")\n",
    "\n",
    "    def deactivate(self) -> None:\n",
    "        _LOG.info(f\"Deactivating Node: {self.node.full_name}\")\n",
    "\n",
    "    @property\n",
    "    def node(self) -> Node:\n",
    "        return self._node\n",
    "\n",
    "    @abc.abstractmethod\n",
    "    def upstream_nodes(self) -> Iterable[Node]:\n",
    "        # todo naming\n",
    "        pass\n",
    "\n",
    "    @abc.abstractmethod\n",
    "    def connection_attributes(self) -> Dict[str, Dict[NodeId, ConnectionAttributeType]]:\n",
    "        pass\n",
    "\n",
    "    @property\n",
    "    def status(self) -> NodeStatus:\n",
    "        return self._status\n",
    "```"
   ]
  },
  {
   "cell_type": "markdown",
   "id": "86bcf84f-ef76-420b-9a1d-da362d9e3391",
   "metadata": {},
   "source": [
    "## Missing / Open Questions at the moment.\n",
    "\n",
    "\n",
    "1. How do we enable/disable instrument modules when switching modes. \n",
    "    1. Remove the module/ Move to a private module and perhaps replace with empty dummy module. This modifies the state of the instrument, makes typechecking less powerful.\n",
    "       Module is not shapshotted since its not there anymore\n",
    "    2. Let parameters get/set check that the module they are bound to is not marked as inactivate. This would require extending the parameter to check status of its bound instrument when getting/setting.\n",
    "       Using this implementation the . \n",
    "       \n",
    "1. It would probably also be beneficial to be able to invalidate the cache of all parameters in a instrument module (since its not clear that switching from current to voltage and back to current mode would leave all current related parameters as they were)\n",
    "\n",
    "1. How should parameter forwarding work. Currently the interface suggests that you can do list(gs200.activator.upstream_nodes())[0] to get the source / current module depending on mode. This is less than ideal\n",
    "\n",
    "\n",
    "1. Visualization.\n",
    "    1. Style is obviously sub optimal\n",
    "    2. Currently The graph is directly linked to a the status of the relevant mode parameters as shown above. However the graph when drawn is not interactive (need to call draw again)\n",
    "    \n",
    "\n",
    "\n"
   ]
  },
  {
   "cell_type": "code",
   "execution_count": null,
   "id": "c847d6a7-e381-4d29-a177-ef06eb535eb5",
   "metadata": {},
   "outputs": [],
   "source": []
  }
 ],
 "metadata": {
  "kernelspec": {
   "display_name": "Python 3 (ipykernel)",
   "language": "python",
   "name": "python3"
  },
  "language_info": {
   "codemirror_mode": {
    "name": "ipython",
    "version": 3
   },
   "file_extension": ".py",
   "mimetype": "text/x-python",
   "name": "python",
   "nbconvert_exporter": "python",
   "pygments_lexer": "ipython3",
   "version": "3.8.12"
  },
  "widgets": {
   "application/vnd.jupyter.widget-state+json": {
    "state": {
     "04de2eb3efaa4b64874e982f7b8f4d74": {
      "model_module": "jupyter-cytoscape",
      "model_module_version": "^1.3.3",
      "model_name": "GraphModel",
      "state": {
       "_adj": {},
       "_model_module_version": "^1.3.3",
       "_view_module": "jupyter-cytoscape",
       "_view_module_version": "^1.3.3"
      }
     },
     "0bb1eebb40184ac38b4b9e7008cc2773": {
      "model_module": "@jupyter-widgets/base",
      "model_module_version": "1.2.0",
      "model_name": "LayoutModel",
      "state": {}
     },
     "11126a1be8734ee5a4d964f1bc9dc910": {
      "model_module": "jupyter-cytoscape",
      "model_module_version": "^1.3.3",
      "model_name": "GraphModel",
      "state": {
       "_adj": {
        "GS200": {
         "GS200_current_source": 1,
         "GS200_voltage_source": 1
        },
        "GS200_current_source": {},
        "GS200_program": {},
        "GS200_voltage_source": {}
       },
       "_model_module_version": "^1.3.3",
       "_view_module": "jupyter-cytoscape",
       "_view_module_version": "^1.3.3",
       "edges": [
        "IPY_MODEL_812fc230b70a40129c2928bcd26f2f96",
        "IPY_MODEL_20ff6fe8b529450b9e07375c9bf21413"
       ],
       "nodes": [
        "IPY_MODEL_5b060a4b8bbe4009ac5e7bc46a62914e",
        "IPY_MODEL_ddeaac3ead0143ce94fd90b660f299db",
        "IPY_MODEL_e9cbaa4acb614c25972d6f104c02d15e",
        "IPY_MODEL_c8d0f41a510045cd9c8281b06cd86cca"
       ]
      }
     },
     "1318bd852f934fb29e8f02a9c2001701": {
      "model_module": "@jupyter-widgets/base",
      "model_module_version": "1.2.0",
      "model_name": "LayoutModel",
      "state": {}
     },
     "1868bde2fa5045c2a6025aa969171e2f": {
      "model_module": "jupyter-cytoscape",
      "model_module_version": "^1.3.3",
      "model_name": "NodeModel",
      "state": {
       "_model_module_version": "^1.3.3",
       "_view_module_version": "^1.3.3",
       "classes": "NodeStatus_INACTIVE",
       "data": {
        "id": "GS200_voltage_source",
        "parent": "GS200"
       },
       "grabbable": true,
       "grabbed": false,
       "position": {
        "x": 996.9411762176471,
        "y": 220.7846196816798
       },
       "selectable": false
      }
     },
     "1fdf5bb71c2d43afbabe171e2ed0245a": {
      "model_module": "jupyter-cytoscape",
      "model_module_version": "^1.3.3",
      "model_name": "NodeModel",
      "state": {
       "_model_module_version": "^1.3.3",
       "_view_module_version": "^1.3.3",
       "classes": "NodeStatus_INACTIVE",
       "data": {
        "id": "GS200_voltage_source",
        "parent": "GS200"
       },
       "grabbable": true,
       "grabbed": false,
       "position": {
        "x": 1023.5,
        "y": 222.01991381109156
       },
       "selectable": false
      }
     },
     "1fed4c2601bc409584c240e7ab3c7c86": {
      "model_module": "jupyter-cytoscape",
      "model_module_version": "^1.3.3",
      "model_name": "NodeModel",
      "state": {
       "_model_module_version": "^1.3.3",
       "_view_module_version": "^1.3.3",
       "classes": "NodeStatus_INACTIVE",
       "data": {
        "id": "GS200_current_source",
        "parent": "GS200"
       },
       "grabbable": true,
       "grabbed": false,
       "position": {
        "x": 1199.009994814654,
        "y": 162.13755977579743
       },
       "selectable": false
      }
     },
     "20ff6fe8b529450b9e07375c9bf21413": {
      "model_module": "jupyter-cytoscape",
      "model_module_version": "^1.3.3",
      "model_name": "EdgeModel",
      "state": {
       "_model_module_version": "^1.3.3",
       "_view_module_version": "^1.3.3",
       "classes": "EdgeStatus_ACTIVE_ELECTRICAL_CONNECTION directed ",
       "data": {
        "id": "735b55f5-9197-49d7-9096-b5ae4b0c3a9f",
        "source": "GS200",
        "target": "GS200_voltage_source"
       },
       "selectable": false
      }
     },
     "257f73d1841e4edaac91e6aa58c34419": {
      "model_module": "jupyter-cytoscape",
      "model_module_version": "^1.3.3",
      "model_name": "CytoscapeModel",
      "state": {
       "_interaction_handlers": {},
       "_model_module_version": "^1.3.3",
       "_view_module_version": "^1.3.3",
       "auto_ungrabify": false,
       "autolock": false,
       "cytoscape_layout": {
        "avoidOverlap": true,
        "maxSimulationTime": 4000,
        "name": "cola"
       },
       "cytoscape_style": [
        {
         "css": {
          "background-color": "#11479e",
          "color": "white",
          "content": "data(id)",
          "text-outline-color": "#11479e",
          "text-outline-width": 2,
          "text-valign": "center"
         },
         "selector": "node"
        },
        {
         "css": {
          "background-color": "red"
         },
         "selector": "node.NodeStatus_INACTIVE"
        },
        {
         "css": {
          "background-opacity": 0.333
         },
         "selector": "node:parent"
        },
        {
         "css": {
          "background-color": "black",
          "line-color": "black",
          "source-arrow-color": "black",
          "target-arrow-color": "black",
          "text-outline-color": "black"
         },
         "selector": ":selected"
        },
        {
         "selector": "edge",
         "style": {
          "line-color": "#9dbaea",
          "width": 4
         }
        },
        {
         "selector": "edge.EdgeStatus_ACTIVE_ELECTRICAL_CONNECTION",
         "style": {
          "curve-style": "haystack",
          "line-color": "green",
          "target-arrow-color": "#9dbaea",
          "target-arrow-shape": "triangle"
         }
        },
        {
         "selector": "edge.EdgeStatus_INACTIVE_ELECTRICAL_CONNECTION",
         "style": {
          "curve-style": "haystack",
          "line-color": "red",
          "target-arrow-color": "red",
          "target-arrow-shape": "triangle"
         }
        },
        {
         "selector": "edge.EdgeStatus_PART_OF",
         "style": {
          "curve-style": "haystack",
          "line-color": "green",
          "target-arrow-color": "green",
          "target-arrow-shape": "triangle"
         }
        },
        {
         "selector": "edge.multiple_edges",
         "style": {
          "curve-style": "haystack"
         }
        }
       ],
       "desktop_tap_threshold": 4,
       "graph": "IPY_MODEL_11126a1be8734ee5a4d964f1bc9dc910",
       "headless": false,
       "hide_edges_on_viewport": false,
       "layout": "IPY_MODEL_0bb1eebb40184ac38b4b9e7008cc2773",
       "max_zoom": 5,
       "min_zoom": 0.2,
       "motion_blur": false,
       "motion_blur_opacity": 0.2,
       "panning_enabled": true,
       "pixel_ratio": "auto",
       "rendered_position": {
        "renderedPosition": {
         "x": 100,
         "y": 100
        }
       },
       "selection_type": "single",
       "style_enabled": true,
       "texture_on_viewport": false,
       "tooltip_source": "tooltip",
       "touch_tap_threshold": 8,
       "user_panning_enabled": true,
       "user_zooming_enabled": true,
       "wheel_sensitivity": 0.1,
       "zoom": 2,
       "zooming_enabled": true
      }
     },
     "2c46b2d066644846a5888cd6af56383f": {
      "model_module": "jupyter-cytoscape",
      "model_module_version": "^1.3.3",
      "model_name": "GraphModel",
      "state": {
       "_adj": {
        "GS200": {
         "GS200_current_source": 1,
         "GS200_voltage_source": 1
        },
        "GS200_current_source": {},
        "GS200_program": {},
        "GS200_voltage_source": {}
       },
       "_model_module_version": "^1.3.3",
       "_view_module": "jupyter-cytoscape",
       "_view_module_version": "^1.3.3",
       "edges": [
        "IPY_MODEL_fff4491f1f5e41a49a20bf83af7a7589",
        "IPY_MODEL_f43abd27fae0477b9fe495e627615b6f"
       ],
       "nodes": [
        "IPY_MODEL_909bf83a5a1d40a89d862bb6992ea6c0",
        "IPY_MODEL_d36d4904a9b3420c8c31267b4fce49d2",
        "IPY_MODEL_c428d0078db34b88a6b9fdb4b988acaf",
        "IPY_MODEL_1fdf5bb71c2d43afbabe171e2ed0245a"
       ]
      }
     },
     "2e028d5cc8324e508bf1cb04f3c39996": {
      "model_module": "jupyter-cytoscape",
      "model_module_version": "^1.3.3",
      "model_name": "EdgeModel",
      "state": {
       "_model_module_version": "^1.3.3",
       "_view_module_version": "^1.3.3",
       "classes": "EdgeStatus_INACTIVE_ELECTRICAL_CONNECTION directed ",
       "data": {
        "id": "57294f61-6290-4d3b-936f-167840707fcd",
        "source": "GS200",
        "target": "GS200_current_source"
       },
       "selectable": false
      }
     },
     "2e70113f5b144ba4a65fbd0625095c23": {
      "model_module": "@jupyter-widgets/base",
      "model_module_version": "1.2.0",
      "model_name": "LayoutModel",
      "state": {}
     },
     "34af9d56a11e4f5083e782e231d6b057": {
      "model_module": "@jupyter-widgets/controls",
      "model_module_version": "1.5.0",
      "model_name": "HBoxModel",
      "state": {
       "children": [
        "IPY_MODEL_71b7f21287fe48729645bcabc8db0071"
       ],
       "layout": "IPY_MODEL_9a4c48f57ebd4047b0607d3ad5a220a3"
      }
     },
     "3c096b146e244792a0729788f9017abf": {
      "model_module": "@jupyter-widgets/base",
      "model_module_version": "1.2.0",
      "model_name": "LayoutModel",
      "state": {}
     },
     "40991a1000104cc9aacf136aa5b46994": {
      "model_module": "@jupyter-widgets/base",
      "model_module_version": "1.2.0",
      "model_name": "LayoutModel",
      "state": {}
     },
     "4413a031289548b2a0f00911b806d77b": {
      "model_module": "@jupyter-widgets/base",
      "model_module_version": "1.2.0",
      "model_name": "LayoutModel",
      "state": {}
     },
     "4a305d043122454484bea73851a07136": {
      "model_module": "jupyter-cytoscape",
      "model_module_version": "^1.3.3",
      "model_name": "NodeModel",
      "state": {
       "_model_module_version": "^1.3.3",
       "_view_module_version": "^1.3.3",
       "classes": "NodeStatus_INACTIVE",
       "data": {
        "id": "GS200_program",
        "parent": "GS200"
       },
       "grabbable": true,
       "grabbed": false,
       "position": {
        "x": 1018.068816097007,
        "y": 172.01991281109156
       },
       "selectable": false
      }
     },
     "4b582f2515d845489a65e090241033c8": {
      "model_module": "jupyter-cytoscape",
      "model_module_version": "^1.3.3",
      "model_name": "NodeModel",
      "state": {
       "_model_module_version": "^1.3.3",
       "_view_module_version": "^1.3.3",
       "classes": "NodeStatus_INACTIVE",
       "data": {
        "id": "GS200_program",
        "parent": "GS200"
       },
       "grabbable": true,
       "grabbed": false,
       "position": {
        "x": 1662.3254967141866,
        "y": 318.3441491946824
       },
       "selectable": false
      }
     },
     "4c07f4b3d5654451966f2da9028a987c": {
      "model_module": "jupyter-cytoscape",
      "model_module_version": "^1.3.3",
      "model_name": "NodeModel",
      "state": {
       "_model_module_version": "^1.3.3",
       "_view_module_version": "^1.3.3",
       "classes": "NodeStatus_ACTIVE",
       "data": {
        "id": "GS200_current_source",
        "parent": "GS200"
       },
       "grabbable": true,
       "grabbed": false,
       "position": {
        "x": 1712.3254977141864,
        "y": 318.3441491946824
       },
       "selectable": false
      }
     },
     "4de62c0111304b718c2da775de62cb27": {
      "model_module": "@jupyter-widgets/controls",
      "model_module_version": "1.5.0",
      "model_name": "HBoxModel",
      "state": {
       "children": [
        "IPY_MODEL_79bc6b2297a34965b993d26772e74e88"
       ],
       "layout": "IPY_MODEL_cb0765c3e37e49b68613c47542598aee"
      }
     },
     "50b02559c1664fb2a5bcf60f77f54623": {
      "model_module": "jupyter-cytoscape",
      "model_module_version": "^1.3.3",
      "model_name": "NodeModel",
      "state": {
       "_model_module_version": "^1.3.3",
       "_view_module_version": "^1.3.3",
       "classes": "NodeStatus_ACTIVE",
       "data": {
        "id": "GS200_voltage_source",
        "parent": "GS200"
       },
       "grabbable": true,
       "grabbed": false,
       "position": {
        "x": 1023.5,
        "y": 222.01991381109156
       },
       "selectable": false
      }
     },
     "56d042e1a7a945ee9a4f9d2622d60bff": {
      "model_module": "jupyter-cytoscape",
      "model_module_version": "^1.3.3",
      "model_name": "GraphModel",
      "state": {
       "_adj": {
        "GS200": {},
        "GS200_current_source": {},
        "GS200_program": {},
        "GS200_voltage_source": {}
       },
       "_model_module_version": "^1.3.3",
       "_view_module": "jupyter-cytoscape",
       "_view_module_version": "^1.3.3",
       "edges": [
        "IPY_MODEL_768b4a1fc66343b691d1369433c2abc0",
        "IPY_MODEL_d5c7392b9d614622b6d9743c8569c552"
       ],
       "nodes": [
        "IPY_MODEL_74afe08fda454ecc9903320491fa2b94",
        "IPY_MODEL_4b582f2515d845489a65e090241033c8",
        "IPY_MODEL_4c07f4b3d5654451966f2da9028a987c",
        "IPY_MODEL_639e9359802e49d9a6e5a7f836dd8b30"
       ]
      }
     },
     "5b060a4b8bbe4009ac5e7bc46a62914e": {
      "model_module": "jupyter-cytoscape",
      "model_module_version": "^1.3.3",
      "model_name": "NodeModel",
      "state": {
       "_model_module_version": "^1.3.3",
       "_view_module_version": "^1.3.3",
       "classes": "NodeStatus_INACTIVE",
       "data": {
        "id": "GS200"
       },
       "grabbable": true,
       "grabbed": false,
       "position": {
        "x": 1045.2844085485035,
        "y": 197.01991331109156
       },
       "selectable": false
      }
     },
     "639e9359802e49d9a6e5a7f836dd8b30": {
      "model_module": "jupyter-cytoscape",
      "model_module_version": "^1.3.3",
      "model_name": "NodeModel",
      "state": {
       "_model_module_version": "^1.3.3",
       "_view_module_version": "^1.3.3",
       "classes": "NodeStatus_INACTIVE",
       "data": {
        "id": "GS200_voltage_source",
        "parent": "GS200"
       },
       "grabbable": true,
       "grabbed": false,
       "position": {
        "x": 1761.251283826191,
        "y": 181.35494377665947
       },
       "selectable": false
      }
     },
     "67565ef47e8c4381af7a8868c2880baf": {
      "model_module": "jupyter-cytoscape",
      "model_module_version": "^1.3.3",
      "model_name": "NodeModel",
      "state": {
       "_model_module_version": "^1.3.3",
       "_view_module_version": "^1.3.3",
       "classes": "NodeStatus_ACTIVE",
       "data": {
        "id": "GS200_voltage_source",
        "parent": "GS200"
       },
       "grabbable": true,
       "grabbed": false,
       "position": {
        "x": 1023.5,
        "y": 222.01991381109156
       },
       "selectable": false
      }
     },
     "71856ae71d114fc09a97f237234c1de2": {
      "model_module": "jupyter-cytoscape",
      "model_module_version": "^1.3.3",
      "model_name": "EdgeModel",
      "state": {
       "_model_module_version": "^1.3.3",
       "_view_module_version": "^1.3.3",
       "classes": "EdgeStatus_INACTIVE_ELECTRICAL_CONNECTION directed ",
       "data": {
        "id": "40a0c573-4923-4271-816d-b7a3ce0a78c8",
        "source": "GS200",
        "target": "GS200_voltage_source"
       },
       "selectable": false
      }
     },
     "71b7f21287fe48729645bcabc8db0071": {
      "model_module": "jupyter-cytoscape",
      "model_module_version": "^1.3.3",
      "model_name": "CytoscapeModel",
      "state": {
       "_interaction_handlers": {},
       "_model_module_version": "^1.3.3",
       "_view_module_version": "^1.3.3",
       "auto_ungrabify": false,
       "autolock": false,
       "cytoscape_layout": {
        "avoidOverlap": true,
        "maxSimulationTime": 4000,
        "name": "cola"
       },
       "cytoscape_style": [
        {
         "css": {
          "background-color": "#11479e",
          "color": "white",
          "content": "data(id)",
          "text-outline-color": "#11479e",
          "text-outline-width": 2,
          "text-valign": "center"
         },
         "selector": "node"
        },
        {
         "css": {
          "background-color": "red"
         },
         "selector": "node.NodeStatus_INACTIVE"
        },
        {
         "css": {
          "background-opacity": 0.333
         },
         "selector": "node:parent"
        },
        {
         "css": {
          "background-color": "black",
          "line-color": "black",
          "source-arrow-color": "black",
          "target-arrow-color": "black",
          "text-outline-color": "black"
         },
         "selector": ":selected"
        },
        {
         "selector": "edge",
         "style": {
          "line-color": "#9dbaea",
          "width": 4
         }
        },
        {
         "selector": "edge.EdgeStatus_ACTIVE_ELECTRICAL_CONNECTION",
         "style": {
          "curve-style": "haystack",
          "line-color": "green",
          "target-arrow-color": "#9dbaea",
          "target-arrow-shape": "triangle"
         }
        },
        {
         "selector": "edge.EdgeStatus_INACTIVE_ELECTRICAL_CONNECTION",
         "style": {
          "curve-style": "haystack",
          "line-color": "red",
          "target-arrow-color": "red",
          "target-arrow-shape": "triangle"
         }
        },
        {
         "selector": "edge.EdgeStatus_PART_OF",
         "style": {
          "curve-style": "haystack",
          "line-color": "green",
          "target-arrow-color": "green",
          "target-arrow-shape": "triangle"
         }
        },
        {
         "selector": "edge.multiple_edges",
         "style": {
          "curve-style": "haystack"
         }
        }
       ],
       "desktop_tap_threshold": 4,
       "graph": "IPY_MODEL_2c46b2d066644846a5888cd6af56383f",
       "headless": false,
       "hide_edges_on_viewport": false,
       "layout": "IPY_MODEL_865470549a4d48d5a39947c7a46525e9",
       "max_zoom": 5,
       "min_zoom": 0.2,
       "motion_blur": false,
       "motion_blur_opacity": 0.2,
       "panning_enabled": true,
       "pixel_ratio": "auto",
       "rendered_position": {
        "renderedPosition": {
         "x": 100,
         "y": 100
        }
       },
       "selection_type": "single",
       "style_enabled": true,
       "texture_on_viewport": false,
       "tooltip_source": "tooltip",
       "touch_tap_threshold": 8,
       "user_panning_enabled": true,
       "user_zooming_enabled": true,
       "wheel_sensitivity": 0.1,
       "zoom": 2,
       "zooming_enabled": true
      }
     },
     "74afe08fda454ecc9903320491fa2b94": {
      "model_module": "jupyter-cytoscape",
      "model_module_version": "^1.3.3",
      "model_name": "NodeModel",
      "state": {
       "_model_module_version": "^1.3.3",
       "_view_module_version": "^1.3.3",
       "classes": "NodeStatus_INACTIVE",
       "data": {
        "id": "GS200"
       },
       "grabbable": true,
       "grabbed": false,
       "position": {
        "x": 1724.0383902701888,
        "y": 249.84954648567094
       },
       "selectable": false
      }
     },
     "768b4a1fc66343b691d1369433c2abc0": {
      "model_module": "jupyter-cytoscape",
      "model_module_version": "^1.3.3",
      "model_name": "EdgeModel",
      "state": {
       "_model_module_version": "^1.3.3",
       "_view_module_version": "^1.3.3",
       "classes": "EdgeStatus_ACTIVE_ELECTRICAL_CONNECTION directed ",
       "data": {
        "id": "6a91babf-d353-4fdb-abad-cf75713788ae",
        "source": "GS200",
        "target": "GS200_current_source"
       },
       "selectable": false
      }
     },
     "79bc6b2297a34965b993d26772e74e88": {
      "model_module": "jupyter-cytoscape",
      "model_module_version": "^1.3.3",
      "model_name": "CytoscapeModel",
      "state": {
       "_interaction_handlers": {},
       "_model_module_version": "^1.3.3",
       "_view_module_version": "^1.3.3",
       "auto_ungrabify": false,
       "autolock": false,
       "cytoscape_layout": {
        "avoidOverlap": true,
        "maxSimulationTime": 4000,
        "name": "cola"
       },
       "cytoscape_style": [
        {
         "css": {
          "background-color": "#11479e",
          "color": "white",
          "content": "data(id)",
          "text-outline-color": "#11479e",
          "text-outline-width": 2,
          "text-valign": "center"
         },
         "selector": "node"
        },
        {
         "css": {
          "background-color": "red"
         },
         "selector": "node.NodeStatus_INACTIVE"
        },
        {
         "css": {
          "background-opacity": 0.333
         },
         "selector": "node:parent"
        },
        {
         "css": {
          "background-color": "black",
          "line-color": "black",
          "source-arrow-color": "black",
          "target-arrow-color": "black",
          "text-outline-color": "black"
         },
         "selector": ":selected"
        },
        {
         "selector": "edge",
         "style": {
          "line-color": "#9dbaea",
          "width": 4
         }
        },
        {
         "selector": "edge.EdgeStatus_ACTIVE_ELECTRICAL_CONNECTION",
         "style": {
          "curve-style": "haystack",
          "line-color": "green",
          "target-arrow-color": "#9dbaea",
          "target-arrow-shape": "triangle"
         }
        },
        {
         "selector": "edge.EdgeStatus_INACTIVE_ELECTRICAL_CONNECTION",
         "style": {
          "curve-style": "haystack",
          "line-color": "red",
          "target-arrow-color": "red",
          "target-arrow-shape": "triangle"
         }
        },
        {
         "selector": "edge.EdgeStatus_PART_OF",
         "style": {
          "curve-style": "haystack",
          "line-color": "green",
          "target-arrow-color": "green",
          "target-arrow-shape": "triangle"
         }
        },
        {
         "selector": "edge.multiple_edges",
         "style": {
          "curve-style": "haystack"
         }
        }
       ],
       "desktop_tap_threshold": 4,
       "graph": "IPY_MODEL_aa4828786aac4f049f2c6eb4d346e7f3",
       "headless": false,
       "hide_edges_on_viewport": false,
       "layout": "IPY_MODEL_c1035a4b4fb2402f8e3403fcc550f669",
       "max_zoom": 5,
       "min_zoom": 0.2,
       "motion_blur": false,
       "motion_blur_opacity": 0.2,
       "panning_enabled": true,
       "pixel_ratio": "auto",
       "rendered_position": {
        "renderedPosition": {
         "x": 100,
         "y": 100
        }
       },
       "selection_type": "single",
       "style_enabled": true,
       "texture_on_viewport": false,
       "tooltip_source": "tooltip",
       "touch_tap_threshold": 8,
       "user_panning_enabled": true,
       "user_zooming_enabled": true,
       "wheel_sensitivity": 0.1,
       "zoom": 2,
       "zooming_enabled": true
      }
     },
     "7a233c0ae0694fe6953f2b0216cf1e51": {
      "model_module": "jupyter-cytoscape",
      "model_module_version": "^1.3.3",
      "model_name": "GraphModel",
      "state": {
       "_adj": {},
       "_model_module_version": "^1.3.3",
       "_view_module": "jupyter-cytoscape",
       "_view_module_version": "^1.3.3"
      }
     },
     "7dfc1be4dab14f4ab399cfed7c27529e": {
      "model_module": "jupyter-cytoscape",
      "model_module_version": "^1.3.3",
      "model_name": "EdgeModel",
      "state": {
       "_model_module_version": "^1.3.3",
       "_view_module_version": "^1.3.3",
       "classes": "EdgeStatus_ACTIVE_ELECTRICAL_CONNECTION directed ",
       "data": {
        "id": "e606793a-d5b0-4805-9a7e-fc1e3e79a479",
        "source": "GS200",
        "target": "GS200_voltage_source"
       },
       "selectable": false
      }
     },
     "812fc230b70a40129c2928bcd26f2f96": {
      "model_module": "jupyter-cytoscape",
      "model_module_version": "^1.3.3",
      "model_name": "EdgeModel",
      "state": {
       "_model_module_version": "^1.3.3",
       "_view_module_version": "^1.3.3",
       "classes": "EdgeStatus_INACTIVE_ELECTRICAL_CONNECTION directed ",
       "data": {
        "id": "1376bf2f-8e92-4486-8d39-fac7e8d9fc34",
        "source": "GS200",
        "target": "GS200_current_source"
       },
       "selectable": false
      }
     },
     "821e4691aa374886a2a5895ad6f3ae91": {
      "model_module": "jupyter-cytoscape",
      "model_module_version": "^1.3.3",
      "model_name": "GraphModel",
      "state": {
       "_adj": {
        "GS200": {},
        "GS200_current_source": {},
        "GS200_program": {},
        "GS200_voltage_source": {}
       },
       "_model_module_version": "^1.3.3",
       "_view_module": "jupyter-cytoscape",
       "_view_module_version": "^1.3.3",
       "edges": [
        "IPY_MODEL_dbe97b1728144703a808a8005c675f45",
        "IPY_MODEL_71856ae71d114fc09a97f237234c1de2"
       ],
       "nodes": [
        "IPY_MODEL_bc639f9b8e01424d9b37f22eccab6211",
        "IPY_MODEL_8a3e210b053044aabe070568b60e2eb4",
        "IPY_MODEL_e76a515aad5e422daab1f7a76da2e0f5",
        "IPY_MODEL_1868bde2fa5045c2a6025aa969171e2f"
       ]
      }
     },
     "865470549a4d48d5a39947c7a46525e9": {
      "model_module": "@jupyter-widgets/base",
      "model_module_version": "1.2.0",
      "model_name": "LayoutModel",
      "state": {}
     },
     "8a3e210b053044aabe070568b60e2eb4": {
      "model_module": "jupyter-cytoscape",
      "model_module_version": "^1.3.3",
      "model_name": "NodeModel",
      "state": {
       "_model_module_version": "^1.3.3",
       "_view_module_version": "^1.3.3",
       "classes": "NodeStatus_INACTIVE",
       "data": {
        "id": "GS200_program",
        "parent": "GS200"
       },
       "grabbable": true,
       "grabbed": false,
       "position": {
        "x": 991.5099923146541,
        "y": 170.7846186816798
       },
       "selectable": false
      }
     },
     "909bf83a5a1d40a89d862bb6992ea6c0": {
      "model_module": "jupyter-cytoscape",
      "model_module_version": "^1.3.3",
      "model_name": "NodeModel",
      "state": {
       "_model_module_version": "^1.3.3",
       "_view_module_version": "^1.3.3",
       "classes": "NodeStatus_INACTIVE",
       "data": {
        "id": "GS200"
       },
       "grabbable": true,
       "grabbed": false,
       "position": {
        "x": 1045.2844085485035,
        "y": 197.01991331109156
       },
       "selectable": false
      }
     },
     "98f763ca601b41c09e715535fb086ce4": {
      "model_module": "jupyter-cytoscape",
      "model_module_version": "^1.3.3",
      "model_name": "CytoscapeModel",
      "state": {
       "_interaction_handlers": {},
       "_model_module_version": "^1.3.3",
       "_view_module_version": "^1.3.3",
       "auto_ungrabify": false,
       "autolock": false,
       "cytoscape_layout": {
        "avoidOverlap": true,
        "maxSimulationTime": 4000,
        "name": "cola"
       },
       "cytoscape_style": [
        {
         "css": {
          "background-color": "#11479e",
          "color": "white",
          "content": "data(id)",
          "text-outline-color": "#11479e",
          "text-outline-width": 2,
          "text-valign": "center"
         },
         "selector": "node"
        },
        {
         "css": {
          "background-color": "red"
         },
         "selector": "node.NodeStatus_INACTIVE"
        },
        {
         "css": {
          "background-opacity": 0.333
         },
         "selector": "node:parent"
        },
        {
         "css": {
          "background-color": "black",
          "line-color": "black",
          "source-arrow-color": "black",
          "target-arrow-color": "black",
          "text-outline-color": "black"
         },
         "selector": ":selected"
        },
        {
         "selector": "edge",
         "style": {
          "line-color": "#9dbaea",
          "width": 4
         }
        },
        {
         "selector": "edge.EdgeStatus_ACTIVE_ELECTRICAL_CONNECTION",
         "style": {
          "curve-style": "haystack",
          "line-color": "green",
          "target-arrow-color": "#9dbaea",
          "target-arrow-shape": "triangle"
         }
        },
        {
         "selector": "edge.EdgeStatus_INACTIVE_ELECTRICAL_CONNECTION",
         "style": {
          "curve-style": "haystack",
          "line-color": "red",
          "target-arrow-color": "red",
          "target-arrow-shape": "triangle"
         }
        },
        {
         "selector": "edge.EdgeStatus_PART_OF",
         "style": {
          "curve-style": "haystack",
          "line-color": "green",
          "target-arrow-color": "green",
          "target-arrow-shape": "triangle"
         }
        },
        {
         "selector": "edge.multiple_edges",
         "style": {
          "curve-style": "haystack"
         }
        }
       ],
       "desktop_tap_threshold": 4,
       "graph": "IPY_MODEL_56d042e1a7a945ee9a4f9d2622d60bff",
       "headless": false,
       "hide_edges_on_viewport": false,
       "layout": "IPY_MODEL_fed608f0f51e4207baa8aab4f7dd99e9",
       "max_zoom": 5,
       "min_zoom": 0.2,
       "motion_blur": false,
       "motion_blur_opacity": 0.2,
       "panning_enabled": true,
       "pixel_ratio": "auto",
       "rendered_position": {
        "renderedPosition": {
         "x": 100,
         "y": 100
        }
       },
       "selection_type": "single",
       "style_enabled": true,
       "texture_on_viewport": false,
       "tooltip_source": "tooltip",
       "touch_tap_threshold": 8,
       "user_panning_enabled": true,
       "user_zooming_enabled": true,
       "wheel_sensitivity": 0.1,
       "zoom": 2,
       "zooming_enabled": true
      }
     },
     "9a4c48f57ebd4047b0607d3ad5a220a3": {
      "model_module": "@jupyter-widgets/base",
      "model_module_version": "1.2.0",
      "model_name": "LayoutModel",
      "state": {}
     },
     "9e161d453f26466c81c8a8b7e8e53b2c": {
      "model_module": "@jupyter-widgets/controls",
      "model_module_version": "1.5.0",
      "model_name": "HBoxModel",
      "state": {
       "children": [
        "IPY_MODEL_98f763ca601b41c09e715535fb086ce4"
       ],
       "layout": "IPY_MODEL_bce51a98acc740a2a6dae5fc0439d521"
      }
     },
     "9e7e7bcb979f40b58865ce4b6bfbcdc5": {
      "model_module": "jupyter-cytoscape",
      "model_module_version": "^1.3.3",
      "model_name": "NodeModel",
      "state": {
       "_model_module_version": "^1.3.3",
       "_view_module_version": "^1.3.3",
       "classes": "NodeStatus_INACTIVE",
       "data": {
        "id": "GS200_current_source",
        "parent": "GS200"
       },
       "grabbable": true,
       "grabbed": false,
       "position": {
        "x": 1175.8482298881834,
        "y": 214.3287367434445
       },
       "selectable": false
      }
     },
     "a67a2814c1ae4f0e864139987cb6d4f1": {
      "model_module": "jupyter-cytoscape",
      "model_module_version": "^1.3.3",
      "model_name": "EdgeModel",
      "state": {
       "_model_module_version": "^1.3.3",
       "_view_module_version": "^1.3.3",
       "classes": "EdgeStatus_INACTIVE_ELECTRICAL_CONNECTION directed ",
       "data": {
        "id": "7c90ddd2-2b91-49ea-b8d5-7666eefc16dd",
        "source": "GS200",
        "target": "GS200_current_source"
       },
       "selectable": false
      }
     },
     "aa4828786aac4f049f2c6eb4d346e7f3": {
      "model_module": "jupyter-cytoscape",
      "model_module_version": "^1.3.3",
      "model_name": "GraphModel",
      "state": {
       "_adj": {
        "GS200": {},
        "GS200_current_source": {},
        "GS200_program": {},
        "GS200_voltage_source": {}
       },
       "_model_module_version": "^1.3.3",
       "_view_module": "jupyter-cytoscape",
       "_view_module_version": "^1.3.3",
       "edges": [
        "IPY_MODEL_a67a2814c1ae4f0e864139987cb6d4f1",
        "IPY_MODEL_bc87e5c6063c4daa9b0ea2eb22829808"
       ],
       "nodes": [
        "IPY_MODEL_f67fdc39dd98459b9c8526e9c9fa8dfd",
        "IPY_MODEL_b9221f5adfaa4fb2b4848c61e4762317",
        "IPY_MODEL_9e7e7bcb979f40b58865ce4b6bfbcdc5",
        "IPY_MODEL_67565ef47e8c4381af7a8868c2880baf"
       ]
      }
     },
     "b9221f5adfaa4fb2b4848c61e4762317": {
      "model_module": "jupyter-cytoscape",
      "model_module_version": "^1.3.3",
      "model_name": "NodeModel",
      "state": {
       "_model_module_version": "^1.3.3",
       "_view_module_version": "^1.3.3",
       "classes": "NodeStatus_INACTIVE",
       "data": {
        "id": "GS200_program",
        "parent": "GS200"
       },
       "grabbable": true,
       "grabbed": false,
       "position": {
        "x": 1018.068816097007,
        "y": 172.01991281109156
       },
       "selectable": false
      }
     },
     "ba517d9de9684dfe9dfec17cd71f13d5": {
      "model_module": "@jupyter-widgets/controls",
      "model_module_version": "1.5.0",
      "model_name": "HBoxModel",
      "state": {
       "children": [
        "IPY_MODEL_257f73d1841e4edaac91e6aa58c34419"
       ],
       "layout": "IPY_MODEL_3c096b146e244792a0729788f9017abf"
      }
     },
     "bb472d530dbb431a9ca8cfc013ae3f67": {
      "model_module": "jupyter-cytoscape",
      "model_module_version": "^1.3.3",
      "model_name": "CytoscapeModel",
      "state": {
       "_interaction_handlers": {},
       "_model_module_version": "^1.3.3",
       "_view_module_version": "^1.3.3",
       "auto_ungrabify": false,
       "autolock": false,
       "cytoscape_layout": {
        "avoidOverlap": true,
        "maxSimulationTime": 4000,
        "name": "cola"
       },
       "cytoscape_style": [
        {
         "css": {
          "background-color": "#11479e",
          "color": "white",
          "content": "data(id)",
          "text-outline-color": "#11479e",
          "text-outline-width": 2,
          "text-valign": "center"
         },
         "selector": "node"
        },
        {
         "css": {
          "background-color": "red"
         },
         "selector": "node.NodeStatus_INACTIVE"
        },
        {
         "css": {
          "background-opacity": 0.333
         },
         "selector": "node:parent"
        },
        {
         "css": {
          "background-color": "black",
          "line-color": "black",
          "source-arrow-color": "black",
          "target-arrow-color": "black",
          "text-outline-color": "black"
         },
         "selector": ":selected"
        },
        {
         "selector": "edge",
         "style": {
          "line-color": "#9dbaea",
          "width": 4
         }
        },
        {
         "selector": "edge.EdgeStatus_ACTIVE_ELECTRICAL_CONNECTION",
         "style": {
          "curve-style": "haystack",
          "line-color": "green",
          "target-arrow-color": "#9dbaea",
          "target-arrow-shape": "triangle"
         }
        },
        {
         "selector": "edge.EdgeStatus_INACTIVE_ELECTRICAL_CONNECTION",
         "style": {
          "curve-style": "haystack",
          "line-color": "red",
          "target-arrow-color": "red",
          "target-arrow-shape": "triangle"
         }
        },
        {
         "selector": "edge.EdgeStatus_PART_OF",
         "style": {
          "curve-style": "haystack",
          "line-color": "green",
          "target-arrow-color": "green",
          "target-arrow-shape": "triangle"
         }
        },
        {
         "selector": "edge.multiple_edges",
         "style": {
          "curve-style": "haystack"
         }
        }
       ],
       "desktop_tap_threshold": 4,
       "graph": "IPY_MODEL_fda7a707fb74463aae0e49c7a5da2cec",
       "headless": false,
       "hide_edges_on_viewport": false,
       "layout": "IPY_MODEL_2e70113f5b144ba4a65fbd0625095c23",
       "max_zoom": 5,
       "min_zoom": 0.2,
       "motion_blur": false,
       "motion_blur_opacity": 0.2,
       "panning_enabled": true,
       "pixel_ratio": "auto",
       "rendered_position": {
        "renderedPosition": {
         "x": 100,
         "y": 100
        }
       },
       "selection_type": "single",
       "style_enabled": true,
       "texture_on_viewport": false,
       "tooltip_source": "tooltip",
       "touch_tap_threshold": 8,
       "user_panning_enabled": true,
       "user_zooming_enabled": true,
       "wheel_sensitivity": 0.1,
       "zoom": 2,
       "zooming_enabled": true
      }
     },
     "bc639f9b8e01424d9b37f22eccab6211": {
      "model_module": "jupyter-cytoscape",
      "model_module_version": "^1.3.3",
      "model_name": "NodeModel",
      "state": {
       "_model_module_version": "^1.3.3",
       "_view_module_version": "^1.3.3",
       "classes": "NodeStatus_INACTIVE",
       "data": {
        "id": "GS200"
       },
       "grabbable": true,
       "grabbed": false,
       "position": {
        "x": 1082.0344088985034,
        "y": 195.7846191816798
       },
       "selectable": false
      }
     },
     "bc87e5c6063c4daa9b0ea2eb22829808": {
      "model_module": "jupyter-cytoscape",
      "model_module_version": "^1.3.3",
      "model_name": "EdgeModel",
      "state": {
       "_model_module_version": "^1.3.3",
       "_view_module_version": "^1.3.3",
       "classes": "EdgeStatus_ACTIVE_ELECTRICAL_CONNECTION directed ",
       "data": {
        "id": "5b0a7d55-1be6-4217-bb09-fad0a8f1eaa1",
        "source": "GS200",
        "target": "GS200_voltage_source"
       },
       "selectable": false
      }
     },
     "bce51a98acc740a2a6dae5fc0439d521": {
      "model_module": "@jupyter-widgets/base",
      "model_module_version": "1.2.0",
      "model_name": "LayoutModel",
      "state": {}
     },
     "c1035a4b4fb2402f8e3403fcc550f669": {
      "model_module": "@jupyter-widgets/base",
      "model_module_version": "1.2.0",
      "model_name": "LayoutModel",
      "state": {}
     },
     "c1df6b79718a4065ab01357447ff0d19": {
      "model_module": "@jupyter-widgets/controls",
      "model_module_version": "1.5.0",
      "model_name": "HBoxModel",
      "state": {
       "children": [
        "IPY_MODEL_bb472d530dbb431a9ca8cfc013ae3f67"
       ],
       "layout": "IPY_MODEL_40991a1000104cc9aacf136aa5b46994"
      }
     },
     "c2047473539e4411b6914bc04ec3cf47": {
      "model_module": "jupyter-cytoscape",
      "model_module_version": "^1.3.3",
      "model_name": "NodeModel",
      "state": {
       "_model_module_version": "^1.3.3",
       "_view_module_version": "^1.3.3",
       "classes": "NodeStatus_INACTIVE",
       "data": {
        "id": "GS200"
       },
       "grabbable": true,
       "grabbed": false,
       "position": {
        "x": 1110.754997407327,
        "y": 192.07873679344448
       },
       "selectable": false
      }
     },
     "c428d0078db34b88a6b9fdb4b988acaf": {
      "model_module": "jupyter-cytoscape",
      "model_module_version": "^1.3.3",
      "model_name": "NodeModel",
      "state": {
       "_model_module_version": "^1.3.3",
       "_view_module_version": "^1.3.3",
       "classes": "NodeStatus_ACTIVE",
       "data": {
        "id": "GS200_current_source",
        "parent": "GS200"
       },
       "grabbable": true,
       "grabbed": false,
       "position": {
        "x": 1068.068817097007,
        "y": 172.01991281109156
       },
       "selectable": false
      }
     },
     "c654f1924c0f48d3bd073c0424ba2697": {
      "model_module": "jupyter-cytoscape",
      "model_module_version": "^1.3.3",
      "model_name": "GraphModel",
      "state": {
       "_adj": {},
       "_model_module_version": "^1.3.3",
       "_view_module": "jupyter-cytoscape",
       "_view_module_version": "^1.3.3"
      }
     },
     "c6ffa3d5cda34b61adae356a3206223f": {
      "model_module": "jupyter-cytoscape",
      "model_module_version": "^1.3.3",
      "model_name": "GraphModel",
      "state": {
       "_adj": {},
       "_model_module_version": "^1.3.3",
       "_view_module": "jupyter-cytoscape",
       "_view_module_version": "^1.3.3"
      }
     },
     "c8d0f41a510045cd9c8281b06cd86cca": {
      "model_module": "jupyter-cytoscape",
      "model_module_version": "^1.3.3",
      "model_name": "NodeModel",
      "state": {
       "_model_module_version": "^1.3.3",
       "_view_module_version": "^1.3.3",
       "classes": "NodeStatus_ACTIVE",
       "data": {
        "id": "GS200_voltage_source",
        "parent": "GS200"
       },
       "grabbable": true,
       "grabbed": false,
       "position": {
        "x": 1023.5,
        "y": 222.01991381109156
       },
       "selectable": false
      }
     },
     "ca5a5c839ea0414ba52eab94f4910b6b": {
      "model_module": "jupyter-cytoscape",
      "model_module_version": "^1.3.3",
      "model_name": "CytoscapeModel",
      "state": {
       "_interaction_handlers": {},
       "_model_module_version": "^1.3.3",
       "_view_module_version": "^1.3.3",
       "auto_ungrabify": false,
       "autolock": false,
       "cytoscape_layout": {
        "avoidOverlap": true,
        "maxSimulationTime": 4000,
        "name": "cola"
       },
       "cytoscape_style": [
        {
         "css": {
          "background-color": "#11479e",
          "color": "white",
          "content": "data(id)",
          "text-outline-color": "#11479e",
          "text-outline-width": 2,
          "text-valign": "center"
         },
         "selector": "node"
        },
        {
         "css": {
          "background-color": "red"
         },
         "selector": "node.NodeStatus_INACTIVE"
        },
        {
         "css": {
          "background-opacity": 0.333
         },
         "selector": "node:parent"
        },
        {
         "css": {
          "background-color": "black",
          "line-color": "black",
          "source-arrow-color": "black",
          "target-arrow-color": "black",
          "text-outline-color": "black"
         },
         "selector": ":selected"
        },
        {
         "selector": "edge",
         "style": {
          "line-color": "#9dbaea",
          "width": 4
         }
        },
        {
         "selector": "edge.EdgeStatus_ACTIVE_ELECTRICAL_CONNECTION",
         "style": {
          "curve-style": "haystack",
          "line-color": "green",
          "target-arrow-color": "#9dbaea",
          "target-arrow-shape": "triangle"
         }
        },
        {
         "selector": "edge.EdgeStatus_INACTIVE_ELECTRICAL_CONNECTION",
         "style": {
          "curve-style": "haystack",
          "line-color": "red",
          "target-arrow-color": "red",
          "target-arrow-shape": "triangle"
         }
        },
        {
         "selector": "edge.EdgeStatus_PART_OF",
         "style": {
          "curve-style": "haystack",
          "line-color": "green",
          "target-arrow-color": "green",
          "target-arrow-shape": "triangle"
         }
        },
        {
         "selector": "edge.multiple_edges",
         "style": {
          "curve-style": "haystack"
         }
        }
       ],
       "desktop_tap_threshold": 4,
       "graph": "IPY_MODEL_821e4691aa374886a2a5895ad6f3ae91",
       "headless": false,
       "hide_edges_on_viewport": false,
       "layout": "IPY_MODEL_1318bd852f934fb29e8f02a9c2001701",
       "max_zoom": 5,
       "min_zoom": 0.2,
       "motion_blur": false,
       "motion_blur_opacity": 0.2,
       "panning_enabled": true,
       "pixel_ratio": "auto",
       "rendered_position": {
        "renderedPosition": {
         "x": 100,
         "y": 100
        }
       },
       "selection_type": "single",
       "style_enabled": true,
       "texture_on_viewport": false,
       "tooltip_source": "tooltip",
       "touch_tap_threshold": 8,
       "user_panning_enabled": true,
       "user_zooming_enabled": true,
       "wheel_sensitivity": 0.1,
       "zoom": 2,
       "zooming_enabled": true
      }
     },
     "cb0765c3e37e49b68613c47542598aee": {
      "model_module": "@jupyter-widgets/base",
      "model_module_version": "1.2.0",
      "model_name": "LayoutModel",
      "state": {}
     },
     "d36d4904a9b3420c8c31267b4fce49d2": {
      "model_module": "jupyter-cytoscape",
      "model_module_version": "^1.3.3",
      "model_name": "NodeModel",
      "state": {
       "_model_module_version": "^1.3.3",
       "_view_module_version": "^1.3.3",
       "classes": "NodeStatus_INACTIVE",
       "data": {
        "id": "GS200_program",
        "parent": "GS200"
       },
       "grabbable": true,
       "grabbed": false,
       "position": {
        "x": 1018.068816097007,
        "y": 172.01991281109156
       },
       "selectable": false
      }
     },
     "d5c7392b9d614622b6d9743c8569c552": {
      "model_module": "jupyter-cytoscape",
      "model_module_version": "^1.3.3",
      "model_name": "EdgeModel",
      "state": {
       "_model_module_version": "^1.3.3",
       "_view_module_version": "^1.3.3",
       "classes": "EdgeStatus_INACTIVE_ELECTRICAL_CONNECTION directed ",
       "data": {
        "id": "52a97fae-dea8-4901-81e7-8a4bc9da98de",
        "source": "GS200",
        "target": "GS200_voltage_source"
       },
       "selectable": false
      }
     },
     "dbe97b1728144703a808a8005c675f45": {
      "model_module": "jupyter-cytoscape",
      "model_module_version": "^1.3.3",
      "model_name": "EdgeModel",
      "state": {
       "_model_module_version": "^1.3.3",
       "_view_module_version": "^1.3.3",
       "classes": "EdgeStatus_ACTIVE_ELECTRICAL_CONNECTION directed ",
       "data": {
        "id": "6de627f0-119a-4568-8dc5-dd15c8d26585",
        "source": "GS200",
        "target": "GS200_current_source"
       },
       "selectable": false
      }
     },
     "ddeaac3ead0143ce94fd90b660f299db": {
      "model_module": "jupyter-cytoscape",
      "model_module_version": "^1.3.3",
      "model_name": "NodeModel",
      "state": {
       "_model_module_version": "^1.3.3",
       "_view_module_version": "^1.3.3",
       "classes": "NodeStatus_INACTIVE",
       "data": {
        "id": "GS200_program",
        "parent": "GS200"
       },
       "grabbable": true,
       "grabbed": false,
       "position": {
        "x": 1018.068816097007,
        "y": 172.01991281109156
       },
       "selectable": false
      }
     },
     "de447af8a7324cec9019ca6d53551095": {
      "model_module": "@jupyter-widgets/controls",
      "model_module_version": "1.5.0",
      "model_name": "HBoxModel",
      "state": {
       "children": [
        "IPY_MODEL_ca5a5c839ea0414ba52eab94f4910b6b"
       ],
       "layout": "IPY_MODEL_4413a031289548b2a0f00911b806d77b"
      }
     },
     "e198ba5ec5c1421ba9032157d82fed1e": {
      "model_module": "jupyter-cytoscape",
      "model_module_version": "^1.3.3",
      "model_name": "GraphModel",
      "state": {
       "_adj": {},
       "_model_module_version": "^1.3.3",
       "_view_module": "jupyter-cytoscape",
       "_view_module_version": "^1.3.3"
      }
     },
     "e646b7eadbce4dbdbff19fa0ed3cfaa9": {
      "model_module": "jupyter-cytoscape",
      "model_module_version": "^1.3.3",
      "model_name": "GraphModel",
      "state": {
       "_adj": {},
       "_model_module_version": "^1.3.3",
       "_view_module": "jupyter-cytoscape",
       "_view_module_version": "^1.3.3"
      }
     },
     "e76a515aad5e422daab1f7a76da2e0f5": {
      "model_module": "jupyter-cytoscape",
      "model_module_version": "^1.3.3",
      "model_name": "NodeModel",
      "state": {
       "_model_module_version": "^1.3.3",
       "_view_module_version": "^1.3.3",
       "classes": "NodeStatus_ACTIVE",
       "data": {
        "id": "GS200_current_source",
        "parent": "GS200"
       },
       "grabbable": true,
       "grabbed": false,
       "position": {
        "x": 1168.12764157936,
        "y": 214.3287367434445
       },
       "selectable": false
      }
     },
     "e9cbaa4acb614c25972d6f104c02d15e": {
      "model_module": "jupyter-cytoscape",
      "model_module_version": "^1.3.3",
      "model_name": "NodeModel",
      "state": {
       "_model_module_version": "^1.3.3",
       "_view_module_version": "^1.3.3",
       "classes": "NodeStatus_INACTIVE",
       "data": {
        "id": "GS200_current_source",
        "parent": "GS200"
       },
       "grabbable": true,
       "grabbed": false,
       "position": {
        "x": 1068.068817097007,
        "y": 172.01991281109156
       },
       "selectable": false
      }
     },
     "f43abd27fae0477b9fe495e627615b6f": {
      "model_module": "jupyter-cytoscape",
      "model_module_version": "^1.3.3",
      "model_name": "EdgeModel",
      "state": {
       "_model_module_version": "^1.3.3",
       "_view_module_version": "^1.3.3",
       "classes": "EdgeStatus_INACTIVE_ELECTRICAL_CONNECTION directed ",
       "data": {
        "id": "cad684f1-a319-4fcb-90d7-d2ef2932e2b1",
        "source": "GS200",
        "target": "GS200_voltage_source"
       },
       "selectable": false
      }
     },
     "f67fdc39dd98459b9c8526e9c9fa8dfd": {
      "model_module": "jupyter-cytoscape",
      "model_module_version": "^1.3.3",
      "model_name": "NodeModel",
      "state": {
       "_model_module_version": "^1.3.3",
       "_view_module_version": "^1.3.3",
       "classes": "NodeStatus_INACTIVE",
       "data": {
        "id": "GS200"
       },
       "grabbable": true,
       "grabbed": false,
       "position": {
        "x": 1099.1741149440918,
        "y": 197.01991331109156
       },
       "selectable": false
      }
     },
     "fda7a707fb74463aae0e49c7a5da2cec": {
      "model_module": "jupyter-cytoscape",
      "model_module_version": "^1.3.3",
      "model_name": "GraphModel",
      "state": {
       "_adj": {
        "GS200": {},
        "GS200_current_source": {},
        "GS200_program": {},
        "GS200_voltage_source": {}
       },
       "_model_module_version": "^1.3.3",
       "_view_module": "jupyter-cytoscape",
       "_view_module_version": "^1.3.3",
       "edges": [
        "IPY_MODEL_2e028d5cc8324e508bf1cb04f3c39996",
        "IPY_MODEL_7dfc1be4dab14f4ab399cfed7c27529e"
       ],
       "nodes": [
        "IPY_MODEL_c2047473539e4411b6914bc04ec3cf47",
        "IPY_MODEL_4a305d043122454484bea73851a07136",
        "IPY_MODEL_1fed4c2601bc409584c240e7ab3c7c86",
        "IPY_MODEL_50b02559c1664fb2a5bcf60f77f54623"
       ]
      }
     },
     "fed608f0f51e4207baa8aab4f7dd99e9": {
      "model_module": "@jupyter-widgets/base",
      "model_module_version": "1.2.0",
      "model_name": "LayoutModel",
      "state": {}
     },
     "fff4491f1f5e41a49a20bf83af7a7589": {
      "model_module": "jupyter-cytoscape",
      "model_module_version": "^1.3.3",
      "model_name": "EdgeModel",
      "state": {
       "_model_module_version": "^1.3.3",
       "_view_module_version": "^1.3.3",
       "classes": "EdgeStatus_ACTIVE_ELECTRICAL_CONNECTION directed ",
       "data": {
        "id": "136c93b5-42b1-46fe-9cc7-f6ae9453c9cd",
        "source": "GS200",
        "target": "GS200_current_source"
       },
       "selectable": false
      }
     }
    },
    "version_major": 2,
    "version_minor": 0
   }
  }
 },
 "nbformat": 4,
 "nbformat_minor": 5
}
