{
 "cells": [
  {
   "cell_type": "markdown",
   "id": "ee8d69f0-6127-4e87-8659-35b508d709ff",
   "metadata": {},
   "source": [
    "# Instrument Graph"
   ]
  },
  {
   "cell_type": "code",
   "execution_count": 1,
   "id": "6de37bdc-e561-4ef2-a933-7e0f3b4cda85",
   "metadata": {},
   "outputs": [
    {
     "name": "stdout",
     "output_type": "stream",
     "text": [
      "Logging hadn't been started.\n",
      "Activating auto-logging. Current session state plus future input saved.\n",
      "Filename       : C:\\Users\\jenielse\\.qcodes\\logs\\command_history.log\n",
      "Mode           : append\n",
      "Output logging : True\n",
      "Raw input log  : False\n",
      "Timestamping   : True\n",
      "State          : active\n",
      "Qcodes Logfile : C:\\Users\\jenielse\\.qcodes\\logs\\220504-40756-qcodes.log\n"
     ]
    }
   ],
   "source": [
    "from qcodes.tests.instrument_mocks import DummyChannelInstrument"
   ]
  },
  {
   "cell_type": "code",
   "execution_count": 2,
   "id": "23d52084-01bc-4b60-afac-5bbf8a623bdc",
   "metadata": {},
   "outputs": [],
   "source": [
    "instr = DummyChannelInstrument('instr')\n",
    "instr2 = DummyChannelInstrument('instr2')"
   ]
  },
  {
   "cell_type": "code",
   "execution_count": 3,
   "id": "be252edf-87e7-405c-a918-c4b4544a296f",
   "metadata": {},
   "outputs": [],
   "source": [
    "from qcodes.graph.visulization import draw"
   ]
  },
  {
   "cell_type": "code",
   "execution_count": 4,
   "id": "fb48d685-d7c5-44d3-bd6d-0ea8cd22652f",
   "metadata": {},
   "outputs": [
    {
     "name": "stdout",
     "output_type": "stream",
     "text": [
      "adding node instr\n",
      "adding node instr_ChanA\n",
      "adding node instr_ChanB\n",
      "adding node instr_ChanC\n",
      "adding node instr_ChanD\n",
      "adding node instr_ChanE\n",
      "adding node instr_ChanF\n"
     ]
    },
    {
     "data": {
      "text/plain": [
       "<qcodes.graph.graph.StationGraph at 0x1905bf49f40>"
      ]
     },
     "execution_count": 4,
     "metadata": {},
     "output_type": "execute_result"
    }
   ],
   "source": [
    "instr.instrument_graph"
   ]
  },
  {
   "cell_type": "code",
   "execution_count": 5,
   "id": "30273007-0acf-418c-8540-37993df6e4f7",
   "metadata": {},
   "outputs": [
    {
     "name": "stdout",
     "output_type": "stream",
     "text": [
      "adding node instr\n",
      "adding node instr_ChanA\n",
      "adding node instr_ChanB\n",
      "adding node instr_ChanC\n",
      "adding node instr_ChanD\n",
      "adding node instr_ChanE\n",
      "adding node instr_ChanF\n"
     ]
    },
    {
     "data": {
      "application/vnd.jupyter.widget-view+json": {
       "model_id": "3056549c247640dcbca9e71cf371fc3a",
       "version_major": 2,
       "version_minor": 0
      },
      "text/plain": [
       "HBox(children=(CytoscapeWidget(cytoscape_layout={'name': 'cola', 'avoidOverlap': True, 'maxSimulationTime': 40…"
      ]
     },
     "metadata": {},
     "output_type": "display_data"
    }
   ],
   "source": [
    "draw(instr.instrument_graph, disjoint=False)"
   ]
  },
  {
   "cell_type": "code",
   "execution_count": 6,
   "id": "9c43a001-d806-44bc-9439-9a7eb91c1a3d",
   "metadata": {},
   "outputs": [],
   "source": [
    "from qcodes.instrument_drivers.connector import Connector, Chip"
   ]
  },
  {
   "cell_type": "code",
   "execution_count": 7,
   "id": "d85b3ceb-e2a0-4f75-bb8d-8555f906e50f",
   "metadata": {},
   "outputs": [],
   "source": [
    "chip = Chip('chip')"
   ]
  },
  {
   "cell_type": "code",
   "execution_count": 8,
   "id": "b6d2da18-9606-47dd-b26f-a7c25a079d9b",
   "metadata": {},
   "outputs": [
    {
     "name": "stdout",
     "output_type": "stream",
     "text": [
      "adding node chip\n",
      "adding node chip_device1\n",
      "adding node chip_device2\n"
     ]
    },
    {
     "data": {
      "application/vnd.jupyter.widget-view+json": {
       "model_id": "f1cbb1b518d84e918203c520d98819f7",
       "version_major": 2,
       "version_minor": 0
      },
      "text/plain": [
       "HBox(children=(CytoscapeWidget(cytoscape_layout={'name': 'cola', 'avoidOverlap': True, 'maxSimulationTime': 40…"
      ]
     },
     "metadata": {},
     "output_type": "display_data"
    }
   ],
   "source": [
    "draw(chip.instrument_graph)"
   ]
  },
  {
   "cell_type": "code",
   "execution_count": 9,
   "id": "04f005e0-541b-4d65-870c-47154927abfc",
   "metadata": {},
   "outputs": [
    {
     "name": "stdout",
     "output_type": "stream",
     "text": [
      "adding node conn[a]\n"
     ]
    }
   ],
   "source": [
    "conn = Connector('conn', connections=({\"name\": \"a\", \"endpoints\": (\"instr2_ChanC\", \"chip_device1\")},))"
   ]
  },
  {
   "cell_type": "code",
   "execution_count": 10,
   "id": "c11dd723-99db-4b12-9dff-865f0ccb173f",
   "metadata": {},
   "outputs": [
    {
     "name": "stdout",
     "output_type": "stream",
     "text": [
      "adding node conn2[b]\n"
     ]
    }
   ],
   "source": [
    "conn2 = Connector('conn2', connections=({\"name\": \"b\", \"endpoints\": (\"instr_ChanD\", \"chip_device2\")},))"
   ]
  },
  {
   "cell_type": "code",
   "execution_count": 11,
   "id": "875887a1-4f9a-41ae-9632-0674a6053d37",
   "metadata": {},
   "outputs": [
    {
     "data": {
      "application/vnd.jupyter.widget-view+json": {
       "model_id": "558afb636b3e4d1086c921bd0b08180c",
       "version_major": 2,
       "version_minor": 0
      },
      "text/plain": [
       "HBox(children=(CytoscapeWidget(cytoscape_layout={'name': 'cola', 'avoidOverlap': True, 'maxSimulationTime': 40…"
      ]
     },
     "metadata": {},
     "output_type": "display_data"
    }
   ],
   "source": [
    "draw(conn.instrument_graph)"
   ]
  },
  {
   "cell_type": "code",
   "execution_count": 12,
   "id": "e5a1c53d-2e8a-44ad-a21e-e9f7146be865",
   "metadata": {},
   "outputs": [],
   "source": [
    "from qcodes.station import Station"
   ]
  },
  {
   "cell_type": "code",
   "execution_count": 13,
   "id": "998e37fe-731d-470c-8961-7e10def9944a",
   "metadata": {},
   "outputs": [],
   "source": [
    "a = Station()"
   ]
  },
  {
   "cell_type": "code",
   "execution_count": 14,
   "id": "bf88261b-6ba1-4f40-b172-215aec6338df",
   "metadata": {},
   "outputs": [
    {
     "name": "stderr",
     "output_type": "stream",
     "text": [
      "2022-05-04 10:44:13,235 ¦ qcodes.instrument.base ¦ WARNING ¦ base ¦ snapshot_base ¦ 282 ¦ [instr_ChanA(DummyChannel)] Snapshot: Could not update parameter: dummy_sp_axis\n",
      "2022-05-04 10:44:13,272 ¦ qcodes.instrument.base ¦ WARNING ¦ base ¦ snapshot_base ¦ 282 ¦ [instr_ChanA(DummyChannel)] Snapshot: Could not update parameter: dummy_sp_axis_2\n",
      "2022-05-04 10:44:13,275 ¦ qcodes.instrument.base ¦ WARNING ¦ base ¦ snapshot_base ¦ 282 ¦ [instr_ChanB(DummyChannel)] Snapshot: Could not update parameter: dummy_sp_axis\n",
      "2022-05-04 10:44:13,277 ¦ qcodes.instrument.base ¦ WARNING ¦ base ¦ snapshot_base ¦ 282 ¦ [instr_ChanB(DummyChannel)] Snapshot: Could not update parameter: dummy_sp_axis_2\n",
      "2022-05-04 10:44:13,279 ¦ qcodes.instrument.base ¦ WARNING ¦ base ¦ snapshot_base ¦ 282 ¦ [instr_ChanC(DummyChannel)] Snapshot: Could not update parameter: dummy_sp_axis\n",
      "2022-05-04 10:44:13,281 ¦ qcodes.instrument.base ¦ WARNING ¦ base ¦ snapshot_base ¦ 282 ¦ [instr_ChanC(DummyChannel)] Snapshot: Could not update parameter: dummy_sp_axis_2\n",
      "2022-05-04 10:44:13,283 ¦ qcodes.instrument.base ¦ WARNING ¦ base ¦ snapshot_base ¦ 282 ¦ [instr_ChanD(DummyChannel)] Snapshot: Could not update parameter: dummy_sp_axis\n",
      "2022-05-04 10:44:13,286 ¦ qcodes.instrument.base ¦ WARNING ¦ base ¦ snapshot_base ¦ 282 ¦ [instr_ChanD(DummyChannel)] Snapshot: Could not update parameter: dummy_sp_axis_2\n",
      "2022-05-04 10:44:13,288 ¦ qcodes.instrument.base ¦ WARNING ¦ base ¦ snapshot_base ¦ 282 ¦ [instr_ChanE(DummyChannel)] Snapshot: Could not update parameter: dummy_sp_axis\n",
      "2022-05-04 10:44:13,289 ¦ qcodes.instrument.base ¦ WARNING ¦ base ¦ snapshot_base ¦ 282 ¦ [instr_ChanE(DummyChannel)] Snapshot: Could not update parameter: dummy_sp_axis_2\n",
      "2022-05-04 10:44:13,292 ¦ qcodes.instrument.base ¦ WARNING ¦ base ¦ snapshot_base ¦ 282 ¦ [instr_ChanF(DummyChannel)] Snapshot: Could not update parameter: dummy_sp_axis\n",
      "2022-05-04 10:44:13,293 ¦ qcodes.instrument.base ¦ WARNING ¦ base ¦ snapshot_base ¦ 282 ¦ [instr_ChanF(DummyChannel)] Snapshot: Could not update parameter: dummy_sp_axis_2\n",
      "2022-05-04 10:44:13,295 ¦ qcodes.instrument.base ¦ WARNING ¦ base ¦ snapshot_base ¦ 282 ¦ [instr2_ChanA(DummyChannel)] Snapshot: Could not update parameter: dummy_sp_axis\n",
      "2022-05-04 10:44:13,296 ¦ qcodes.instrument.base ¦ WARNING ¦ base ¦ snapshot_base ¦ 282 ¦ [instr2_ChanA(DummyChannel)] Snapshot: Could not update parameter: dummy_sp_axis_2\n",
      "2022-05-04 10:44:13,298 ¦ qcodes.instrument.base ¦ WARNING ¦ base ¦ snapshot_base ¦ 282 ¦ [instr2_ChanB(DummyChannel)] Snapshot: Could not update parameter: dummy_sp_axis\n",
      "2022-05-04 10:44:13,299 ¦ qcodes.instrument.base ¦ WARNING ¦ base ¦ snapshot_base ¦ 282 ¦ [instr2_ChanB(DummyChannel)] Snapshot: Could not update parameter: dummy_sp_axis_2\n",
      "2022-05-04 10:44:13,301 ¦ qcodes.instrument.base ¦ WARNING ¦ base ¦ snapshot_base ¦ 282 ¦ [instr2_ChanC(DummyChannel)] Snapshot: Could not update parameter: dummy_sp_axis\n",
      "2022-05-04 10:44:13,302 ¦ qcodes.instrument.base ¦ WARNING ¦ base ¦ snapshot_base ¦ 282 ¦ [instr2_ChanC(DummyChannel)] Snapshot: Could not update parameter: dummy_sp_axis_2\n",
      "2022-05-04 10:44:13,304 ¦ qcodes.instrument.base ¦ WARNING ¦ base ¦ snapshot_base ¦ 282 ¦ [instr2_ChanD(DummyChannel)] Snapshot: Could not update parameter: dummy_sp_axis\n",
      "2022-05-04 10:44:13,306 ¦ qcodes.instrument.base ¦ WARNING ¦ base ¦ snapshot_base ¦ 282 ¦ [instr2_ChanD(DummyChannel)] Snapshot: Could not update parameter: dummy_sp_axis_2\n",
      "2022-05-04 10:44:13,308 ¦ qcodes.instrument.base ¦ WARNING ¦ base ¦ snapshot_base ¦ 282 ¦ [instr2_ChanE(DummyChannel)] Snapshot: Could not update parameter: dummy_sp_axis\n",
      "2022-05-04 10:44:13,309 ¦ qcodes.instrument.base ¦ WARNING ¦ base ¦ snapshot_base ¦ 282 ¦ [instr2_ChanE(DummyChannel)] Snapshot: Could not update parameter: dummy_sp_axis_2\n",
      "2022-05-04 10:44:13,311 ¦ qcodes.instrument.base ¦ WARNING ¦ base ¦ snapshot_base ¦ 282 ¦ [instr2_ChanF(DummyChannel)] Snapshot: Could not update parameter: dummy_sp_axis\n",
      "2022-05-04 10:44:13,312 ¦ qcodes.instrument.base ¦ WARNING ¦ base ¦ snapshot_base ¦ 282 ¦ [instr2_ChanF(DummyChannel)] Snapshot: Could not update parameter: dummy_sp_axis_2\n"
     ]
    },
    {
     "data": {
      "text/plain": [
       "'instr2'"
      ]
     },
     "execution_count": 14,
     "metadata": {},
     "output_type": "execute_result"
    }
   ],
   "source": [
    "a.add_component(instr)\n",
    "a.add_component(instr2)"
   ]
  },
  {
   "cell_type": "code",
   "execution_count": 15,
   "id": "237c2443-cc41-435f-8f7f-c893f0e5acba",
   "metadata": {},
   "outputs": [
    {
     "data": {
      "text/plain": [
       "'conn2'"
      ]
     },
     "execution_count": 15,
     "metadata": {},
     "output_type": "execute_result"
    }
   ],
   "source": [
    "a.add_component(conn)\n",
    "a.add_component(conn2)"
   ]
  },
  {
   "cell_type": "code",
   "execution_count": 16,
   "id": "a6606f2e-b8f0-4c5e-b5c9-f66410bee96e",
   "metadata": {},
   "outputs": [
    {
     "data": {
      "text/plain": [
       "'chip'"
      ]
     },
     "execution_count": 16,
     "metadata": {},
     "output_type": "execute_result"
    }
   ],
   "source": [
    "a.add_component(chip)"
   ]
  },
  {
   "cell_type": "code",
   "execution_count": 17,
   "id": "c6bde1b1-d7e2-4d4b-b857-82d68d41c614",
   "metadata": {},
   "outputs": [
    {
     "name": "stdout",
     "output_type": "stream",
     "text": [
      "adding node chip\n",
      "adding node chip_device1\n",
      "adding node chip_device2\n"
     ]
    },
    {
     "data": {
      "text/plain": [
       "['chip', 'chip_device1', 'chip_device2']"
      ]
     },
     "execution_count": 17,
     "metadata": {},
     "output_type": "execute_result"
    }
   ],
   "source": [
    "list(chip.instrument_graph.nodes)"
   ]
  },
  {
   "cell_type": "code",
   "execution_count": 18,
   "id": "64e2f2fc-cdbb-4f5e-8588-0b93aabfc65b",
   "metadata": {},
   "outputs": [
    {
     "name": "stdout",
     "output_type": "stream",
     "text": [
      "adding node instr\n",
      "adding node instr_ChanA\n",
      "adding node instr_ChanB\n",
      "adding node instr_ChanC\n",
      "adding node instr_ChanD\n",
      "adding node instr_ChanE\n",
      "adding node instr_ChanF\n",
      "adding node instr2\n",
      "adding node instr2_ChanA\n",
      "adding node instr2_ChanB\n",
      "adding node instr2_ChanC\n",
      "adding node instr2_ChanD\n",
      "adding node instr2_ChanE\n",
      "adding node instr2_ChanF\n",
      "adding node chip\n",
      "adding node chip_device1\n",
      "adding node chip_device2\n"
     ]
    }
   ],
   "source": [
    "stationgraph = a._create_station_graph()"
   ]
  },
  {
   "cell_type": "code",
   "execution_count": 19,
   "id": "92dbd05b-1c25-473b-abc5-42aa619ba9a5",
   "metadata": {},
   "outputs": [],
   "source": [
    "c= draw(stationgraph, disjoint=True)"
   ]
  },
  {
   "cell_type": "code",
   "execution_count": 20,
   "id": "dee3fceb-4ad6-4f24-b346-bcdd00d6fdb4",
   "metadata": {},
   "outputs": [
    {
     "data": {
      "application/vnd.jupyter.widget-view+json": {
       "model_id": "0c96b07a0e564ec7906e6ee8ee9475cd",
       "version_major": 2,
       "version_minor": 0
      },
      "text/plain": [
       "HBox(children=(CytoscapeWidget(cytoscape_layout={'name': 'cola', 'avoidOverlap': True, 'maxSimulationTime': 40…"
      ]
     },
     "metadata": {},
     "output_type": "display_data"
    }
   ],
   "source": [
    "c"
   ]
  },
  {
   "cell_type": "markdown",
   "id": "bd7972d2-a7bc-4f79-b5c6-6f8d03959ccc",
   "metadata": {},
   "source": [
    "c.to_json() -> to_snapshot -> to_qdw "
   ]
  },
  {
   "cell_type": "code",
   "execution_count": 21,
   "id": "da8d8fec-70cd-4e21-bbab-404257084b4e",
   "metadata": {},
   "outputs": [],
   "source": [
    "stationgraph['chip_device1'].activator.add_source(stationgraph['conn[a]'])"
   ]
  },
  {
   "cell_type": "code",
   "execution_count": 22,
   "id": "15940693-9a61-4390-b7df-a3d8c3d6987e",
   "metadata": {},
   "outputs": [],
   "source": [
    "stationgraph['conn[a]'].activator.add_source(stationgraph['instr2_ChanC'])"
   ]
  },
  {
   "cell_type": "code",
   "execution_count": 24,
   "id": "1b0c5060-28cf-4b56-a989-81570e7ee59a",
   "metadata": {},
   "outputs": [
    {
     "data": {
      "text/plain": [
       "[<DummyChannel: instr2_ChanC of DummyChannelInstrument: instr2>]"
      ]
     },
     "execution_count": 24,
     "metadata": {},
     "output_type": "execute_result"
    }
   ],
   "source": [
    "list(stationgraph['chip_device1'].activator.upstream_nodes())"
   ]
  },
  {
   "cell_type": "code",
   "execution_count": 26,
   "id": "dd24a697-caa6-480a-a2de-f793df5a5601",
   "metadata": {},
   "outputs": [],
   "source": [
    "import networkx as nx"
   ]
  },
  {
   "cell_type": "code",
   "execution_count": null,
   "id": "4aadb4e5-33b9-4250-8d65-8c7133e21941",
   "metadata": {},
   "outputs": [],
   "source": []
  },
  {
   "cell_type": "code",
   "execution_count": null,
   "id": "fbf98bf9-ff83-4c1d-b24b-7d8952462a3b",
   "metadata": {},
   "outputs": [],
   "source": []
  }
 ],
 "metadata": {
  "kernelspec": {
   "display_name": "Python 3 (ipykernel)",
   "language": "python",
   "name": "python3"
  },
  "language_info": {
   "codemirror_mode": {
    "name": "ipython",
    "version": 3
   },
   "file_extension": ".py",
   "mimetype": "text/x-python",
   "name": "python",
   "nbconvert_exporter": "python",
   "pygments_lexer": "ipython3",
   "version": "3.8.12"
  },
  "widgets": {
   "application/vnd.jupyter.widget-state+json": {
    "state": {
     "0103cfb9dc3a4dedb0e3e030fa853e65": {
      "model_module": "jupyter-cytoscape",
      "model_module_version": "^1.3.3",
      "model_name": "GraphModel",
      "state": {
       "_adj": {},
       "_model_module_version": "^1.3.3",
       "_view_module": "jupyter-cytoscape",
       "_view_module_version": "^1.3.3"
      }
     },
     "02a14adfcada464b9f07939ee9f14d5f": {
      "model_module": "jupyter-cytoscape",
      "model_module_version": "^1.3.3",
      "model_name": "EdgeModel",
      "state": {
       "_model_module_version": "^1.3.3",
       "_view_module_version": "^1.3.3",
       "classes": "EdgeStatus_INACTIVE_ELECTRICAL_CONNECTION directed ",
       "data": {
        "source": "conn[a]",
        "target": "chip_device1"
       },
       "selectable": false
      }
     },
     "06feb1c22f7e45ffb4b4ef54a5353844": {
      "model_module": "@jupyter-widgets/base",
      "model_module_version": "1.2.0",
      "model_name": "LayoutModel",
      "state": {}
     },
     "08bcd02c2e00464fa607c934ec2a008f": {
      "model_module": "jupyter-cytoscape",
      "model_module_version": "^1.3.3",
      "model_name": "NodeModel",
      "state": {
       "_model_module_version": "^1.3.3",
       "_view_module_version": "^1.3.3",
       "classes": "NodeStatus_INACTIVE",
       "data": {
        "id": "instr2"
       },
       "grabbable": true,
       "grabbed": false,
       "selectable": false
      }
     },
     "0c96b07a0e564ec7906e6ee8ee9475cd": {
      "model_module": "@jupyter-widgets/controls",
      "model_module_version": "1.5.0",
      "model_name": "HBoxModel",
      "state": {
       "children": [
        "IPY_MODEL_fe24be062d704eb19e44a0a6a9d2f5d4"
       ],
       "layout": "IPY_MODEL_b448369d2fb546c7a71be1864eaed825"
      }
     },
     "18a08546dbd6436ca77a726772c1f7f0": {
      "model_module": "jupyter-cytoscape",
      "model_module_version": "^1.3.3",
      "model_name": "NodeModel",
      "state": {
       "_model_module_version": "^1.3.3",
       "_view_module_version": "^1.3.3",
       "classes": "NodeStatus_INACTIVE",
       "data": {
        "id": "instr_ChanB",
        "parent": "instr"
       },
       "grabbable": true,
       "grabbed": false,
       "selectable": false
      }
     },
     "19abc36ef1b645859e8101b2034e9c29": {
      "model_module": "jupyter-cytoscape",
      "model_module_version": "^1.3.3",
      "model_name": "NodeModel",
      "state": {
       "_model_module_version": "^1.3.3",
       "_view_module_version": "^1.3.3",
       "classes": "NodeStatus_INACTIVE",
       "data": {
        "id": "chip_device1",
        "parent": "chip"
       },
       "grabbable": true,
       "grabbed": false,
       "selectable": false
      }
     },
     "1b6b887ad0b6491fb1a8a0535ea3f8a2": {
      "model_module": "jupyter-cytoscape",
      "model_module_version": "^1.3.3",
      "model_name": "CytoscapeModel",
      "state": {
       "_interaction_handlers": {},
       "_model_module_version": "^1.3.3",
       "_view_module_version": "^1.3.3",
       "auto_ungrabify": false,
       "autolock": false,
       "cytoscape_layout": {
        "avoidOverlap": true,
        "maxSimulationTime": 4000,
        "name": "cola"
       },
       "cytoscape_style": [
        {
         "css": {
          "background-color": "#11479e",
          "color": "white",
          "content": "data(id)",
          "text-outline-color": "#11479e",
          "text-outline-width": 2,
          "text-valign": "center"
         },
         "selector": "node"
        },
        {
         "css": {
          "background-color": "red"
         },
         "selector": "node.NodeStatus_INACTIVE"
        },
        {
         "css": {
          "background-opacity": 0.333
         },
         "selector": "node:parent"
        },
        {
         "css": {
          "background-color": "black",
          "line-color": "black",
          "source-arrow-color": "black",
          "target-arrow-color": "black",
          "text-outline-color": "black"
         },
         "selector": ":selected"
        },
        {
         "selector": "edge",
         "style": {
          "line-color": "#9dbaea",
          "width": 4
         }
        },
        {
         "selector": "edge.EdgeStatus_ACTIVE_ELECTRICAL_CONNECTION",
         "style": {
          "curve-style": "haystack",
          "line-color": "green",
          "target-arrow-color": "#9dbaea",
          "target-arrow-shape": "triangle"
         }
        },
        {
         "selector": "edge.EdgeStatus_INACTIVE_ELECTRICAL_CONNECTION",
         "style": {
          "curve-style": "haystack",
          "line-color": "red",
          "target-arrow-color": "red",
          "target-arrow-shape": "triangle"
         }
        },
        {
         "selector": "edge.EdgeStatus_PART_OF",
         "style": {
          "curve-style": "haystack",
          "line-color": "green",
          "target-arrow-color": "green",
          "target-arrow-shape": "triangle"
         }
        },
        {
         "selector": "edge.multiple_edges",
         "style": {
          "curve-style": "haystack"
         }
        }
       ],
       "desktop_tap_threshold": 4,
       "graph": "IPY_MODEL_63eccbb24aad40f7835fc4a33dbe4ed7",
       "headless": false,
       "hide_edges_on_viewport": false,
       "layout": "IPY_MODEL_9580784a7e7d4016a5e9967eeff89caf",
       "max_zoom": 5,
       "min_zoom": 0.2,
       "motion_blur": false,
       "motion_blur_opacity": 0.2,
       "panning_enabled": true,
       "pixel_ratio": "auto",
       "rendered_position": {
        "renderedPosition": {
         "x": 100,
         "y": 100
        }
       },
       "selection_type": "single",
       "style_enabled": true,
       "texture_on_viewport": false,
       "tooltip_source": "tooltip",
       "touch_tap_threshold": 8,
       "user_panning_enabled": true,
       "user_zooming_enabled": true,
       "wheel_sensitivity": 0.1,
       "zoom": 2,
       "zooming_enabled": true
      }
     },
     "1cac4805b0374e86bc46450ac9985400": {
      "model_module": "jupyter-cytoscape",
      "model_module_version": "^1.3.3",
      "model_name": "EdgeModel",
      "state": {
       "_model_module_version": "^1.3.3",
       "_view_module_version": "^1.3.3",
       "classes": "EdgeStatus_INACTIVE_ELECTRICAL_CONNECTION directed ",
       "data": {
        "source": "conn2[b]",
        "target": "chip_device2"
       },
       "selectable": false
      }
     },
     "2948c92ade3548f9b981ae99b6dc7586": {
      "model_module": "jupyter-cytoscape",
      "model_module_version": "^1.3.3",
      "model_name": "GraphModel",
      "state": {
       "_adj": {
        "instr": {},
        "instr_ChanA": {},
        "instr_ChanB": {},
        "instr_ChanC": {},
        "instr_ChanD": {},
        "instr_ChanE": {},
        "instr_ChanF": {}
       },
       "_model_module_version": "^1.3.3",
       "_view_module": "jupyter-cytoscape",
       "_view_module_version": "^1.3.3",
       "nodes": [
        "IPY_MODEL_bebe525a10b244c7967bf4f52d474cba",
        "IPY_MODEL_92d054664929438dad095e784042291a",
        "IPY_MODEL_18a08546dbd6436ca77a726772c1f7f0",
        "IPY_MODEL_caabc67cee984147865c123f4f7f72e3",
        "IPY_MODEL_ff47a72051634e23b9ea7d5e5b09bd76",
        "IPY_MODEL_9ac42c10f712454c989625e14287287b",
        "IPY_MODEL_33ed4614dd5a4ddd932a8947f53f42b6"
       ]
      }
     },
     "2d8cef17927e471b95d3e1d7bba94a82": {
      "model_module": "jupyter-cytoscape",
      "model_module_version": "^1.3.3",
      "model_name": "GraphModel",
      "state": {
       "_adj": {},
       "_model_module_version": "^1.3.3",
       "_view_module": "jupyter-cytoscape",
       "_view_module_version": "^1.3.3"
      }
     },
     "2e4f06ffc0de4d459da0bd8ba5692c7e": {
      "model_module": "jupyter-cytoscape",
      "model_module_version": "^1.3.3",
      "model_name": "NodeModel",
      "state": {
       "_model_module_version": "^1.3.3",
       "_view_module_version": "^1.3.3",
       "classes": "NodeStatus_INACTIVE",
       "data": {
        "id": "instr2_ChanB",
        "parent": "instr2"
       },
       "grabbable": true,
       "grabbed": false,
       "selectable": false
      }
     },
     "2e9913fc96624c18a56808e946c7d6da": {
      "model_module": "jupyter-cytoscape",
      "model_module_version": "^1.3.3",
      "model_name": "EdgeModel",
      "state": {
       "_model_module_version": "^1.3.3",
       "_view_module_version": "^1.3.3",
       "classes": "EdgeStatus_INACTIVE_ELECTRICAL_CONNECTION directed ",
       "data": {
        "source": "instr_ChanD",
        "target": "conn2[b]"
       },
       "selectable": false
      }
     },
     "2f1e520d66b4402fb417c77892f4dc04": {
      "model_module": "jupyter-cytoscape",
      "model_module_version": "^1.3.3",
      "model_name": "NodeModel",
      "state": {
       "_model_module_version": "^1.3.3",
       "_view_module_version": "^1.3.3",
       "classes": "NodeStatus_INACTIVE",
       "data": {
        "id": "instr2_ChanF",
        "parent": "instr2"
       },
       "grabbable": true,
       "grabbed": false,
       "selectable": false
      }
     },
     "3056549c247640dcbca9e71cf371fc3a": {
      "model_module": "@jupyter-widgets/controls",
      "model_module_version": "1.5.0",
      "model_name": "HBoxModel",
      "state": {
       "children": [
        "IPY_MODEL_d1dfe7cd4b1f4ca88bed14ed550cddbe"
       ],
       "layout": "IPY_MODEL_c0c87953dcc642a9af645b28e744472e"
      }
     },
     "33ed4614dd5a4ddd932a8947f53f42b6": {
      "model_module": "jupyter-cytoscape",
      "model_module_version": "^1.3.3",
      "model_name": "NodeModel",
      "state": {
       "_model_module_version": "^1.3.3",
       "_view_module_version": "^1.3.3",
       "classes": "NodeStatus_INACTIVE",
       "data": {
        "id": "instr_ChanF",
        "parent": "instr"
       },
       "grabbable": true,
       "grabbed": false,
       "selectable": false
      }
     },
     "365dc40d707d4daf90f7a6266ace6e0f": {
      "model_module": "jupyter-cytoscape",
      "model_module_version": "^1.3.3",
      "model_name": "NodeModel",
      "state": {
       "_model_module_version": "^1.3.3",
       "_view_module_version": "^1.3.3",
       "classes": "NodeStatus_INACTIVE",
       "data": {
        "id": "instr"
       },
       "grabbable": true,
       "grabbed": false,
       "selectable": false
      }
     },
     "3b13d5143716436ea04cd24aca476d3d": {
      "model_module": "jupyter-cytoscape",
      "model_module_version": "^1.3.3",
      "model_name": "NodeModel",
      "state": {
       "_model_module_version": "^1.3.3",
       "_view_module_version": "^1.3.3",
       "classes": "NodeStatus_INACTIVE",
       "data": {
        "id": "instr2_ChanE",
        "parent": "instr2"
       },
       "grabbable": true,
       "grabbed": false,
       "selectable": false
      }
     },
     "3ba049dc6a6c4bfe9f96b3b268b57939": {
      "model_module": "jupyter-cytoscape",
      "model_module_version": "^1.3.3",
      "model_name": "NodeModel",
      "state": {
       "_model_module_version": "^1.3.3",
       "_view_module_version": "^1.3.3",
       "classes": "NodeStatus_INACTIVE",
       "data": {
        "id": "instr_ChanF",
        "parent": "instr"
       },
       "grabbable": true,
       "grabbed": false,
       "selectable": false
      }
     },
     "3cc35102f75f4b65816d52774d8a4160": {
      "model_module": "jupyter-cytoscape",
      "model_module_version": "^1.3.3",
      "model_name": "GraphModel",
      "state": {
       "_adj": {
        "chip": {},
        "chip_device1": {
         "conn[a]": 1
        },
        "chip_device2": {
         "conn2[b]": 1
        },
        "conn2[b]": {
         "chip_device2": 1,
         "instr_ChanD": 1
        },
        "conn[a]": {
         "chip_device1": 1,
         "instr2_ChanC": 1
        },
        "instr": {},
        "instr2": {},
        "instr2_ChanA": {},
        "instr2_ChanB": {},
        "instr2_ChanC": {
         "conn[a]": 1
        },
        "instr2_ChanD": {},
        "instr2_ChanE": {},
        "instr2_ChanF": {},
        "instr_ChanA": {},
        "instr_ChanB": {},
        "instr_ChanC": {},
        "instr_ChanD": {
         "conn2[b]": 1
        },
        "instr_ChanE": {},
        "instr_ChanF": {}
       },
       "_model_module_version": "^1.3.3",
       "_view_module": "jupyter-cytoscape",
       "_view_module_version": "^1.3.3",
       "edges": [
        "IPY_MODEL_2e9913fc96624c18a56808e946c7d6da",
        "IPY_MODEL_6a113a96b90547329605c25c90ef415e",
        "IPY_MODEL_cec8dddf21af46c08d3b617e8c120398",
        "IPY_MODEL_02a14adfcada464b9f07939ee9f14d5f",
        "IPY_MODEL_46a5cd64b7704d69a0c87f81dbf84576",
        "IPY_MODEL_724f6b9b005b44059bdf812443d767cf",
        "IPY_MODEL_1cac4805b0374e86bc46450ac9985400",
        "IPY_MODEL_aec73367f802424d81b303e7ff8b2de1"
       ],
       "nodes": [
        "IPY_MODEL_365dc40d707d4daf90f7a6266ace6e0f",
        "IPY_MODEL_08bcd02c2e00464fa607c934ec2a008f",
        "IPY_MODEL_fa938ee2aef64b5eb16e5670193cf124",
        "IPY_MODEL_a5c4de78464c4baab7f1dc9706144d2f",
        "IPY_MODEL_6342baf39b02436aa7fab8b13712115f",
        "IPY_MODEL_d422b1f3e4d741028f9b40f02e38fe9d",
        "IPY_MODEL_b288442948a5451d81c0345347d7fd09",
        "IPY_MODEL_9ff34ec4ff694394afb7c0d38a394ad9",
        "IPY_MODEL_3ba049dc6a6c4bfe9f96b3b268b57939",
        "IPY_MODEL_509c869a657446e2bd069145851f1c2c",
        "IPY_MODEL_2e4f06ffc0de4d459da0bd8ba5692c7e",
        "IPY_MODEL_e19749decc4b480a837bc2dc5aea3f5d",
        "IPY_MODEL_86aa62725cd545f2a32a73d95df14afe",
        "IPY_MODEL_3b13d5143716436ea04cd24aca476d3d",
        "IPY_MODEL_2f1e520d66b4402fb417c77892f4dc04",
        "IPY_MODEL_95911de4f1df495da1b8c1a1196d2401",
        "IPY_MODEL_f80ec1baec034a1d80a205cbcbb3abbf",
        "IPY_MODEL_5f2092067b3c418f9248a1cfb34974db",
        "IPY_MODEL_dd654e979c8244d5b7f41c5f27f2364b"
       ]
      }
     },
     "3f60e0747dce4578a6b11bea46b041c4": {
      "model_module": "jupyter-cytoscape",
      "model_module_version": "^1.3.3",
      "model_name": "EdgeModel",
      "state": {
       "_model_module_version": "^1.3.3",
       "_view_module_version": "^1.3.3",
       "classes": "EdgeStatus_INACTIVE_ELECTRICAL_CONNECTION directed ",
       "data": {
        "source": "conn[a]",
        "target": "chip_device1"
       },
       "selectable": false
      }
     },
     "4145ed6250724c099a223a97a74b42c4": {
      "model_module": "@jupyter-widgets/base",
      "model_module_version": "1.2.0",
      "model_name": "LayoutModel",
      "state": {}
     },
     "46a5cd64b7704d69a0c87f81dbf84576": {
      "model_module": "jupyter-cytoscape",
      "model_module_version": "^1.3.3",
      "model_name": "EdgeModel",
      "state": {
       "_model_module_version": "^1.3.3",
       "_view_module_version": "^1.3.3",
       "classes": "EdgeStatus_INACTIVE_ELECTRICAL_CONNECTION directed ",
       "data": {
        "source": "chip_device1",
        "target": "conn[a]"
       },
       "selectable": false
      }
     },
     "509c869a657446e2bd069145851f1c2c": {
      "model_module": "jupyter-cytoscape",
      "model_module_version": "^1.3.3",
      "model_name": "NodeModel",
      "state": {
       "_model_module_version": "^1.3.3",
       "_view_module_version": "^1.3.3",
       "classes": "NodeStatus_INACTIVE",
       "data": {
        "id": "instr2_ChanA",
        "parent": "instr2"
       },
       "grabbable": true,
       "grabbed": false,
       "selectable": false
      }
     },
     "558afb636b3e4d1086c921bd0b08180c": {
      "model_module": "@jupyter-widgets/controls",
      "model_module_version": "1.5.0",
      "model_name": "HBoxModel",
      "state": {
       "children": [
        "IPY_MODEL_1b6b887ad0b6491fb1a8a0535ea3f8a2"
       ],
       "layout": "IPY_MODEL_06feb1c22f7e45ffb4b4ef54a5353844"
      }
     },
     "5f2092067b3c418f9248a1cfb34974db": {
      "model_module": "jupyter-cytoscape",
      "model_module_version": "^1.3.3",
      "model_name": "NodeModel",
      "state": {
       "_model_module_version": "^1.3.3",
       "_view_module_version": "^1.3.3",
       "classes": "NodeStatus_INACTIVE",
       "data": {
        "id": "conn2[b]",
        "parent": "conn2"
       },
       "grabbable": true,
       "grabbed": false,
       "selectable": false
      }
     },
     "6342baf39b02436aa7fab8b13712115f": {
      "model_module": "jupyter-cytoscape",
      "model_module_version": "^1.3.3",
      "model_name": "NodeModel",
      "state": {
       "_model_module_version": "^1.3.3",
       "_view_module_version": "^1.3.3",
       "classes": "NodeStatus_INACTIVE",
       "data": {
        "id": "instr_ChanB",
        "parent": "instr"
       },
       "grabbable": true,
       "grabbed": false,
       "selectable": false
      }
     },
     "63eccbb24aad40f7835fc4a33dbe4ed7": {
      "model_module": "jupyter-cytoscape",
      "model_module_version": "^1.3.3",
      "model_name": "GraphModel",
      "state": {
       "_adj": {
        "chip_device1": {
         "conn[a]": 1
        },
        "conn[a]": {
         "chip_device1": 1,
         "instr2_ChanC": 1
        },
        "instr2_ChanC": {
         "conn[a]": 1
        }
       },
       "_model_module_version": "^1.3.3",
       "_view_module": "jupyter-cytoscape",
       "_view_module_version": "^1.3.3",
       "edges": [
        "IPY_MODEL_a57f4875dec649688b4ebb28e595d3ff",
        "IPY_MODEL_c23f1ee11d034f08bf9a7c60a0b8dc7e",
        "IPY_MODEL_69b97c0273854af08a154bc097b18e38",
        "IPY_MODEL_3f60e0747dce4578a6b11bea46b041c4"
       ],
       "nodes": [
        "IPY_MODEL_a69e9bfad73a4bd7869d4323c9d2098d",
        "IPY_MODEL_e80652f196864cadae7ec0c38034e276",
        "IPY_MODEL_91ef5cc59ea946eeab0fbb0f4a8acf49"
       ]
      }
     },
     "69b97c0273854af08a154bc097b18e38": {
      "model_module": "jupyter-cytoscape",
      "model_module_version": "^1.3.3",
      "model_name": "EdgeModel",
      "state": {
       "_model_module_version": "^1.3.3",
       "_view_module_version": "^1.3.3",
       "classes": "EdgeStatus_INACTIVE_ELECTRICAL_CONNECTION directed ",
       "data": {
        "source": "conn[a]",
        "target": "instr2_ChanC"
       },
       "selectable": false
      }
     },
     "6a113a96b90547329605c25c90ef415e": {
      "model_module": "jupyter-cytoscape",
      "model_module_version": "^1.3.3",
      "model_name": "EdgeModel",
      "state": {
       "_model_module_version": "^1.3.3",
       "_view_module_version": "^1.3.3",
       "classes": "EdgeStatus_INACTIVE_ELECTRICAL_CONNECTION directed ",
       "data": {
        "source": "instr2_ChanC",
        "target": "conn[a]"
       },
       "selectable": false
      }
     },
     "724f6b9b005b44059bdf812443d767cf": {
      "model_module": "jupyter-cytoscape",
      "model_module_version": "^1.3.3",
      "model_name": "EdgeModel",
      "state": {
       "_model_module_version": "^1.3.3",
       "_view_module_version": "^1.3.3",
       "classes": "EdgeStatus_INACTIVE_ELECTRICAL_CONNECTION directed ",
       "data": {
        "source": "conn2[b]",
        "target": "instr_ChanD"
       },
       "selectable": false
      }
     },
     "855ebe5abc5244139a16264349a54944": {
      "model_module": "jupyter-cytoscape",
      "model_module_version": "^1.3.3",
      "model_name": "GraphModel",
      "state": {
       "_adj": {
        "chip": {},
        "chip_device1": {},
        "chip_device2": {}
       },
       "_model_module_version": "^1.3.3",
       "_view_module": "jupyter-cytoscape",
       "_view_module_version": "^1.3.3",
       "nodes": [
        "IPY_MODEL_ed58599b0d7748c4a42a31e34bb43525",
        "IPY_MODEL_19abc36ef1b645859e8101b2034e9c29",
        "IPY_MODEL_a35495ce52f6407fbf90586f3a4cbdea"
       ]
      }
     },
     "86aa62725cd545f2a32a73d95df14afe": {
      "model_module": "jupyter-cytoscape",
      "model_module_version": "^1.3.3",
      "model_name": "NodeModel",
      "state": {
       "_model_module_version": "^1.3.3",
       "_view_module_version": "^1.3.3",
       "classes": "NodeStatus_INACTIVE",
       "data": {
        "id": "instr2_ChanD",
        "parent": "instr2"
       },
       "grabbable": true,
       "grabbed": false,
       "selectable": false
      }
     },
     "910b3dfe5cb8462f9d8771651d0447c0": {
      "model_module": "@jupyter-widgets/base",
      "model_module_version": "1.2.0",
      "model_name": "LayoutModel",
      "state": {}
     },
     "91ef5cc59ea946eeab0fbb0f4a8acf49": {
      "model_module": "jupyter-cytoscape",
      "model_module_version": "^1.3.3",
      "model_name": "NodeModel",
      "state": {
       "_model_module_version": "^1.3.3",
       "_view_module_version": "^1.3.3",
       "classes": "NodeStatus_INACTIVE",
       "data": {
        "id": "conn[a]",
        "parent": "conn"
       },
       "grabbable": true,
       "grabbed": false,
       "selectable": false
      }
     },
     "92d054664929438dad095e784042291a": {
      "model_module": "jupyter-cytoscape",
      "model_module_version": "^1.3.3",
      "model_name": "NodeModel",
      "state": {
       "_model_module_version": "^1.3.3",
       "_view_module_version": "^1.3.3",
       "classes": "NodeStatus_INACTIVE",
       "data": {
        "id": "instr_ChanA",
        "parent": "instr"
       },
       "grabbable": true,
       "grabbed": false,
       "selectable": false
      }
     },
     "9580784a7e7d4016a5e9967eeff89caf": {
      "model_module": "@jupyter-widgets/base",
      "model_module_version": "1.2.0",
      "model_name": "LayoutModel",
      "state": {}
     },
     "95911de4f1df495da1b8c1a1196d2401": {
      "model_module": "jupyter-cytoscape",
      "model_module_version": "^1.3.3",
      "model_name": "NodeModel",
      "state": {
       "_model_module_version": "^1.3.3",
       "_view_module_version": "^1.3.3",
       "classes": "NodeStatus_INACTIVE",
       "data": {
        "id": "conn[a]",
        "parent": "conn"
       },
       "grabbable": true,
       "grabbed": false,
       "selectable": false
      }
     },
     "9ac42c10f712454c989625e14287287b": {
      "model_module": "jupyter-cytoscape",
      "model_module_version": "^1.3.3",
      "model_name": "NodeModel",
      "state": {
       "_model_module_version": "^1.3.3",
       "_view_module_version": "^1.3.3",
       "classes": "NodeStatus_INACTIVE",
       "data": {
        "id": "instr_ChanE",
        "parent": "instr"
       },
       "grabbable": true,
       "grabbed": false,
       "selectable": false
      }
     },
     "9ff34ec4ff694394afb7c0d38a394ad9": {
      "model_module": "jupyter-cytoscape",
      "model_module_version": "^1.3.3",
      "model_name": "NodeModel",
      "state": {
       "_model_module_version": "^1.3.3",
       "_view_module_version": "^1.3.3",
       "classes": "NodeStatus_INACTIVE",
       "data": {
        "id": "instr_ChanE",
        "parent": "instr"
       },
       "grabbable": true,
       "grabbed": false,
       "selectable": false
      }
     },
     "a35495ce52f6407fbf90586f3a4cbdea": {
      "model_module": "jupyter-cytoscape",
      "model_module_version": "^1.3.3",
      "model_name": "NodeModel",
      "state": {
       "_model_module_version": "^1.3.3",
       "_view_module_version": "^1.3.3",
       "classes": "NodeStatus_INACTIVE",
       "data": {
        "id": "chip_device2",
        "parent": "chip"
       },
       "grabbable": true,
       "grabbed": false,
       "selectable": false
      }
     },
     "a57f4875dec649688b4ebb28e595d3ff": {
      "model_module": "jupyter-cytoscape",
      "model_module_version": "^1.3.3",
      "model_name": "EdgeModel",
      "state": {
       "_model_module_version": "^1.3.3",
       "_view_module_version": "^1.3.3",
       "classes": "EdgeStatus_INACTIVE_ELECTRICAL_CONNECTION directed ",
       "data": {
        "source": "instr2_ChanC",
        "target": "conn[a]"
       },
       "selectable": false
      }
     },
     "a5c4de78464c4baab7f1dc9706144d2f": {
      "model_module": "jupyter-cytoscape",
      "model_module_version": "^1.3.3",
      "model_name": "NodeModel",
      "state": {
       "_model_module_version": "^1.3.3",
       "_view_module_version": "^1.3.3",
       "classes": "NodeStatus_INACTIVE",
       "data": {
        "id": "instr_ChanA",
        "parent": "instr"
       },
       "grabbable": true,
       "grabbed": false,
       "selectable": false
      }
     },
     "a69e9bfad73a4bd7869d4323c9d2098d": {
      "model_module": "jupyter-cytoscape",
      "model_module_version": "^1.3.3",
      "model_name": "NodeModel",
      "state": {
       "_model_module_version": "^1.3.3",
       "_view_module_version": "^1.3.3",
       "classes": "None",
       "data": {
        "id": "instr2_ChanC"
       },
       "grabbable": true,
       "grabbed": false,
       "selectable": false
      }
     },
     "a74a312e84e54ad2a22d3b3503574609": {
      "model_module": "@jupyter-widgets/base",
      "model_module_version": "1.2.0",
      "model_name": "LayoutModel",
      "state": {}
     },
     "adc4a515033445c99906ce3db2cfcbee": {
      "model_module": "jupyter-cytoscape",
      "model_module_version": "^1.3.3",
      "model_name": "GraphModel",
      "state": {
       "_adj": {},
       "_model_module_version": "^1.3.3",
       "_view_module": "jupyter-cytoscape",
       "_view_module_version": "^1.3.3"
      }
     },
     "aec73367f802424d81b303e7ff8b2de1": {
      "model_module": "jupyter-cytoscape",
      "model_module_version": "^1.3.3",
      "model_name": "EdgeModel",
      "state": {
       "_model_module_version": "^1.3.3",
       "_view_module_version": "^1.3.3",
       "classes": "EdgeStatus_INACTIVE_ELECTRICAL_CONNECTION directed ",
       "data": {
        "source": "chip_device2",
        "target": "conn2[b]"
       },
       "selectable": false
      }
     },
     "b288442948a5451d81c0345347d7fd09": {
      "model_module": "jupyter-cytoscape",
      "model_module_version": "^1.3.3",
      "model_name": "NodeModel",
      "state": {
       "_model_module_version": "^1.3.3",
       "_view_module_version": "^1.3.3",
       "classes": "NodeStatus_INACTIVE",
       "data": {
        "id": "instr_ChanD",
        "parent": "instr"
       },
       "grabbable": true,
       "grabbed": false,
       "selectable": false
      }
     },
     "b448369d2fb546c7a71be1864eaed825": {
      "model_module": "@jupyter-widgets/base",
      "model_module_version": "1.2.0",
      "model_name": "LayoutModel",
      "state": {}
     },
     "bc2e02ab49d9460a935cf32be1f8d86a": {
      "model_module": "jupyter-cytoscape",
      "model_module_version": "^1.3.3",
      "model_name": "CytoscapeModel",
      "state": {
       "_interaction_handlers": {},
       "_model_module_version": "^1.3.3",
       "_view_module_version": "^1.3.3",
       "auto_ungrabify": false,
       "autolock": false,
       "cytoscape_layout": {
        "avoidOverlap": true,
        "maxSimulationTime": 4000,
        "name": "cola"
       },
       "cytoscape_style": [
        {
         "css": {
          "background-color": "#11479e",
          "color": "white",
          "content": "data(id)",
          "text-outline-color": "#11479e",
          "text-outline-width": 2,
          "text-valign": "center"
         },
         "selector": "node"
        },
        {
         "css": {
          "background-color": "red"
         },
         "selector": "node.NodeStatus_INACTIVE"
        },
        {
         "css": {
          "background-opacity": 0.333
         },
         "selector": "node:parent"
        },
        {
         "css": {
          "background-color": "black",
          "line-color": "black",
          "source-arrow-color": "black",
          "target-arrow-color": "black",
          "text-outline-color": "black"
         },
         "selector": ":selected"
        },
        {
         "selector": "edge",
         "style": {
          "line-color": "#9dbaea",
          "width": 4
         }
        },
        {
         "selector": "edge.EdgeStatus_ACTIVE_ELECTRICAL_CONNECTION",
         "style": {
          "curve-style": "haystack",
          "line-color": "green",
          "target-arrow-color": "#9dbaea",
          "target-arrow-shape": "triangle"
         }
        },
        {
         "selector": "edge.EdgeStatus_INACTIVE_ELECTRICAL_CONNECTION",
         "style": {
          "curve-style": "haystack",
          "line-color": "red",
          "target-arrow-color": "red",
          "target-arrow-shape": "triangle"
         }
        },
        {
         "selector": "edge.EdgeStatus_PART_OF",
         "style": {
          "curve-style": "haystack",
          "line-color": "green",
          "target-arrow-color": "green",
          "target-arrow-shape": "triangle"
         }
        },
        {
         "selector": "edge.multiple_edges",
         "style": {
          "curve-style": "haystack"
         }
        }
       ],
       "desktop_tap_threshold": 4,
       "graph": "IPY_MODEL_855ebe5abc5244139a16264349a54944",
       "headless": false,
       "hide_edges_on_viewport": false,
       "layout": "IPY_MODEL_4145ed6250724c099a223a97a74b42c4",
       "max_zoom": 5,
       "min_zoom": 0.2,
       "motion_blur": false,
       "motion_blur_opacity": 0.2,
       "panning_enabled": true,
       "pixel_ratio": "auto",
       "rendered_position": {
        "renderedPosition": {
         "x": 100,
         "y": 100
        }
       },
       "selection_type": "single",
       "style_enabled": true,
       "texture_on_viewport": false,
       "tooltip_source": "tooltip",
       "touch_tap_threshold": 8,
       "user_panning_enabled": true,
       "user_zooming_enabled": true,
       "wheel_sensitivity": 0.1,
       "zoom": 2,
       "zooming_enabled": true
      }
     },
     "bebe525a10b244c7967bf4f52d474cba": {
      "model_module": "jupyter-cytoscape",
      "model_module_version": "^1.3.3",
      "model_name": "NodeModel",
      "state": {
       "_model_module_version": "^1.3.3",
       "_view_module_version": "^1.3.3",
       "classes": "NodeStatus_INACTIVE",
       "data": {
        "id": "instr"
       },
       "grabbable": true,
       "grabbed": false,
       "selectable": false
      }
     },
     "c0c87953dcc642a9af645b28e744472e": {
      "model_module": "@jupyter-widgets/base",
      "model_module_version": "1.2.0",
      "model_name": "LayoutModel",
      "state": {}
     },
     "c23f1ee11d034f08bf9a7c60a0b8dc7e": {
      "model_module": "jupyter-cytoscape",
      "model_module_version": "^1.3.3",
      "model_name": "EdgeModel",
      "state": {
       "_model_module_version": "^1.3.3",
       "_view_module_version": "^1.3.3",
       "classes": "EdgeStatus_INACTIVE_ELECTRICAL_CONNECTION directed ",
       "data": {
        "source": "chip_device1",
        "target": "conn[a]"
       },
       "selectable": false
      }
     },
     "c59b1bc1947d4af4839e371c43c338d5": {
      "model_module": "jupyter-cytoscape",
      "model_module_version": "^1.3.3",
      "model_name": "GraphModel",
      "state": {
       "_adj": {},
       "_model_module_version": "^1.3.3",
       "_view_module": "jupyter-cytoscape",
       "_view_module_version": "^1.3.3"
      }
     },
     "c60b2f3b79394bcd899b7ae9cd4a96a4": {
      "model_module": "@jupyter-widgets/base",
      "model_module_version": "1.2.0",
      "model_name": "LayoutModel",
      "state": {}
     },
     "caabc67cee984147865c123f4f7f72e3": {
      "model_module": "jupyter-cytoscape",
      "model_module_version": "^1.3.3",
      "model_name": "NodeModel",
      "state": {
       "_model_module_version": "^1.3.3",
       "_view_module_version": "^1.3.3",
       "classes": "NodeStatus_INACTIVE",
       "data": {
        "id": "instr_ChanC",
        "parent": "instr"
       },
       "grabbable": true,
       "grabbed": false,
       "selectable": false
      }
     },
     "cec8dddf21af46c08d3b617e8c120398": {
      "model_module": "jupyter-cytoscape",
      "model_module_version": "^1.3.3",
      "model_name": "EdgeModel",
      "state": {
       "_model_module_version": "^1.3.3",
       "_view_module_version": "^1.3.3",
       "classes": "EdgeStatus_INACTIVE_ELECTRICAL_CONNECTION directed ",
       "data": {
        "source": "conn[a]",
        "target": "instr2_ChanC"
       },
       "selectable": false
      }
     },
     "d1dfe7cd4b1f4ca88bed14ed550cddbe": {
      "model_module": "jupyter-cytoscape",
      "model_module_version": "^1.3.3",
      "model_name": "CytoscapeModel",
      "state": {
       "_interaction_handlers": {},
       "_model_module_version": "^1.3.3",
       "_view_module_version": "^1.3.3",
       "auto_ungrabify": false,
       "autolock": false,
       "cytoscape_layout": {
        "avoidOverlap": true,
        "maxSimulationTime": 4000,
        "name": "cola"
       },
       "cytoscape_style": [
        {
         "css": {
          "background-color": "#11479e",
          "color": "white",
          "content": "data(id)",
          "text-outline-color": "#11479e",
          "text-outline-width": 2,
          "text-valign": "center"
         },
         "selector": "node"
        },
        {
         "css": {
          "background-color": "red"
         },
         "selector": "node.NodeStatus_INACTIVE"
        },
        {
         "css": {
          "background-opacity": 0.333
         },
         "selector": "node:parent"
        },
        {
         "css": {
          "background-color": "black",
          "line-color": "black",
          "source-arrow-color": "black",
          "target-arrow-color": "black",
          "text-outline-color": "black"
         },
         "selector": ":selected"
        },
        {
         "selector": "edge",
         "style": {
          "line-color": "#9dbaea",
          "width": 4
         }
        },
        {
         "selector": "edge.EdgeStatus_ACTIVE_ELECTRICAL_CONNECTION",
         "style": {
          "curve-style": "haystack",
          "line-color": "green",
          "target-arrow-color": "#9dbaea",
          "target-arrow-shape": "triangle"
         }
        },
        {
         "selector": "edge.EdgeStatus_INACTIVE_ELECTRICAL_CONNECTION",
         "style": {
          "curve-style": "haystack",
          "line-color": "red",
          "target-arrow-color": "red",
          "target-arrow-shape": "triangle"
         }
        },
        {
         "selector": "edge.EdgeStatus_PART_OF",
         "style": {
          "curve-style": "haystack",
          "line-color": "green",
          "target-arrow-color": "green",
          "target-arrow-shape": "triangle"
         }
        },
        {
         "selector": "edge.multiple_edges",
         "style": {
          "curve-style": "haystack"
         }
        }
       ],
       "desktop_tap_threshold": 4,
       "graph": "IPY_MODEL_2948c92ade3548f9b981ae99b6dc7586",
       "headless": false,
       "hide_edges_on_viewport": false,
       "layout": "IPY_MODEL_c60b2f3b79394bcd899b7ae9cd4a96a4",
       "max_zoom": 5,
       "min_zoom": 0.2,
       "motion_blur": false,
       "motion_blur_opacity": 0.2,
       "panning_enabled": true,
       "pixel_ratio": "auto",
       "rendered_position": {
        "renderedPosition": {
         "x": 100,
         "y": 100
        }
       },
       "selection_type": "single",
       "style_enabled": true,
       "texture_on_viewport": false,
       "tooltip_source": "tooltip",
       "touch_tap_threshold": 8,
       "user_panning_enabled": true,
       "user_zooming_enabled": true,
       "wheel_sensitivity": 0.1,
       "zoom": 2,
       "zooming_enabled": true
      }
     },
     "d422b1f3e4d741028f9b40f02e38fe9d": {
      "model_module": "jupyter-cytoscape",
      "model_module_version": "^1.3.3",
      "model_name": "NodeModel",
      "state": {
       "_model_module_version": "^1.3.3",
       "_view_module_version": "^1.3.3",
       "classes": "NodeStatus_INACTIVE",
       "data": {
        "id": "instr_ChanC",
        "parent": "instr"
       },
       "grabbable": true,
       "grabbed": false,
       "selectable": false
      }
     },
     "dd654e979c8244d5b7f41c5f27f2364b": {
      "model_module": "jupyter-cytoscape",
      "model_module_version": "^1.3.3",
      "model_name": "NodeModel",
      "state": {
       "_model_module_version": "^1.3.3",
       "_view_module_version": "^1.3.3",
       "classes": "NodeStatus_INACTIVE",
       "data": {
        "id": "chip_device2",
        "parent": "chip"
       },
       "grabbable": true,
       "grabbed": false,
       "selectable": false
      }
     },
     "e19749decc4b480a837bc2dc5aea3f5d": {
      "model_module": "jupyter-cytoscape",
      "model_module_version": "^1.3.3",
      "model_name": "NodeModel",
      "state": {
       "_model_module_version": "^1.3.3",
       "_view_module_version": "^1.3.3",
       "classes": "NodeStatus_INACTIVE",
       "data": {
        "id": "instr2_ChanC",
        "parent": "instr2"
       },
       "grabbable": true,
       "grabbed": false,
       "selectable": false
      }
     },
     "e80652f196864cadae7ec0c38034e276": {
      "model_module": "jupyter-cytoscape",
      "model_module_version": "^1.3.3",
      "model_name": "NodeModel",
      "state": {
       "_model_module_version": "^1.3.3",
       "_view_module_version": "^1.3.3",
       "classes": "None",
       "data": {
        "id": "chip_device1"
       },
       "grabbable": true,
       "grabbed": false,
       "selectable": false
      }
     },
     "ed58599b0d7748c4a42a31e34bb43525": {
      "model_module": "jupyter-cytoscape",
      "model_module_version": "^1.3.3",
      "model_name": "NodeModel",
      "state": {
       "_model_module_version": "^1.3.3",
       "_view_module_version": "^1.3.3",
       "classes": "NodeStatus_INACTIVE",
       "data": {
        "id": "chip"
       },
       "grabbable": true,
       "grabbed": false,
       "selectable": false
      }
     },
     "f1cbb1b518d84e918203c520d98819f7": {
      "model_module": "@jupyter-widgets/controls",
      "model_module_version": "1.5.0",
      "model_name": "HBoxModel",
      "state": {
       "children": [
        "IPY_MODEL_bc2e02ab49d9460a935cf32be1f8d86a"
       ],
       "layout": "IPY_MODEL_a74a312e84e54ad2a22d3b3503574609"
      }
     },
     "f80ec1baec034a1d80a205cbcbb3abbf": {
      "model_module": "jupyter-cytoscape",
      "model_module_version": "^1.3.3",
      "model_name": "NodeModel",
      "state": {
       "_model_module_version": "^1.3.3",
       "_view_module_version": "^1.3.3",
       "classes": "NodeStatus_INACTIVE",
       "data": {
        "id": "chip_device1",
        "parent": "chip"
       },
       "grabbable": true,
       "grabbed": false,
       "selectable": false
      }
     },
     "fa938ee2aef64b5eb16e5670193cf124": {
      "model_module": "jupyter-cytoscape",
      "model_module_version": "^1.3.3",
      "model_name": "NodeModel",
      "state": {
       "_model_module_version": "^1.3.3",
       "_view_module_version": "^1.3.3",
       "classes": "NodeStatus_INACTIVE",
       "data": {
        "id": "chip"
       },
       "grabbable": true,
       "grabbed": false,
       "selectable": false
      }
     },
     "fe24be062d704eb19e44a0a6a9d2f5d4": {
      "model_module": "jupyter-cytoscape",
      "model_module_version": "^1.3.3",
      "model_name": "CytoscapeModel",
      "state": {
       "_interaction_handlers": {},
       "_model_module_version": "^1.3.3",
       "_view_module_version": "^1.3.3",
       "auto_ungrabify": false,
       "autolock": false,
       "cytoscape_layout": {
        "avoidOverlap": true,
        "maxSimulationTime": 4000,
        "name": "cola"
       },
       "cytoscape_style": [
        {
         "css": {
          "background-color": "#11479e",
          "color": "white",
          "content": "data(id)",
          "text-outline-color": "#11479e",
          "text-outline-width": 2,
          "text-valign": "center"
         },
         "selector": "node"
        },
        {
         "css": {
          "background-color": "red"
         },
         "selector": "node.NodeStatus_INACTIVE"
        },
        {
         "css": {
          "background-opacity": 0.333
         },
         "selector": "node:parent"
        },
        {
         "css": {
          "background-color": "black",
          "line-color": "black",
          "source-arrow-color": "black",
          "target-arrow-color": "black",
          "text-outline-color": "black"
         },
         "selector": ":selected"
        },
        {
         "selector": "edge",
         "style": {
          "line-color": "#9dbaea",
          "width": 4
         }
        },
        {
         "selector": "edge.EdgeStatus_ACTIVE_ELECTRICAL_CONNECTION",
         "style": {
          "curve-style": "haystack",
          "line-color": "green",
          "target-arrow-color": "#9dbaea",
          "target-arrow-shape": "triangle"
         }
        },
        {
         "selector": "edge.EdgeStatus_INACTIVE_ELECTRICAL_CONNECTION",
         "style": {
          "curve-style": "haystack",
          "line-color": "red",
          "target-arrow-color": "red",
          "target-arrow-shape": "triangle"
         }
        },
        {
         "selector": "edge.EdgeStatus_PART_OF",
         "style": {
          "curve-style": "haystack",
          "line-color": "green",
          "target-arrow-color": "green",
          "target-arrow-shape": "triangle"
         }
        },
        {
         "selector": "edge.multiple_edges",
         "style": {
          "curve-style": "haystack"
         }
        }
       ],
       "desktop_tap_threshold": 4,
       "graph": "IPY_MODEL_3cc35102f75f4b65816d52774d8a4160",
       "headless": false,
       "hide_edges_on_viewport": false,
       "layout": "IPY_MODEL_910b3dfe5cb8462f9d8771651d0447c0",
       "max_zoom": 5,
       "min_zoom": 0.2,
       "motion_blur": false,
       "motion_blur_opacity": 0.2,
       "panning_enabled": true,
       "pixel_ratio": "auto",
       "rendered_position": {
        "renderedPosition": {
         "x": 100,
         "y": 100
        }
       },
       "selection_type": "single",
       "style_enabled": true,
       "texture_on_viewport": false,
       "tooltip_source": "tooltip",
       "touch_tap_threshold": 8,
       "user_panning_enabled": true,
       "user_zooming_enabled": true,
       "wheel_sensitivity": 0.1,
       "zoom": 2,
       "zooming_enabled": true
      }
     },
     "ff47a72051634e23b9ea7d5e5b09bd76": {
      "model_module": "jupyter-cytoscape",
      "model_module_version": "^1.3.3",
      "model_name": "NodeModel",
      "state": {
       "_model_module_version": "^1.3.3",
       "_view_module_version": "^1.3.3",
       "classes": "NodeStatus_INACTIVE",
       "data": {
        "id": "instr_ChanD",
        "parent": "instr"
       },
       "grabbable": true,
       "grabbed": false,
       "selectable": false
      }
     }
    },
    "version_major": 2,
    "version_minor": 0
   }
  }
 },
 "nbformat": 4,
 "nbformat_minor": 5
}
