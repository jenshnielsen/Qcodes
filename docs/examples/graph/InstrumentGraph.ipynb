{
 "cells": [
  {
   "cell_type": "markdown",
   "id": "ee8d69f0-6127-4e87-8659-35b508d709ff",
   "metadata": {},
   "source": [
    "# Instrument Graph"
   ]
  },
  {
   "cell_type": "code",
   "execution_count": 1,
   "id": "6de37bdc-e561-4ef2-a933-7e0f3b4cda85",
   "metadata": {},
   "outputs": [
    {
     "name": "stdout",
     "output_type": "stream",
     "text": [
      "Logging hadn't been started.\n",
      "Activating auto-logging. Current session state plus future input saved.\n",
      "Filename       : C:\\Users\\jenielse\\.qcodes\\logs\\command_history.log\n",
      "Mode           : append\n",
      "Output logging : True\n",
      "Raw input log  : False\n",
      "Timestamping   : True\n",
      "State          : active\n",
      "Qcodes Logfile : C:\\Users\\jenielse\\.qcodes\\logs\\220506-23920-qcodes.log\n"
     ]
    }
   ],
   "source": [
    "from qcodes.tests.instrument_mocks import DummyChannelInstrument"
   ]
  },
  {
   "cell_type": "code",
   "execution_count": 2,
   "id": "23d52084-01bc-4b60-afac-5bbf8a623bdc",
   "metadata": {},
   "outputs": [],
   "source": [
    "instr = DummyChannelInstrument('instr')\n",
    "instr2 = DummyChannelInstrument('instr2')"
   ]
  },
  {
   "cell_type": "code",
   "execution_count": 3,
   "id": "be252edf-87e7-405c-a918-c4b4544a296f",
   "metadata": {},
   "outputs": [],
   "source": [
    "from qcodes.graph.visulization import draw"
   ]
  },
  {
   "cell_type": "code",
   "execution_count": 4,
   "id": "fb48d685-d7c5-44d3-bd6d-0ea8cd22652f",
   "metadata": {},
   "outputs": [
    {
     "name": "stdout",
     "output_type": "stream",
     "text": [
      "adding node instr\n",
      "adding node instr_ChanA\n",
      "adding node instr_ChanB\n",
      "adding node instr_ChanC\n",
      "adding node instr_ChanD\n",
      "adding node instr_ChanE\n",
      "adding node instr_ChanF\n"
     ]
    },
    {
     "data": {
      "text/plain": [
       "<qcodes.graph.graph.StationGraph at 0x23294e83790>"
      ]
     },
     "execution_count": 4,
     "metadata": {},
     "output_type": "execute_result"
    }
   ],
   "source": [
    "instr.instrument_graph"
   ]
  },
  {
   "cell_type": "code",
   "execution_count": 5,
   "id": "30273007-0acf-418c-8540-37993df6e4f7",
   "metadata": {},
   "outputs": [
    {
     "name": "stdout",
     "output_type": "stream",
     "text": [
      "adding node instr\n",
      "adding node instr_ChanA\n",
      "adding node instr_ChanB\n",
      "adding node instr_ChanC\n",
      "adding node instr_ChanD\n",
      "adding node instr_ChanE\n",
      "adding node instr_ChanF\n",
      "adding CustomNode(data={'id': 'instr_container'}, position={})\n",
      "adding CustomNode(data={'id': 'instr_container'}, position={})\n",
      "adding CustomNode(data={'id': 'instr_container'}, position={})\n",
      "adding CustomNode(data={'id': 'instr_container'}, position={})\n",
      "adding CustomNode(data={'id': 'instr_container'}, position={})\n",
      "adding CustomNode(data={'id': 'instr_container'}, position={})\n",
      "adding CustomNode(data={'id': 'instr_container'}, position={})\n"
     ]
    },
    {
     "data": {
      "application/vnd.jupyter.widget-view+json": {
       "model_id": "bc225832c5e0408da2a3c3522720a67f",
       "version_major": 2,
       "version_minor": 0
      },
      "text/plain": [
       "HBox(children=(CytoscapeWidget(cytoscape_layout={'name': 'cola', 'avoidOverlap': True, 'maxSimulationTime': 40…"
      ]
     },
     "metadata": {},
     "output_type": "display_data"
    }
   ],
   "source": [
    "draw(instr.instrument_graph, disjoint=False)"
   ]
  },
  {
   "cell_type": "code",
   "execution_count": 6,
   "id": "9c43a001-d806-44bc-9439-9a7eb91c1a3d",
   "metadata": {},
   "outputs": [],
   "source": [
    "from qcodes.instrument_drivers.connector import Connector, Chip"
   ]
  },
  {
   "cell_type": "code",
   "execution_count": 7,
   "id": "d85b3ceb-e2a0-4f75-bb8d-8555f906e50f",
   "metadata": {},
   "outputs": [],
   "source": [
    "chip = Chip('chip')"
   ]
  },
  {
   "cell_type": "code",
   "execution_count": 8,
   "id": "b6d2da18-9606-47dd-b26f-a7c25a079d9b",
   "metadata": {},
   "outputs": [
    {
     "name": "stdout",
     "output_type": "stream",
     "text": [
      "adding node chip\n",
      "adding node chip_device1\n",
      "adding node chip_device2\n",
      "adding CustomNode(data={'id': 'chip_container'}, position={})\n",
      "adding CustomNode(data={'id': 'chip_container'}, position={})\n",
      "adding CustomNode(data={'id': 'chip_container'}, position={})\n"
     ]
    },
    {
     "data": {
      "application/vnd.jupyter.widget-view+json": {
       "model_id": "71e2313145e64240a902e4ce88570ae6",
       "version_major": 2,
       "version_minor": 0
      },
      "text/plain": [
       "HBox(children=(CytoscapeWidget(cytoscape_layout={'name': 'cola', 'avoidOverlap': True, 'maxSimulationTime': 40…"
      ]
     },
     "metadata": {},
     "output_type": "display_data"
    }
   ],
   "source": [
    "draw(chip.instrument_graph)"
   ]
  },
  {
   "cell_type": "code",
   "execution_count": 9,
   "id": "04f005e0-541b-4d65-870c-47154927abfc",
   "metadata": {},
   "outputs": [
    {
     "name": "stdout",
     "output_type": "stream",
     "text": [
      "adding node conn[a]\n"
     ]
    }
   ],
   "source": [
    "conn = Connector('conn', connections=({\"name\": \"a\", \"endpoints\": (\"instr2_ChanC\", \"chip_device1\")},))"
   ]
  },
  {
   "cell_type": "code",
   "execution_count": 10,
   "id": "c11dd723-99db-4b12-9dff-865f0ccb173f",
   "metadata": {},
   "outputs": [
    {
     "name": "stdout",
     "output_type": "stream",
     "text": [
      "adding node conn2[b]\n"
     ]
    }
   ],
   "source": [
    "conn2 = Connector('conn2', connections=({\"name\": \"b\", \"endpoints\": (\"instr_ChanD\", \"chip_device2\")},))"
   ]
  },
  {
   "cell_type": "code",
   "execution_count": 11,
   "id": "875887a1-4f9a-41ae-9632-0674a6053d37",
   "metadata": {},
   "outputs": [
    {
     "name": "stdout",
     "output_type": "stream",
     "text": [
      "adding CustomNode(data={'id': 'conn_container'}, position={})\n"
     ]
    },
    {
     "data": {
      "application/vnd.jupyter.widget-view+json": {
       "model_id": "0db9e2faa3904ff4a68605f8b81c6fae",
       "version_major": 2,
       "version_minor": 0
      },
      "text/plain": [
       "HBox(children=(CytoscapeWidget(cytoscape_layout={'name': 'cola', 'avoidOverlap': True, 'maxSimulationTime': 40…"
      ]
     },
     "metadata": {},
     "output_type": "display_data"
    }
   ],
   "source": [
    "draw(conn.instrument_graph)"
   ]
  },
  {
   "cell_type": "code",
   "execution_count": 12,
   "id": "e5a1c53d-2e8a-44ad-a21e-e9f7146be865",
   "metadata": {},
   "outputs": [],
   "source": [
    "from qcodes.station import Station"
   ]
  },
  {
   "cell_type": "code",
   "execution_count": 13,
   "id": "998e37fe-731d-470c-8961-7e10def9944a",
   "metadata": {},
   "outputs": [],
   "source": [
    "a = Station()"
   ]
  },
  {
   "cell_type": "code",
   "execution_count": 14,
   "id": "bf88261b-6ba1-4f40-b172-215aec6338df",
   "metadata": {},
   "outputs": [
    {
     "name": "stderr",
     "output_type": "stream",
     "text": [
      "2022-05-06 14:41:52,692 ¦ qcodes.instrument.base ¦ WARNING ¦ base ¦ snapshot_base ¦ 282 ¦ [instr_ChanA(DummyChannel)] Snapshot: Could not update parameter: dummy_sp_axis\n",
      "2022-05-06 14:41:52,733 ¦ qcodes.instrument.base ¦ WARNING ¦ base ¦ snapshot_base ¦ 282 ¦ [instr_ChanA(DummyChannel)] Snapshot: Could not update parameter: dummy_sp_axis_2\n",
      "2022-05-06 14:41:52,736 ¦ qcodes.instrument.base ¦ WARNING ¦ base ¦ snapshot_base ¦ 282 ¦ [instr_ChanB(DummyChannel)] Snapshot: Could not update parameter: dummy_sp_axis\n",
      "2022-05-06 14:41:52,738 ¦ qcodes.instrument.base ¦ WARNING ¦ base ¦ snapshot_base ¦ 282 ¦ [instr_ChanB(DummyChannel)] Snapshot: Could not update parameter: dummy_sp_axis_2\n",
      "2022-05-06 14:41:52,740 ¦ qcodes.instrument.base ¦ WARNING ¦ base ¦ snapshot_base ¦ 282 ¦ [instr_ChanC(DummyChannel)] Snapshot: Could not update parameter: dummy_sp_axis\n",
      "2022-05-06 14:41:52,742 ¦ qcodes.instrument.base ¦ WARNING ¦ base ¦ snapshot_base ¦ 282 ¦ [instr_ChanC(DummyChannel)] Snapshot: Could not update parameter: dummy_sp_axis_2\n",
      "2022-05-06 14:41:52,744 ¦ qcodes.instrument.base ¦ WARNING ¦ base ¦ snapshot_base ¦ 282 ¦ [instr_ChanD(DummyChannel)] Snapshot: Could not update parameter: dummy_sp_axis\n",
      "2022-05-06 14:41:52,746 ¦ qcodes.instrument.base ¦ WARNING ¦ base ¦ snapshot_base ¦ 282 ¦ [instr_ChanD(DummyChannel)] Snapshot: Could not update parameter: dummy_sp_axis_2\n",
      "2022-05-06 14:41:52,749 ¦ qcodes.instrument.base ¦ WARNING ¦ base ¦ snapshot_base ¦ 282 ¦ [instr_ChanE(DummyChannel)] Snapshot: Could not update parameter: dummy_sp_axis\n",
      "2022-05-06 14:41:52,750 ¦ qcodes.instrument.base ¦ WARNING ¦ base ¦ snapshot_base ¦ 282 ¦ [instr_ChanE(DummyChannel)] Snapshot: Could not update parameter: dummy_sp_axis_2\n",
      "2022-05-06 14:41:52,753 ¦ qcodes.instrument.base ¦ WARNING ¦ base ¦ snapshot_base ¦ 282 ¦ [instr_ChanF(DummyChannel)] Snapshot: Could not update parameter: dummy_sp_axis\n",
      "2022-05-06 14:41:52,754 ¦ qcodes.instrument.base ¦ WARNING ¦ base ¦ snapshot_base ¦ 282 ¦ [instr_ChanF(DummyChannel)] Snapshot: Could not update parameter: dummy_sp_axis_2\n",
      "2022-05-06 14:41:52,757 ¦ qcodes.instrument.base ¦ WARNING ¦ base ¦ snapshot_base ¦ 282 ¦ [instr2_ChanA(DummyChannel)] Snapshot: Could not update parameter: dummy_sp_axis\n",
      "2022-05-06 14:41:52,758 ¦ qcodes.instrument.base ¦ WARNING ¦ base ¦ snapshot_base ¦ 282 ¦ [instr2_ChanA(DummyChannel)] Snapshot: Could not update parameter: dummy_sp_axis_2\n",
      "2022-05-06 14:41:52,760 ¦ qcodes.instrument.base ¦ WARNING ¦ base ¦ snapshot_base ¦ 282 ¦ [instr2_ChanB(DummyChannel)] Snapshot: Could not update parameter: dummy_sp_axis\n",
      "2022-05-06 14:41:52,762 ¦ qcodes.instrument.base ¦ WARNING ¦ base ¦ snapshot_base ¦ 282 ¦ [instr2_ChanB(DummyChannel)] Snapshot: Could not update parameter: dummy_sp_axis_2\n",
      "2022-05-06 14:41:52,764 ¦ qcodes.instrument.base ¦ WARNING ¦ base ¦ snapshot_base ¦ 282 ¦ [instr2_ChanC(DummyChannel)] Snapshot: Could not update parameter: dummy_sp_axis\n",
      "2022-05-06 14:41:52,765 ¦ qcodes.instrument.base ¦ WARNING ¦ base ¦ snapshot_base ¦ 282 ¦ [instr2_ChanC(DummyChannel)] Snapshot: Could not update parameter: dummy_sp_axis_2\n",
      "2022-05-06 14:41:52,767 ¦ qcodes.instrument.base ¦ WARNING ¦ base ¦ snapshot_base ¦ 282 ¦ [instr2_ChanD(DummyChannel)] Snapshot: Could not update parameter: dummy_sp_axis\n",
      "2022-05-06 14:41:52,768 ¦ qcodes.instrument.base ¦ WARNING ¦ base ¦ snapshot_base ¦ 282 ¦ [instr2_ChanD(DummyChannel)] Snapshot: Could not update parameter: dummy_sp_axis_2\n",
      "2022-05-06 14:41:52,770 ¦ qcodes.instrument.base ¦ WARNING ¦ base ¦ snapshot_base ¦ 282 ¦ [instr2_ChanE(DummyChannel)] Snapshot: Could not update parameter: dummy_sp_axis\n",
      "2022-05-06 14:41:52,771 ¦ qcodes.instrument.base ¦ WARNING ¦ base ¦ snapshot_base ¦ 282 ¦ [instr2_ChanE(DummyChannel)] Snapshot: Could not update parameter: dummy_sp_axis_2\n",
      "2022-05-06 14:41:52,773 ¦ qcodes.instrument.base ¦ WARNING ¦ base ¦ snapshot_base ¦ 282 ¦ [instr2_ChanF(DummyChannel)] Snapshot: Could not update parameter: dummy_sp_axis\n",
      "2022-05-06 14:41:52,774 ¦ qcodes.instrument.base ¦ WARNING ¦ base ¦ snapshot_base ¦ 282 ¦ [instr2_ChanF(DummyChannel)] Snapshot: Could not update parameter: dummy_sp_axis_2\n"
     ]
    },
    {
     "data": {
      "text/plain": [
       "'instr2'"
      ]
     },
     "execution_count": 14,
     "metadata": {},
     "output_type": "execute_result"
    }
   ],
   "source": [
    "a.add_component(instr)\n",
    "a.add_component(instr2)"
   ]
  },
  {
   "cell_type": "code",
   "execution_count": 15,
   "id": "237c2443-cc41-435f-8f7f-c893f0e5acba",
   "metadata": {},
   "outputs": [
    {
     "data": {
      "text/plain": [
       "'conn2'"
      ]
     },
     "execution_count": 15,
     "metadata": {},
     "output_type": "execute_result"
    }
   ],
   "source": [
    "a.add_component(conn)\n",
    "a.add_component(conn2)"
   ]
  },
  {
   "cell_type": "code",
   "execution_count": 16,
   "id": "a6606f2e-b8f0-4c5e-b5c9-f66410bee96e",
   "metadata": {},
   "outputs": [
    {
     "data": {
      "text/plain": [
       "'chip'"
      ]
     },
     "execution_count": 16,
     "metadata": {},
     "output_type": "execute_result"
    }
   ],
   "source": [
    "a.add_component(chip)"
   ]
  },
  {
   "cell_type": "code",
   "execution_count": 17,
   "id": "c6bde1b1-d7e2-4d4b-b857-82d68d41c614",
   "metadata": {},
   "outputs": [
    {
     "name": "stdout",
     "output_type": "stream",
     "text": [
      "adding node chip\n",
      "adding node chip_device1\n",
      "adding node chip_device2\n"
     ]
    },
    {
     "data": {
      "text/plain": [
       "['chip', 'chip_device1', 'chip_device2']"
      ]
     },
     "execution_count": 17,
     "metadata": {},
     "output_type": "execute_result"
    }
   ],
   "source": [
    "list(chip.instrument_graph.nodes)"
   ]
  },
  {
   "cell_type": "code",
   "execution_count": 18,
   "id": "64e2f2fc-cdbb-4f5e-8588-0b93aabfc65b",
   "metadata": {},
   "outputs": [
    {
     "name": "stdout",
     "output_type": "stream",
     "text": [
      "adding node instr\n",
      "adding node instr_ChanA\n",
      "adding node instr_ChanB\n",
      "adding node instr_ChanC\n",
      "adding node instr_ChanD\n",
      "adding node instr_ChanE\n",
      "adding node instr_ChanF\n",
      "adding node instr2\n",
      "adding node instr2_ChanA\n",
      "adding node instr2_ChanB\n",
      "adding node instr2_ChanC\n",
      "adding node instr2_ChanD\n",
      "adding node instr2_ChanE\n",
      "adding node instr2_ChanF\n",
      "adding node chip\n",
      "adding node chip_device1\n",
      "adding node chip_device2\n"
     ]
    }
   ],
   "source": [
    "stationgraph = a._create_station_graph()"
   ]
  },
  {
   "cell_type": "code",
   "execution_count": 19,
   "id": "92dbd05b-1c25-473b-abc5-42aa619ba9a5",
   "metadata": {},
   "outputs": [
    {
     "name": "stdout",
     "output_type": "stream",
     "text": [
      "adding CustomNode(data={'id': 'instr_container'}, position={})\n",
      "adding CustomNode(data={'id': 'instr_container'}, position={})\n",
      "adding CustomNode(data={'id': 'instr_container'}, position={})\n",
      "adding CustomNode(data={'id': 'instr_container'}, position={})\n",
      "adding CustomNode(data={'id': 'instr_container'}, position={})\n",
      "adding CustomNode(data={'id': 'instr_container'}, position={})\n",
      "adding CustomNode(data={'id': 'instr_container'}, position={})\n",
      "adding CustomNode(data={'id': 'instr2_container'}, position={})\n",
      "adding CustomNode(data={'id': 'instr2_container'}, position={})\n",
      "adding CustomNode(data={'id': 'instr2_container'}, position={})\n",
      "adding CustomNode(data={'id': 'instr2_container'}, position={})\n",
      "adding CustomNode(data={'id': 'instr2_container'}, position={})\n",
      "adding CustomNode(data={'id': 'instr2_container'}, position={})\n",
      "adding CustomNode(data={'id': 'instr2_container'}, position={})\n",
      "adding CustomNode(data={'id': 'conn_container'}, position={})\n",
      "adding CustomNode(data={'id': 'chip_container'}, position={})\n",
      "adding CustomNode(data={'id': 'conn2_container'}, position={})\n",
      "adding CustomNode(data={'id': 'chip_container'}, position={})\n",
      "adding CustomNode(data={'id': 'chip_container'}, position={})\n"
     ]
    }
   ],
   "source": [
    "c= draw(stationgraph, disjoint=True)"
   ]
  },
  {
   "cell_type": "code",
   "execution_count": 20,
   "id": "dee3fceb-4ad6-4f24-b346-bcdd00d6fdb4",
   "metadata": {},
   "outputs": [
    {
     "data": {
      "application/vnd.jupyter.widget-view+json": {
       "model_id": "8978cd9fda6d496b8d1bf43a3205ba38",
       "version_major": 2,
       "version_minor": 0
      },
      "text/plain": [
       "HBox(children=(CytoscapeWidget(cytoscape_layout={'name': 'cola', 'avoidOverlap': True, 'maxSimulationTime': 40…"
      ]
     },
     "metadata": {},
     "output_type": "display_data"
    }
   ],
   "source": [
    "c"
   ]
  },
  {
   "cell_type": "markdown",
   "id": "bd7972d2-a7bc-4f79-b5c6-6f8d03959ccc",
   "metadata": {},
   "source": [
    "c.to_json() -> to_snapshot -> to_qdw "
   ]
  },
  {
   "cell_type": "code",
   "execution_count": 21,
   "id": "23cb69c9-9b46-4d9f-a8cf-e662f452805f",
   "metadata": {},
   "outputs": [
    {
     "data": {
      "text/plain": [
       "['chip_device2', 'conn2[b]', 'instr_ChanD']"
      ]
     },
     "execution_count": 21,
     "metadata": {},
     "output_type": "execute_result"
    }
   ],
   "source": [
    "list(stationgraph.active_subgraph().breadth_first_nodes_from(\"chip_device2\"))"
   ]
  },
  {
   "cell_type": "code",
   "execution_count": 22,
   "id": "78d55aeb-18b2-4b4a-807a-49d13e8e3b25",
   "metadata": {},
   "outputs": [
    {
     "data": {
      "text/plain": [
       "<Device: chip_device1 of Chip: chip>"
      ]
     },
     "execution_count": 22,
     "metadata": {},
     "output_type": "execute_result"
    }
   ],
   "source": [
    "stationgraph[\"chip_device1\"]"
   ]
  },
  {
   "cell_type": "code",
   "execution_count": 23,
   "id": "1b0c5060-28cf-4b56-a989-81570e7ee59a",
   "metadata": {},
   "outputs": [
    {
     "data": {
      "text/plain": [
       "['chip_device1', 'conn[a]', 'instr2_ChanC']"
      ]
     },
     "execution_count": 23,
     "metadata": {},
     "output_type": "execute_result"
    }
   ],
   "source": [
    "list(stationgraph['chip_device1'].activator.upstream_nodes(stationgraph))"
   ]
  },
  {
   "cell_type": "code",
   "execution_count": 24,
   "id": "dd24a697-caa6-480a-a2de-f793df5a5601",
   "metadata": {},
   "outputs": [],
   "source": [
    "import networkx as nx"
   ]
  },
  {
   "cell_type": "code",
   "execution_count": null,
   "id": "4aadb4e5-33b9-4250-8d65-8c7133e21941",
   "metadata": {},
   "outputs": [],
   "source": []
  },
  {
   "cell_type": "code",
   "execution_count": null,
   "id": "fbf98bf9-ff83-4c1d-b24b-7d8952462a3b",
   "metadata": {},
   "outputs": [],
   "source": []
  }
 ],
 "metadata": {
  "kernelspec": {
   "display_name": "Python 3 (ipykernel)",
   "language": "python",
   "name": "python3"
  },
  "language_info": {
   "codemirror_mode": {
    "name": "ipython",
    "version": 3
   },
   "file_extension": ".py",
   "mimetype": "text/x-python",
   "name": "python",
   "nbconvert_exporter": "python",
   "pygments_lexer": "ipython3",
   "version": "3.8.12"
  },
  "widgets": {
   "application/vnd.jupyter.widget-state+json": {
    "state": {
     "0119f5e490bf4815bb854f6fd5a48580": {
      "model_module": "jupyter-cytoscape",
      "model_module_version": "^1.3.3",
      "model_name": "EdgeModel",
      "state": {
       "_model_module_version": "^1.3.3",
       "_view_module_version": "^1.3.3",
       "classes": "EdgeStatus_PART_OF directed ",
       "data": {
        "id": "8912711e-d29c-4d9b-ae8b-a8747ad741ab",
        "source": "instr",
        "target": "instr_ChanA"
       },
       "selectable": false
      }
     },
     "0557955f59454fffb52ebb7d512b6c06": {
      "model_module": "jupyter-cytoscape",
      "model_module_version": "^1.3.3",
      "model_name": "NodeModel",
      "state": {
       "_model_module_version": "^1.3.3",
       "_view_module_version": "^1.3.3",
       "classes": "NodeStatus_ACTIVE",
       "data": {
        "id": "instr_ChanC",
        "parent": "instr_container"
       },
       "grabbable": true,
       "grabbed": false,
       "position": {
        "x": 1053.5,
        "y": 200
       },
       "selectable": false
      }
     },
     "077e631b91c245368bf36a6e213e44ae": {
      "model_module": "@jupyter-widgets/base",
      "model_module_version": "1.2.0",
      "model_name": "LayoutModel",
      "state": {}
     },
     "0a671c5dc13148bda5f1aa67b071c3e6": {
      "model_module": "jupyter-cytoscape",
      "model_module_version": "^1.3.3",
      "model_name": "NodeModel",
      "state": {
       "_model_module_version": "^1.3.3",
       "_view_module_version": "^1.3.3",
       "data": {
        "id": "chip_container"
       },
       "grabbable": true,
       "grabbed": false,
       "selectable": false
      }
     },
     "0abcc07ac4e14a668da7684d0b37a632": {
      "model_module": "jupyter-cytoscape",
      "model_module_version": "^1.3.3",
      "model_name": "EdgeModel",
      "state": {
       "_model_module_version": "^1.3.3",
       "_view_module_version": "^1.3.3",
       "classes": "EdgeStatus_ACTIVE_ELECTRICAL_CONNECTION directed ",
       "data": {
        "id": "5ff76311-2cfb-47e2-9dfe-39e027a06237",
        "source": "conn2[b]",
        "target": "instr_ChanD"
       },
       "selectable": false
      }
     },
     "0cf2be719a3a4391b2aec7e3b3a324a5": {
      "model_module": "jupyter-cytoscape",
      "model_module_version": "^1.3.3",
      "model_name": "EdgeModel",
      "state": {
       "_model_module_version": "^1.3.3",
       "_view_module_version": "^1.3.3",
       "classes": "EdgeStatus_ACTIVE_ELECTRICAL_CONNECTION directed ",
       "data": {
        "id": "708c7bdd-dcb3-4c80-ba4e-d8e9edc6db38",
        "source": "chip_device1",
        "target": "conn[a]"
       },
       "selectable": false
      }
     },
     "0db9e2faa3904ff4a68605f8b81c6fae": {
      "model_module": "@jupyter-widgets/controls",
      "model_module_version": "1.5.0",
      "model_name": "HBoxModel",
      "state": {
       "children": [
        "IPY_MODEL_418af08efc10466790711723047654bd"
       ],
       "layout": "IPY_MODEL_f554a8a2d30f4280adfaf448abdb8032"
      }
     },
     "10a9fee19aa142ea870a3dccf4fd1048": {
      "model_module": "jupyter-cytoscape",
      "model_module_version": "^1.3.3",
      "model_name": "EdgeModel",
      "state": {
       "_model_module_version": "^1.3.3",
       "_view_module_version": "^1.3.3",
       "classes": "EdgeStatus_PART_OF directed ",
       "data": {
        "id": "99c8b62b-d8ae-423b-b715-3aa3bf7c09bd",
        "source": "chip",
        "target": "chip_device1"
       },
       "selectable": false
      }
     },
     "117492031574430f8d44a27d958e7252": {
      "model_module": "jupyter-cytoscape",
      "model_module_version": "^1.3.3",
      "model_name": "CytoscapeModel",
      "state": {
       "_interaction_handlers": {},
       "_model_module_version": "^1.3.3",
       "_view_module_version": "^1.3.3",
       "auto_ungrabify": false,
       "autolock": false,
       "cytoscape_layout": {
        "avoidOverlap": true,
        "maxSimulationTime": 4000,
        "name": "cola"
       },
       "cytoscape_style": [
        {
         "css": {
          "background-color": "#11479e",
          "color": "white",
          "content": "data(id)",
          "text-outline-color": "#11479e",
          "text-outline-width": 2,
          "text-valign": "center"
         },
         "selector": "node"
        },
        {
         "css": {
          "background-color": "red"
         },
         "selector": "node.NodeStatus_INACTIVE"
        },
        {
         "css": {
          "background-opacity": 0.333,
          "content": ""
         },
         "selector": "node:parent"
        },
        {
         "css": {
          "background-color": "black",
          "line-color": "black",
          "source-arrow-color": "black",
          "target-arrow-color": "black",
          "text-outline-color": "black"
         },
         "selector": ":selected"
        },
        {
         "selector": "edge",
         "style": {
          "line-color": "#9dbaea",
          "width": 4
         }
        },
        {
         "selector": "edge.EdgeStatus_ACTIVE_ELECTRICAL_CONNECTION",
         "style": {
          "curve-style": "haystack",
          "line-color": "#9dbaea",
          "target-arrow-color": "#9dbaea",
          "target-arrow-shape": "triangle"
         }
        },
        {
         "selector": "edge.EdgeStatus_INACTIVE_ELECTRICAL_CONNECTION",
         "style": {
          "curve-style": "haystack",
          "line-color": "red",
          "target-arrow-color": "red",
          "target-arrow-shape": "triangle"
         }
        },
        {
         "selector": "edge.EdgeStatus_PART_OF",
         "style": {
          "curve-style": "haystack",
          "line-color": "green",
          "target-arrow-color": "green",
          "target-arrow-shape": "triangle"
         }
        },
        {
         "selector": "edge.multiple_edges",
         "style": {
          "curve-style": "haystack"
         }
        }
       ],
       "desktop_tap_threshold": 4,
       "graph": "IPY_MODEL_a763484c0e7c46a7a87764b6b8f1b372",
       "headless": false,
       "hide_edges_on_viewport": false,
       "layout": "IPY_MODEL_baa280d342724c868783a8277648b6d3",
       "max_zoom": 5,
       "min_zoom": 0.2,
       "motion_blur": false,
       "motion_blur_opacity": 0.2,
       "panning_enabled": true,
       "pixel_ratio": "auto",
       "rendered_position": {
        "renderedPosition": {
         "x": 100,
         "y": 100
        }
       },
       "selection_type": "single",
       "style_enabled": true,
       "texture_on_viewport": false,
       "tooltip_source": "tooltip",
       "touch_tap_threshold": 8,
       "user_panning_enabled": true,
       "user_zooming_enabled": true,
       "wheel_sensitivity": 0.1,
       "zoom": 2,
       "zooming_enabled": true
      }
     },
     "1350bf4b36c7409b847155a97cebe178": {
      "model_module": "jupyter-cytoscape",
      "model_module_version": "^1.3.3",
      "model_name": "NodeModel",
      "state": {
       "_model_module_version": "^1.3.3",
       "_view_module_version": "^1.3.3",
       "classes": "None",
       "data": {
        "id": "chip_device1"
       },
       "grabbable": true,
       "grabbed": false,
       "position": {
        "x": 1053.5,
        "y": 200
       },
       "selectable": false
      }
     },
     "1396fd47b24048e8ae5d294afb0212b6": {
      "model_module": "jupyter-cytoscape",
      "model_module_version": "^1.3.3",
      "model_name": "NodeModel",
      "state": {
       "_model_module_version": "^1.3.3",
       "_view_module_version": "^1.3.3",
       "data": {
        "id": "instr_container"
       },
       "grabbable": true,
       "grabbed": false,
       "position": {
        "x": 1053.5,
        "y": 200
       },
       "selectable": false
      }
     },
     "19ea2662bf5748349b285294363c7af5": {
      "model_module": "jupyter-cytoscape",
      "model_module_version": "^1.3.3",
      "model_name": "NodeModel",
      "state": {
       "_model_module_version": "^1.3.3",
       "_view_module_version": "^1.3.3",
       "data": {
        "id": "chip_container"
       },
       "grabbable": true,
       "grabbed": false,
       "selectable": false
      }
     },
     "1a06cd9c5eb24d4f9650c39f954f9899": {
      "model_module": "jupyter-cytoscape",
      "model_module_version": "^1.3.3",
      "model_name": "EdgeModel",
      "state": {
       "_model_module_version": "^1.3.3",
       "_view_module_version": "^1.3.3",
       "classes": "EdgeStatus_ACTIVE_ELECTRICAL_CONNECTION directed ",
       "data": {
        "id": "0d78e02b-bab4-4fea-9c2d-6e4a45c67c16",
        "source": "conn[a]",
        "target": "chip_device1"
       },
       "selectable": false
      }
     },
     "1cf9c50faee34318a169b6d18b923cbd": {
      "model_module": "jupyter-cytoscape",
      "model_module_version": "^1.3.3",
      "model_name": "NodeModel",
      "state": {
       "_model_module_version": "^1.3.3",
       "_view_module_version": "^1.3.3",
       "data": {
        "id": "instr_container"
       },
       "grabbable": true,
       "grabbed": false,
       "selectable": false
      }
     },
     "1d039e82195c4e8e9d0b061911ade16e": {
      "model_module": "jupyter-cytoscape",
      "model_module_version": "^1.3.3",
      "model_name": "NodeModel",
      "state": {
       "_model_module_version": "^1.3.3",
       "_view_module_version": "^1.3.3",
       "classes": "NodeStatus_ACTIVE",
       "data": {
        "id": "conn[a]",
        "parent": "conn_container"
       },
       "grabbable": true,
       "grabbed": false,
       "position": {
        "x": 1053.5,
        "y": 200
       },
       "selectable": false
      }
     },
     "242eb8c2000c43bb9ff5b6d5516b8d1b": {
      "model_module": "jupyter-cytoscape",
      "model_module_version": "^1.3.3",
      "model_name": "EdgeModel",
      "state": {
       "_model_module_version": "^1.3.3",
       "_view_module_version": "^1.3.3",
       "classes": "EdgeStatus_PART_OF directed ",
       "data": {
        "id": "b829181d-a316-483a-a687-a5f7a7c1ec19",
        "source": "instr",
        "target": "instr_ChanC"
       },
       "selectable": false
      }
     },
     "2736eedd3dac4122bff55729334b273d": {
      "model_module": "jupyter-cytoscape",
      "model_module_version": "^1.3.3",
      "model_name": "NodeModel",
      "state": {
       "_model_module_version": "^1.3.3",
       "_view_module_version": "^1.3.3",
       "classes": "NodeStatus_ACTIVE",
       "data": {
        "id": "instr_ChanA",
        "parent": "instr_container"
       },
       "grabbable": true,
       "grabbed": false,
       "position": {
        "x": 1053.5,
        "y": 200
       },
       "selectable": false
      }
     },
     "2c63b822fcd8411293ac96467b075d20": {
      "model_module": "jupyter-cytoscape",
      "model_module_version": "^1.3.3",
      "model_name": "NodeModel",
      "state": {
       "_model_module_version": "^1.3.3",
       "_view_module_version": "^1.3.3",
       "data": {
        "id": "instr2_container"
       },
       "grabbable": true,
       "grabbed": false,
       "selectable": false
      }
     },
     "2fc697721ef94ac696c718d385770281": {
      "model_module": "jupyter-cytoscape",
      "model_module_version": "^1.3.3",
      "model_name": "NodeModel",
      "state": {
       "_model_module_version": "^1.3.3",
       "_view_module_version": "^1.3.3",
       "classes": "NodeStatus_ACTIVE",
       "data": {
        "id": "instr_ChanF",
        "parent": "instr_container"
       },
       "grabbable": true,
       "grabbed": false,
       "position": {
        "x": 1053.5,
        "y": 200
       },
       "selectable": false
      }
     },
     "30cc2e42c96b4a21b8238fc119e30773": {
      "model_module": "@jupyter-widgets/base",
      "model_module_version": "1.2.0",
      "model_name": "LayoutModel",
      "state": {}
     },
     "30e7f8ca7c3e4011ac8f75d40a22625d": {
      "model_module": "jupyter-cytoscape",
      "model_module_version": "^1.3.3",
      "model_name": "NodeModel",
      "state": {
       "_model_module_version": "^1.3.3",
       "_view_module_version": "^1.3.3",
       "data": {
        "id": "instr_container"
       },
       "grabbable": true,
       "grabbed": false,
       "selectable": false
      }
     },
     "330cc0c5028544369c7f159169e6874d": {
      "model_module": "jupyter-cytoscape",
      "model_module_version": "^1.3.3",
      "model_name": "NodeModel",
      "state": {
       "_model_module_version": "^1.3.3",
       "_view_module_version": "^1.3.3",
       "classes": "None",
       "data": {
        "id": "instr2_ChanC"
       },
       "grabbable": true,
       "grabbed": false,
       "position": {
        "x": 1053.5,
        "y": 200
       },
       "selectable": false
      }
     },
     "35f88bb46eed4f2cb0ce537a275f7162": {
      "model_module": "jupyter-cytoscape",
      "model_module_version": "^1.3.3",
      "model_name": "NodeModel",
      "state": {
       "_model_module_version": "^1.3.3",
       "_view_module_version": "^1.3.3",
       "data": {
        "id": "conn2_container"
       },
       "grabbable": true,
       "grabbed": false,
       "position": {
        "x": 1053.5,
        "y": 200
       },
       "selectable": false
      }
     },
     "3982ed89956a4e0a8e85f3b00d60f1a9": {
      "model_module": "jupyter-cytoscape",
      "model_module_version": "^1.3.3",
      "model_name": "NodeModel",
      "state": {
       "_model_module_version": "^1.3.3",
       "_view_module_version": "^1.3.3",
       "classes": "NodeStatus_ACTIVE",
       "data": {
        "id": "instr_ChanB",
        "parent": "instr_container"
       },
       "grabbable": true,
       "grabbed": false,
       "position": {
        "x": 1053.5,
        "y": 200
       },
       "selectable": false
      }
     },
     "3acfc78b82c54fe59f1a7c6587adc0ee": {
      "model_module": "jupyter-cytoscape",
      "model_module_version": "^1.3.3",
      "model_name": "NodeModel",
      "state": {
       "_model_module_version": "^1.3.3",
       "_view_module_version": "^1.3.3",
       "classes": "NodeStatus_ACTIVE",
       "data": {
        "id": "instr",
        "parent": "instr_container"
       },
       "grabbable": true,
       "grabbed": false,
       "position": {
        "x": 1053.5,
        "y": 200
       },
       "selectable": false
      }
     },
     "3bcd73b5bb1241ddabc84eb6bc815eec": {
      "model_module": "jupyter-cytoscape",
      "model_module_version": "^1.3.3",
      "model_name": "GraphModel",
      "state": {
       "_adj": {
        "chip_device1": {},
        "conn[a]": {},
        "conn_container": {},
        "instr2_ChanC": {}
       },
       "_model_module_version": "^1.3.3",
       "_view_module": "jupyter-cytoscape",
       "_view_module_version": "^1.3.3",
       "edges": [
        "IPY_MODEL_b9f48650e3044cf5940465a8d3cc0a8d",
        "IPY_MODEL_1a06cd9c5eb24d4f9650c39f954f9899",
        "IPY_MODEL_7355bdecdfed44bfa8deb9e5e93d73a0",
        "IPY_MODEL_0cf2be719a3a4391b2aec7e3b3a324a5"
       ],
       "nodes": [
        "IPY_MODEL_7b230ad3d030419ea6ee71bf13178397",
        "IPY_MODEL_1d039e82195c4e8e9d0b061911ade16e",
        "IPY_MODEL_330cc0c5028544369c7f159169e6874d",
        "IPY_MODEL_1350bf4b36c7409b847155a97cebe178"
       ]
      }
     },
     "3ec0c11e55f940d8ac8a7b4551c6b336": {
      "model_module": "jupyter-cytoscape",
      "model_module_version": "^1.3.3",
      "model_name": "NodeModel",
      "state": {
       "_model_module_version": "^1.3.3",
       "_view_module_version": "^1.3.3",
       "data": {
        "id": "conn_container"
       },
       "grabbable": true,
       "grabbed": false,
       "position": {
        "x": 1053.5,
        "y": 200
       },
       "selectable": false
      }
     },
     "3edc8e4deb684108a73cb4d648d6ffbf": {
      "model_module": "jupyter-cytoscape",
      "model_module_version": "^1.3.3",
      "model_name": "GraphModel",
      "state": {
       "_adj": {
        "instr": {},
        "instr_ChanA": {},
        "instr_ChanB": {},
        "instr_ChanC": {},
        "instr_ChanD": {},
        "instr_ChanE": {},
        "instr_ChanF": {},
        "instr_container": {}
       },
       "_model_module_version": "^1.3.3",
       "_view_module": "jupyter-cytoscape",
       "_view_module_version": "^1.3.3",
       "edges": [
        "IPY_MODEL_0119f5e490bf4815bb854f6fd5a48580",
        "IPY_MODEL_9df1d497cae5435da1385e508c108614",
        "IPY_MODEL_8693a094484648a19ee9f715b50127be",
        "IPY_MODEL_84abdc1ef63443368c21728c74be2bec",
        "IPY_MODEL_ee964eb9f4644a9087e69d561e2382f2",
        "IPY_MODEL_dd61af04e5d14b309f4892927fa109df"
       ],
       "nodes": [
        "IPY_MODEL_1396fd47b24048e8ae5d294afb0212b6",
        "IPY_MODEL_3acfc78b82c54fe59f1a7c6587adc0ee",
        "IPY_MODEL_2736eedd3dac4122bff55729334b273d",
        "IPY_MODEL_3982ed89956a4e0a8e85f3b00d60f1a9",
        "IPY_MODEL_0557955f59454fffb52ebb7d512b6c06",
        "IPY_MODEL_edcfd61643bd408f9fe9caaf84168a47",
        "IPY_MODEL_dc54d99779994eb7abd7a3921be676fa",
        "IPY_MODEL_6b493174966d40b19e254ce521af19b8"
       ]
      }
     },
     "418af08efc10466790711723047654bd": {
      "model_module": "jupyter-cytoscape",
      "model_module_version": "^1.3.3",
      "model_name": "CytoscapeModel",
      "state": {
       "_interaction_handlers": {},
       "_model_module_version": "^1.3.3",
       "_view_module_version": "^1.3.3",
       "auto_ungrabify": false,
       "autolock": false,
       "cytoscape_layout": {
        "avoidOverlap": true,
        "maxSimulationTime": 4000,
        "name": "cola"
       },
       "cytoscape_style": [
        {
         "css": {
          "background-color": "#11479e",
          "color": "white",
          "content": "data(id)",
          "text-outline-color": "#11479e",
          "text-outline-width": 2,
          "text-valign": "center"
         },
         "selector": "node"
        },
        {
         "css": {
          "background-color": "red"
         },
         "selector": "node.NodeStatus_INACTIVE"
        },
        {
         "css": {
          "background-opacity": 0.333,
          "content": ""
         },
         "selector": "node:parent"
        },
        {
         "css": {
          "background-color": "black",
          "line-color": "black",
          "source-arrow-color": "black",
          "target-arrow-color": "black",
          "text-outline-color": "black"
         },
         "selector": ":selected"
        },
        {
         "selector": "edge",
         "style": {
          "line-color": "#9dbaea",
          "width": 4
         }
        },
        {
         "selector": "edge.EdgeStatus_ACTIVE_ELECTRICAL_CONNECTION",
         "style": {
          "curve-style": "haystack",
          "line-color": "#9dbaea",
          "target-arrow-color": "#9dbaea",
          "target-arrow-shape": "triangle"
         }
        },
        {
         "selector": "edge.EdgeStatus_INACTIVE_ELECTRICAL_CONNECTION",
         "style": {
          "curve-style": "haystack",
          "line-color": "red",
          "target-arrow-color": "red",
          "target-arrow-shape": "triangle"
         }
        },
        {
         "selector": "edge.EdgeStatus_PART_OF",
         "style": {
          "curve-style": "haystack",
          "line-color": "green",
          "target-arrow-color": "green",
          "target-arrow-shape": "triangle"
         }
        },
        {
         "selector": "edge.multiple_edges",
         "style": {
          "curve-style": "haystack"
         }
        }
       ],
       "desktop_tap_threshold": 4,
       "graph": "IPY_MODEL_3bcd73b5bb1241ddabc84eb6bc815eec",
       "headless": false,
       "hide_edges_on_viewport": false,
       "layout": "IPY_MODEL_d8d4e51c59314b35bc0743447a968496",
       "max_zoom": 5,
       "min_zoom": 0.2,
       "motion_blur": false,
       "motion_blur_opacity": 0.2,
       "panning_enabled": true,
       "pixel_ratio": "auto",
       "rendered_position": {
        "renderedPosition": {
         "x": 100,
         "y": 100
        }
       },
       "selection_type": "single",
       "style_enabled": true,
       "texture_on_viewport": false,
       "tooltip_source": "tooltip",
       "touch_tap_threshold": 8,
       "user_panning_enabled": true,
       "user_zooming_enabled": true,
       "wheel_sensitivity": 0.1,
       "zoom": 2,
       "zooming_enabled": true
      }
     },
     "425ad6b3d09a48e4812f3e79acf26615": {
      "model_module": "jupyter-cytoscape",
      "model_module_version": "^1.3.3",
      "model_name": "EdgeModel",
      "state": {
       "_model_module_version": "^1.3.3",
       "_view_module_version": "^1.3.3",
       "classes": "EdgeStatus_ACTIVE_ELECTRICAL_CONNECTION directed ",
       "data": {
        "id": "e09fc8cf-258e-401b-8d41-02a60d63c85a",
        "source": "conn2[b]",
        "target": "chip_device2"
       },
       "selectable": false
      }
     },
     "44429aaf7e4b43fe993514be02ecc326": {
      "model_module": "jupyter-cytoscape",
      "model_module_version": "^1.3.3",
      "model_name": "EdgeModel",
      "state": {
       "_model_module_version": "^1.3.3",
       "_view_module_version": "^1.3.3",
       "classes": "EdgeStatus_ACTIVE_ELECTRICAL_CONNECTION directed ",
       "data": {
        "id": "628d4903-2359-4b35-a9b6-044125b59d3f",
        "source": "chip_device1",
        "target": "conn[a]"
       },
       "selectable": false
      }
     },
     "4c8ff062f6bf4470afb66814013a3a2a": {
      "model_module": "jupyter-cytoscape",
      "model_module_version": "^1.3.3",
      "model_name": "NodeModel",
      "state": {
       "_model_module_version": "^1.3.3",
       "_view_module_version": "^1.3.3",
       "data": {
        "id": "chip_container"
       },
       "grabbable": true,
       "grabbed": false,
       "position": {
        "x": 1053.5,
        "y": 200
       },
       "selectable": false
      }
     },
     "4fd75943a41e440ca03fdea52c35749c": {
      "model_module": "jupyter-cytoscape",
      "model_module_version": "^1.3.3",
      "model_name": "NodeModel",
      "state": {
       "_model_module_version": "^1.3.3",
       "_view_module_version": "^1.3.3",
       "classes": "NodeStatus_ACTIVE",
       "data": {
        "id": "instr2_ChanD",
        "parent": "instr2_container"
       },
       "grabbable": true,
       "grabbed": false,
       "position": {
        "x": 1053.5,
        "y": 200
       },
       "selectable": false
      }
     },
     "505a4a9482384cef9faf9a7840f1940a": {
      "model_module": "jupyter-cytoscape",
      "model_module_version": "^1.3.3",
      "model_name": "NodeModel",
      "state": {
       "_model_module_version": "^1.3.3",
       "_view_module_version": "^1.3.3",
       "data": {
        "id": "instr2_container"
       },
       "grabbable": true,
       "grabbed": false,
       "position": {
        "x": 1053.5,
        "y": 200
       },
       "selectable": false
      }
     },
     "513e0cd9f8df48659db69920e9ae6724": {
      "model_module": "jupyter-cytoscape",
      "model_module_version": "^1.3.3",
      "model_name": "NodeModel",
      "state": {
       "_model_module_version": "^1.3.3",
       "_view_module_version": "^1.3.3",
       "classes": "NodeStatus_ACTIVE",
       "data": {
        "id": "instr_ChanB",
        "parent": "instr_container"
       },
       "grabbable": true,
       "grabbed": false,
       "position": {
        "x": 1053.5,
        "y": 200
       },
       "selectable": false
      }
     },
     "53e782e0dff94294ae0f5a1be5960702": {
      "model_module": "jupyter-cytoscape",
      "model_module_version": "^1.3.3",
      "model_name": "EdgeModel",
      "state": {
       "_model_module_version": "^1.3.3",
       "_view_module_version": "^1.3.3",
       "classes": "EdgeStatus_PART_OF directed ",
       "data": {
        "id": "a1bea27e-43b8-46a9-81d9-23b875d40925",
        "source": "chip",
        "target": "chip_device2"
       },
       "selectable": false
      }
     },
     "5b098f662e944824b1731ad0c1753f37": {
      "model_module": "jupyter-cytoscape",
      "model_module_version": "^1.3.3",
      "model_name": "NodeModel",
      "state": {
       "_model_module_version": "^1.3.3",
       "_view_module_version": "^1.3.3",
       "data": {
        "id": "instr_container"
       },
       "grabbable": true,
       "grabbed": false,
       "selectable": false
      }
     },
     "5e46b5cd9e014d51b2505a4380efd2e2": {
      "model_module": "jupyter-cytoscape",
      "model_module_version": "^1.3.3",
      "model_name": "EdgeModel",
      "state": {
       "_model_module_version": "^1.3.3",
       "_view_module_version": "^1.3.3",
       "classes": "EdgeStatus_ACTIVE_ELECTRICAL_CONNECTION directed ",
       "data": {
        "id": "ecd87922-b13b-4bad-b871-8d6cf0e6296c",
        "source": "instr2_ChanC",
        "target": "conn[a]"
       },
       "selectable": false
      }
     },
     "5f8a672ee1214ee0855a6a2d3aabc194": {
      "model_module": "jupyter-cytoscape",
      "model_module_version": "^1.3.3",
      "model_name": "EdgeModel",
      "state": {
       "_model_module_version": "^1.3.3",
       "_view_module_version": "^1.3.3",
       "classes": "EdgeStatus_PART_OF directed ",
       "data": {
        "id": "bd15572b-7bcc-4947-8538-79a9038482a3",
        "source": "instr2",
        "target": "instr2_ChanC"
       },
       "selectable": false
      }
     },
     "609a110c23d744edad963bce09f936f1": {
      "model_module": "jupyter-cytoscape",
      "model_module_version": "^1.3.3",
      "model_name": "EdgeModel",
      "state": {
       "_model_module_version": "^1.3.3",
       "_view_module_version": "^1.3.3",
       "classes": "EdgeStatus_PART_OF directed ",
       "data": {
        "id": "6fe6375d-1bb6-4e5e-91d7-606b7147f3c0",
        "source": "instr",
        "target": "instr_ChanF"
       },
       "selectable": false
      }
     },
     "66599a96993245cd988ed5bee777a0be": {
      "model_module": "jupyter-cytoscape",
      "model_module_version": "^1.3.3",
      "model_name": "NodeModel",
      "state": {
       "_model_module_version": "^1.3.3",
       "_view_module_version": "^1.3.3",
       "data": {
        "id": "chip_container"
       },
       "grabbable": true,
       "grabbed": false,
       "selectable": false
      }
     },
     "668980f5c980493489d906df2b594f93": {
      "model_module": "jupyter-cytoscape",
      "model_module_version": "^1.3.3",
      "model_name": "NodeModel",
      "state": {
       "_model_module_version": "^1.3.3",
       "_view_module_version": "^1.3.3",
       "data": {
        "id": "instr_container"
       },
       "grabbable": true,
       "grabbed": false,
       "selectable": false
      }
     },
     "67ee330cb45d4882bf0fc3f1131ab647": {
      "model_module": "jupyter-cytoscape",
      "model_module_version": "^1.3.3",
      "model_name": "NodeModel",
      "state": {
       "_model_module_version": "^1.3.3",
       "_view_module_version": "^1.3.3",
       "data": {
        "id": "instr2_container"
       },
       "grabbable": true,
       "grabbed": false,
       "selectable": false
      }
     },
     "6846952ee569435dae4d34288ac7dba9": {
      "model_module": "jupyter-cytoscape",
      "model_module_version": "^1.3.3",
      "model_name": "GraphModel",
      "state": {
       "_adj": {},
       "_model_module_version": "^1.3.3",
       "_view_module": "jupyter-cytoscape",
       "_view_module_version": "^1.3.3"
      }
     },
     "6956393b825446bc98c6270f74537835": {
      "model_module": "jupyter-cytoscape",
      "model_module_version": "^1.3.3",
      "model_name": "EdgeModel",
      "state": {
       "_model_module_version": "^1.3.3",
       "_view_module_version": "^1.3.3",
       "classes": "EdgeStatus_PART_OF directed ",
       "data": {
        "id": "b2332407-4e83-4b87-93a8-de2f8c056058",
        "source": "chip",
        "target": "chip_device2"
       },
       "selectable": false
      }
     },
     "6b493174966d40b19e254ce521af19b8": {
      "model_module": "jupyter-cytoscape",
      "model_module_version": "^1.3.3",
      "model_name": "NodeModel",
      "state": {
       "_model_module_version": "^1.3.3",
       "_view_module_version": "^1.3.3",
       "classes": "NodeStatus_ACTIVE",
       "data": {
        "id": "instr_ChanF",
        "parent": "instr_container"
       },
       "grabbable": true,
       "grabbed": false,
       "position": {
        "x": 1053.5,
        "y": 200
       },
       "selectable": false
      }
     },
     "6d4850f242654c3db73a328d764a7476": {
      "model_module": "jupyter-cytoscape",
      "model_module_version": "^1.3.3",
      "model_name": "NodeModel",
      "state": {
       "_model_module_version": "^1.3.3",
       "_view_module_version": "^1.3.3",
       "classes": "NodeStatus_ACTIVE",
       "data": {
        "id": "conn[a]",
        "parent": "conn_container"
       },
       "grabbable": true,
       "grabbed": false,
       "position": {
        "x": 1053.5,
        "y": 200
       },
       "selectable": false
      }
     },
     "6eb954c62c764705abf4004a421b7582": {
      "model_module": "jupyter-cytoscape",
      "model_module_version": "^1.3.3",
      "model_name": "GraphModel",
      "state": {
       "_adj": {
        "chip": {},
        "chip_container": {},
        "chip_device1": {},
        "chip_device2": {},
        "conn2[b]": {},
        "conn2_container": {},
        "conn[a]": {},
        "conn_container": {},
        "instr": {},
        "instr2": {},
        "instr2_ChanA": {},
        "instr2_ChanB": {},
        "instr2_ChanC": {},
        "instr2_ChanD": {},
        "instr2_ChanE": {},
        "instr2_ChanF": {},
        "instr2_container": {},
        "instr_ChanA": {},
        "instr_ChanB": {},
        "instr_ChanC": {},
        "instr_ChanD": {},
        "instr_ChanE": {},
        "instr_ChanF": {},
        "instr_container": {}
       },
       "_model_module_version": "^1.3.3",
       "_view_module": "jupyter-cytoscape",
       "_view_module_version": "^1.3.3",
       "edges": [
        "IPY_MODEL_fec5d8813eba4fdfb5fe2c67aad5d4cf",
        "IPY_MODEL_b6576fb45e174431bedaaffee6b69a54",
        "IPY_MODEL_242eb8c2000c43bb9ff5b6d5516b8d1b",
        "IPY_MODEL_e242c406ff894925999d3fadbf84d919",
        "IPY_MODEL_c11f6dc2f105412eb28a72b1e7af314e",
        "IPY_MODEL_609a110c23d744edad963bce09f936f1",
        "IPY_MODEL_bfdfb49f7a2848c1a1b6da46e5a04603",
        "IPY_MODEL_fe080c3128884e3bb0d88802ba8dd2d4",
        "IPY_MODEL_c9dd5818db944e3ba78fae191c9544f6",
        "IPY_MODEL_5f8a672ee1214ee0855a6a2d3aabc194",
        "IPY_MODEL_cfd38aab96d945529ec500b118827eb9",
        "IPY_MODEL_9938282da96543b18978d28e7a9ab925",
        "IPY_MODEL_838752933e3c4d29bdda361a6a99f9c2",
        "IPY_MODEL_5e46b5cd9e014d51b2505a4380efd2e2",
        "IPY_MODEL_ab00821570cd4eae88e219dc891d5cef",
        "IPY_MODEL_f6643fe75d1e49269e69b92afcfc13cb",
        "IPY_MODEL_44429aaf7e4b43fe993514be02ecc326",
        "IPY_MODEL_0abcc07ac4e14a668da7684d0b37a632",
        "IPY_MODEL_425ad6b3d09a48e4812f3e79acf26615",
        "IPY_MODEL_b0ce1ba192634dc78cda2fac40403170",
        "IPY_MODEL_ebd2c3f06c4746feaaf696f82b20fd4b",
        "IPY_MODEL_53e782e0dff94294ae0f5a1be5960702"
       ],
       "nodes": [
        "IPY_MODEL_f40bbe4ad92148f6bafc2adeccffb183",
        "IPY_MODEL_ad27058fd8eb4e9f99999319dadc9461",
        "IPY_MODEL_f3e65bfda93a49ee994f03c2868f4a7a",
        "IPY_MODEL_513e0cd9f8df48659db69920e9ae6724",
        "IPY_MODEL_d28c35019b19426ab46364f86fc6e4d4",
        "IPY_MODEL_cdf75f80f59c4215ae1cc2e528dd4f26",
        "IPY_MODEL_84a754b234dd4402acf9700f93712ff8",
        "IPY_MODEL_2fc697721ef94ac696c718d385770281",
        "IPY_MODEL_505a4a9482384cef9faf9a7840f1940a",
        "IPY_MODEL_f5437600704946b4ac715273e92851b9",
        "IPY_MODEL_a2fe3c0202284335a6d03443bcea308c",
        "IPY_MODEL_777b730be52c490e8ab8968960a380d8",
        "IPY_MODEL_fefa7c3390204f42863d16bbd998c76b",
        "IPY_MODEL_4fd75943a41e440ca03fdea52c35749c",
        "IPY_MODEL_a9aca0a80e344c97bc0690040590e888",
        "IPY_MODEL_7a2fd917714744abb9890f4dd68e3fc3",
        "IPY_MODEL_3ec0c11e55f940d8ac8a7b4551c6b336",
        "IPY_MODEL_6d4850f242654c3db73a328d764a7476",
        "IPY_MODEL_4c8ff062f6bf4470afb66814013a3a2a",
        "IPY_MODEL_86efce469aad417681adc28cf164e139",
        "IPY_MODEL_35f88bb46eed4f2cb0ce537a275f7162",
        "IPY_MODEL_acdf4a5b9708499eb69acace9e85799e",
        "IPY_MODEL_8578208f510244ddac2d52c9f2dfa6e7",
        "IPY_MODEL_a505892183724f34987ac7de87b75ecf"
       ]
      }
     },
     "71e2313145e64240a902e4ce88570ae6": {
      "model_module": "@jupyter-widgets/controls",
      "model_module_version": "1.5.0",
      "model_name": "HBoxModel",
      "state": {
       "children": [
        "IPY_MODEL_117492031574430f8d44a27d958e7252"
       ],
       "layout": "IPY_MODEL_ffb557485cbd4755b5eae6b870ab0578"
      }
     },
     "7355bdecdfed44bfa8deb9e5e93d73a0": {
      "model_module": "jupyter-cytoscape",
      "model_module_version": "^1.3.3",
      "model_name": "EdgeModel",
      "state": {
       "_model_module_version": "^1.3.3",
       "_view_module_version": "^1.3.3",
       "classes": "EdgeStatus_ACTIVE_ELECTRICAL_CONNECTION directed ",
       "data": {
        "id": "d5521768-07b4-4dcf-a3b0-0c679dfaf274",
        "source": "instr2_ChanC",
        "target": "conn[a]"
       },
       "selectable": false
      }
     },
     "73977c4b5e4a4c65ab213fd09f898fa9": {
      "model_module": "jupyter-cytoscape",
      "model_module_version": "^1.3.3",
      "model_name": "NodeModel",
      "state": {
       "_model_module_version": "^1.3.3",
       "_view_module_version": "^1.3.3",
       "data": {
        "id": "chip_container"
       },
       "grabbable": true,
       "grabbed": false,
       "position": {
        "x": 1053.5,
        "y": 200
       },
       "selectable": false
      }
     },
     "777b730be52c490e8ab8968960a380d8": {
      "model_module": "jupyter-cytoscape",
      "model_module_version": "^1.3.3",
      "model_name": "NodeModel",
      "state": {
       "_model_module_version": "^1.3.3",
       "_view_module_version": "^1.3.3",
       "classes": "NodeStatus_ACTIVE",
       "data": {
        "id": "instr2_ChanB",
        "parent": "instr2_container"
       },
       "grabbable": true,
       "grabbed": false,
       "position": {
        "x": 1053.5,
        "y": 200
       },
       "selectable": false
      }
     },
     "7a2fd917714744abb9890f4dd68e3fc3": {
      "model_module": "jupyter-cytoscape",
      "model_module_version": "^1.3.3",
      "model_name": "NodeModel",
      "state": {
       "_model_module_version": "^1.3.3",
       "_view_module_version": "^1.3.3",
       "classes": "NodeStatus_ACTIVE",
       "data": {
        "id": "instr2_ChanF",
        "parent": "instr2_container"
       },
       "grabbable": true,
       "grabbed": false,
       "position": {
        "x": 1053.5,
        "y": 200
       },
       "selectable": false
      }
     },
     "7b230ad3d030419ea6ee71bf13178397": {
      "model_module": "jupyter-cytoscape",
      "model_module_version": "^1.3.3",
      "model_name": "NodeModel",
      "state": {
       "_model_module_version": "^1.3.3",
       "_view_module_version": "^1.3.3",
       "data": {
        "id": "conn_container"
       },
       "grabbable": true,
       "grabbed": false,
       "position": {
        "x": 1053.5,
        "y": 200
       },
       "selectable": false
      }
     },
     "8012b069bd924ed7aaa0e758ec34a97f": {
      "model_module": "jupyter-cytoscape",
      "model_module_version": "^1.3.3",
      "model_name": "NodeModel",
      "state": {
       "_model_module_version": "^1.3.3",
       "_view_module_version": "^1.3.3",
       "data": {
        "id": "instr2_container"
       },
       "grabbable": true,
       "grabbed": false,
       "selectable": false
      }
     },
     "823dbcebfec1484db80cb9c54a65b8cf": {
      "model_module": "jupyter-cytoscape",
      "model_module_version": "^1.3.3",
      "model_name": "NodeModel",
      "state": {
       "_model_module_version": "^1.3.3",
       "_view_module_version": "^1.3.3",
       "data": {
        "id": "instr_container"
       },
       "grabbable": true,
       "grabbed": false,
       "selectable": false
      }
     },
     "838752933e3c4d29bdda361a6a99f9c2": {
      "model_module": "jupyter-cytoscape",
      "model_module_version": "^1.3.3",
      "model_name": "EdgeModel",
      "state": {
       "_model_module_version": "^1.3.3",
       "_view_module_version": "^1.3.3",
       "classes": "EdgeStatus_PART_OF directed ",
       "data": {
        "id": "ee6d0270-1fa8-4317-8235-aac209d0ea38",
        "source": "instr2",
        "target": "instr2_ChanF"
       },
       "selectable": false
      }
     },
     "84a754b234dd4402acf9700f93712ff8": {
      "model_module": "jupyter-cytoscape",
      "model_module_version": "^1.3.3",
      "model_name": "NodeModel",
      "state": {
       "_model_module_version": "^1.3.3",
       "_view_module_version": "^1.3.3",
       "classes": "NodeStatus_ACTIVE",
       "data": {
        "id": "instr_ChanE",
        "parent": "instr_container"
       },
       "grabbable": true,
       "grabbed": false,
       "position": {
        "x": 1053.5,
        "y": 200
       },
       "selectable": false
      }
     },
     "84abdc1ef63443368c21728c74be2bec": {
      "model_module": "jupyter-cytoscape",
      "model_module_version": "^1.3.3",
      "model_name": "EdgeModel",
      "state": {
       "_model_module_version": "^1.3.3",
       "_view_module_version": "^1.3.3",
       "classes": "EdgeStatus_PART_OF directed ",
       "data": {
        "id": "c47a5731-712f-49a8-84ff-4e046e5d6e62",
        "source": "instr",
        "target": "instr_ChanD"
       },
       "selectable": false
      }
     },
     "8578208f510244ddac2d52c9f2dfa6e7": {
      "model_module": "jupyter-cytoscape",
      "model_module_version": "^1.3.3",
      "model_name": "NodeModel",
      "state": {
       "_model_module_version": "^1.3.3",
       "_view_module_version": "^1.3.3",
       "classes": "NodeStatus_ACTIVE",
       "data": {
        "id": "chip_device2",
        "parent": "chip_container"
       },
       "grabbable": true,
       "grabbed": false,
       "position": {
        "x": 1053.5,
        "y": 200
       },
       "selectable": false
      }
     },
     "8693a094484648a19ee9f715b50127be": {
      "model_module": "jupyter-cytoscape",
      "model_module_version": "^1.3.3",
      "model_name": "EdgeModel",
      "state": {
       "_model_module_version": "^1.3.3",
       "_view_module_version": "^1.3.3",
       "classes": "EdgeStatus_PART_OF directed ",
       "data": {
        "id": "c12208af-5b56-444b-99b3-c755ba850189",
        "source": "instr",
        "target": "instr_ChanC"
       },
       "selectable": false
      }
     },
     "86efce469aad417681adc28cf164e139": {
      "model_module": "jupyter-cytoscape",
      "model_module_version": "^1.3.3",
      "model_name": "NodeModel",
      "state": {
       "_model_module_version": "^1.3.3",
       "_view_module_version": "^1.3.3",
       "classes": "NodeStatus_ACTIVE",
       "data": {
        "id": "chip_device1",
        "parent": "chip_container"
       },
       "grabbable": true,
       "grabbed": false,
       "position": {
        "x": 1053.5,
        "y": 200
       },
       "selectable": false
      }
     },
     "87bb312cbd5348cb8a7ae80f31125def": {
      "model_module": "jupyter-cytoscape",
      "model_module_version": "^1.3.3",
      "model_name": "NodeModel",
      "state": {
       "_model_module_version": "^1.3.3",
       "_view_module_version": "^1.3.3",
       "classes": "NodeStatus_ACTIVE",
       "data": {
        "id": "chip_device2",
        "parent": "chip_container"
       },
       "grabbable": true,
       "grabbed": false,
       "position": {
        "x": 1053.5,
        "y": 200
       },
       "selectable": false
      }
     },
     "87c677ff2d404a6bb20597b9d8f3fe5b": {
      "model_module": "jupyter-cytoscape",
      "model_module_version": "^1.3.3",
      "model_name": "NodeModel",
      "state": {
       "_model_module_version": "^1.3.3",
       "_view_module_version": "^1.3.3",
       "data": {
        "id": "instr_container"
       },
       "grabbable": true,
       "grabbed": false,
       "selectable": false
      }
     },
     "8978cd9fda6d496b8d1bf43a3205ba38": {
      "model_module": "@jupyter-widgets/controls",
      "model_module_version": "1.5.0",
      "model_name": "HBoxModel",
      "state": {
       "children": [
        "IPY_MODEL_932512c6f4724e7d8075ae889acd9faa"
       ],
       "layout": "IPY_MODEL_077e631b91c245368bf36a6e213e44ae"
      }
     },
     "8a8eeab0efed477fa62f2f9b0b33162b": {
      "model_module": "jupyter-cytoscape",
      "model_module_version": "^1.3.3",
      "model_name": "NodeModel",
      "state": {
       "_model_module_version": "^1.3.3",
       "_view_module_version": "^1.3.3",
       "data": {
        "id": "instr2_container"
       },
       "grabbable": true,
       "grabbed": false,
       "selectable": false
      }
     },
     "932512c6f4724e7d8075ae889acd9faa": {
      "model_module": "jupyter-cytoscape",
      "model_module_version": "^1.3.3",
      "model_name": "CytoscapeModel",
      "state": {
       "_interaction_handlers": {},
       "_model_module_version": "^1.3.3",
       "_view_module_version": "^1.3.3",
       "auto_ungrabify": false,
       "autolock": false,
       "cytoscape_layout": {
        "avoidOverlap": true,
        "maxSimulationTime": 4000,
        "name": "cola"
       },
       "cytoscape_style": [
        {
         "css": {
          "background-color": "#11479e",
          "color": "white",
          "content": "data(id)",
          "text-outline-color": "#11479e",
          "text-outline-width": 2,
          "text-valign": "center"
         },
         "selector": "node"
        },
        {
         "css": {
          "background-color": "red"
         },
         "selector": "node.NodeStatus_INACTIVE"
        },
        {
         "css": {
          "background-opacity": 0.333,
          "content": ""
         },
         "selector": "node:parent"
        },
        {
         "css": {
          "background-color": "black",
          "line-color": "black",
          "source-arrow-color": "black",
          "target-arrow-color": "black",
          "text-outline-color": "black"
         },
         "selector": ":selected"
        },
        {
         "selector": "edge",
         "style": {
          "line-color": "#9dbaea",
          "width": 4
         }
        },
        {
         "selector": "edge.EdgeStatus_ACTIVE_ELECTRICAL_CONNECTION",
         "style": {
          "curve-style": "haystack",
          "line-color": "#9dbaea",
          "target-arrow-color": "#9dbaea",
          "target-arrow-shape": "triangle"
         }
        },
        {
         "selector": "edge.EdgeStatus_INACTIVE_ELECTRICAL_CONNECTION",
         "style": {
          "curve-style": "haystack",
          "line-color": "red",
          "target-arrow-color": "red",
          "target-arrow-shape": "triangle"
         }
        },
        {
         "selector": "edge.EdgeStatus_PART_OF",
         "style": {
          "curve-style": "haystack",
          "line-color": "green",
          "target-arrow-color": "green",
          "target-arrow-shape": "triangle"
         }
        },
        {
         "selector": "edge.multiple_edges",
         "style": {
          "curve-style": "haystack"
         }
        }
       ],
       "desktop_tap_threshold": 4,
       "graph": "IPY_MODEL_6eb954c62c764705abf4004a421b7582",
       "headless": false,
       "hide_edges_on_viewport": false,
       "layout": "IPY_MODEL_30cc2e42c96b4a21b8238fc119e30773",
       "max_zoom": 5,
       "min_zoom": 0.2,
       "motion_blur": false,
       "motion_blur_opacity": 0.2,
       "panning_enabled": true,
       "pixel_ratio": "auto",
       "rendered_position": {
        "renderedPosition": {
         "x": 100,
         "y": 100
        }
       },
       "selection_type": "single",
       "style_enabled": true,
       "texture_on_viewport": false,
       "tooltip_source": "tooltip",
       "touch_tap_threshold": 8,
       "user_panning_enabled": true,
       "user_zooming_enabled": true,
       "wheel_sensitivity": 0.1,
       "zoom": 2,
       "zooming_enabled": true
      }
     },
     "98354cac6c774459a010c251364bc870": {
      "model_module": "jupyter-cytoscape",
      "model_module_version": "^1.3.3",
      "model_name": "GraphModel",
      "state": {
       "_adj": {},
       "_model_module_version": "^1.3.3",
       "_view_module": "jupyter-cytoscape",
       "_view_module_version": "^1.3.3"
      }
     },
     "9938282da96543b18978d28e7a9ab925": {
      "model_module": "jupyter-cytoscape",
      "model_module_version": "^1.3.3",
      "model_name": "EdgeModel",
      "state": {
       "_model_module_version": "^1.3.3",
       "_view_module_version": "^1.3.3",
       "classes": "EdgeStatus_PART_OF directed ",
       "data": {
        "id": "f2da4ad4-f7a1-4665-b2bb-80e5a5fc7485",
        "source": "instr2",
        "target": "instr2_ChanE"
       },
       "selectable": false
      }
     },
     "9b198f39f6ed407cb000994f7f31f0d6": {
      "model_module": "jupyter-cytoscape",
      "model_module_version": "^1.3.3",
      "model_name": "NodeModel",
      "state": {
       "_model_module_version": "^1.3.3",
       "_view_module_version": "^1.3.3",
       "data": {
        "id": "instr2_container"
       },
       "grabbable": true,
       "grabbed": false,
       "selectable": false
      }
     },
     "9df1d497cae5435da1385e508c108614": {
      "model_module": "jupyter-cytoscape",
      "model_module_version": "^1.3.3",
      "model_name": "EdgeModel",
      "state": {
       "_model_module_version": "^1.3.3",
       "_view_module_version": "^1.3.3",
       "classes": "EdgeStatus_PART_OF directed ",
       "data": {
        "id": "9833db39-ac3e-4875-a053-2e2b1c59d2a2",
        "source": "instr",
        "target": "instr_ChanB"
       },
       "selectable": false
      }
     },
     "a05b0aa77ac14a4d81b84a337ad3a44e": {
      "model_module": "jupyter-cytoscape",
      "model_module_version": "^1.3.3",
      "model_name": "GraphModel",
      "state": {
       "_adj": {},
       "_model_module_version": "^1.3.3",
       "_view_module": "jupyter-cytoscape",
       "_view_module_version": "^1.3.3"
      }
     },
     "a2fe3c0202284335a6d03443bcea308c": {
      "model_module": "jupyter-cytoscape",
      "model_module_version": "^1.3.3",
      "model_name": "NodeModel",
      "state": {
       "_model_module_version": "^1.3.3",
       "_view_module_version": "^1.3.3",
       "classes": "NodeStatus_ACTIVE",
       "data": {
        "id": "instr2_ChanA",
        "parent": "instr2_container"
       },
       "grabbable": true,
       "grabbed": false,
       "position": {
        "x": 1053.5,
        "y": 200
       },
       "selectable": false
      }
     },
     "a505892183724f34987ac7de87b75ecf": {
      "model_module": "jupyter-cytoscape",
      "model_module_version": "^1.3.3",
      "model_name": "NodeModel",
      "state": {
       "_model_module_version": "^1.3.3",
       "_view_module_version": "^1.3.3",
       "classes": "NodeStatus_ACTIVE",
       "data": {
        "id": "chip",
        "parent": "chip_container"
       },
       "grabbable": true,
       "grabbed": false,
       "position": {
        "x": 1053.5,
        "y": 200
       },
       "selectable": false
      }
     },
     "a763484c0e7c46a7a87764b6b8f1b372": {
      "model_module": "jupyter-cytoscape",
      "model_module_version": "^1.3.3",
      "model_name": "GraphModel",
      "state": {
       "_adj": {
        "chip": {},
        "chip_container": {},
        "chip_device1": {},
        "chip_device2": {}
       },
       "_model_module_version": "^1.3.3",
       "_view_module": "jupyter-cytoscape",
       "_view_module_version": "^1.3.3",
       "edges": [
        "IPY_MODEL_10a9fee19aa142ea870a3dccf4fd1048",
        "IPY_MODEL_6956393b825446bc98c6270f74537835"
       ],
       "nodes": [
        "IPY_MODEL_73977c4b5e4a4c65ab213fd09f898fa9",
        "IPY_MODEL_af027b573a2a4a89a0f66db07135b939",
        "IPY_MODEL_fe8530e218714c868bca1d6bd67bcb4d",
        "IPY_MODEL_87bb312cbd5348cb8a7ae80f31125def"
       ]
      }
     },
     "a9aca0a80e344c97bc0690040590e888": {
      "model_module": "jupyter-cytoscape",
      "model_module_version": "^1.3.3",
      "model_name": "NodeModel",
      "state": {
       "_model_module_version": "^1.3.3",
       "_view_module_version": "^1.3.3",
       "classes": "NodeStatus_ACTIVE",
       "data": {
        "id": "instr2_ChanE",
        "parent": "instr2_container"
       },
       "grabbable": true,
       "grabbed": false,
       "position": {
        "x": 1053.5,
        "y": 200
       },
       "selectable": false
      }
     },
     "ab00821570cd4eae88e219dc891d5cef": {
      "model_module": "jupyter-cytoscape",
      "model_module_version": "^1.3.3",
      "model_name": "EdgeModel",
      "state": {
       "_model_module_version": "^1.3.3",
       "_view_module_version": "^1.3.3",
       "classes": "EdgeStatus_ACTIVE_ELECTRICAL_CONNECTION directed ",
       "data": {
        "id": "93300834-6759-4451-b0f8-f5061275ec1b",
        "source": "conn[a]",
        "target": "instr2_ChanC"
       },
       "selectable": false
      }
     },
     "ac2187a8348e4ca197b1721244b79950": {
      "model_module": "jupyter-cytoscape",
      "model_module_version": "^1.3.3",
      "model_name": "NodeModel",
      "state": {
       "_model_module_version": "^1.3.3",
       "_view_module_version": "^1.3.3",
       "data": {
        "id": "instr_container"
       },
       "grabbable": true,
       "grabbed": false,
       "selectable": false
      }
     },
     "acdf4a5b9708499eb69acace9e85799e": {
      "model_module": "jupyter-cytoscape",
      "model_module_version": "^1.3.3",
      "model_name": "NodeModel",
      "state": {
       "_model_module_version": "^1.3.3",
       "_view_module_version": "^1.3.3",
       "classes": "NodeStatus_ACTIVE",
       "data": {
        "id": "conn2[b]",
        "parent": "conn2_container"
       },
       "grabbable": true,
       "grabbed": false,
       "position": {
        "x": 1053.5,
        "y": 200
       },
       "selectable": false
      }
     },
     "ad27058fd8eb4e9f99999319dadc9461": {
      "model_module": "jupyter-cytoscape",
      "model_module_version": "^1.3.3",
      "model_name": "NodeModel",
      "state": {
       "_model_module_version": "^1.3.3",
       "_view_module_version": "^1.3.3",
       "classes": "NodeStatus_ACTIVE",
       "data": {
        "id": "instr",
        "parent": "instr_container"
       },
       "grabbable": true,
       "grabbed": false,
       "position": {
        "x": 1053.5,
        "y": 200
       },
       "selectable": false
      }
     },
     "af027b573a2a4a89a0f66db07135b939": {
      "model_module": "jupyter-cytoscape",
      "model_module_version": "^1.3.3",
      "model_name": "NodeModel",
      "state": {
       "_model_module_version": "^1.3.3",
       "_view_module_version": "^1.3.3",
       "classes": "NodeStatus_ACTIVE",
       "data": {
        "id": "chip",
        "parent": "chip_container"
       },
       "grabbable": true,
       "grabbed": false,
       "position": {
        "x": 1053.5,
        "y": 200
       },
       "selectable": false
      }
     },
     "b0ac273dbd944a94b19929fe987b5458": {
      "model_module": "jupyter-cytoscape",
      "model_module_version": "^1.3.3",
      "model_name": "NodeModel",
      "state": {
       "_model_module_version": "^1.3.3",
       "_view_module_version": "^1.3.3",
       "data": {
        "id": "instr_container"
       },
       "grabbable": true,
       "grabbed": false,
       "selectable": false
      }
     },
     "b0ce1ba192634dc78cda2fac40403170": {
      "model_module": "jupyter-cytoscape",
      "model_module_version": "^1.3.3",
      "model_name": "EdgeModel",
      "state": {
       "_model_module_version": "^1.3.3",
       "_view_module_version": "^1.3.3",
       "classes": "EdgeStatus_ACTIVE_ELECTRICAL_CONNECTION directed ",
       "data": {
        "id": "92c5dedb-9d33-4f3c-9246-5969f6577259",
        "source": "chip_device2",
        "target": "conn2[b]"
       },
       "selectable": false
      }
     },
     "b6576fb45e174431bedaaffee6b69a54": {
      "model_module": "jupyter-cytoscape",
      "model_module_version": "^1.3.3",
      "model_name": "EdgeModel",
      "state": {
       "_model_module_version": "^1.3.3",
       "_view_module_version": "^1.3.3",
       "classes": "EdgeStatus_PART_OF directed ",
       "data": {
        "id": "c5477d15-b0a4-4cfe-804d-2d76d9442c68",
        "source": "instr",
        "target": "instr_ChanB"
       },
       "selectable": false
      }
     },
     "b8897013a14d457d95389ff244e2baf7": {
      "model_module": "@jupyter-widgets/base",
      "model_module_version": "1.2.0",
      "model_name": "LayoutModel",
      "state": {}
     },
     "b9f48650e3044cf5940465a8d3cc0a8d": {
      "model_module": "jupyter-cytoscape",
      "model_module_version": "^1.3.3",
      "model_name": "EdgeModel",
      "state": {
       "_model_module_version": "^1.3.3",
       "_view_module_version": "^1.3.3",
       "classes": "EdgeStatus_ACTIVE_ELECTRICAL_CONNECTION directed ",
       "data": {
        "id": "92a96e91-7ea1-4cf8-8d93-a6cc20e99566",
        "source": "conn[a]",
        "target": "instr2_ChanC"
       },
       "selectable": false
      }
     },
     "baa280d342724c868783a8277648b6d3": {
      "model_module": "@jupyter-widgets/base",
      "model_module_version": "1.2.0",
      "model_name": "LayoutModel",
      "state": {}
     },
     "bc225832c5e0408da2a3c3522720a67f": {
      "model_module": "@jupyter-widgets/controls",
      "model_module_version": "1.5.0",
      "model_name": "HBoxModel",
      "state": {
       "children": [
        "IPY_MODEL_f9eca1c1c89b47c1b208279a05ff9364"
       ],
       "layout": "IPY_MODEL_bfb0f1fbd6bf45d3913357a9c83ef5fd"
      }
     },
     "bfb0f1fbd6bf45d3913357a9c83ef5fd": {
      "model_module": "@jupyter-widgets/base",
      "model_module_version": "1.2.0",
      "model_name": "LayoutModel",
      "state": {}
     },
     "bfdfb49f7a2848c1a1b6da46e5a04603": {
      "model_module": "jupyter-cytoscape",
      "model_module_version": "^1.3.3",
      "model_name": "EdgeModel",
      "state": {
       "_model_module_version": "^1.3.3",
       "_view_module_version": "^1.3.3",
       "classes": "EdgeStatus_ACTIVE_ELECTRICAL_CONNECTION directed ",
       "data": {
        "id": "5cc967d1-b9d4-481d-81b8-b196b42d0ed6",
        "source": "instr_ChanD",
        "target": "conn2[b]"
       },
       "selectable": false
      }
     },
     "c11f6dc2f105412eb28a72b1e7af314e": {
      "model_module": "jupyter-cytoscape",
      "model_module_version": "^1.3.3",
      "model_name": "EdgeModel",
      "state": {
       "_model_module_version": "^1.3.3",
       "_view_module_version": "^1.3.3",
       "classes": "EdgeStatus_PART_OF directed ",
       "data": {
        "id": "52f1ad41-ea04-43b6-97bc-6daeee1107d2",
        "source": "instr",
        "target": "instr_ChanE"
       },
       "selectable": false
      }
     },
     "c142483b00204ad5970eb1beba9f6a98": {
      "model_module": "jupyter-cytoscape",
      "model_module_version": "^1.3.3",
      "model_name": "NodeModel",
      "state": {
       "_model_module_version": "^1.3.3",
       "_view_module_version": "^1.3.3",
       "data": {
        "id": "instr_container"
       },
       "grabbable": true,
       "grabbed": false,
       "selectable": false
      }
     },
     "c73cd3ed5d404f6691a0d5bd60464102": {
      "model_module": "jupyter-cytoscape",
      "model_module_version": "^1.3.3",
      "model_name": "NodeModel",
      "state": {
       "_model_module_version": "^1.3.3",
       "_view_module_version": "^1.3.3",
       "data": {
        "id": "instr_container"
       },
       "grabbable": true,
       "grabbed": false,
       "selectable": false
      }
     },
     "c9dd5818db944e3ba78fae191c9544f6": {
      "model_module": "jupyter-cytoscape",
      "model_module_version": "^1.3.3",
      "model_name": "EdgeModel",
      "state": {
       "_model_module_version": "^1.3.3",
       "_view_module_version": "^1.3.3",
       "classes": "EdgeStatus_PART_OF directed ",
       "data": {
        "id": "642051c5-997c-4cf9-8683-884d0289933c",
        "source": "instr2",
        "target": "instr2_ChanB"
       },
       "selectable": false
      }
     },
     "cb04dba343bc4cb7ab99af4e04a7a756": {
      "model_module": "jupyter-cytoscape",
      "model_module_version": "^1.3.3",
      "model_name": "GraphModel",
      "state": {
       "_adj": {},
       "_model_module_version": "^1.3.3",
       "_view_module": "jupyter-cytoscape",
       "_view_module_version": "^1.3.3"
      }
     },
     "cdf75f80f59c4215ae1cc2e528dd4f26": {
      "model_module": "jupyter-cytoscape",
      "model_module_version": "^1.3.3",
      "model_name": "NodeModel",
      "state": {
       "_model_module_version": "^1.3.3",
       "_view_module_version": "^1.3.3",
       "classes": "NodeStatus_ACTIVE",
       "data": {
        "id": "instr_ChanD",
        "parent": "instr_container"
       },
       "grabbable": true,
       "grabbed": false,
       "position": {
        "x": 1053.5,
        "y": 200
       },
       "selectable": false
      }
     },
     "cfd38aab96d945529ec500b118827eb9": {
      "model_module": "jupyter-cytoscape",
      "model_module_version": "^1.3.3",
      "model_name": "EdgeModel",
      "state": {
       "_model_module_version": "^1.3.3",
       "_view_module_version": "^1.3.3",
       "classes": "EdgeStatus_PART_OF directed ",
       "data": {
        "id": "ae0ce0aa-a760-4a22-802f-d8a35028c7dc",
        "source": "instr2",
        "target": "instr2_ChanD"
       },
       "selectable": false
      }
     },
     "d28c35019b19426ab46364f86fc6e4d4": {
      "model_module": "jupyter-cytoscape",
      "model_module_version": "^1.3.3",
      "model_name": "NodeModel",
      "state": {
       "_model_module_version": "^1.3.3",
       "_view_module_version": "^1.3.3",
       "classes": "NodeStatus_ACTIVE",
       "data": {
        "id": "instr_ChanC",
        "parent": "instr_container"
       },
       "grabbable": true,
       "grabbed": false,
       "position": {
        "x": 1053.5,
        "y": 200
       },
       "selectable": false
      }
     },
     "d69898165d894f0a9054a310988e0972": {
      "model_module": "jupyter-cytoscape",
      "model_module_version": "^1.3.3",
      "model_name": "NodeModel",
      "state": {
       "_model_module_version": "^1.3.3",
       "_view_module_version": "^1.3.3",
       "data": {
        "id": "instr2_container"
       },
       "grabbable": true,
       "grabbed": false,
       "selectable": false
      }
     },
     "d8d4e51c59314b35bc0743447a968496": {
      "model_module": "@jupyter-widgets/base",
      "model_module_version": "1.2.0",
      "model_name": "LayoutModel",
      "state": {}
     },
     "dc54d99779994eb7abd7a3921be676fa": {
      "model_module": "jupyter-cytoscape",
      "model_module_version": "^1.3.3",
      "model_name": "NodeModel",
      "state": {
       "_model_module_version": "^1.3.3",
       "_view_module_version": "^1.3.3",
       "classes": "NodeStatus_ACTIVE",
       "data": {
        "id": "instr_ChanE",
        "parent": "instr_container"
       },
       "grabbable": true,
       "grabbed": false,
       "position": {
        "x": 1053.5,
        "y": 200
       },
       "selectable": false
      }
     },
     "dd61af04e5d14b309f4892927fa109df": {
      "model_module": "jupyter-cytoscape",
      "model_module_version": "^1.3.3",
      "model_name": "EdgeModel",
      "state": {
       "_model_module_version": "^1.3.3",
       "_view_module_version": "^1.3.3",
       "classes": "EdgeStatus_PART_OF directed ",
       "data": {
        "id": "8eb4880c-6283-4b2f-b473-f6dec37e4577",
        "source": "instr",
        "target": "instr_ChanF"
       },
       "selectable": false
      }
     },
     "e242c406ff894925999d3fadbf84d919": {
      "model_module": "jupyter-cytoscape",
      "model_module_version": "^1.3.3",
      "model_name": "EdgeModel",
      "state": {
       "_model_module_version": "^1.3.3",
       "_view_module_version": "^1.3.3",
       "classes": "EdgeStatus_PART_OF directed ",
       "data": {
        "id": "2521456d-d0e9-42f8-b9d6-02d0ba5f362a",
        "source": "instr",
        "target": "instr_ChanD"
       },
       "selectable": false
      }
     },
     "e53f7ec856494b389a3e537eac9e2cc4": {
      "model_module": "jupyter-cytoscape",
      "model_module_version": "^1.3.3",
      "model_name": "NodeModel",
      "state": {
       "_model_module_version": "^1.3.3",
       "_view_module_version": "^1.3.3",
       "data": {
        "id": "instr_container"
       },
       "grabbable": true,
       "grabbed": false,
       "selectable": false
      }
     },
     "ebd2c3f06c4746feaaf696f82b20fd4b": {
      "model_module": "jupyter-cytoscape",
      "model_module_version": "^1.3.3",
      "model_name": "EdgeModel",
      "state": {
       "_model_module_version": "^1.3.3",
       "_view_module_version": "^1.3.3",
       "classes": "EdgeStatus_PART_OF directed ",
       "data": {
        "id": "0a842d17-910c-415b-ba8e-2d87fab5d7f6",
        "source": "chip",
        "target": "chip_device1"
       },
       "selectable": false
      }
     },
     "edcfd61643bd408f9fe9caaf84168a47": {
      "model_module": "jupyter-cytoscape",
      "model_module_version": "^1.3.3",
      "model_name": "NodeModel",
      "state": {
       "_model_module_version": "^1.3.3",
       "_view_module_version": "^1.3.3",
       "classes": "NodeStatus_ACTIVE",
       "data": {
        "id": "instr_ChanD",
        "parent": "instr_container"
       },
       "grabbable": true,
       "grabbed": false,
       "position": {
        "x": 1053.5,
        "y": 200
       },
       "selectable": false
      }
     },
     "ee964eb9f4644a9087e69d561e2382f2": {
      "model_module": "jupyter-cytoscape",
      "model_module_version": "^1.3.3",
      "model_name": "EdgeModel",
      "state": {
       "_model_module_version": "^1.3.3",
       "_view_module_version": "^1.3.3",
       "classes": "EdgeStatus_PART_OF directed ",
       "data": {
        "id": "905e613e-5465-467e-9696-c0f8e8a26c27",
        "source": "instr",
        "target": "instr_ChanE"
       },
       "selectable": false
      }
     },
     "f3e65bfda93a49ee994f03c2868f4a7a": {
      "model_module": "jupyter-cytoscape",
      "model_module_version": "^1.3.3",
      "model_name": "NodeModel",
      "state": {
       "_model_module_version": "^1.3.3",
       "_view_module_version": "^1.3.3",
       "classes": "NodeStatus_ACTIVE",
       "data": {
        "id": "instr_ChanA",
        "parent": "instr_container"
       },
       "grabbable": true,
       "grabbed": false,
       "position": {
        "x": 1053.5,
        "y": 200
       },
       "selectable": false
      }
     },
     "f40bbe4ad92148f6bafc2adeccffb183": {
      "model_module": "jupyter-cytoscape",
      "model_module_version": "^1.3.3",
      "model_name": "NodeModel",
      "state": {
       "_model_module_version": "^1.3.3",
       "_view_module_version": "^1.3.3",
       "data": {
        "id": "instr_container"
       },
       "grabbable": true,
       "grabbed": false,
       "position": {
        "x": 1053.5,
        "y": 200
       },
       "selectable": false
      }
     },
     "f5437600704946b4ac715273e92851b9": {
      "model_module": "jupyter-cytoscape",
      "model_module_version": "^1.3.3",
      "model_name": "NodeModel",
      "state": {
       "_model_module_version": "^1.3.3",
       "_view_module_version": "^1.3.3",
       "classes": "NodeStatus_ACTIVE",
       "data": {
        "id": "instr2",
        "parent": "instr2_container"
       },
       "grabbable": true,
       "grabbed": false,
       "position": {
        "x": 1053.5,
        "y": 200
       },
       "selectable": false
      }
     },
     "f554a8a2d30f4280adfaf448abdb8032": {
      "model_module": "@jupyter-widgets/base",
      "model_module_version": "1.2.0",
      "model_name": "LayoutModel",
      "state": {}
     },
     "f6643fe75d1e49269e69b92afcfc13cb": {
      "model_module": "jupyter-cytoscape",
      "model_module_version": "^1.3.3",
      "model_name": "EdgeModel",
      "state": {
       "_model_module_version": "^1.3.3",
       "_view_module_version": "^1.3.3",
       "classes": "EdgeStatus_ACTIVE_ELECTRICAL_CONNECTION directed ",
       "data": {
        "id": "4dcb250f-b0cd-468b-8c66-e678bc7e03d5",
        "source": "conn[a]",
        "target": "chip_device1"
       },
       "selectable": false
      }
     },
     "f718568db55245fca855c1516f25cc59": {
      "model_module": "jupyter-cytoscape",
      "model_module_version": "^1.3.3",
      "model_name": "NodeModel",
      "state": {
       "_model_module_version": "^1.3.3",
       "_view_module_version": "^1.3.3",
       "data": {
        "id": "instr_container"
       },
       "grabbable": true,
       "grabbed": false,
       "selectable": false
      }
     },
     "f79a580976d54afdbbd867cda14affb2": {
      "model_module": "jupyter-cytoscape",
      "model_module_version": "^1.3.3",
      "model_name": "NodeModel",
      "state": {
       "_model_module_version": "^1.3.3",
       "_view_module_version": "^1.3.3",
       "data": {
        "id": "chip_container"
       },
       "grabbable": true,
       "grabbed": false,
       "selectable": false
      }
     },
     "f9eca1c1c89b47c1b208279a05ff9364": {
      "model_module": "jupyter-cytoscape",
      "model_module_version": "^1.3.3",
      "model_name": "CytoscapeModel",
      "state": {
       "_interaction_handlers": {},
       "_model_module_version": "^1.3.3",
       "_view_module_version": "^1.3.3",
       "auto_ungrabify": false,
       "autolock": false,
       "cytoscape_layout": {
        "avoidOverlap": true,
        "maxSimulationTime": 4000,
        "name": "cola"
       },
       "cytoscape_style": [
        {
         "css": {
          "background-color": "#11479e",
          "color": "white",
          "content": "data(id)",
          "text-outline-color": "#11479e",
          "text-outline-width": 2,
          "text-valign": "center"
         },
         "selector": "node"
        },
        {
         "css": {
          "background-color": "red"
         },
         "selector": "node.NodeStatus_INACTIVE"
        },
        {
         "css": {
          "background-opacity": 0.333,
          "content": ""
         },
         "selector": "node:parent"
        },
        {
         "css": {
          "background-color": "black",
          "line-color": "black",
          "source-arrow-color": "black",
          "target-arrow-color": "black",
          "text-outline-color": "black"
         },
         "selector": ":selected"
        },
        {
         "selector": "edge",
         "style": {
          "line-color": "#9dbaea",
          "width": 4
         }
        },
        {
         "selector": "edge.EdgeStatus_ACTIVE_ELECTRICAL_CONNECTION",
         "style": {
          "curve-style": "haystack",
          "line-color": "#9dbaea",
          "target-arrow-color": "#9dbaea",
          "target-arrow-shape": "triangle"
         }
        },
        {
         "selector": "edge.EdgeStatus_INACTIVE_ELECTRICAL_CONNECTION",
         "style": {
          "curve-style": "haystack",
          "line-color": "red",
          "target-arrow-color": "red",
          "target-arrow-shape": "triangle"
         }
        },
        {
         "selector": "edge.EdgeStatus_PART_OF",
         "style": {
          "curve-style": "haystack",
          "line-color": "green",
          "target-arrow-color": "green",
          "target-arrow-shape": "triangle"
         }
        },
        {
         "selector": "edge.multiple_edges",
         "style": {
          "curve-style": "haystack"
         }
        }
       ],
       "desktop_tap_threshold": 4,
       "graph": "IPY_MODEL_3edc8e4deb684108a73cb4d648d6ffbf",
       "headless": false,
       "hide_edges_on_viewport": false,
       "layout": "IPY_MODEL_b8897013a14d457d95389ff244e2baf7",
       "max_zoom": 5,
       "min_zoom": 0.2,
       "motion_blur": false,
       "motion_blur_opacity": 0.2,
       "panning_enabled": true,
       "pixel_ratio": "auto",
       "rendered_position": {
        "renderedPosition": {
         "x": 100,
         "y": 100
        }
       },
       "selection_type": "single",
       "style_enabled": true,
       "texture_on_viewport": false,
       "tooltip_source": "tooltip",
       "touch_tap_threshold": 8,
       "user_panning_enabled": true,
       "user_zooming_enabled": true,
       "wheel_sensitivity": 0.1,
       "zoom": 2,
       "zooming_enabled": true
      }
     },
     "fe080c3128884e3bb0d88802ba8dd2d4": {
      "model_module": "jupyter-cytoscape",
      "model_module_version": "^1.3.3",
      "model_name": "EdgeModel",
      "state": {
       "_model_module_version": "^1.3.3",
       "_view_module_version": "^1.3.3",
       "classes": "EdgeStatus_PART_OF directed ",
       "data": {
        "id": "ed818414-a8da-4591-bffd-53832b30ab1e",
        "source": "instr2",
        "target": "instr2_ChanA"
       },
       "selectable": false
      }
     },
     "fe8530e218714c868bca1d6bd67bcb4d": {
      "model_module": "jupyter-cytoscape",
      "model_module_version": "^1.3.3",
      "model_name": "NodeModel",
      "state": {
       "_model_module_version": "^1.3.3",
       "_view_module_version": "^1.3.3",
       "classes": "NodeStatus_ACTIVE",
       "data": {
        "id": "chip_device1",
        "parent": "chip_container"
       },
       "grabbable": true,
       "grabbed": false,
       "position": {
        "x": 1053.5,
        "y": 200
       },
       "selectable": false
      }
     },
     "fec5d8813eba4fdfb5fe2c67aad5d4cf": {
      "model_module": "jupyter-cytoscape",
      "model_module_version": "^1.3.3",
      "model_name": "EdgeModel",
      "state": {
       "_model_module_version": "^1.3.3",
       "_view_module_version": "^1.3.3",
       "classes": "EdgeStatus_PART_OF directed ",
       "data": {
        "id": "dffebaf7-bd0d-47d0-9e74-8071e6ea141c",
        "source": "instr",
        "target": "instr_ChanA"
       },
       "selectable": false
      }
     },
     "fefa7c3390204f42863d16bbd998c76b": {
      "model_module": "jupyter-cytoscape",
      "model_module_version": "^1.3.3",
      "model_name": "NodeModel",
      "state": {
       "_model_module_version": "^1.3.3",
       "_view_module_version": "^1.3.3",
       "classes": "NodeStatus_ACTIVE",
       "data": {
        "id": "instr2_ChanC",
        "parent": "instr2_container"
       },
       "grabbable": true,
       "grabbed": false,
       "position": {
        "x": 1053.5,
        "y": 200
       },
       "selectable": false
      }
     },
     "ffb557485cbd4755b5eae6b870ab0578": {
      "model_module": "@jupyter-widgets/base",
      "model_module_version": "1.2.0",
      "model_name": "LayoutModel",
      "state": {}
     }
    },
    "version_major": 2,
    "version_minor": 0
   }
  }
 },
 "nbformat": 4,
 "nbformat_minor": 5
}
