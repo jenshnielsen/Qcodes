{
 "cells": [
  {
   "cell_type": "markdown",
   "id": "ee8d69f0-6127-4e87-8659-35b508d709ff",
   "metadata": {},
   "source": [
    "# Instrument Graph"
   ]
  },
  {
   "cell_type": "code",
   "execution_count": 1,
   "id": "6de37bdc-e561-4ef2-a933-7e0f3b4cda85",
   "metadata": {},
   "outputs": [],
   "source": [
    "from qcodes.tests.instrument_mocks import DummyChannelInstrument"
   ]
  },
  {
   "cell_type": "code",
   "execution_count": 2,
   "id": "23d52084-01bc-4b60-afac-5bbf8a623bdc",
   "metadata": {},
   "outputs": [],
   "source": [
    "instr = DummyChannelInstrument('instr')\n",
    "instr2 = DummyChannelInstrument('instr2')"
   ]
  },
  {
   "cell_type": "code",
   "execution_count": 3,
   "id": "be252edf-87e7-405c-a918-c4b4544a296f",
   "metadata": {},
   "outputs": [],
   "source": [
    "from qcodes.graph.visulization import draw"
   ]
  },
  {
   "cell_type": "code",
   "execution_count": 4,
   "id": "fb48d685-d7c5-44d3-bd6d-0ea8cd22652f",
   "metadata": {},
   "outputs": [
    {
     "name": "stdout",
     "output_type": "stream",
     "text": [
      "adding node instr\n",
      "adding node instr_ChanA\n",
      "adding node instr_ChanB\n",
      "adding node instr_ChanC\n",
      "adding node instr_ChanD\n",
      "adding node instr_ChanE\n",
      "adding node instr_ChanF\n"
     ]
    },
    {
     "data": {
      "text/plain": [
       "<qcodes.graph.graph.StationGraph at 0x1aa71661c30>"
      ]
     },
     "execution_count": 4,
     "metadata": {},
     "output_type": "execute_result"
    }
   ],
   "source": [
    "instr.instrument_graph"
   ]
  },
  {
   "cell_type": "code",
   "execution_count": 5,
   "id": "30273007-0acf-418c-8540-37993df6e4f7",
   "metadata": {},
   "outputs": [
    {
     "name": "stdout",
     "output_type": "stream",
     "text": [
      "adding node instr\n",
      "adding node instr_ChanA\n",
      "adding node instr_ChanB\n",
      "adding node instr_ChanC\n",
      "adding node instr_ChanD\n",
      "adding node instr_ChanE\n",
      "adding node instr_ChanF\n"
     ]
    },
    {
     "data": {
      "application/vnd.jupyter.widget-view+json": {
       "model_id": "0cd6b84e101b4f3ea696974360e60192",
       "version_major": 2,
       "version_minor": 0
      },
      "text/plain": [
       "HBox(children=(CytoscapeWidget(cytoscape_layout={'name': 'cola', 'avoidOverlap': True, 'maxSimulationTime': 40…"
      ]
     },
     "metadata": {},
     "output_type": "display_data"
    }
   ],
   "source": [
    "draw(instr.instrument_graph, disjoint=False)"
   ]
  },
  {
   "cell_type": "code",
   "execution_count": 6,
   "id": "9c43a001-d806-44bc-9439-9a7eb91c1a3d",
   "metadata": {},
   "outputs": [],
   "source": [
    "from qcodes.instrument_drivers.connector import Connector, Chip"
   ]
  },
  {
   "cell_type": "code",
   "execution_count": 7,
   "id": "d85b3ceb-e2a0-4f75-bb8d-8555f906e50f",
   "metadata": {},
   "outputs": [],
   "source": [
    "chip = Chip('chip')"
   ]
  },
  {
   "cell_type": "code",
   "execution_count": 8,
   "id": "b6d2da18-9606-47dd-b26f-a7c25a079d9b",
   "metadata": {},
   "outputs": [
    {
     "name": "stdout",
     "output_type": "stream",
     "text": [
      "adding node chip\n",
      "adding node chip_device1\n",
      "adding node chip_device2\n"
     ]
    },
    {
     "data": {
      "application/vnd.jupyter.widget-view+json": {
       "model_id": "e36129969f2a4ae8b4e7ce2d13cb5d86",
       "version_major": 2,
       "version_minor": 0
      },
      "text/plain": [
       "HBox(children=(CytoscapeWidget(cytoscape_layout={'name': 'cola', 'avoidOverlap': True, 'maxSimulationTime': 40…"
      ]
     },
     "metadata": {},
     "output_type": "display_data"
    }
   ],
   "source": [
    "draw(chip.instrument_graph)"
   ]
  },
  {
   "cell_type": "code",
   "execution_count": 13,
   "id": "04f005e0-541b-4d65-870c-47154927abfc",
   "metadata": {},
   "outputs": [
    {
     "name": "stdout",
     "output_type": "stream",
     "text": [
      "adding node conn[a]\n"
     ]
    },
    {
     "ename": "KeyError",
     "evalue": "'Another instrument has the name: conn'",
     "output_type": "error",
     "traceback": [
      "\u001b[1;31m---------------------------------------------------------------------------\u001b[0m",
      "\u001b[1;31mKeyError\u001b[0m                                  Traceback (most recent call last)",
      "Input \u001b[1;32mIn [13]\u001b[0m, in \u001b[0;36m<module>\u001b[1;34m\u001b[0m\n\u001b[1;32m----> 1\u001b[0m conn \u001b[38;5;241m=\u001b[39m \u001b[43mConnector\u001b[49m\u001b[43m(\u001b[49m\u001b[38;5;124;43m'\u001b[39;49m\u001b[38;5;124;43mconn\u001b[39;49m\u001b[38;5;124;43m'\u001b[39;49m\u001b[43m,\u001b[49m\u001b[43m \u001b[49m\u001b[43mconnections\u001b[49m\u001b[38;5;241;43m=\u001b[39;49m\u001b[43m(\u001b[49m\u001b[43m{\u001b[49m\u001b[38;5;124;43m\"\u001b[39;49m\u001b[38;5;124;43mname\u001b[39;49m\u001b[38;5;124;43m\"\u001b[39;49m\u001b[43m:\u001b[49m\u001b[43m \u001b[49m\u001b[38;5;124;43m\"\u001b[39;49m\u001b[38;5;124;43ma\u001b[39;49m\u001b[38;5;124;43m\"\u001b[39;49m\u001b[43m,\u001b[49m\u001b[43m \u001b[49m\u001b[38;5;124;43m\"\u001b[39;49m\u001b[38;5;124;43mendpoints\u001b[39;49m\u001b[38;5;124;43m\"\u001b[39;49m\u001b[43m:\u001b[49m\u001b[43m \u001b[49m\u001b[43m(\u001b[49m\u001b[38;5;124;43m\"\u001b[39;49m\u001b[38;5;124;43minstr2_ChanC\u001b[39;49m\u001b[38;5;124;43m\"\u001b[39;49m\u001b[43m,\u001b[49m\u001b[43m \u001b[49m\u001b[38;5;124;43m\"\u001b[39;49m\u001b[38;5;124;43mchip_device1\u001b[39;49m\u001b[38;5;124;43m\"\u001b[39;49m\u001b[43m)\u001b[49m\u001b[43m}\u001b[49m\u001b[43m,\u001b[49m\u001b[43m)\u001b[49m\u001b[43m)\u001b[49m\n",
      "File \u001b[1;32mc:\\users\\jenielse\\source\\repos\\qcodes\\qcodes\\instrument\\base.py:532\u001b[0m, in \u001b[0;36mAbstractInstrumentMeta.__call__\u001b[1;34m(cls, *args, **kwargs)\u001b[0m\n\u001b[0;32m    526\u001b[0m     new_inst\u001b[38;5;241m.\u001b[39mclose()\n\u001b[0;32m    527\u001b[0m     \u001b[38;5;28;01mraise\u001b[39;00m \u001b[38;5;167;01mNotImplementedError\u001b[39;00m(\n\u001b[0;32m    528\u001b[0m         \u001b[38;5;124mf\u001b[39m\u001b[38;5;124m\"\u001b[39m\u001b[38;5;132;01m{\u001b[39;00mnew_inst\u001b[38;5;132;01m}\u001b[39;00m\u001b[38;5;124m has un-implemented Abstract Parameter \u001b[39m\u001b[38;5;124m\"\u001b[39m\n\u001b[0;32m    529\u001b[0m         \u001b[38;5;124mf\u001b[39m\u001b[38;5;124m\"\u001b[39m\u001b[38;5;124mand cannot be initialized\u001b[39m\u001b[38;5;124m\"\u001b[39m\n\u001b[0;32m    530\u001b[0m     )\n\u001b[1;32m--> 532\u001b[0m \u001b[43mnew_inst\u001b[49m\u001b[38;5;241;43m.\u001b[39;49m\u001b[43mrecord_instance\u001b[49m\u001b[43m(\u001b[49m\u001b[43mnew_inst\u001b[49m\u001b[43m)\u001b[49m\n\u001b[0;32m    533\u001b[0m \u001b[38;5;28;01mreturn\u001b[39;00m new_inst\n",
      "File \u001b[1;32mc:\\users\\jenielse\\source\\repos\\qcodes\\qcodes\\instrument\\base.py:713\u001b[0m, in \u001b[0;36mInstrument.record_instance\u001b[1;34m(cls, instance)\u001b[0m\n\u001b[0;32m    711\u001b[0m existing_instr \u001b[38;5;241m=\u001b[39m \u001b[38;5;28mcls\u001b[39m\u001b[38;5;241m.\u001b[39m_all_instruments\u001b[38;5;241m.\u001b[39mget(name)\n\u001b[0;32m    712\u001b[0m \u001b[38;5;28;01mif\u001b[39;00m existing_instr:\n\u001b[1;32m--> 713\u001b[0m     \u001b[38;5;28;01mraise\u001b[39;00m \u001b[38;5;167;01mKeyError\u001b[39;00m(\u001b[38;5;124mf\u001b[39m\u001b[38;5;124m'\u001b[39m\u001b[38;5;124mAnother instrument has the name: \u001b[39m\u001b[38;5;132;01m{\u001b[39;00mname\u001b[38;5;132;01m}\u001b[39;00m\u001b[38;5;124m'\u001b[39m)\n\u001b[0;32m    715\u001b[0m \u001b[38;5;28mcls\u001b[39m\u001b[38;5;241m.\u001b[39m_all_instruments[name] \u001b[38;5;241m=\u001b[39m instance\n\u001b[0;32m    717\u001b[0m \u001b[38;5;66;03m# Then add it to the record for this specific subclass, using ``_type``\u001b[39;00m\n\u001b[0;32m    718\u001b[0m \u001b[38;5;66;03m# to make sure we're not recording it in a base class instance list\u001b[39;00m\n",
      "\u001b[1;31mKeyError\u001b[0m: 'Another instrument has the name: conn'"
     ]
    }
   ],
   "source": [
    "conn = Connector('conn', connections=({\"name\": \"a\", \"endpoints\": (\"instr2_ChanC\", \"chip_device1\")},))"
   ]
  },
  {
   "cell_type": "code",
   "execution_count": 14,
   "id": "c11dd723-99db-4b12-9dff-865f0ccb173f",
   "metadata": {},
   "outputs": [
    {
     "name": "stdout",
     "output_type": "stream",
     "text": [
      "adding node conn2[b]\n"
     ]
    },
    {
     "ename": "KeyError",
     "evalue": "'Another instrument has the name: conn2'",
     "output_type": "error",
     "traceback": [
      "\u001b[1;31m---------------------------------------------------------------------------\u001b[0m",
      "\u001b[1;31mKeyError\u001b[0m                                  Traceback (most recent call last)",
      "Input \u001b[1;32mIn [14]\u001b[0m, in \u001b[0;36m<module>\u001b[1;34m\u001b[0m\n\u001b[1;32m----> 1\u001b[0m conn2 \u001b[38;5;241m=\u001b[39m \u001b[43mConnector\u001b[49m\u001b[43m(\u001b[49m\u001b[38;5;124;43m'\u001b[39;49m\u001b[38;5;124;43mconn2\u001b[39;49m\u001b[38;5;124;43m'\u001b[39;49m\u001b[43m,\u001b[49m\u001b[43m \u001b[49m\u001b[43mconnections\u001b[49m\u001b[38;5;241;43m=\u001b[39;49m\u001b[43m(\u001b[49m\u001b[43m{\u001b[49m\u001b[38;5;124;43m\"\u001b[39;49m\u001b[38;5;124;43mname\u001b[39;49m\u001b[38;5;124;43m\"\u001b[39;49m\u001b[43m:\u001b[49m\u001b[43m \u001b[49m\u001b[38;5;124;43m\"\u001b[39;49m\u001b[38;5;124;43mb\u001b[39;49m\u001b[38;5;124;43m\"\u001b[39;49m\u001b[43m,\u001b[49m\u001b[43m \u001b[49m\u001b[38;5;124;43m\"\u001b[39;49m\u001b[38;5;124;43mendpoints\u001b[39;49m\u001b[38;5;124;43m\"\u001b[39;49m\u001b[43m:\u001b[49m\u001b[43m \u001b[49m\u001b[43m(\u001b[49m\u001b[38;5;124;43m\"\u001b[39;49m\u001b[38;5;124;43minstr_ChanD\u001b[39;49m\u001b[38;5;124;43m\"\u001b[39;49m\u001b[43m,\u001b[49m\u001b[43m \u001b[49m\u001b[38;5;124;43m\"\u001b[39;49m\u001b[38;5;124;43mchip_device2\u001b[39;49m\u001b[38;5;124;43m\"\u001b[39;49m\u001b[43m)\u001b[49m\u001b[43m}\u001b[49m\u001b[43m,\u001b[49m\u001b[43m)\u001b[49m\u001b[43m)\u001b[49m\n",
      "File \u001b[1;32mc:\\users\\jenielse\\source\\repos\\qcodes\\qcodes\\instrument\\base.py:532\u001b[0m, in \u001b[0;36mAbstractInstrumentMeta.__call__\u001b[1;34m(cls, *args, **kwargs)\u001b[0m\n\u001b[0;32m    526\u001b[0m     new_inst\u001b[38;5;241m.\u001b[39mclose()\n\u001b[0;32m    527\u001b[0m     \u001b[38;5;28;01mraise\u001b[39;00m \u001b[38;5;167;01mNotImplementedError\u001b[39;00m(\n\u001b[0;32m    528\u001b[0m         \u001b[38;5;124mf\u001b[39m\u001b[38;5;124m\"\u001b[39m\u001b[38;5;132;01m{\u001b[39;00mnew_inst\u001b[38;5;132;01m}\u001b[39;00m\u001b[38;5;124m has un-implemented Abstract Parameter \u001b[39m\u001b[38;5;124m\"\u001b[39m\n\u001b[0;32m    529\u001b[0m         \u001b[38;5;124mf\u001b[39m\u001b[38;5;124m\"\u001b[39m\u001b[38;5;124mand cannot be initialized\u001b[39m\u001b[38;5;124m\"\u001b[39m\n\u001b[0;32m    530\u001b[0m     )\n\u001b[1;32m--> 532\u001b[0m \u001b[43mnew_inst\u001b[49m\u001b[38;5;241;43m.\u001b[39;49m\u001b[43mrecord_instance\u001b[49m\u001b[43m(\u001b[49m\u001b[43mnew_inst\u001b[49m\u001b[43m)\u001b[49m\n\u001b[0;32m    533\u001b[0m \u001b[38;5;28;01mreturn\u001b[39;00m new_inst\n",
      "File \u001b[1;32mc:\\users\\jenielse\\source\\repos\\qcodes\\qcodes\\instrument\\base.py:713\u001b[0m, in \u001b[0;36mInstrument.record_instance\u001b[1;34m(cls, instance)\u001b[0m\n\u001b[0;32m    711\u001b[0m existing_instr \u001b[38;5;241m=\u001b[39m \u001b[38;5;28mcls\u001b[39m\u001b[38;5;241m.\u001b[39m_all_instruments\u001b[38;5;241m.\u001b[39mget(name)\n\u001b[0;32m    712\u001b[0m \u001b[38;5;28;01mif\u001b[39;00m existing_instr:\n\u001b[1;32m--> 713\u001b[0m     \u001b[38;5;28;01mraise\u001b[39;00m \u001b[38;5;167;01mKeyError\u001b[39;00m(\u001b[38;5;124mf\u001b[39m\u001b[38;5;124m'\u001b[39m\u001b[38;5;124mAnother instrument has the name: \u001b[39m\u001b[38;5;132;01m{\u001b[39;00mname\u001b[38;5;132;01m}\u001b[39;00m\u001b[38;5;124m'\u001b[39m)\n\u001b[0;32m    715\u001b[0m \u001b[38;5;28mcls\u001b[39m\u001b[38;5;241m.\u001b[39m_all_instruments[name] \u001b[38;5;241m=\u001b[39m instance\n\u001b[0;32m    717\u001b[0m \u001b[38;5;66;03m# Then add it to the record for this specific subclass, using ``_type``\u001b[39;00m\n\u001b[0;32m    718\u001b[0m \u001b[38;5;66;03m# to make sure we're not recording it in a base class instance list\u001b[39;00m\n",
      "\u001b[1;31mKeyError\u001b[0m: 'Another instrument has the name: conn2'"
     ]
    }
   ],
   "source": [
    "conn2 = Connector('conn2', connections=({\"name\": \"b\", \"endpoints\": (\"instr_ChanD\", \"chip_device2\")},))"
   ]
  },
  {
   "cell_type": "code",
   "execution_count": 15,
   "id": "875887a1-4f9a-41ae-9632-0674a6053d37",
   "metadata": {},
   "outputs": [
    {
     "data": {
      "application/vnd.jupyter.widget-view+json": {
       "model_id": "41c3015325b44d7e89bc893adf0eeda3",
       "version_major": 2,
       "version_minor": 0
      },
      "text/plain": [
       "HBox(children=(CytoscapeWidget(cytoscape_layout={'name': 'cola', 'avoidOverlap': True, 'maxSimulationTime': 40…"
      ]
     },
     "metadata": {},
     "output_type": "display_data"
    }
   ],
   "source": [
    "draw(conn.instrument_graph)"
   ]
  },
  {
   "cell_type": "code",
   "execution_count": 16,
   "id": "e5a1c53d-2e8a-44ad-a21e-e9f7146be865",
   "metadata": {},
   "outputs": [],
   "source": [
    "from qcodes.station import Station"
   ]
  },
  {
   "cell_type": "code",
   "execution_count": 17,
   "id": "998e37fe-731d-470c-8961-7e10def9944a",
   "metadata": {},
   "outputs": [],
   "source": [
    "a = Station()"
   ]
  },
  {
   "cell_type": "code",
   "execution_count": 18,
   "id": "bf88261b-6ba1-4f40-b172-215aec6338df",
   "metadata": {},
   "outputs": [
    {
     "name": "stderr",
     "output_type": "stream",
     "text": [
      "[instr_ChanA(DummyChannel)] Snapshot: Could not update parameter: dummy_sp_axis\n",
      "[instr_ChanA(DummyChannel)] Snapshot: Could not update parameter: dummy_sp_axis_2\n",
      "[instr_ChanB(DummyChannel)] Snapshot: Could not update parameter: dummy_sp_axis\n",
      "[instr_ChanB(DummyChannel)] Snapshot: Could not update parameter: dummy_sp_axis_2\n",
      "[instr_ChanC(DummyChannel)] Snapshot: Could not update parameter: dummy_sp_axis\n",
      "[instr_ChanC(DummyChannel)] Snapshot: Could not update parameter: dummy_sp_axis_2\n",
      "[instr_ChanD(DummyChannel)] Snapshot: Could not update parameter: dummy_sp_axis\n",
      "[instr_ChanD(DummyChannel)] Snapshot: Could not update parameter: dummy_sp_axis_2\n",
      "[instr_ChanE(DummyChannel)] Snapshot: Could not update parameter: dummy_sp_axis\n",
      "[instr_ChanE(DummyChannel)] Snapshot: Could not update parameter: dummy_sp_axis_2\n",
      "[instr_ChanF(DummyChannel)] Snapshot: Could not update parameter: dummy_sp_axis\n",
      "[instr_ChanF(DummyChannel)] Snapshot: Could not update parameter: dummy_sp_axis_2\n",
      "[instr2_ChanA(DummyChannel)] Snapshot: Could not update parameter: dummy_sp_axis\n",
      "[instr2_ChanA(DummyChannel)] Snapshot: Could not update parameter: dummy_sp_axis_2\n",
      "[instr2_ChanB(DummyChannel)] Snapshot: Could not update parameter: dummy_sp_axis\n",
      "[instr2_ChanB(DummyChannel)] Snapshot: Could not update parameter: dummy_sp_axis_2\n",
      "[instr2_ChanC(DummyChannel)] Snapshot: Could not update parameter: dummy_sp_axis\n",
      "[instr2_ChanC(DummyChannel)] Snapshot: Could not update parameter: dummy_sp_axis_2\n",
      "[instr2_ChanD(DummyChannel)] Snapshot: Could not update parameter: dummy_sp_axis\n",
      "[instr2_ChanD(DummyChannel)] Snapshot: Could not update parameter: dummy_sp_axis_2\n",
      "[instr2_ChanE(DummyChannel)] Snapshot: Could not update parameter: dummy_sp_axis\n",
      "[instr2_ChanE(DummyChannel)] Snapshot: Could not update parameter: dummy_sp_axis_2\n",
      "[instr2_ChanF(DummyChannel)] Snapshot: Could not update parameter: dummy_sp_axis\n",
      "[instr2_ChanF(DummyChannel)] Snapshot: Could not update parameter: dummy_sp_axis_2\n"
     ]
    },
    {
     "data": {
      "text/plain": [
       "'instr2'"
      ]
     },
     "execution_count": 18,
     "metadata": {},
     "output_type": "execute_result"
    }
   ],
   "source": [
    "a.add_component(instr)\n",
    "a.add_component(instr2)"
   ]
  },
  {
   "cell_type": "code",
   "execution_count": 19,
   "id": "237c2443-cc41-435f-8f7f-c893f0e5acba",
   "metadata": {},
   "outputs": [
    {
     "data": {
      "text/plain": [
       "'conn2'"
      ]
     },
     "execution_count": 19,
     "metadata": {},
     "output_type": "execute_result"
    }
   ],
   "source": [
    "a.add_component(conn)\n",
    "a.add_component(conn2)"
   ]
  },
  {
   "cell_type": "code",
   "execution_count": 20,
   "id": "a6606f2e-b8f0-4c5e-b5c9-f66410bee96e",
   "metadata": {},
   "outputs": [
    {
     "data": {
      "text/plain": [
       "'chip'"
      ]
     },
     "execution_count": 20,
     "metadata": {},
     "output_type": "execute_result"
    }
   ],
   "source": [
    "a.add_component(chip)"
   ]
  },
  {
   "cell_type": "code",
   "execution_count": 26,
   "id": "c6bde1b1-d7e2-4d4b-b857-82d68d41c614",
   "metadata": {},
   "outputs": [
    {
     "name": "stdout",
     "output_type": "stream",
     "text": [
      "adding node chip\n",
      "adding node chip_device1\n",
      "adding node chip_device2\n"
     ]
    },
    {
     "data": {
      "text/plain": [
       "['chip', 'chip_device1', 'chip_device2']"
      ]
     },
     "execution_count": 26,
     "metadata": {},
     "output_type": "execute_result"
    }
   ],
   "source": [
    "list(chip.instrument_graph.nodes)"
   ]
  },
  {
   "cell_type": "code",
   "execution_count": 47,
   "id": "64e2f2fc-cdbb-4f5e-8588-0b93aabfc65b",
   "metadata": {},
   "outputs": [
    {
     "name": "stdout",
     "output_type": "stream",
     "text": [
      "adding node instr\n",
      "adding node instr_ChanA\n",
      "adding node instr_ChanB\n",
      "adding node instr_ChanC\n",
      "adding node instr_ChanD\n",
      "adding node instr_ChanE\n",
      "adding node instr_ChanF\n",
      "adding node instr2\n",
      "adding node instr2_ChanA\n",
      "adding node instr2_ChanB\n",
      "adding node instr2_ChanC\n",
      "adding node instr2_ChanD\n",
      "adding node instr2_ChanE\n",
      "adding node instr2_ChanF\n",
      "adding node chip\n",
      "adding node chip_device1\n",
      "adding node chip_device2\n"
     ]
    }
   ],
   "source": [
    "stationgraph = a._create_station_graph()"
   ]
  },
  {
   "cell_type": "code",
   "execution_count": 48,
   "id": "92dbd05b-1c25-473b-abc5-42aa619ba9a5",
   "metadata": {},
   "outputs": [],
   "source": [
    "c= draw(stationgraph, disjoint=True)"
   ]
  },
  {
   "cell_type": "code",
   "execution_count": 49,
   "id": "dee3fceb-4ad6-4f24-b346-bcdd00d6fdb4",
   "metadata": {},
   "outputs": [
    {
     "data": {
      "application/vnd.jupyter.widget-view+json": {
       "model_id": "4f7083f7a4644902bd5c256b331b1ca6",
       "version_major": 2,
       "version_minor": 0
      },
      "text/plain": [
       "HBox(children=(CytoscapeWidget(cytoscape_layout={'name': 'cola', 'avoidOverlap': True, 'maxSimulationTime': 40…"
      ]
     },
     "metadata": {},
     "output_type": "display_data"
    }
   ],
   "source": [
    "c"
   ]
  },
  {
   "cell_type": "markdown",
   "id": "bd7972d2-a7bc-4f79-b5c6-6f8d03959ccc",
   "metadata": {},
   "source": [
    "c.to_json() -> to_snapshot -> to_qdw "
   ]
  },
  {
   "cell_type": "code",
   "execution_count": 55,
   "id": "da8d8fec-70cd-4e21-bbab-404257084b4e",
   "metadata": {},
   "outputs": [],
   "source": [
    "stationgraph['chip_device1'].activator.add_source(stationgraph['conn[a]'])"
   ]
  },
  {
   "cell_type": "code",
   "execution_count": 56,
   "id": "15940693-9a61-4390-b7df-a3d8c3d6987e",
   "metadata": {},
   "outputs": [],
   "source": [
    "stationgraph['conn[a]'].activator.add_source(stationgraph['instr2_ChanC'])"
   ]
  },
  {
   "cell_type": "code",
   "execution_count": 63,
   "id": "1b0c5060-28cf-4b56-a989-81570e7ee59a",
   "metadata": {},
   "outputs": [
    {
     "ename": "AttributeError",
     "evalue": "'str' object has no attribute 'activator'",
     "output_type": "error",
     "traceback": [
      "\u001b[1;31m---------------------------------------------------------------------------\u001b[0m",
      "\u001b[1;31mAttributeError\u001b[0m                            Traceback (most recent call last)",
      "Input \u001b[1;32mIn [63]\u001b[0m, in \u001b[0;36m<module>\u001b[1;34m\u001b[0m\n\u001b[1;32m----> 1\u001b[0m \u001b[38;5;28;43mlist\u001b[39;49m\u001b[43m(\u001b[49m\u001b[43mstationgraph\u001b[49m\u001b[43m[\u001b[49m\u001b[38;5;124;43m'\u001b[39;49m\u001b[38;5;124;43mchip_device1\u001b[39;49m\u001b[38;5;124;43m'\u001b[39;49m\u001b[43m]\u001b[49m\u001b[38;5;241;43m.\u001b[39;49m\u001b[43mactivator\u001b[49m\u001b[38;5;241;43m.\u001b[39;49m\u001b[43mupstream_ports\u001b[49m\u001b[43m(\u001b[49m\u001b[43m)\u001b[49m\u001b[43m)\u001b[49m\n",
      "File \u001b[1;32mc:\\users\\jenielse\\source\\repos\\qcodes\\qcodes\\graph\\graph.py:132\u001b[0m, in \u001b[0;36m<genexpr>\u001b[1;34m(.0)\u001b[0m\n\u001b[0;32m    131\u001b[0m \u001b[38;5;28;01mdef\u001b[39;00m \u001b[38;5;21mupstream_ports\u001b[39m(\u001b[38;5;28mself\u001b[39m) \u001b[38;5;241m-\u001b[39m\u001b[38;5;241m>\u001b[39m Iterable[Port]:\n\u001b[1;32m--> 132\u001b[0m     \u001b[38;5;28;01mreturn\u001b[39;00m itertools\u001b[38;5;241m.\u001b[39mchain\u001b[38;5;241m.\u001b[39mfrom_iterable(\u001b[43msource\u001b[49m\u001b[38;5;241;43m.\u001b[39;49m\u001b[43mactivator\u001b[49m\u001b[38;5;241m.\u001b[39mupstream_ports() \u001b[38;5;28;01mfor\u001b[39;00m source \u001b[38;5;129;01min\u001b[39;00m \u001b[38;5;28mself\u001b[39m\u001b[38;5;241m.\u001b[39m_sources)\n",
      "\u001b[1;31mAttributeError\u001b[0m: 'str' object has no attribute 'activator'"
     ]
    }
   ],
   "source": [
    "list(stationgraph['chip_device1'].activator.upstream_ports())"
   ]
  },
  {
   "cell_type": "code",
   "execution_count": null,
   "id": "dd24a697-caa6-480a-a2de-f793df5a5601",
   "metadata": {},
   "outputs": [],
   "source": []
  },
  {
   "cell_type": "code",
   "execution_count": null,
   "id": "4aadb4e5-33b9-4250-8d65-8c7133e21941",
   "metadata": {},
   "outputs": [],
   "source": []
  },
  {
   "cell_type": "code",
   "execution_count": null,
   "id": "fbf98bf9-ff83-4c1d-b24b-7d8952462a3b",
   "metadata": {},
   "outputs": [],
   "source": []
  }
 ],
 "metadata": {
  "kernelspec": {
   "display_name": "Python 3 (ipykernel)",
   "language": "python",
   "name": "python3"
  },
  "language_info": {
   "codemirror_mode": {
    "name": "ipython",
    "version": 3
   },
   "file_extension": ".py",
   "mimetype": "text/x-python",
   "name": "python",
   "nbconvert_exporter": "python",
   "pygments_lexer": "ipython3",
   "version": "3.10.0"
  },
  "widgets": {
   "application/vnd.jupyter.widget-state+json": {
    "state": {
     "00f3804d7c9342b88e36d119432a182e": {
      "model_module": "@jupyter-widgets/base",
      "model_module_version": "1.2.0",
      "model_name": "LayoutModel",
      "state": {}
     },
     "0269ffc838504a1ca09e73cbf9f9ff87": {
      "model_module": "@jupyter-widgets/base",
      "model_module_version": "1.2.0",
      "model_name": "LayoutModel",
      "state": {}
     },
     "073d23b317834ea885466525fba0e666": {
      "model_module": "jupyter-cytoscape",
      "model_module_version": "^1.3.2",
      "model_name": "NodeModel",
      "state": {
       "_model_module_version": "^1.3.2",
       "_view_module_version": "^1.3.2",
       "classes": "node",
       "data": {
        "id": "conn[a]"
       },
       "grabbable": true,
       "grabbed": false,
       "position": {
        "x": 573.8807459021024,
        "y": 223.26691360409805
       },
       "selectable": false
      }
     },
     "0a37066250004c79ab356cab35c26629": {
      "model_module": "jupyter-cytoscape",
      "model_module_version": "^1.3.2",
      "model_name": "GraphModel",
      "state": {
       "_adj": {
        "chip": {},
        "chip_device1": {},
        "chip_device2": {},
        "conn2[b]": {},
        "conn[a]": {},
        "instr": {},
        "instr2": {},
        "instr2_ChanA": {},
        "instr2_ChanB": {},
        "instr2_ChanC": {},
        "instr2_ChanD": {},
        "instr2_ChanE": {},
        "instr2_ChanF": {},
        "instr_ChanA": {},
        "instr_ChanB": {},
        "instr_ChanC": {},
        "instr_ChanD": {},
        "instr_ChanE": {},
        "instr_ChanF": {}
       },
       "_model_module_version": "^1.3.2",
       "_view_module": "jupyter-cytoscape",
       "_view_module_version": "^1.3.2",
       "edges": [
        "IPY_MODEL_b91767488f104e548b9f9830a1372bb7",
        "IPY_MODEL_68a961f0a34247f582f534e8d985ca42",
        "IPY_MODEL_748a854eee9a43a6bf6033f05e80c8a2",
        "IPY_MODEL_ae63b466635a4f44ae0e10617f699105",
        "IPY_MODEL_b889b2995f144b64b9c97ed5d734a3ca",
        "IPY_MODEL_5781ffb55c984693a62ce4a896ea13bf",
        "IPY_MODEL_fc14d89d475e4c55832ad1707c665448",
        "IPY_MODEL_ae22706c9aa047c7ad672ddaea1c2568"
       ],
       "nodes": [
        "IPY_MODEL_a4aa1e773a644d9c9b23adf181050c2c",
        "IPY_MODEL_91c8a324b2f7438892f3be2042bfdeaf",
        "IPY_MODEL_eaf932f2932143e4a077df1675f397d1",
        "IPY_MODEL_2b2442c274674578895504fa82fe2792",
        "IPY_MODEL_cfd2e710dab947348ad255a3bd3dfc40",
        "IPY_MODEL_d541dc727a1c4961bfb9faa310a7f14e",
        "IPY_MODEL_2a1544938169498a90abefd4409f6c66",
        "IPY_MODEL_3dd152ef780c4aefa5467296caac7b8d",
        "IPY_MODEL_b5bb8e0304ee46948292a3751cd9d72f",
        "IPY_MODEL_f65bdd59b786436e8fea29e9e129f5e9",
        "IPY_MODEL_47072c18c65344bda78d070c47807f5c",
        "IPY_MODEL_a07b722c67d648ba8a4226ba697266df",
        "IPY_MODEL_3c869145ff7e4334bd138de9408eca91",
        "IPY_MODEL_5484070eebbb441fabfd1c1d02fe7871",
        "IPY_MODEL_80ee75e1ee914c0ca6257084ed5f1240",
        "IPY_MODEL_f4a80e592e044b8486bf1ad4478846dc",
        "IPY_MODEL_4c22e94ba38242a2b9250b6103a4c90e",
        "IPY_MODEL_c6142d961d6846b2ab41d10314615f0b",
        "IPY_MODEL_90cd4f81398b4d4ea3c3e5fc7a5c1231"
       ]
      }
     },
     "0c3577f3540449db9e1bfed9247d8393": {
      "model_module": "jupyter-cytoscape",
      "model_module_version": "^1.3.2",
      "model_name": "NodeModel",
      "state": {
       "_model_module_version": "^1.3.2",
       "_view_module_version": "^1.3.2",
       "classes": "node",
       "data": {
        "id": "instr_ChanD",
        "parent": "instr"
       },
       "grabbable": true,
       "grabbed": false,
       "position": {
        "x": 649.4182943780788,
        "y": 65.72386041768323
       },
       "selectable": false
      }
     },
     "0cd6b84e101b4f3ea696974360e60192": {
      "model_module": "@jupyter-widgets/controls",
      "model_module_version": "1.5.0",
      "model_name": "HBoxModel",
      "state": {
       "children": [
        "IPY_MODEL_ab8ae034267047eba56d1af952a342e8"
       ],
       "layout": "IPY_MODEL_6cd8035ad1f44a3c9e3d8a24ae455e9e"
      }
     },
     "108e0d2c8bc14b0080a286b3a9cf0240": {
      "model_module": "jupyter-cytoscape",
      "model_module_version": "^1.3.2",
      "model_name": "NodeModel",
      "state": {
       "_model_module_version": "^1.3.2",
       "_view_module_version": "^1.3.2",
       "classes": "node",
       "data": {
        "id": "instr_ChanE",
        "parent": "instr"
       },
       "grabbable": true,
       "grabbed": false,
       "position": {
        "x": 529.5,
        "y": 112.42205348150021
       },
       "selectable": false
      }
     },
     "10f825f100084cb0b93ae27655797fdc": {
      "model_module": "jupyter-cytoscape",
      "model_module_version": "^1.3.2",
      "model_name": "EdgeModel",
      "state": {
       "_model_module_version": "^1.3.2",
       "_view_module_version": "^1.3.2",
       "classes": "EdgeStatus_INACTIVE directed ",
       "data": {
        "id": "e558ce7f-37d1-4548-815e-cd70483add81",
        "source": "instr2_ChanC",
        "target": "conn[a]"
       },
       "selectable": false
      }
     },
     "14fc68daf1cd40a2bd20fea86184eb09": {
      "model_module": "@jupyter-widgets/base",
      "model_module_version": "1.2.0",
      "model_name": "LayoutModel",
      "state": {}
     },
     "1884c49132ee4a75baf490beb2d1cefc": {
      "model_module": "jupyter-cytoscape",
      "model_module_version": "^1.3.2",
      "model_name": "NodeModel",
      "state": {
       "_model_module_version": "^1.3.2",
       "_view_module_version": "^1.3.2",
       "classes": "node",
       "data": {
        "id": "instr2_ChanA",
        "parent": "instr2"
       },
       "grabbable": true,
       "grabbed": false,
       "position": {
        "x": 656.5554601065296,
        "y": 202.42205648150016
       },
       "selectable": false
      }
     },
     "18c974acd93d43ca95fa374fe4cc394e": {
      "model_module": "@jupyter-widgets/base",
      "model_module_version": "1.2.0",
      "model_name": "LayoutModel",
      "state": {}
     },
     "195a4d1328924148a5f36d055b643973": {
      "model_module": "jupyter-cytoscape",
      "model_module_version": "^1.3.2",
      "model_name": "NodeModel",
      "state": {
       "_model_module_version": "^1.3.2",
       "_view_module_version": "^1.3.2",
       "classes": "node",
       "data": {
        "id": "instr2_ChanE",
        "parent": "instr2"
       },
       "grabbable": true,
       "grabbed": false,
       "position": {
        "x": 656.5554601065296,
        "y": 252.42205748150016
       },
       "selectable": false
      }
     },
     "1c386fffc2fe41ee98d1a917651858a0": {
      "model_module": "jupyter-cytoscape",
      "model_module_version": "^1.3.2",
      "model_name": "GraphModel",
      "state": {
       "_adj": {
        "chip": {},
        "chip_device1": {},
        "chip_device2": {},
        "conn2[b]": {},
        "conn[a]": {},
        "instr": {},
        "instr2": {},
        "instr2_ChanA": {},
        "instr2_ChanB": {},
        "instr2_ChanC": {},
        "instr2_ChanD": {},
        "instr2_ChanE": {},
        "instr2_ChanF": {},
        "instr_ChanA": {},
        "instr_ChanB": {},
        "instr_ChanC": {},
        "instr_ChanD": {},
        "instr_ChanE": {},
        "instr_ChanF": {}
       },
       "_model_module_version": "^1.3.2",
       "_view_module": "jupyter-cytoscape",
       "_view_module_version": "^1.3.2",
       "edges": [
        "IPY_MODEL_c51b0845ad484c759a73dec7d30385e8",
        "IPY_MODEL_cb6a0d87ff97499d9e8b7c57c3269a86",
        "IPY_MODEL_920ae4feb05a4c28970f15986f6f93d6",
        "IPY_MODEL_a61f65565d3b4ec19d4de23f5eb4fcf0",
        "IPY_MODEL_631d0ea486d04766901941c435bdce1e",
        "IPY_MODEL_f6d1e53906ab4e11ac4d5568765bd4cf",
        "IPY_MODEL_9c5dc12df6284daba10cfac0bbda9218",
        "IPY_MODEL_e5aa666107024a289a36073b4664d20b"
       ],
       "nodes": [
        "IPY_MODEL_efdfc48502cd477eac9073a99b6879a9",
        "IPY_MODEL_ed5d39913552451da456a36c5b787fce",
        "IPY_MODEL_4d46839b336d457ab17c38484cb0c062",
        "IPY_MODEL_5b7fde39670b46a89359bd6e10e07ea0",
        "IPY_MODEL_0c3577f3540449db9e1bfed9247d8393",
        "IPY_MODEL_108e0d2c8bc14b0080a286b3a9cf0240",
        "IPY_MODEL_f95965c2884f4dd9b43d715b17ff883a",
        "IPY_MODEL_9671159517e341bea1de3112f299e3f9",
        "IPY_MODEL_1884c49132ee4a75baf490beb2d1cefc",
        "IPY_MODEL_290385b04de744d7810680fcfcfc5a1c",
        "IPY_MODEL_74c3dc1740ad401bbad39a0f5cc4cf2a",
        "IPY_MODEL_bd8a9c4b9eb645b69df026c4800f44e0",
        "IPY_MODEL_195a4d1328924148a5f36d055b643973",
        "IPY_MODEL_a26560a7d5a5404787723a6be0b1c8c6",
        "IPY_MODEL_ab6d8a96d25e48ed97937c9f4c2962fa",
        "IPY_MODEL_441997c313d04163b508c35175125cc6",
        "IPY_MODEL_9bde116995b24265b58cc926d5d576ef",
        "IPY_MODEL_713820a0e3cb460983fe34fc1c5809cc",
        "IPY_MODEL_6f092065df6943e39e919bddce8794be"
       ]
      }
     },
     "206cc9269780490894c541e53b1f0529": {
      "model_module": "@jupyter-widgets/controls",
      "model_module_version": "1.5.0",
      "model_name": "HBoxModel",
      "state": {
       "children": [
        "IPY_MODEL_2f0f4b8403294f83a55705c61ceaf689"
       ],
       "layout": "IPY_MODEL_0269ffc838504a1ca09e73cbf9f9ff87"
      }
     },
     "28ac6d6656db42b5981a7a49a601e20a": {
      "model_module": "@jupyter-widgets/base",
      "model_module_version": "1.2.0",
      "model_name": "LayoutModel",
      "state": {}
     },
     "290385b04de744d7810680fcfcfc5a1c": {
      "model_module": "jupyter-cytoscape",
      "model_module_version": "^1.3.2",
      "model_name": "NodeModel",
      "state": {
       "_model_module_version": "^1.3.2",
       "_view_module_version": "^1.3.2",
       "classes": "node",
       "data": {
        "id": "instr2_ChanB",
        "parent": "instr2"
       },
       "grabbable": true,
       "grabbed": false,
       "position": {
        "x": 706.5554611065295,
        "y": 202.42205648150016
       },
       "selectable": false
      }
     },
     "2a1544938169498a90abefd4409f6c66": {
      "model_module": "jupyter-cytoscape",
      "model_module_version": "^1.3.2",
      "model_name": "NodeModel",
      "state": {
       "_model_module_version": "^1.3.2",
       "_view_module_version": "^1.3.2",
       "classes": "node",
       "data": {
        "id": "instr_ChanF",
        "parent": "instr"
       },
       "grabbable": true,
       "grabbed": false,
       "position": {
        "x": 589.5,
        "y": 112.42205348150021
       },
       "selectable": false
      }
     },
     "2b2442c274674578895504fa82fe2792": {
      "model_module": "jupyter-cytoscape",
      "model_module_version": "^1.3.2",
      "model_name": "NodeModel",
      "state": {
       "_model_module_version": "^1.3.2",
       "_view_module_version": "^1.3.2",
       "classes": "node",
       "data": {
        "id": "instr_ChanC",
        "parent": "instr"
       },
       "grabbable": true,
       "grabbed": false,
       "position": {
        "x": 599.4182933780788,
        "y": 62.42205248150021
       },
       "selectable": false
      }
     },
     "2e18f72c84444a66a9b6b63df2af5b50": {
      "model_module": "jupyter-cytoscape",
      "model_module_version": "^1.3.2",
      "model_name": "NodeModel",
      "state": {
       "_model_module_version": "^1.3.2",
       "_view_module_version": "^1.3.2",
       "classes": "node",
       "data": {
        "id": "instr2_ChanC"
       },
       "grabbable": true,
       "grabbed": false,
       "position": {
        "x": 513.1827188896814,
        "y": 143.1598485709382
       },
       "selectable": false
      }
     },
     "2f0f4b8403294f83a55705c61ceaf689": {
      "model_module": "jupyter-cytoscape",
      "model_module_version": "^1.3.2",
      "model_name": "CytoscapeModel",
      "state": {
       "_interaction_handlers": {},
       "_model_module_version": "^1.3.2",
       "_view_module_version": "^1.3.2",
       "auto_ungrabify": false,
       "autolock": false,
       "cytoscape_layout": {
        "avoidOverlap": true,
        "maxSimulationTime": 4000,
        "name": "cola"
       },
       "cytoscape_style": [
        {
         "css": {
          "background-color": "#11479e",
          "color": "white",
          "content": "data(id)",
          "text-outline-color": "#11479e",
          "text-outline-width": 2,
          "text-valign": "center"
         },
         "selector": "node"
        },
        {
         "css": {
          "background-opacity": 0.333
         },
         "selector": "node:parent"
        },
        {
         "css": {
          "background-color": "black",
          "line-color": "black",
          "source-arrow-color": "black",
          "target-arrow-color": "black",
          "text-outline-color": "black"
         },
         "selector": ":selected"
        },
        {
         "selector": "edge",
         "style": {
          "line-color": "#9dbaea",
          "width": 4
         }
        },
        {
         "selector": "edge.directed.EdgeStatus_ACTIVE",
         "style": {
          "curve-style": "bezier",
          "target-arrow-color": "#9dbaea",
          "target-arrow-shape": "triangle"
         }
        },
        {
         "selector": "edge.directed.EdgeStatus_INACTIVE",
         "style": {
          "curve-style": "bezier",
          "line-color": "red",
          "target-arrow-color": "red",
          "target-arrow-shape": "triangle"
         }
        },
        {
         "selector": "edge.directed.EdgeStatus_NOT_ACTIVATABLE",
         "style": {
          "curve-style": "bezier",
          "line-color": "green",
          "target-arrow-color": "green",
          "target-arrow-shape": "triangle"
         }
        },
        {
         "selector": "edge.multiple_edges",
         "style": {
          "curve-style": "bezier"
         }
        }
       ],
       "desktop_tap_threshold": 4,
       "graph": "IPY_MODEL_f3d1ff97e4864c43975adf23acff0fb3",
       "headless": false,
       "hide_edges_on_viewport": false,
       "layout": "IPY_MODEL_28ac6d6656db42b5981a7a49a601e20a",
       "max_zoom": 5,
       "min_zoom": 0.2,
       "motion_blur": false,
       "motion_blur_opacity": 0.2,
       "panning_enabled": true,
       "pixel_ratio": "auto",
       "rendered_position": {
        "renderedPosition": {
         "x": 100,
         "y": 100
        }
       },
       "selection_type": "single",
       "style_enabled": true,
       "texture_on_viewport": false,
       "tooltip_source": "tooltip",
       "touch_tap_threshold": 8,
       "user_panning_enabled": true,
       "user_zooming_enabled": true,
       "wheel_sensitivity": 0.1,
       "zoom": 2,
       "zooming_enabled": true
      }
     },
     "3191473e03184108846ac6c9c0eb8223": {
      "model_module": "jupyter-cytoscape",
      "model_module_version": "^1.3.2",
      "model_name": "GraphModel",
      "state": {
       "_adj": {
        "chip_device1": {},
        "conn[a]": {},
        "instr2_ChanC": {}
       },
       "_model_module_version": "^1.3.2",
       "_view_module": "jupyter-cytoscape",
       "_view_module_version": "^1.3.2",
       "edges": [
        "IPY_MODEL_752a81681a744b1dac4ac773a65d442f",
        "IPY_MODEL_81914ac85f9f4208abbf834efd6259bf",
        "IPY_MODEL_9775c9d8f2074bbfa8f0c0717c3ffd0e",
        "IPY_MODEL_96e58c4bb4934fafaaa47b28a422ea15"
       ],
       "nodes": [
        "IPY_MODEL_073d23b317834ea885466525fba0e666",
        "IPY_MODEL_2e18f72c84444a66a9b6b63df2af5b50",
        "IPY_MODEL_a171592312064215aa1d1a0af11dcb2a"
       ]
      }
     },
     "3252d6910e964c59a0358b063abce1f7": {
      "model_module": "jupyter-cytoscape",
      "model_module_version": "^1.3.2",
      "model_name": "CytoscapeModel",
      "state": {
       "_interaction_handlers": {},
       "_model_module_version": "^1.3.2",
       "_view_module_version": "^1.3.2",
       "auto_ungrabify": false,
       "autolock": false,
       "cytoscape_layout": {
        "avoidOverlap": true,
        "maxSimulationTime": 4000,
        "name": "cola"
       },
       "cytoscape_style": [
        {
         "css": {
          "background-color": "#11479e",
          "color": "white",
          "content": "data(id)",
          "text-outline-color": "#11479e",
          "text-outline-width": 2,
          "text-valign": "center"
         },
         "selector": "node"
        },
        {
         "css": {
          "background-opacity": 0.333
         },
         "selector": "node:parent"
        },
        {
         "css": {
          "background-color": "black",
          "line-color": "black",
          "source-arrow-color": "black",
          "target-arrow-color": "black",
          "text-outline-color": "black"
         },
         "selector": ":selected"
        },
        {
         "selector": "edge",
         "style": {
          "line-color": "#9dbaea",
          "width": 4
         }
        },
        {
         "selector": "edge.directed.EdgeStatus_ACTIVE",
         "style": {
          "curve-style": "bezier",
          "target-arrow-color": "#9dbaea",
          "target-arrow-shape": "triangle"
         }
        },
        {
         "selector": "edge.directed.EdgeStatus_INACTIVE",
         "style": {
          "curve-style": "bezier",
          "line-color": "red",
          "target-arrow-color": "red",
          "target-arrow-shape": "triangle"
         }
        },
        {
         "selector": "edge.directed.EdgeStatus_NOT_ACTIVATABLE",
         "style": {
          "curve-style": "bezier",
          "line-color": "green",
          "target-arrow-color": "green",
          "target-arrow-shape": "triangle"
         }
        },
        {
         "selector": "edge.multiple_edges",
         "style": {
          "curve-style": "bezier"
         }
        }
       ],
       "desktop_tap_threshold": 4,
       "graph": "IPY_MODEL_3191473e03184108846ac6c9c0eb8223",
       "headless": false,
       "hide_edges_on_viewport": false,
       "layout": "IPY_MODEL_464d1095235c446caace87fb9386c4d6",
       "max_zoom": 5,
       "min_zoom": 0.2,
       "motion_blur": false,
       "motion_blur_opacity": 0.2,
       "panning_enabled": true,
       "pixel_ratio": "auto",
       "rendered_position": {
        "renderedPosition": {
         "x": 100,
         "y": 100
        }
       },
       "selection_type": "single",
       "style_enabled": true,
       "texture_on_viewport": false,
       "tooltip_source": "tooltip",
       "touch_tap_threshold": 8,
       "user_panning_enabled": true,
       "user_zooming_enabled": true,
       "wheel_sensitivity": 0.1,
       "zoom": 2,
       "zooming_enabled": true
      }
     },
     "32905ef626e340cd99bafdf64e8572f6": {
      "model_module": "@jupyter-widgets/base",
      "model_module_version": "1.2.0",
      "model_name": "LayoutModel",
      "state": {}
     },
     "3850709514e64957b7e89d2c287e2d33": {
      "model_module": "@jupyter-widgets/controls",
      "model_module_version": "1.5.0",
      "model_name": "HBoxModel",
      "state": {
       "children": [
        "IPY_MODEL_f7f0a0e992af40bd997fcc424b75816d"
       ],
       "layout": "IPY_MODEL_32905ef626e340cd99bafdf64e8572f6"
      }
     },
     "3c4744f982e2465d840e28ff54ce0149": {
      "model_module": "jupyter-cytoscape",
      "model_module_version": "^1.3.2",
      "model_name": "CytoscapeModel",
      "state": {
       "_interaction_handlers": {},
       "_model_module_version": "^1.3.2",
       "_view_module_version": "^1.3.2",
       "auto_ungrabify": false,
       "autolock": false,
       "cytoscape_layout": {
        "avoidOverlap": true,
        "maxSimulationTime": 4000,
        "name": "cola"
       },
       "cytoscape_style": [
        {
         "css": {
          "background-color": "#11479e",
          "color": "white",
          "content": "data(id)",
          "text-outline-color": "#11479e",
          "text-outline-width": 2,
          "text-valign": "center"
         },
         "selector": "node"
        },
        {
         "css": {
          "background-opacity": 0.333
         },
         "selector": "node:parent"
        },
        {
         "css": {
          "background-color": "black",
          "line-color": "black",
          "source-arrow-color": "black",
          "target-arrow-color": "black",
          "text-outline-color": "black"
         },
         "selector": ":selected"
        },
        {
         "selector": "edge",
         "style": {
          "line-color": "#9dbaea",
          "width": 4
         }
        },
        {
         "selector": "edge.directed.EdgeStatus_ACTIVE",
         "style": {
          "curve-style": "bezier",
          "target-arrow-color": "#9dbaea",
          "target-arrow-shape": "triangle"
         }
        },
        {
         "selector": "edge.directed.EdgeStatus_INACTIVE",
         "style": {
          "curve-style": "bezier",
          "line-color": "red",
          "target-arrow-color": "red",
          "target-arrow-shape": "triangle"
         }
        },
        {
         "selector": "edge.directed.EdgeStatus_NOT_ACTIVATABLE",
         "style": {
          "curve-style": "bezier",
          "line-color": "green",
          "target-arrow-color": "green",
          "target-arrow-shape": "triangle"
         }
        },
        {
         "selector": "edge.multiple_edges",
         "style": {
          "curve-style": "bezier"
         }
        }
       ],
       "desktop_tap_threshold": 4,
       "graph": "IPY_MODEL_0a37066250004c79ab356cab35c26629",
       "headless": false,
       "hide_edges_on_viewport": false,
       "layout": "IPY_MODEL_14fc68daf1cd40a2bd20fea86184eb09",
       "max_zoom": 5,
       "min_zoom": 0.2,
       "motion_blur": false,
       "motion_blur_opacity": 0.2,
       "panning_enabled": true,
       "pixel_ratio": "auto",
       "rendered_position": {
        "renderedPosition": {
         "x": 100,
         "y": 100
        }
       },
       "selection_type": "single",
       "style_enabled": true,
       "texture_on_viewport": false,
       "tooltip_source": "tooltip",
       "touch_tap_threshold": 8,
       "user_panning_enabled": true,
       "user_zooming_enabled": true,
       "wheel_sensitivity": 0.1,
       "zoom": 2,
       "zooming_enabled": true
      }
     },
     "3c869145ff7e4334bd138de9408eca91": {
      "model_module": "jupyter-cytoscape",
      "model_module_version": "^1.3.2",
      "model_name": "NodeModel",
      "state": {
       "_model_module_version": "^1.3.2",
       "_view_module_version": "^1.3.2",
       "classes": "node",
       "data": {
        "id": "instr2_ChanE",
        "parent": "instr2"
       },
       "grabbable": true,
       "grabbed": false,
       "position": {
        "x": 656.5554601065296,
        "y": 252.42205748150016
       },
       "selectable": false
      }
     },
     "3dd152ef780c4aefa5467296caac7b8d": {
      "model_module": "jupyter-cytoscape",
      "model_module_version": "^1.3.2",
      "model_name": "NodeModel",
      "state": {
       "_model_module_version": "^1.3.2",
       "_view_module_version": "^1.3.2",
       "classes": "node",
       "data": {
        "id": "instr2"
       },
       "grabbable": true,
       "grabbed": false,
       "position": {
        "x": 606.7222730653948,
        "y": 227.52134395322838
       },
       "selectable": false
      }
     },
     "4057a24472da40f7a167cd9bef574dfe": {
      "model_module": "jupyter-cytoscape",
      "model_module_version": "^1.3.2",
      "model_name": "EdgeModel",
      "state": {
       "_model_module_version": "^1.3.2",
       "_view_module_version": "^1.3.2",
       "classes": "EdgeStatus_INACTIVE directed ",
       "data": {
        "id": "4b5bbdf7-556a-4a78-83f8-349dbb8cbf89",
        "source": "conn[a]",
        "target": "instr2_ChanC"
       },
       "selectable": false
      }
     },
     "414681a1f6824bbfa03f5c23c69f58d7": {
      "model_module": "@jupyter-widgets/base",
      "model_module_version": "1.2.0",
      "model_name": "LayoutModel",
      "state": {}
     },
     "41c3015325b44d7e89bc893adf0eeda3": {
      "model_module": "@jupyter-widgets/controls",
      "model_module_version": "1.5.0",
      "model_name": "HBoxModel",
      "state": {
       "children": [
        "IPY_MODEL_3252d6910e964c59a0358b063abce1f7"
       ],
       "layout": "IPY_MODEL_f5688f5a631843aba3635e58c743b531"
      }
     },
     "441997c313d04163b508c35175125cc6": {
      "model_module": "jupyter-cytoscape",
      "model_module_version": "^1.3.2",
      "model_name": "NodeModel",
      "state": {
       "_model_module_version": "^1.3.2",
       "_view_module_version": "^1.3.2",
       "classes": "node",
       "data": {
        "id": "chip_device1"
       },
       "grabbable": true,
       "grabbed": false,
       "position": {
        "x": 466.7883886544955,
        "y": 402.60590696170925
       },
       "selectable": false
      }
     },
     "464d1095235c446caace87fb9386c4d6": {
      "model_module": "@jupyter-widgets/base",
      "model_module_version": "1.2.0",
      "model_name": "LayoutModel",
      "state": {}
     },
     "47072c18c65344bda78d070c47807f5c": {
      "model_module": "jupyter-cytoscape",
      "model_module_version": "^1.3.2",
      "model_name": "NodeModel",
      "state": {
       "_model_module_version": "^1.3.2",
       "_view_module_version": "^1.3.2",
       "classes": "node",
       "data": {
        "id": "instr2_ChanC",
        "parent": "instr2"
       },
       "grabbable": true,
       "grabbed": false,
       "position": {
        "x": 507.38908502426,
        "y": 252.62063142495657
       },
       "selectable": false
      }
     },
     "495f1bcc95254a06b80b90d2e7a1f18d": {
      "model_module": "jupyter-cytoscape",
      "model_module_version": "^1.3.2",
      "model_name": "GraphModel",
      "state": {
       "_adj": {},
       "_model_module_version": "^1.3.2",
       "_view_module": "jupyter-cytoscape",
       "_view_module_version": "^1.3.2"
      }
     },
     "4c22e94ba38242a2b9250b6103a4c90e": {
      "model_module": "jupyter-cytoscape",
      "model_module_version": "^1.3.2",
      "model_name": "NodeModel",
      "state": {
       "_model_module_version": "^1.3.2",
       "_view_module_version": "^1.3.2",
       "classes": "node",
       "data": {
        "id": "conn2[b]"
       },
       "grabbable": true,
       "grabbed": false,
       "position": {
        "x": 743.6970309969593,
        "y": 31.31497141657836
       },
       "selectable": false
      }
     },
     "4d46839b336d457ab17c38484cb0c062": {
      "model_module": "jupyter-cytoscape",
      "model_module_version": "^1.3.2",
      "model_name": "NodeModel",
      "state": {
       "_model_module_version": "^1.3.2",
       "_view_module_version": "^1.3.2",
       "classes": "node",
       "data": {
        "id": "instr_ChanB",
        "parent": "instr"
       },
       "grabbable": true,
       "grabbed": false,
       "position": {
        "x": 549.4182923780787,
        "y": 62.42205248150021
       },
       "selectable": false
      }
     },
     "4f7083f7a4644902bd5c256b331b1ca6": {
      "model_module": "@jupyter-widgets/controls",
      "model_module_version": "1.5.0",
      "model_name": "HBoxModel",
      "state": {
       "children": [
        "IPY_MODEL_3c4744f982e2465d840e28ff54ce0149"
       ],
       "layout": "IPY_MODEL_00f3804d7c9342b88e36d119432a182e"
      }
     },
     "5157e3c9cf0546bda7e03fde5c0d3b08": {
      "model_module": "jupyter-cytoscape",
      "model_module_version": "^1.3.2",
      "model_name": "EdgeModel",
      "state": {
       "_model_module_version": "^1.3.2",
       "_view_module_version": "^1.3.2",
       "classes": "EdgeStatus_INACTIVE directed ",
       "data": {
        "id": "e60db8ca-1d77-4344-911e-e827b6b6a32e",
        "source": "chip_device1",
        "target": "conn[a]"
       },
       "selectable": false
      }
     },
     "5301890e3e53428fb25b61fcfcf8265b": {
      "model_module": "jupyter-cytoscape",
      "model_module_version": "^1.3.2",
      "model_name": "NodeModel",
      "state": {
       "_model_module_version": "^1.3.2",
       "_view_module_version": "^1.3.2",
       "classes": "node",
       "data": {
        "id": "instr2_ChanC"
       },
       "grabbable": true,
       "grabbed": false,
       "position": {
        "x": 513.1827188896814,
        "y": 143.1598485709382
       },
       "selectable": false
      }
     },
     "5484070eebbb441fabfd1c1d02fe7871": {
      "model_module": "jupyter-cytoscape",
      "model_module_version": "^1.3.2",
      "model_name": "NodeModel",
      "state": {
       "_model_module_version": "^1.3.2",
       "_view_module_version": "^1.3.2",
       "classes": "node",
       "data": {
        "id": "instr2_ChanF",
        "parent": "instr2"
       },
       "grabbable": true,
       "grabbed": false,
       "position": {
        "x": 706.5554611065295,
        "y": 252.42205748150016
       },
       "selectable": false
      }
     },
     "5781ffb55c984693a62ce4a896ea13bf": {
      "model_module": "jupyter-cytoscape",
      "model_module_version": "^1.3.2",
      "model_name": "EdgeModel",
      "state": {
       "_model_module_version": "^1.3.2",
       "_view_module_version": "^1.3.2",
       "classes": "EdgeStatus_INACTIVE directed ",
       "data": {
        "id": "7fb96429-0834-4f14-a3c4-549bcf49bf2a",
        "source": "conn2[b]",
        "target": "instr_ChanD"
       },
       "selectable": false
      }
     },
     "5b7fde39670b46a89359bd6e10e07ea0": {
      "model_module": "jupyter-cytoscape",
      "model_module_version": "^1.3.2",
      "model_name": "NodeModel",
      "state": {
       "_model_module_version": "^1.3.2",
       "_view_module_version": "^1.3.2",
       "classes": "node",
       "data": {
        "id": "instr_ChanC",
        "parent": "instr"
       },
       "grabbable": true,
       "grabbed": false,
       "position": {
        "x": 599.4182933780788,
        "y": 62.42205248150021
       },
       "selectable": false
      }
     },
     "5d1d113f22b7486ca9d1fe8a96a591e5": {
      "model_module": "@jupyter-widgets/base",
      "model_module_version": "1.2.0",
      "model_name": "LayoutModel",
      "state": {}
     },
     "631d0ea486d04766901941c435bdce1e": {
      "model_module": "jupyter-cytoscape",
      "model_module_version": "^1.3.2",
      "model_name": "EdgeModel",
      "state": {
       "_model_module_version": "^1.3.2",
       "_view_module_version": "^1.3.2",
       "classes": "EdgeStatus_INACTIVE directed ",
       "data": {
        "id": "e8f329d9-1256-416e-9496-890074013b20",
        "source": "chip_device1",
        "target": "conn[a]"
       },
       "selectable": false
      }
     },
     "64fb26121a4347e89a0e420da0584dce": {
      "model_module": "jupyter-cytoscape",
      "model_module_version": "^1.3.2",
      "model_name": "GraphModel",
      "state": {
       "_adj": {},
       "_model_module_version": "^1.3.2",
       "_view_module": "jupyter-cytoscape",
       "_view_module_version": "^1.3.2"
      }
     },
     "68a961f0a34247f582f534e8d985ca42": {
      "model_module": "jupyter-cytoscape",
      "model_module_version": "^1.3.2",
      "model_name": "EdgeModel",
      "state": {
       "_model_module_version": "^1.3.2",
       "_view_module_version": "^1.3.2",
       "classes": "EdgeStatus_INACTIVE directed ",
       "data": {
        "id": "8fdf22ed-8bb2-4102-8846-9a9c056ed95a",
        "source": "instr2_ChanC",
        "target": "conn[a]"
       },
       "selectable": false
      }
     },
     "6cd8035ad1f44a3c9e3d8a24ae455e9e": {
      "model_module": "@jupyter-widgets/base",
      "model_module_version": "1.2.0",
      "model_name": "LayoutModel",
      "state": {}
     },
     "6f092065df6943e39e919bddce8794be": {
      "model_module": "jupyter-cytoscape",
      "model_module_version": "^1.3.2",
      "model_name": "NodeModel",
      "state": {
       "_model_module_version": "^1.3.2",
       "_view_module_version": "^1.3.2",
       "classes": "node",
       "data": {
        "id": "chip"
       },
       "grabbable": true,
       "grabbed": false,
       "position": {
        "x": 529.5,
        "y": 376.8792908871994
       },
       "selectable": false
      }
     },
     "713820a0e3cb460983fe34fc1c5809cc": {
      "model_module": "jupyter-cytoscape",
      "model_module_version": "^1.3.2",
      "model_name": "NodeModel",
      "state": {
       "_model_module_version": "^1.3.2",
       "_view_module_version": "^1.3.2",
       "classes": "node",
       "data": {
        "id": "chip_device2"
       },
       "grabbable": true,
       "grabbed": false,
       "position": {
        "x": 843.9738758206176,
        "y": 26.884724222978917
       },
       "selectable": false
      }
     },
     "73ca35ee289c44e4971ce5bbe48163f7": {
      "model_module": "jupyter-cytoscape",
      "model_module_version": "^1.3.2",
      "model_name": "NodeModel",
      "state": {
       "_model_module_version": "^1.3.2",
       "_view_module_version": "^1.3.2",
       "classes": "node",
       "data": {
        "id": "instr_ChanF",
        "parent": "instr"
       },
       "grabbable": true,
       "grabbed": false,
       "position": {
        "x": 642.4416964345445,
        "y": 249.33557204642867
       },
       "selectable": false
      }
     },
     "748a854eee9a43a6bf6033f05e80c8a2": {
      "model_module": "jupyter-cytoscape",
      "model_module_version": "^1.3.2",
      "model_name": "EdgeModel",
      "state": {
       "_model_module_version": "^1.3.2",
       "_view_module_version": "^1.3.2",
       "classes": "EdgeStatus_INACTIVE directed ",
       "data": {
        "id": "d12c56f9-103b-4cc6-b17a-505ac9e5f74c",
        "source": "conn[a]",
        "target": "instr2_ChanC"
       },
       "selectable": false
      }
     },
     "74c3dc1740ad401bbad39a0f5cc4cf2a": {
      "model_module": "jupyter-cytoscape",
      "model_module_version": "^1.3.2",
      "model_name": "NodeModel",
      "state": {
       "_model_module_version": "^1.3.2",
       "_view_module_version": "^1.3.2",
       "classes": "node",
       "data": {
        "id": "instr2_ChanC",
        "parent": "instr2"
       },
       "grabbable": true,
       "grabbed": false,
       "position": {
        "x": 556.5554581065296,
        "y": 226.2386751369095
       },
       "selectable": false
      }
     },
     "752a81681a744b1dac4ac773a65d442f": {
      "model_module": "jupyter-cytoscape",
      "model_module_version": "^1.3.2",
      "model_name": "EdgeModel",
      "state": {
       "_model_module_version": "^1.3.2",
       "_view_module_version": "^1.3.2",
       "classes": "EdgeStatus_INACTIVE directed ",
       "data": {
        "id": "92775f3e-08b9-45ea-9d87-b01a5bbf207e",
        "source": "conn[a]",
        "target": "instr2_ChanC"
       },
       "selectable": false
      }
     },
     "80ee75e1ee914c0ca6257084ed5f1240": {
      "model_module": "jupyter-cytoscape",
      "model_module_version": "^1.3.2",
      "model_name": "NodeModel",
      "state": {
       "_model_module_version": "^1.3.2",
       "_view_module_version": "^1.3.2",
       "classes": "node",
       "data": {
        "id": "conn[a]"
       },
       "grabbable": true,
       "grabbed": false,
       "position": {
        "x": 527.3127722718742,
        "y": 322.4220594815002
       },
       "selectable": false
      }
     },
     "81914ac85f9f4208abbf834efd6259bf": {
      "model_module": "jupyter-cytoscape",
      "model_module_version": "^1.3.2",
      "model_name": "EdgeModel",
      "state": {
       "_model_module_version": "^1.3.2",
       "_view_module_version": "^1.3.2",
       "classes": "EdgeStatus_INACTIVE directed ",
       "data": {
        "id": "305022fb-afa2-410d-a130-e763f74f96e9",
        "source": "conn[a]",
        "target": "chip_device1"
       },
       "selectable": false
      }
     },
     "848a5066dfbf42d4b98e833db1e86556": {
      "model_module": "jupyter-cytoscape",
      "model_module_version": "^1.3.2",
      "model_name": "NodeModel",
      "state": {
       "_model_module_version": "^1.3.2",
       "_view_module_version": "^1.3.2",
       "classes": "node",
       "data": {
        "id": "instr_ChanD",
        "parent": "instr"
       },
       "grabbable": true,
       "grabbed": false,
       "position": {
        "x": 642.4416964345446,
        "y": 199.33557104642864
       },
       "selectable": false
      }
     },
     "893a480e441e48008b7d6220f733322c": {
      "model_module": "jupyter-cytoscape",
      "model_module_version": "^1.3.2",
      "model_name": "GraphModel",
      "state": {
       "_adj": {},
       "_model_module_version": "^1.3.2",
       "_view_module": "jupyter-cytoscape",
       "_view_module_version": "^1.3.2"
      }
     },
     "90cd4f81398b4d4ea3c3e5fc7a5c1231": {
      "model_module": "jupyter-cytoscape",
      "model_module_version": "^1.3.2",
      "model_name": "NodeModel",
      "state": {
       "_model_module_version": "^1.3.2",
       "_view_module_version": "^1.3.2",
       "classes": "node",
       "data": {
        "id": "chip"
       },
       "grabbable": true,
       "grabbed": false,
       "position": {
        "x": 529.5,
        "y": 376.8792908871994
       },
       "selectable": false
      }
     },
     "91c8a324b2f7438892f3be2042bfdeaf": {
      "model_module": "jupyter-cytoscape",
      "model_module_version": "^1.3.2",
      "model_name": "NodeModel",
      "state": {
       "_model_module_version": "^1.3.2",
       "_view_module_version": "^1.3.2",
       "classes": "node",
       "data": {
        "id": "instr_ChanA",
        "parent": "instr"
       },
       "grabbable": true,
       "grabbed": false,
       "position": {
        "x": 499.4182913780788,
        "y": 62.42205248150021
       },
       "selectable": false
      }
     },
     "920ae4feb05a4c28970f15986f6f93d6": {
      "model_module": "jupyter-cytoscape",
      "model_module_version": "^1.3.2",
      "model_name": "EdgeModel",
      "state": {
       "_model_module_version": "^1.3.2",
       "_view_module_version": "^1.3.2",
       "classes": "EdgeStatus_INACTIVE directed ",
       "data": {
        "id": "f351df47-7795-4848-af8d-2ff075efd50b",
        "source": "conn[a]",
        "target": "instr2_ChanC"
       },
       "selectable": false
      }
     },
     "9239291e0e034f2eb2662f122f8f756b": {
      "model_module": "jupyter-cytoscape",
      "model_module_version": "^1.3.2",
      "model_name": "NodeModel",
      "state": {
       "_model_module_version": "^1.3.2",
       "_view_module_version": "^1.3.2",
       "classes": "node",
       "data": {
        "id": "chip"
       },
       "grabbable": true,
       "grabbed": false,
       "position": {
        "x": 613.3658462999747,
        "y": 198.01987014826537
       },
       "selectable": false
      }
     },
     "956b9505377a48f5bd2591c2c26ae276": {
      "model_module": "jupyter-cytoscape",
      "model_module_version": "^1.3.2",
      "model_name": "CytoscapeModel",
      "state": {
       "_interaction_handlers": {},
       "_model_module_version": "^1.3.2",
       "_view_module_version": "^1.3.2",
       "auto_ungrabify": false,
       "autolock": false,
       "cytoscape_layout": {
        "avoidOverlap": true,
        "maxSimulationTime": 4000,
        "name": "cola"
       },
       "cytoscape_style": [
        {
         "css": {
          "background-color": "#11479e",
          "color": "white",
          "content": "data(id)",
          "text-outline-color": "#11479e",
          "text-outline-width": 2,
          "text-valign": "center"
         },
         "selector": "node"
        },
        {
         "css": {
          "background-opacity": 0.333
         },
         "selector": "node:parent"
        },
        {
         "css": {
          "background-color": "black",
          "line-color": "black",
          "source-arrow-color": "black",
          "target-arrow-color": "black",
          "text-outline-color": "black"
         },
         "selector": ":selected"
        },
        {
         "selector": "edge",
         "style": {
          "line-color": "#9dbaea",
          "width": 4
         }
        },
        {
         "selector": "edge.directed.EdgeStatus_ACTIVE",
         "style": {
          "curve-style": "bezier",
          "target-arrow-color": "#9dbaea",
          "target-arrow-shape": "triangle"
         }
        },
        {
         "selector": "edge.directed.EdgeStatus_INACTIVE",
         "style": {
          "curve-style": "bezier",
          "line-color": "red",
          "target-arrow-color": "red",
          "target-arrow-shape": "triangle"
         }
        },
        {
         "selector": "edge.directed.EdgeStatus_NOT_ACTIVATABLE",
         "style": {
          "curve-style": "bezier",
          "line-color": "green",
          "target-arrow-color": "green",
          "target-arrow-shape": "triangle"
         }
        },
        {
         "selector": "edge.multiple_edges",
         "style": {
          "curve-style": "bezier"
         }
        }
       ],
       "desktop_tap_threshold": 4,
       "graph": "IPY_MODEL_9d79e12bd9674c5d8b85c66783518437",
       "headless": false,
       "hide_edges_on_viewport": false,
       "layout": "IPY_MODEL_18c974acd93d43ca95fa374fe4cc394e",
       "max_zoom": 5,
       "min_zoom": 0.2,
       "motion_blur": false,
       "motion_blur_opacity": 0.2,
       "panning_enabled": true,
       "pixel_ratio": "auto",
       "rendered_position": {
        "renderedPosition": {
         "x": 100,
         "y": 100
        }
       },
       "selection_type": "single",
       "style_enabled": true,
       "texture_on_viewport": false,
       "tooltip_source": "tooltip",
       "touch_tap_threshold": 8,
       "user_panning_enabled": true,
       "user_zooming_enabled": true,
       "wheel_sensitivity": 0.1,
       "zoom": 2,
       "zooming_enabled": true
      }
     },
     "95b4badc4832490083c34e9079033cbb": {
      "model_module": "@jupyter-widgets/base",
      "model_module_version": "1.2.0",
      "model_name": "LayoutModel",
      "state": {}
     },
     "9671159517e341bea1de3112f299e3f9": {
      "model_module": "jupyter-cytoscape",
      "model_module_version": "^1.3.2",
      "model_name": "NodeModel",
      "state": {
       "_model_module_version": "^1.3.2",
       "_view_module_version": "^1.3.2",
       "classes": "node",
       "data": {
        "id": "instr2"
       },
       "grabbable": true,
       "grabbed": false,
       "position": {
        "x": 631.3054596065296,
        "y": 227.42205698150013
       },
       "selectable": false
      }
     },
     "96e58c4bb4934fafaaa47b28a422ea15": {
      "model_module": "jupyter-cytoscape",
      "model_module_version": "^1.3.2",
      "model_name": "EdgeModel",
      "state": {
       "_model_module_version": "^1.3.2",
       "_view_module_version": "^1.3.2",
       "classes": "EdgeStatus_INACTIVE directed ",
       "data": {
        "id": "e298c7f6-5cda-48cb-a1ea-a292abdb08dd",
        "source": "chip_device1",
        "target": "conn[a]"
       },
       "selectable": false
      }
     },
     "9775c9d8f2074bbfa8f0c0717c3ffd0e": {
      "model_module": "jupyter-cytoscape",
      "model_module_version": "^1.3.2",
      "model_name": "EdgeModel",
      "state": {
       "_model_module_version": "^1.3.2",
       "_view_module_version": "^1.3.2",
       "classes": "EdgeStatus_INACTIVE directed ",
       "data": {
        "id": "e5541849-8a6e-41a8-b1f9-b2a4a37ed850",
        "source": "instr2_ChanC",
        "target": "conn[a]"
       },
       "selectable": false
      }
     },
     "9bde116995b24265b58cc926d5d576ef": {
      "model_module": "jupyter-cytoscape",
      "model_module_version": "^1.3.2",
      "model_name": "NodeModel",
      "state": {
       "_model_module_version": "^1.3.2",
       "_view_module_version": "^1.3.2",
       "classes": "node",
       "data": {
        "id": "conn2[b]"
       },
       "grabbable": true,
       "grabbed": false,
       "position": {
        "x": 743.6970309969593,
        "y": 31.31497141657836
       },
       "selectable": false
      }
     },
     "9c5dc12df6284daba10cfac0bbda9218": {
      "model_module": "jupyter-cytoscape",
      "model_module_version": "^1.3.2",
      "model_name": "EdgeModel",
      "state": {
       "_model_module_version": "^1.3.2",
       "_view_module_version": "^1.3.2",
       "classes": "EdgeStatus_INACTIVE directed ",
       "data": {
        "id": "18548503-e843-431c-af12-8e21380d71b5",
        "source": "conn2[b]",
        "target": "chip_device2"
       },
       "selectable": false
      }
     },
     "9d79e12bd9674c5d8b85c66783518437": {
      "model_module": "jupyter-cytoscape",
      "model_module_version": "^1.3.2",
      "model_name": "GraphModel",
      "state": {
       "_adj": {
        "chip": {},
        "chip_device1": {},
        "chip_device2": {}
       },
       "_model_module_version": "^1.3.2",
       "_view_module": "jupyter-cytoscape",
       "_view_module_version": "^1.3.2",
       "nodes": [
        "IPY_MODEL_9239291e0e034f2eb2662f122f8f756b",
        "IPY_MODEL_bc6faba7c41f4ef6a9b568bb038c5203",
        "IPY_MODEL_d1fef48dec034e2eba2d31158ff4caca"
       ]
      }
     },
     "a07b722c67d648ba8a4226ba697266df": {
      "model_module": "jupyter-cytoscape",
      "model_module_version": "^1.3.2",
      "model_name": "NodeModel",
      "state": {
       "_model_module_version": "^1.3.2",
       "_view_module_version": "^1.3.2",
       "classes": "node",
       "data": {
        "id": "instr2_ChanD",
        "parent": "instr2"
       },
       "grabbable": true,
       "grabbed": false,
       "position": {
        "x": 606.5554591065296,
        "y": 230
       },
       "selectable": false
      }
     },
     "a171592312064215aa1d1a0af11dcb2a": {
      "model_module": "jupyter-cytoscape",
      "model_module_version": "^1.3.2",
      "model_name": "NodeModel",
      "state": {
       "_model_module_version": "^1.3.2",
       "_view_module_version": "^1.3.2",
       "classes": "node",
       "data": {
        "id": "chip_device1"
       },
       "grabbable": true,
       "grabbed": false,
       "position": {
        "x": 603.0874347661394,
        "y": 319.43531629971756
       },
       "selectable": false
      }
     },
     "a26560a7d5a5404787723a6be0b1c8c6": {
      "model_module": "jupyter-cytoscape",
      "model_module_version": "^1.3.2",
      "model_name": "NodeModel",
      "state": {
       "_model_module_version": "^1.3.2",
       "_view_module_version": "^1.3.2",
       "classes": "node",
       "data": {
        "id": "instr2_ChanF",
        "parent": "instr2"
       },
       "grabbable": true,
       "grabbed": false,
       "position": {
        "x": 706.5554611065295,
        "y": 252.42205748150016
       },
       "selectable": false
      }
     },
     "a4aa1e773a644d9c9b23adf181050c2c": {
      "model_module": "jupyter-cytoscape",
      "model_module_version": "^1.3.2",
      "model_name": "NodeModel",
      "state": {
       "_model_module_version": "^1.3.2",
       "_view_module_version": "^1.3.2",
       "classes": "node",
       "data": {
        "id": "instr"
       },
       "grabbable": true,
       "grabbed": false,
       "position": {
        "x": 574.6682928780788,
        "y": 87.4220529815002
       },
       "selectable": false
      }
     },
     "a61f65565d3b4ec19d4de23f5eb4fcf0": {
      "model_module": "jupyter-cytoscape",
      "model_module_version": "^1.3.2",
      "model_name": "EdgeModel",
      "state": {
       "_model_module_version": "^1.3.2",
       "_view_module_version": "^1.3.2",
       "classes": "EdgeStatus_INACTIVE directed ",
       "data": {
        "id": "66261257-ae47-45dd-9d31-6ee3c52663a8",
        "source": "conn[a]",
        "target": "chip_device1"
       },
       "selectable": false
      }
     },
     "ab6d8a96d25e48ed97937c9f4c2962fa": {
      "model_module": "jupyter-cytoscape",
      "model_module_version": "^1.3.2",
      "model_name": "NodeModel",
      "state": {
       "_model_module_version": "^1.3.2",
       "_view_module_version": "^1.3.2",
       "classes": "node",
       "data": {
        "id": "conn[a]"
       },
       "grabbable": true,
       "grabbed": false,
       "position": {
        "x": 527.3127722718742,
        "y": 322.4220594815002
       },
       "selectable": false
      }
     },
     "ab8ae034267047eba56d1af952a342e8": {
      "model_module": "jupyter-cytoscape",
      "model_module_version": "^1.3.2",
      "model_name": "CytoscapeModel",
      "state": {
       "_interaction_handlers": {},
       "_model_module_version": "^1.3.2",
       "_view_module_version": "^1.3.2",
       "auto_ungrabify": false,
       "autolock": false,
       "cytoscape_layout": {
        "avoidOverlap": true,
        "maxSimulationTime": 4000,
        "name": "cola"
       },
       "cytoscape_style": [
        {
         "css": {
          "background-color": "#11479e",
          "color": "white",
          "content": "data(id)",
          "text-outline-color": "#11479e",
          "text-outline-width": 2,
          "text-valign": "center"
         },
         "selector": "node"
        },
        {
         "css": {
          "background-opacity": 0.333
         },
         "selector": "node:parent"
        },
        {
         "css": {
          "background-color": "black",
          "line-color": "black",
          "source-arrow-color": "black",
          "target-arrow-color": "black",
          "text-outline-color": "black"
         },
         "selector": ":selected"
        },
        {
         "selector": "edge",
         "style": {
          "line-color": "#9dbaea",
          "width": 4
         }
        },
        {
         "selector": "edge.directed.EdgeStatus_ACTIVE",
         "style": {
          "curve-style": "bezier",
          "target-arrow-color": "#9dbaea",
          "target-arrow-shape": "triangle"
         }
        },
        {
         "selector": "edge.directed.EdgeStatus_INACTIVE",
         "style": {
          "curve-style": "bezier",
          "line-color": "red",
          "target-arrow-color": "red",
          "target-arrow-shape": "triangle"
         }
        },
        {
         "selector": "edge.directed.EdgeStatus_NOT_ACTIVATABLE",
         "style": {
          "curve-style": "bezier",
          "line-color": "green",
          "target-arrow-color": "green",
          "target-arrow-shape": "triangle"
         }
        },
        {
         "selector": "edge.multiple_edges",
         "style": {
          "curve-style": "bezier"
         }
        }
       ],
       "desktop_tap_threshold": 4,
       "graph": "IPY_MODEL_b0bf870e6669473baf4d5933af57947d",
       "headless": false,
       "hide_edges_on_viewport": false,
       "layout": "IPY_MODEL_414681a1f6824bbfa03f5c23c69f58d7",
       "max_zoom": 5,
       "min_zoom": 0.2,
       "motion_blur": false,
       "motion_blur_opacity": 0.2,
       "panning_enabled": true,
       "pixel_ratio": "auto",
       "rendered_position": {
        "renderedPosition": {
         "x": 100,
         "y": 100
        }
       },
       "selection_type": "single",
       "style_enabled": true,
       "texture_on_viewport": false,
       "tooltip_source": "tooltip",
       "touch_tap_threshold": 8,
       "user_panning_enabled": true,
       "user_zooming_enabled": true,
       "wheel_sensitivity": 0.1,
       "zoom": 2,
       "zooming_enabled": true
      }
     },
     "ae22706c9aa047c7ad672ddaea1c2568": {
      "model_module": "jupyter-cytoscape",
      "model_module_version": "^1.3.2",
      "model_name": "EdgeModel",
      "state": {
       "_model_module_version": "^1.3.2",
       "_view_module_version": "^1.3.2",
       "classes": "EdgeStatus_INACTIVE directed ",
       "data": {
        "id": "c71cd40c-7f6c-4fc1-8274-45c534ff16ef",
        "source": "chip_device2",
        "target": "conn2[b]"
       },
       "selectable": false
      }
     },
     "ae63b466635a4f44ae0e10617f699105": {
      "model_module": "jupyter-cytoscape",
      "model_module_version": "^1.3.2",
      "model_name": "EdgeModel",
      "state": {
       "_model_module_version": "^1.3.2",
       "_view_module_version": "^1.3.2",
       "classes": "EdgeStatus_INACTIVE directed ",
       "data": {
        "id": "ac5e0bd7-dd2a-48f6-8ac0-71c3e19b31fb",
        "source": "conn[a]",
        "target": "chip_device1"
       },
       "selectable": false
      }
     },
     "b0bf870e6669473baf4d5933af57947d": {
      "model_module": "jupyter-cytoscape",
      "model_module_version": "^1.3.2",
      "model_name": "GraphModel",
      "state": {
       "_adj": {
        "instr": {},
        "instr_ChanA": {},
        "instr_ChanB": {},
        "instr_ChanC": {},
        "instr_ChanD": {},
        "instr_ChanE": {},
        "instr_ChanF": {}
       },
       "_model_module_version": "^1.3.2",
       "_view_module": "jupyter-cytoscape",
       "_view_module_version": "^1.3.2",
       "nodes": [
        "IPY_MODEL_b6eb2d400d7f407ea454866c34cf52be",
        "IPY_MODEL_ee2189f1abe34a7c80a7675fab39a19c",
        "IPY_MODEL_e14e0d5a1d8e49e59b408ffc8e647609",
        "IPY_MODEL_d604b355929441f399c79c6086b7e590",
        "IPY_MODEL_848a5066dfbf42d4b98e833db1e86556",
        "IPY_MODEL_fce1f4bdbf6145dbb2039198f7e6a426",
        "IPY_MODEL_73ca35ee289c44e4971ce5bbe48163f7"
       ]
      }
     },
     "b5bb8e0304ee46948292a3751cd9d72f": {
      "model_module": "jupyter-cytoscape",
      "model_module_version": "^1.3.2",
      "model_name": "NodeModel",
      "state": {
       "_model_module_version": "^1.3.2",
       "_view_module_version": "^1.3.2",
       "classes": "node",
       "data": {
        "id": "instr2_ChanA",
        "parent": "instr2"
       },
       "grabbable": true,
       "grabbed": false,
       "position": {
        "x": 656.5554601065296,
        "y": 202.42205648150016
       },
       "selectable": false
      }
     },
     "b6eb2d400d7f407ea454866c34cf52be": {
      "model_module": "jupyter-cytoscape",
      "model_module_version": "^1.3.2",
      "model_name": "NodeModel",
      "state": {
       "_model_module_version": "^1.3.2",
       "_view_module_version": "^1.3.2",
       "classes": "node",
       "data": {
        "id": "instr"
       },
       "grabbable": true,
       "grabbed": false,
       "position": {
        "x": 617.4416959345447,
        "y": 199.33557104642864
       },
       "selectable": false
      }
     },
     "b889b2995f144b64b9c97ed5d734a3ca": {
      "model_module": "jupyter-cytoscape",
      "model_module_version": "^1.3.2",
      "model_name": "EdgeModel",
      "state": {
       "_model_module_version": "^1.3.2",
       "_view_module_version": "^1.3.2",
       "classes": "EdgeStatus_INACTIVE directed ",
       "data": {
        "id": "6ae3d10d-ec3a-4c80-9d7c-625d2103e89a",
        "source": "chip_device1",
        "target": "conn[a]"
       },
       "selectable": false
      }
     },
     "b91767488f104e548b9f9830a1372bb7": {
      "model_module": "jupyter-cytoscape",
      "model_module_version": "^1.3.2",
      "model_name": "EdgeModel",
      "state": {
       "_model_module_version": "^1.3.2",
       "_view_module_version": "^1.3.2",
       "classes": "EdgeStatus_INACTIVE directed ",
       "data": {
        "id": "8966cc09-09fa-4103-823d-b296ad80085b",
        "source": "instr_ChanD",
        "target": "conn2[b]"
       },
       "selectable": false
      }
     },
     "bc6faba7c41f4ef6a9b568bb038c5203": {
      "model_module": "jupyter-cytoscape",
      "model_module_version": "^1.3.2",
      "model_name": "NodeModel",
      "state": {
       "_model_module_version": "^1.3.2",
       "_view_module_version": "^1.3.2",
       "classes": "node",
       "data": {
        "id": "chip_device1",
        "parent": "chip"
       },
       "grabbable": true,
       "grabbed": false,
       "position": {
        "x": 613.3658462999747,
        "y": 173.01986964826537
       },
       "selectable": false
      }
     },
     "bd8a9c4b9eb645b69df026c4800f44e0": {
      "model_module": "jupyter-cytoscape",
      "model_module_version": "^1.3.2",
      "model_name": "NodeModel",
      "state": {
       "_model_module_version": "^1.3.2",
       "_view_module_version": "^1.3.2",
       "classes": "node",
       "data": {
        "id": "instr2_ChanD",
        "parent": "instr2"
       },
       "grabbable": true,
       "grabbed": false,
       "position": {
        "x": 606.5554591065296,
        "y": 230
       },
       "selectable": false
      }
     },
     "c51b0845ad484c759a73dec7d30385e8": {
      "model_module": "jupyter-cytoscape",
      "model_module_version": "^1.3.2",
      "model_name": "EdgeModel",
      "state": {
       "_model_module_version": "^1.3.2",
       "_view_module_version": "^1.3.2",
       "classes": "EdgeStatus_INACTIVE directed ",
       "data": {
        "id": "0f9c6b3c-aa58-4961-997e-47f4fe567be9",
        "source": "instr_ChanD",
        "target": "conn2[b]"
       },
       "selectable": false
      }
     },
     "c6142d961d6846b2ab41d10314615f0b": {
      "model_module": "jupyter-cytoscape",
      "model_module_version": "^1.3.2",
      "model_name": "NodeModel",
      "state": {
       "_model_module_version": "^1.3.2",
       "_view_module_version": "^1.3.2",
       "classes": "node",
       "data": {
        "id": "chip_device2"
       },
       "grabbable": true,
       "grabbed": false,
       "position": {
        "x": 843.9738758206176,
        "y": 26.884724222978917
       },
       "selectable": false
      }
     },
     "cb6a0d87ff97499d9e8b7c57c3269a86": {
      "model_module": "jupyter-cytoscape",
      "model_module_version": "^1.3.2",
      "model_name": "EdgeModel",
      "state": {
       "_model_module_version": "^1.3.2",
       "_view_module_version": "^1.3.2",
       "classes": "EdgeStatus_INACTIVE directed ",
       "data": {
        "id": "0eac50b6-d509-45fc-bcd5-72537a413ccf",
        "source": "instr2_ChanC",
        "target": "conn[a]"
       },
       "selectable": false
      }
     },
     "cfd2e710dab947348ad255a3bd3dfc40": {
      "model_module": "jupyter-cytoscape",
      "model_module_version": "^1.3.2",
      "model_name": "NodeModel",
      "state": {
       "_model_module_version": "^1.3.2",
       "_view_module_version": "^1.3.2",
       "classes": "node",
       "data": {
        "id": "instr_ChanD",
        "parent": "instr"
       },
       "grabbable": true,
       "grabbed": false,
       "position": {
        "x": 649.4182943780788,
        "y": 65.72386041768323
       },
       "selectable": false
      }
     },
     "d1fef48dec034e2eba2d31158ff4caca": {
      "model_module": "jupyter-cytoscape",
      "model_module_version": "^1.3.2",
      "model_name": "NodeModel",
      "state": {
       "_model_module_version": "^1.3.2",
       "_view_module_version": "^1.3.2",
       "classes": "node",
       "data": {
        "id": "chip_device2",
        "parent": "chip"
       },
       "grabbable": true,
       "grabbed": false,
       "position": {
        "x": 613.3658462999746,
        "y": 223.01987064826537
       },
       "selectable": false
      }
     },
     "d256463a8c7e418db7b25200a0f99418": {
      "model_module": "jupyter-cytoscape",
      "model_module_version": "^1.3.2",
      "model_name": "GraphModel",
      "state": {
       "_adj": {},
       "_model_module_version": "^1.3.2",
       "_view_module": "jupyter-cytoscape",
       "_view_module_version": "^1.3.2"
      }
     },
     "d541dc727a1c4961bfb9faa310a7f14e": {
      "model_module": "jupyter-cytoscape",
      "model_module_version": "^1.3.2",
      "model_name": "NodeModel",
      "state": {
       "_model_module_version": "^1.3.2",
       "_view_module_version": "^1.3.2",
       "classes": "node",
       "data": {
        "id": "instr_ChanE",
        "parent": "instr"
       },
       "grabbable": true,
       "grabbed": false,
       "position": {
        "x": 529.5,
        "y": 112.42205348150021
       },
       "selectable": false
      }
     },
     "d604b355929441f399c79c6086b7e590": {
      "model_module": "jupyter-cytoscape",
      "model_module_version": "^1.3.2",
      "model_name": "NodeModel",
      "state": {
       "_model_module_version": "^1.3.2",
       "_view_module_version": "^1.3.2",
       "classes": "node",
       "data": {
        "id": "instr_ChanC",
        "parent": "instr"
       },
       "grabbable": true,
       "grabbed": false,
       "position": {
        "x": 592.4416954345447,
        "y": 199.33557104642867
       },
       "selectable": false
      }
     },
     "d7995e29520245ac9bcffc532544d535": {
      "model_module": "jupyter-cytoscape",
      "model_module_version": "^1.3.2",
      "model_name": "GraphModel",
      "state": {
       "_adj": {},
       "_model_module_version": "^1.3.2",
       "_view_module": "jupyter-cytoscape",
       "_view_module_version": "^1.3.2"
      }
     },
     "dee2725eab80484ab01d7226e04fdf0b": {
      "model_module": "jupyter-cytoscape",
      "model_module_version": "^1.3.2",
      "model_name": "EdgeModel",
      "state": {
       "_model_module_version": "^1.3.2",
       "_view_module_version": "^1.3.2",
       "classes": "EdgeStatus_INACTIVE directed ",
       "data": {
        "id": "e5f9c537-b639-4d71-9d57-3dfa2508b885",
        "source": "conn[a]",
        "target": "chip_device1"
       },
       "selectable": false
      }
     },
     "e14e0d5a1d8e49e59b408ffc8e647609": {
      "model_module": "jupyter-cytoscape",
      "model_module_version": "^1.3.2",
      "model_name": "NodeModel",
      "state": {
       "_model_module_version": "^1.3.2",
       "_view_module_version": "^1.3.2",
       "classes": "node",
       "data": {
        "id": "instr_ChanB",
        "parent": "instr"
       },
       "grabbable": true,
       "grabbed": false,
       "position": {
        "x": 642.4416964345447,
        "y": 149.33557004642864
       },
       "selectable": false
      }
     },
     "e36129969f2a4ae8b4e7ce2d13cb5d86": {
      "model_module": "@jupyter-widgets/controls",
      "model_module_version": "1.5.0",
      "model_name": "HBoxModel",
      "state": {
       "children": [
        "IPY_MODEL_956b9505377a48f5bd2591c2c26ae276"
       ],
       "layout": "IPY_MODEL_5d1d113f22b7486ca9d1fe8a96a591e5"
      }
     },
     "e5aa666107024a289a36073b4664d20b": {
      "model_module": "jupyter-cytoscape",
      "model_module_version": "^1.3.2",
      "model_name": "EdgeModel",
      "state": {
       "_model_module_version": "^1.3.2",
       "_view_module_version": "^1.3.2",
       "classes": "EdgeStatus_INACTIVE directed ",
       "data": {
        "id": "cef94083-d102-45c4-b431-c13ee8314f22",
        "source": "chip_device2",
        "target": "conn2[b]"
       },
       "selectable": false
      }
     },
     "e7b8940a2e1e407c82896131f4bcb222": {
      "model_module": "jupyter-cytoscape",
      "model_module_version": "^1.3.2",
      "model_name": "NodeModel",
      "state": {
       "_model_module_version": "^1.3.2",
       "_view_module_version": "^1.3.2",
       "classes": "node",
       "data": {
        "id": "conn[a]"
       },
       "grabbable": true,
       "grabbed": false,
       "position": {
        "x": 573.8807459021024,
        "y": 223.26691360409805
       },
       "selectable": false
      }
     },
     "e8ee8b90c9cd42909aa62770d8bc4b62": {
      "model_module": "jupyter-cytoscape",
      "model_module_version": "^1.3.2",
      "model_name": "GraphModel",
      "state": {
       "_adj": {},
       "_model_module_version": "^1.3.2",
       "_view_module": "jupyter-cytoscape",
       "_view_module_version": "^1.3.2"
      }
     },
     "eaf932f2932143e4a077df1675f397d1": {
      "model_module": "jupyter-cytoscape",
      "model_module_version": "^1.3.2",
      "model_name": "NodeModel",
      "state": {
       "_model_module_version": "^1.3.2",
       "_view_module_version": "^1.3.2",
       "classes": "node",
       "data": {
        "id": "instr_ChanB",
        "parent": "instr"
       },
       "grabbable": true,
       "grabbed": false,
       "position": {
        "x": 549.4182923780787,
        "y": 62.42205248150021
       },
       "selectable": false
      }
     },
     "ed5d39913552451da456a36c5b787fce": {
      "model_module": "jupyter-cytoscape",
      "model_module_version": "^1.3.2",
      "model_name": "NodeModel",
      "state": {
       "_model_module_version": "^1.3.2",
       "_view_module_version": "^1.3.2",
       "classes": "node",
       "data": {
        "id": "instr_ChanA",
        "parent": "instr"
       },
       "grabbable": true,
       "grabbed": false,
       "position": {
        "x": 499.4182913780788,
        "y": 62.42205248150021
       },
       "selectable": false
      }
     },
     "ee2189f1abe34a7c80a7675fab39a19c": {
      "model_module": "jupyter-cytoscape",
      "model_module_version": "^1.3.2",
      "model_name": "NodeModel",
      "state": {
       "_model_module_version": "^1.3.2",
       "_view_module_version": "^1.3.2",
       "classes": "node",
       "data": {
        "id": "instr_ChanA",
        "parent": "instr"
       },
       "grabbable": true,
       "grabbed": false,
       "position": {
        "x": 592.4416954345447,
        "y": 149.33557004642867
       },
       "selectable": false
      }
     },
     "efdfc48502cd477eac9073a99b6879a9": {
      "model_module": "jupyter-cytoscape",
      "model_module_version": "^1.3.2",
      "model_name": "NodeModel",
      "state": {
       "_model_module_version": "^1.3.2",
       "_view_module_version": "^1.3.2",
       "classes": "node",
       "data": {
        "id": "instr"
       },
       "grabbable": true,
       "grabbed": false,
       "position": {
        "x": 574.6682928780788,
        "y": 87.4220529815002
       },
       "selectable": false
      }
     },
     "f3d1ff97e4864c43975adf23acff0fb3": {
      "model_module": "jupyter-cytoscape",
      "model_module_version": "^1.3.2",
      "model_name": "GraphModel",
      "state": {
       "_adj": {
        "chip_device1": {},
        "conn[a]": {},
        "instr2_ChanC": {}
       },
       "_model_module_version": "^1.3.2",
       "_view_module": "jupyter-cytoscape",
       "_view_module_version": "^1.3.2",
       "edges": [
        "IPY_MODEL_4057a24472da40f7a167cd9bef574dfe",
        "IPY_MODEL_dee2725eab80484ab01d7226e04fdf0b",
        "IPY_MODEL_10f825f100084cb0b93ae27655797fdc",
        "IPY_MODEL_5157e3c9cf0546bda7e03fde5c0d3b08"
       ],
       "nodes": [
        "IPY_MODEL_e7b8940a2e1e407c82896131f4bcb222",
        "IPY_MODEL_5301890e3e53428fb25b61fcfcf8265b",
        "IPY_MODEL_fee79e2ae3a8415c9f21ccc8591c736d"
       ]
      }
     },
     "f4a80e592e044b8486bf1ad4478846dc": {
      "model_module": "jupyter-cytoscape",
      "model_module_version": "^1.3.2",
      "model_name": "NodeModel",
      "state": {
       "_model_module_version": "^1.3.2",
       "_view_module_version": "^1.3.2",
       "classes": "node",
       "data": {
        "id": "chip_device1"
       },
       "grabbable": true,
       "grabbed": false,
       "position": {
        "x": 466.7883886544955,
        "y": 402.60590696170925
       },
       "selectable": false
      }
     },
     "f5688f5a631843aba3635e58c743b531": {
      "model_module": "@jupyter-widgets/base",
      "model_module_version": "1.2.0",
      "model_name": "LayoutModel",
      "state": {}
     },
     "f65bdd59b786436e8fea29e9e129f5e9": {
      "model_module": "jupyter-cytoscape",
      "model_module_version": "^1.3.2",
      "model_name": "NodeModel",
      "state": {
       "_model_module_version": "^1.3.2",
       "_view_module_version": "^1.3.2",
       "classes": "node",
       "data": {
        "id": "instr2_ChanB",
        "parent": "instr2"
       },
       "grabbable": true,
       "grabbed": false,
       "position": {
        "x": 706.5554611065295,
        "y": 202.42205648150016
       },
       "selectable": false
      }
     },
     "f6d1e53906ab4e11ac4d5568765bd4cf": {
      "model_module": "jupyter-cytoscape",
      "model_module_version": "^1.3.2",
      "model_name": "EdgeModel",
      "state": {
       "_model_module_version": "^1.3.2",
       "_view_module_version": "^1.3.2",
       "classes": "EdgeStatus_INACTIVE directed ",
       "data": {
        "id": "9a25d26a-1438-4def-a77b-64826a1dcc4c",
        "source": "conn2[b]",
        "target": "instr_ChanD"
       },
       "selectable": false
      }
     },
     "f7f0a0e992af40bd997fcc424b75816d": {
      "model_module": "jupyter-cytoscape",
      "model_module_version": "^1.3.2",
      "model_name": "CytoscapeModel",
      "state": {
       "_interaction_handlers": {},
       "_model_module_version": "^1.3.2",
       "_view_module_version": "^1.3.2",
       "auto_ungrabify": false,
       "autolock": false,
       "cytoscape_layout": {
        "avoidOverlap": true,
        "maxSimulationTime": 4000,
        "name": "cola"
       },
       "cytoscape_style": [
        {
         "css": {
          "background-color": "#11479e",
          "color": "white",
          "content": "data(id)",
          "text-outline-color": "#11479e",
          "text-outline-width": 2,
          "text-valign": "center"
         },
         "selector": "node"
        },
        {
         "css": {
          "background-opacity": 0.333
         },
         "selector": "node:parent"
        },
        {
         "css": {
          "background-color": "black",
          "line-color": "black",
          "source-arrow-color": "black",
          "target-arrow-color": "black",
          "text-outline-color": "black"
         },
         "selector": ":selected"
        },
        {
         "selector": "edge",
         "style": {
          "line-color": "#9dbaea",
          "width": 4
         }
        },
        {
         "selector": "edge.directed.EdgeStatus_ACTIVE",
         "style": {
          "curve-style": "bezier",
          "target-arrow-color": "#9dbaea",
          "target-arrow-shape": "triangle"
         }
        },
        {
         "selector": "edge.directed.EdgeStatus_INACTIVE",
         "style": {
          "curve-style": "bezier",
          "line-color": "red",
          "target-arrow-color": "red",
          "target-arrow-shape": "triangle"
         }
        },
        {
         "selector": "edge.directed.EdgeStatus_NOT_ACTIVATABLE",
         "style": {
          "curve-style": "bezier",
          "line-color": "green",
          "target-arrow-color": "green",
          "target-arrow-shape": "triangle"
         }
        },
        {
         "selector": "edge.multiple_edges",
         "style": {
          "curve-style": "bezier"
         }
        }
       ],
       "desktop_tap_threshold": 4,
       "graph": "IPY_MODEL_1c386fffc2fe41ee98d1a917651858a0",
       "headless": false,
       "hide_edges_on_viewport": false,
       "layout": "IPY_MODEL_95b4badc4832490083c34e9079033cbb",
       "max_zoom": 5,
       "min_zoom": 0.2,
       "motion_blur": false,
       "motion_blur_opacity": 0.2,
       "panning_enabled": true,
       "pixel_ratio": "auto",
       "rendered_position": {
        "renderedPosition": {
         "x": 100,
         "y": 100
        }
       },
       "selection_type": "single",
       "style_enabled": true,
       "texture_on_viewport": false,
       "tooltip_source": "tooltip",
       "touch_tap_threshold": 8,
       "user_panning_enabled": true,
       "user_zooming_enabled": true,
       "wheel_sensitivity": 0.1,
       "zoom": 2,
       "zooming_enabled": true
      }
     },
     "f95965c2884f4dd9b43d715b17ff883a": {
      "model_module": "jupyter-cytoscape",
      "model_module_version": "^1.3.2",
      "model_name": "NodeModel",
      "state": {
       "_model_module_version": "^1.3.2",
       "_view_module_version": "^1.3.2",
       "classes": "node",
       "data": {
        "id": "instr_ChanF",
        "parent": "instr"
       },
       "grabbable": true,
       "grabbed": false,
       "position": {
        "x": 589.5,
        "y": 112.42205348150021
       },
       "selectable": false
      }
     },
     "fc14d89d475e4c55832ad1707c665448": {
      "model_module": "jupyter-cytoscape",
      "model_module_version": "^1.3.2",
      "model_name": "EdgeModel",
      "state": {
       "_model_module_version": "^1.3.2",
       "_view_module_version": "^1.3.2",
       "classes": "EdgeStatus_INACTIVE directed ",
       "data": {
        "id": "8585d557-a381-4e21-97b2-39bec916d31a",
        "source": "conn2[b]",
        "target": "chip_device2"
       },
       "selectable": false
      }
     },
     "fce1f4bdbf6145dbb2039198f7e6a426": {
      "model_module": "jupyter-cytoscape",
      "model_module_version": "^1.3.2",
      "model_name": "NodeModel",
      "state": {
       "_model_module_version": "^1.3.2",
       "_view_module_version": "^1.3.2",
       "classes": "node",
       "data": {
        "id": "instr_ChanE",
        "parent": "instr"
       },
       "grabbable": true,
       "grabbed": false,
       "position": {
        "x": 592.4416954345447,
        "y": 249.33557204642867
       },
       "selectable": false
      }
     },
     "fee79e2ae3a8415c9f21ccc8591c736d": {
      "model_module": "jupyter-cytoscape",
      "model_module_version": "^1.3.2",
      "model_name": "NodeModel",
      "state": {
       "_model_module_version": "^1.3.2",
       "_view_module_version": "^1.3.2",
       "classes": "node",
       "data": {
        "id": "chip_device1"
       },
       "grabbable": true,
       "grabbed": false,
       "position": {
        "x": 603.0874347661394,
        "y": 319.43531629971756
       },
       "selectable": false
      }
     }
    },
    "version_major": 2,
    "version_minor": 0
   }
  }
 },
 "nbformat": 4,
 "nbformat_minor": 5
}
