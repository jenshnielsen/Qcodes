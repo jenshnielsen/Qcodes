{
 "cells": [
  {
   "cell_type": "markdown",
   "id": "ee8d69f0-6127-4e87-8659-35b508d709ff",
   "metadata": {},
   "source": [
    "# Instrument Graph"
   ]
  },
  {
   "cell_type": "code",
   "execution_count": 1,
   "id": "6de37bdc-e561-4ef2-a933-7e0f3b4cda85",
   "metadata": {},
   "outputs": [],
   "source": [
    "from qcodes.tests.instrument_mocks import DummyChannelInstrument"
   ]
  },
  {
   "cell_type": "code",
   "execution_count": 2,
   "id": "23d52084-01bc-4b60-afac-5bbf8a623bdc",
   "metadata": {},
   "outputs": [],
   "source": [
    "instr = DummyChannelInstrument('instr')"
   ]
  },
  {
   "cell_type": "code",
   "execution_count": 3,
   "id": "be252edf-87e7-405c-a918-c4b4544a296f",
   "metadata": {},
   "outputs": [],
   "source": [
    "from qcodes.graph.visulization import draw"
   ]
  },
  {
   "cell_type": "code",
   "execution_count": 4,
   "id": "30273007-0acf-418c-8540-37993df6e4f7",
   "metadata": {},
   "outputs": [
    {
     "name": "stdout",
     "output_type": "stream",
     "text": [
      "adding node instr_ChanA\n",
      "adding node instr_ChanB\n",
      "adding node instr_ChanC\n",
      "adding node instr_ChanD\n",
      "adding node instr_ChanE\n",
      "adding node instr_ChanF\n",
      "adding node instr\n"
     ]
    },
    {
     "data": {
      "application/vnd.jupyter.widget-view+json": {
       "model_id": "8726f1496cf84f0280591737c91ee5a8",
       "version_major": 2,
       "version_minor": 0
      },
      "text/plain": [
       "HBox(children=(CytoscapeWidget(cytoscape_layout={'name': 'cola', 'avoidOverlap': True, 'maxSimulationTime': 40…"
      ]
     },
     "metadata": {},
     "output_type": "display_data"
    }
   ],
   "source": [
    "draw(instr.instrument_graph())"
   ]
  },
  {
   "cell_type": "code",
   "execution_count": 5,
   "id": "9c43a001-d806-44bc-9439-9a7eb91c1a3d",
   "metadata": {},
   "outputs": [],
   "source": [
    "from qcodes.instrument_drivers.connector import Connector"
   ]
  },
  {
   "cell_type": "code",
   "execution_count": 8,
   "id": "04f005e0-541b-4d65-870c-47154927abfc",
   "metadata": {},
   "outputs": [
    {
     "name": "stdout",
     "output_type": "stream",
     "text": [
      "adding node conn[a]\n"
     ]
    }
   ],
   "source": [
    "conn = Connector('conn', connections=({\"name\": \"a\", \"endpoints\": (\"instr_ChanC\", \"instr_ChanB\")},))"
   ]
  },
  {
   "cell_type": "code",
   "execution_count": 10,
   "id": "875887a1-4f9a-41ae-9632-0674a6053d37",
   "metadata": {},
   "outputs": [
    {
     "data": {
      "application/vnd.jupyter.widget-view+json": {
       "model_id": "b2027c57f96e4c5e8bb9b16e528388c9",
       "version_major": 2,
       "version_minor": 0
      },
      "text/plain": [
       "HBox(children=(CytoscapeWidget(cytoscape_layout={'name': 'cola', 'avoidOverlap': True, 'maxSimulationTime': 40…"
      ]
     },
     "metadata": {},
     "output_type": "display_data"
    }
   ],
   "source": [
    "draw(conn.graph)"
   ]
  },
  {
   "cell_type": "code",
   "execution_count": null,
   "id": "e5a1c53d-2e8a-44ad-a21e-e9f7146be865",
   "metadata": {},
   "outputs": [],
   "source": []
  }
 ],
 "metadata": {
  "kernelspec": {
   "display_name": "Python 3 (ipykernel)",
   "language": "python",
   "name": "python3"
  },
  "language_info": {
   "codemirror_mode": {
    "name": "ipython",
    "version": 3
   },
   "file_extension": ".py",
   "mimetype": "text/x-python",
   "name": "python",
   "nbconvert_exporter": "python",
   "pygments_lexer": "ipython3",
   "version": "3.10.0"
  },
  "widgets": {
   "application/vnd.jupyter.widget-state+json": {
    "state": {
     "046dd19c1f75437c9b76cb7d435ae9d3": {
      "model_module": "jupyter-cytoscape",
      "model_module_version": "^1.3.2",
      "model_name": "CytoscapeModel",
      "state": {
       "_interaction_handlers": {},
       "_model_module_version": "^1.3.2",
       "_view_module_version": "^1.3.2",
       "auto_ungrabify": false,
       "autolock": false,
       "cytoscape_layout": {
        "avoidOverlap": true,
        "maxSimulationTime": 4000,
        "name": "cola"
       },
       "cytoscape_style": [
        {
         "css": {
          "background-color": "#11479e",
          "color": "white",
          "content": "data(id)",
          "text-outline-color": "#11479e",
          "text-outline-width": 2,
          "text-valign": "center"
         },
         "selector": "node"
        },
        {
         "css": {
          "background-color": "black",
          "line-color": "black",
          "source-arrow-color": "black",
          "target-arrow-color": "black",
          "text-outline-color": "black"
         },
         "selector": ":selected"
        },
        {
         "selector": "edge",
         "style": {
          "line-color": "#9dbaea",
          "width": 4
         }
        },
        {
         "selector": "edge.directed.EdgeStatus_ACTIVE",
         "style": {
          "curve-style": "bezier",
          "target-arrow-color": "#9dbaea",
          "target-arrow-shape": "triangle"
         }
        },
        {
         "selector": "edge.directed.EdgeStatus_INACTIVE",
         "style": {
          "curve-style": "bezier",
          "line-color": "red",
          "target-arrow-color": "red",
          "target-arrow-shape": "triangle"
         }
        },
        {
         "selector": "edge.directed.EdgeStatus_NOT_ACTIVATABLE",
         "style": {
          "curve-style": "bezier",
          "line-color": "green",
          "target-arrow-color": "green",
          "target-arrow-shape": "triangle"
         }
        },
        {
         "selector": "edge.multiple_edges",
         "style": {
          "curve-style": "bezier"
         }
        }
       ],
       "desktop_tap_threshold": 4,
       "graph": "IPY_MODEL_9e4196ada23442abaca44f2dc94e3a7d",
       "headless": false,
       "hide_edges_on_viewport": false,
       "layout": "IPY_MODEL_cc253569216a4cee893775baabec4ca4",
       "max_zoom": 5,
       "min_zoom": 0.2,
       "motion_blur": false,
       "motion_blur_opacity": 0.2,
       "panning_enabled": true,
       "pixel_ratio": "auto",
       "rendered_position": {
        "renderedPosition": {
         "x": 100,
         "y": 100
        }
       },
       "selection_type": "single",
       "style_enabled": true,
       "texture_on_viewport": false,
       "tooltip_source": "tooltip",
       "touch_tap_threshold": 8,
       "user_panning_enabled": true,
       "user_zooming_enabled": true,
       "wheel_sensitivity": 0.1,
       "zoom": 2,
       "zooming_enabled": true
      }
     },
     "06257c8d136a40ddb8882fa8bd8a5644": {
      "model_module": "jupyter-cytoscape",
      "model_module_version": "^1.3.2",
      "model_name": "EdgeModel",
      "state": {
       "_model_module_version": "^1.3.2",
       "_view_module_version": "^1.3.2",
       "classes": "EdgeStatus_NOT_ACTIVATABLE directed ",
       "data": {
        "id": "dddf623e-7436-4481-8246-3c46008fb0e4",
        "source": "instr",
        "target": "instr_ChanC"
       },
       "selectable": false
      }
     },
     "09b3d1298c8e49759d1b71f4ec3beff4": {
      "model_module": "jupyter-cytoscape",
      "model_module_version": "^1.3.2",
      "model_name": "GraphModel",
      "state": {
       "_adj": {
        "conn[a]": {},
        "instr_ChanB": {},
        "instr_ChanC": {}
       },
       "_model_module_version": "^1.3.2",
       "_view_module": "jupyter-cytoscape",
       "_view_module_version": "^1.3.2",
       "edges": [
        "IPY_MODEL_9d3fbab7e04f48d884920a14707c0782",
        "IPY_MODEL_b7d6fc970b7f46378b2b25a0106027ac",
        "IPY_MODEL_c4da67306c544ade9cbaf0cb3da16b9d",
        "IPY_MODEL_f166eb0a3e7f4aa1a50d691b3e4f668f"
       ],
       "nodes": [
        "IPY_MODEL_6bbe037032e648b5a111f24492b67214",
        "IPY_MODEL_0a56cde2e0b149559e5be1bb77e24d1d",
        "IPY_MODEL_448adcbb6c194ad78ac2258414871d87"
       ]
      }
     },
     "0a56cde2e0b149559e5be1bb77e24d1d": {
      "model_module": "jupyter-cytoscape",
      "model_module_version": "^1.3.2",
      "model_name": "NodeModel",
      "state": {
       "_model_module_version": "^1.3.2",
       "_view_module_version": "^1.3.2",
       "classes": "node",
       "data": {
        "id": "instr_ChanC"
       },
       "grabbable": true,
       "grabbed": false,
       "position": {
        "x": 693.1827188896808,
        "y": 143.15984857093812
       },
       "selectable": false
      }
     },
     "3593fd9b5be14fd9afe467da7e8e2370": {
      "model_module": "jupyter-cytoscape",
      "model_module_version": "^1.3.2",
      "model_name": "EdgeModel",
      "state": {
       "_model_module_version": "^1.3.2",
       "_view_module_version": "^1.3.2",
       "classes": "EdgeStatus_NOT_ACTIVATABLE directed ",
       "data": {
        "id": "0d4a2261-243d-4dc0-b11a-38de1c03f362",
        "source": "instr",
        "target": "instr_ChanB"
       },
       "selectable": false
      }
     },
     "3d2d93b08be9482a82c1bfd31e8f002d": {
      "model_module": "jupyter-cytoscape",
      "model_module_version": "^1.3.2",
      "model_name": "NodeModel",
      "state": {
       "_model_module_version": "^1.3.2",
       "_view_module_version": "^1.3.2",
       "classes": "node",
       "data": {
        "id": "instr_ChanB"
       },
       "grabbable": true,
       "grabbed": false,
       "position": {
        "x": 680.1245659424825,
        "y": 187.31444787801738
       },
       "selectable": false
      }
     },
     "423b5bb69da64fafb153656a78428ba4": {
      "model_module": "jupyter-cytoscape",
      "model_module_version": "^1.3.2",
      "model_name": "GraphModel",
      "state": {
       "_adj": {},
       "_model_module_version": "^1.3.2",
       "_view_module": "jupyter-cytoscape",
       "_view_module_version": "^1.3.2"
      }
     },
     "448adcbb6c194ad78ac2258414871d87": {
      "model_module": "jupyter-cytoscape",
      "model_module_version": "^1.3.2",
      "model_name": "NodeModel",
      "state": {
       "_model_module_version": "^1.3.2",
       "_view_module_version": "^1.3.2",
       "classes": "node",
       "data": {
        "id": "instr_ChanB"
       },
       "grabbable": true,
       "grabbed": false,
       "position": {
        "x": 783.0874347661392,
        "y": 319.4353162997172
       },
       "selectable": false
      }
     },
     "4d4468bf314e43c3b2646df0b6a7c8af": {
      "model_module": "@jupyter-widgets/base",
      "model_module_version": "1.2.0",
      "model_name": "LayoutModel",
      "state": {}
     },
     "5ab8a84ce44f43f692285e98e8ead70f": {
      "model_module": "jupyter-cytoscape",
      "model_module_version": "^1.3.2",
      "model_name": "NodeModel",
      "state": {
       "_model_module_version": "^1.3.2",
       "_view_module_version": "^1.3.2",
       "classes": "node",
       "data": {
        "id": "instr_ChanC"
       },
       "grabbable": true,
       "grabbed": false,
       "position": {
        "x": 685.3213024847424,
        "y": 307.31886293395365
       },
       "selectable": false
      }
     },
     "5f871d92eed7436fb38b1553373b1590": {
      "model_module": "jupyter-cytoscape",
      "model_module_version": "^1.3.2",
      "model_name": "NodeModel",
      "state": {
       "_model_module_version": "^1.3.2",
       "_view_module_version": "^1.3.2",
       "classes": "node",
       "data": {
        "id": "instr_ChanD"
       },
       "grabbable": true,
       "grabbed": false,
       "position": {
        "x": 887.6465986615776,
        "y": 178.2156340785767
       },
       "selectable": false
      }
     },
     "6bbe037032e648b5a111f24492b67214": {
      "model_module": "jupyter-cytoscape",
      "model_module_version": "^1.3.2",
      "model_name": "NodeModel",
      "state": {
       "_model_module_version": "^1.3.2",
       "_view_module_version": "^1.3.2",
       "classes": "node",
       "data": {
        "id": "conn[a]"
       },
       "grabbable": true,
       "grabbed": false,
       "position": {
        "x": 753.8807459021021,
        "y": 223.26691360409768
       },
       "selectable": false
      }
     },
     "735e0fe1b1ae438dae65bdfebe694ccb": {
      "model_module": "jupyter-cytoscape",
      "model_module_version": "^1.3.2",
      "model_name": "NodeModel",
      "state": {
       "_model_module_version": "^1.3.2",
       "_view_module_version": "^1.3.2",
       "classes": "node",
       "data": {
        "id": "instr"
       },
       "grabbable": true,
       "grabbed": false,
       "position": {
        "x": 786.5339353879461,
        "y": 242.82080796803564
       },
       "selectable": false
      }
     },
     "8726f1496cf84f0280591737c91ee5a8": {
      "model_module": "@jupyter-widgets/controls",
      "model_module_version": "1.5.0",
      "model_name": "HBoxModel",
      "state": {
       "children": [
        "IPY_MODEL_046dd19c1f75437c9b76cb7d435ae9d3"
       ],
       "layout": "IPY_MODEL_9792f351b79e4a549a9e7028729a4cf7"
      }
     },
     "8c597ccfdbe7483c8ccd15953a4d72ca": {
      "model_module": "jupyter-cytoscape",
      "model_module_version": "^1.3.2",
      "model_name": "EdgeModel",
      "state": {
       "_model_module_version": "^1.3.2",
       "_view_module_version": "^1.3.2",
       "classes": "EdgeStatus_NOT_ACTIVATABLE directed ",
       "data": {
        "id": "fc7cd0fb-d8c8-4a3b-9574-f208db8d6a83",
        "source": "instr",
        "target": "instr_ChanF"
       },
       "selectable": false
      }
     },
     "94ab9a9400684c499e5d389a4876a1f2": {
      "model_module": "jupyter-cytoscape",
      "model_module_version": "^1.3.2",
      "model_name": "EdgeModel",
      "state": {
       "_model_module_version": "^1.3.2",
       "_view_module_version": "^1.3.2",
       "classes": "EdgeStatus_NOT_ACTIVATABLE directed ",
       "data": {
        "id": "1aec91a9-774d-4638-98dd-e79dc000c0c9",
        "source": "instr",
        "target": "instr_ChanA"
       },
       "selectable": false
      }
     },
     "9792f351b79e4a549a9e7028729a4cf7": {
      "model_module": "@jupyter-widgets/base",
      "model_module_version": "1.2.0",
      "model_name": "LayoutModel",
      "state": {}
     },
     "985aae5976bf4c05a717b15fcf2faebf": {
      "model_module": "@jupyter-widgets/base",
      "model_module_version": "1.2.0",
      "model_name": "LayoutModel",
      "state": {}
     },
     "9d3fbab7e04f48d884920a14707c0782": {
      "model_module": "jupyter-cytoscape",
      "model_module_version": "^1.3.2",
      "model_name": "EdgeModel",
      "state": {
       "_model_module_version": "^1.3.2",
       "_view_module_version": "^1.3.2",
       "classes": "EdgeStatus_INACTIVE directed ",
       "data": {
        "id": "d514f434-82e1-4dbc-92be-ff9d246ae7e9",
        "source": "conn[a]",
        "target": "instr_ChanC"
       },
       "selectable": false
      }
     },
     "9e4196ada23442abaca44f2dc94e3a7d": {
      "model_module": "jupyter-cytoscape",
      "model_module_version": "^1.3.2",
      "model_name": "GraphModel",
      "state": {
       "_adj": {
        "instr": {},
        "instr_ChanA": {},
        "instr_ChanB": {},
        "instr_ChanC": {},
        "instr_ChanD": {},
        "instr_ChanE": {},
        "instr_ChanF": {}
       },
       "_model_module_version": "^1.3.2",
       "_view_module": "jupyter-cytoscape",
       "_view_module_version": "^1.3.2",
       "edges": [
        "IPY_MODEL_94ab9a9400684c499e5d389a4876a1f2",
        "IPY_MODEL_3593fd9b5be14fd9afe467da7e8e2370",
        "IPY_MODEL_06257c8d136a40ddb8882fa8bd8a5644",
        "IPY_MODEL_eaeb4fdc00934432be98dfe770cc0953",
        "IPY_MODEL_c0c51da589dd4335ba4dc2477a92cf92",
        "IPY_MODEL_8c597ccfdbe7483c8ccd15953a4d72ca"
       ],
       "nodes": [
        "IPY_MODEL_f2d5b639b84941d8a6df07601bd21d21",
        "IPY_MODEL_3d2d93b08be9482a82c1bfd31e8f002d",
        "IPY_MODEL_5ab8a84ce44f43f692285e98e8ead70f",
        "IPY_MODEL_5f871d92eed7436fb38b1553373b1590",
        "IPY_MODEL_c51d9b0938864e4090b5f92e0d8e26dd",
        "IPY_MODEL_ea23a95e3f374a68b650aa18928d898a",
        "IPY_MODEL_735e0fe1b1ae438dae65bdfebe694ccb"
       ]
      }
     },
     "abc10811ece647cdb7a6f180f6a28336": {
      "model_module": "jupyter-cytoscape",
      "model_module_version": "^1.3.2",
      "model_name": "CytoscapeModel",
      "state": {
       "_interaction_handlers": {},
       "_model_module_version": "^1.3.2",
       "_view_module_version": "^1.3.2",
       "auto_ungrabify": false,
       "autolock": false,
       "cytoscape_layout": {
        "avoidOverlap": true,
        "maxSimulationTime": 4000,
        "name": "cola"
       },
       "cytoscape_style": [
        {
         "css": {
          "background-color": "#11479e",
          "color": "white",
          "content": "data(id)",
          "text-outline-color": "#11479e",
          "text-outline-width": 2,
          "text-valign": "center"
         },
         "selector": "node"
        },
        {
         "css": {
          "background-color": "black",
          "line-color": "black",
          "source-arrow-color": "black",
          "target-arrow-color": "black",
          "text-outline-color": "black"
         },
         "selector": ":selected"
        },
        {
         "selector": "edge",
         "style": {
          "line-color": "#9dbaea",
          "width": 4
         }
        },
        {
         "selector": "edge.directed.EdgeStatus_ACTIVE",
         "style": {
          "curve-style": "bezier",
          "target-arrow-color": "#9dbaea",
          "target-arrow-shape": "triangle"
         }
        },
        {
         "selector": "edge.directed.EdgeStatus_INACTIVE",
         "style": {
          "curve-style": "bezier",
          "line-color": "red",
          "target-arrow-color": "red",
          "target-arrow-shape": "triangle"
         }
        },
        {
         "selector": "edge.directed.EdgeStatus_NOT_ACTIVATABLE",
         "style": {
          "curve-style": "bezier",
          "line-color": "green",
          "target-arrow-color": "green",
          "target-arrow-shape": "triangle"
         }
        },
        {
         "selector": "edge.multiple_edges",
         "style": {
          "curve-style": "bezier"
         }
        }
       ],
       "desktop_tap_threshold": 4,
       "graph": "IPY_MODEL_09b3d1298c8e49759d1b71f4ec3beff4",
       "headless": false,
       "hide_edges_on_viewport": false,
       "layout": "IPY_MODEL_4d4468bf314e43c3b2646df0b6a7c8af",
       "max_zoom": 5,
       "min_zoom": 0.2,
       "motion_blur": false,
       "motion_blur_opacity": 0.2,
       "panning_enabled": true,
       "pixel_ratio": "auto",
       "rendered_position": {
        "renderedPosition": {
         "x": 100,
         "y": 100
        }
       },
       "selection_type": "single",
       "style_enabled": true,
       "texture_on_viewport": false,
       "tooltip_source": "tooltip",
       "touch_tap_threshold": 8,
       "user_panning_enabled": true,
       "user_zooming_enabled": true,
       "wheel_sensitivity": 0.1,
       "zoom": 2,
       "zooming_enabled": true
      }
     },
     "b2027c57f96e4c5e8bb9b16e528388c9": {
      "model_module": "@jupyter-widgets/controls",
      "model_module_version": "1.5.0",
      "model_name": "HBoxModel",
      "state": {
       "children": [
        "IPY_MODEL_abc10811ece647cdb7a6f180f6a28336"
       ],
       "layout": "IPY_MODEL_985aae5976bf4c05a717b15fcf2faebf"
      }
     },
     "b76a9ea693e1439c8af6b6ea18a32c17": {
      "model_module": "jupyter-cytoscape",
      "model_module_version": "^1.3.2",
      "model_name": "GraphModel",
      "state": {
       "_adj": {},
       "_model_module_version": "^1.3.2",
       "_view_module": "jupyter-cytoscape",
       "_view_module_version": "^1.3.2"
      }
     },
     "b7d6fc970b7f46378b2b25a0106027ac": {
      "model_module": "jupyter-cytoscape",
      "model_module_version": "^1.3.2",
      "model_name": "EdgeModel",
      "state": {
       "_model_module_version": "^1.3.2",
       "_view_module_version": "^1.3.2",
       "classes": "EdgeStatus_INACTIVE directed ",
       "data": {
        "id": "9110f405-6640-4cd4-ad2e-c55f5f60a380",
        "source": "conn[a]",
        "target": "instr_ChanB"
       },
       "selectable": false
      }
     },
     "c0c51da589dd4335ba4dc2477a92cf92": {
      "model_module": "jupyter-cytoscape",
      "model_module_version": "^1.3.2",
      "model_name": "EdgeModel",
      "state": {
       "_model_module_version": "^1.3.2",
       "_view_module_version": "^1.3.2",
       "classes": "EdgeStatus_NOT_ACTIVATABLE directed ",
       "data": {
        "id": "1521581e-2109-4dfe-8db6-f82e634d9916",
        "source": "instr",
        "target": "instr_ChanE"
       },
       "selectable": false
      }
     },
     "c4da67306c544ade9cbaf0cb3da16b9d": {
      "model_module": "jupyter-cytoscape",
      "model_module_version": "^1.3.2",
      "model_name": "EdgeModel",
      "state": {
       "_model_module_version": "^1.3.2",
       "_view_module_version": "^1.3.2",
       "classes": "EdgeStatus_INACTIVE directed ",
       "data": {
        "id": "4317a850-fd8d-42fe-8305-060380e439a3",
        "source": "instr_ChanC",
        "target": "conn[a]"
       },
       "selectable": false
      }
     },
     "c51d9b0938864e4090b5f92e0d8e26dd": {
      "model_module": "jupyter-cytoscape",
      "model_module_version": "^1.3.2",
      "model_name": "NodeModel",
      "state": {
       "_model_module_version": "^1.3.2",
       "_view_module_version": "^1.3.2",
       "classes": "node",
       "data": {
        "id": "instr_ChanE"
       },
       "grabbable": true,
       "grabbed": false,
       "position": {
        "x": 791.9886252516109,
        "y": 362.7165970458141
       },
       "selectable": false
      }
     },
     "cc253569216a4cee893775baabec4ca4": {
      "model_module": "@jupyter-widgets/base",
      "model_module_version": "1.2.0",
      "model_name": "LayoutModel",
      "state": {}
     },
     "ea23a95e3f374a68b650aa18928d898a": {
      "model_module": "jupyter-cytoscape",
      "model_module_version": "^1.3.2",
      "model_name": "NodeModel",
      "state": {
       "_model_module_version": "^1.3.2",
       "_view_module_version": "^1.3.2",
       "classes": "node",
       "data": {
        "id": "instr_ChanF"
       },
       "grabbable": true,
       "grabbed": false,
       "position": {
        "x": 893.1030819747643,
        "y": 297.965546444101
       },
       "selectable": false
      }
     },
     "eaeb4fdc00934432be98dfe770cc0953": {
      "model_module": "jupyter-cytoscape",
      "model_module_version": "^1.3.2",
      "model_name": "EdgeModel",
      "state": {
       "_model_module_version": "^1.3.2",
       "_view_module_version": "^1.3.2",
       "classes": "EdgeStatus_NOT_ACTIVATABLE directed ",
       "data": {
        "id": "57c2b619-5bce-4a57-90c4-71fe7dad58e4",
        "source": "instr",
        "target": "instr_ChanD"
       },
       "selectable": false
      }
     },
     "f166eb0a3e7f4aa1a50d691b3e4f668f": {
      "model_module": "jupyter-cytoscape",
      "model_module_version": "^1.3.2",
      "model_name": "EdgeModel",
      "state": {
       "_model_module_version": "^1.3.2",
       "_view_module_version": "^1.3.2",
       "classes": "EdgeStatus_INACTIVE directed ",
       "data": {
        "id": "aecfacb2-85fe-41e1-b441-75cb7e7f00cc",
        "source": "instr_ChanB",
        "target": "conn[a]"
       },
       "selectable": false
      }
     },
     "f2d5b639b84941d8a6df07601bd21d21": {
      "model_module": "jupyter-cytoscape",
      "model_module_version": "^1.3.2",
      "model_name": "NodeModel",
      "state": {
       "_model_module_version": "^1.3.2",
       "_view_module_version": "^1.3.2",
       "classes": "node",
       "data": {
        "id": "instr_ChanA"
       },
       "grabbable": true,
       "grabbed": false,
       "position": {
        "x": 781.3323226142415,
        "y": 122.96840264498654
       },
       "selectable": false
      }
     }
    },
    "version_major": 2,
    "version_minor": 0
   }
  }
 },
 "nbformat": 4,
 "nbformat_minor": 5
}
