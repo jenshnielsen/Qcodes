{
 "cells": [
  {
   "cell_type": "markdown",
   "id": "ee8d69f0-6127-4e87-8659-35b508d709ff",
   "metadata": {},
   "source": [
    "# Instrument Graph"
   ]
  },
  {
   "cell_type": "code",
   "execution_count": 1,
   "id": "6de37bdc-e561-4ef2-a933-7e0f3b4cda85",
   "metadata": {},
   "outputs": [],
   "source": [
    "from qcodes.tests.instrument_mocks import DummyChannelInstrument"
   ]
  },
  {
   "cell_type": "code",
   "execution_count": 2,
   "id": "23d52084-01bc-4b60-afac-5bbf8a623bdc",
   "metadata": {},
   "outputs": [],
   "source": [
    "instr = DummyChannelInstrument('instr')\n",
    "instr2 = DummyChannelInstrument('instr2')"
   ]
  },
  {
   "cell_type": "code",
   "execution_count": 3,
   "id": "be252edf-87e7-405c-a918-c4b4544a296f",
   "metadata": {},
   "outputs": [],
   "source": [
    "from qcodes.graph.visulization import draw"
   ]
  },
  {
   "cell_type": "code",
   "execution_count": 4,
   "id": "fb48d685-d7c5-44d3-bd6d-0ea8cd22652f",
   "metadata": {},
   "outputs": [
    {
     "name": "stdout",
     "output_type": "stream",
     "text": [
      "adding node instr\n",
      "adding node instr_ChanA\n",
      "adding node instr_ChanB\n",
      "adding node instr_ChanC\n",
      "adding node instr_ChanD\n",
      "adding node instr_ChanE\n",
      "adding node instr_ChanF\n"
     ]
    },
    {
     "data": {
      "text/plain": [
       "<qcodes.graph.graph.StationGraph at 0x21396648be0>"
      ]
     },
     "execution_count": 4,
     "metadata": {},
     "output_type": "execute_result"
    }
   ],
   "source": [
    "instr.instrument_graph"
   ]
  },
  {
   "cell_type": "code",
   "execution_count": 5,
   "id": "30273007-0acf-418c-8540-37993df6e4f7",
   "metadata": {},
   "outputs": [
    {
     "name": "stdout",
     "output_type": "stream",
     "text": [
      "adding node instr\n",
      "adding node instr_ChanA\n",
      "adding node instr_ChanB\n",
      "adding node instr_ChanC\n",
      "adding node instr_ChanD\n",
      "adding node instr_ChanE\n",
      "adding node instr_ChanF\n"
     ]
    },
    {
     "data": {
      "application/vnd.jupyter.widget-view+json": {
       "model_id": "b35f08c0822f4ec9a9a737a1217255d4",
       "version_major": 2,
       "version_minor": 0
      },
      "text/plain": [
       "HBox(children=(CytoscapeWidget(cytoscape_layout={'name': 'cola', 'avoidOverlap': True, 'maxSimulationTime': 40…"
      ]
     },
     "metadata": {},
     "output_type": "display_data"
    }
   ],
   "source": [
    "draw(instr.instrument_graph, disjoint=False)"
   ]
  },
  {
   "cell_type": "code",
   "execution_count": 6,
   "id": "9c43a001-d806-44bc-9439-9a7eb91c1a3d",
   "metadata": {},
   "outputs": [],
   "source": [
    "from qcodes.instrument_drivers.connector import Connector"
   ]
  },
  {
   "cell_type": "code",
   "execution_count": 7,
   "id": "04f005e0-541b-4d65-870c-47154927abfc",
   "metadata": {},
   "outputs": [
    {
     "name": "stdout",
     "output_type": "stream",
     "text": [
      "adding node conn[a]\n"
     ]
    }
   ],
   "source": [
    "conn = Connector('conn', connections=({\"name\": \"a\", \"endpoints\": (\"instr2_ChanC\", \"instr_ChanB\")},))"
   ]
  },
  {
   "cell_type": "code",
   "execution_count": 8,
   "id": "69dcd2ec-e4cf-4d38-be38-94292b24ae54",
   "metadata": {},
   "outputs": [
    {
     "data": {
      "text/plain": [
       "NodeView(('conn[a]', 'instr2_ChanC', 'instr_ChanB'))"
      ]
     },
     "execution_count": 8,
     "metadata": {},
     "output_type": "execute_result"
    }
   ],
   "source": [
    "conn.instrument_graph._graph.nodes"
   ]
  },
  {
   "cell_type": "code",
   "execution_count": 9,
   "id": "84430628-949e-433d-a81c-358f79961a43",
   "metadata": {},
   "outputs": [
    {
     "data": {
      "text/plain": [
       "['conn[a]', 'instr2_ChanC', 'instr_ChanB']"
      ]
     },
     "execution_count": 9,
     "metadata": {},
     "output_type": "execute_result"
    }
   ],
   "source": [
    "list(conn.instrument_graph._graph.nodes)"
   ]
  },
  {
   "cell_type": "code",
   "execution_count": null,
   "id": "6065aade-b746-4ecc-acdd-63cb853ed786",
   "metadata": {},
   "outputs": [],
   "source": []
  },
  {
   "cell_type": "code",
   "execution_count": 10,
   "id": "875887a1-4f9a-41ae-9632-0674a6053d37",
   "metadata": {},
   "outputs": [
    {
     "data": {
      "application/vnd.jupyter.widget-view+json": {
       "model_id": "736e4b3dbdae473d878ab90e6c21a077",
       "version_major": 2,
       "version_minor": 0
      },
      "text/plain": [
       "HBox(children=(CytoscapeWidget(cytoscape_layout={'name': 'cola', 'avoidOverlap': True, 'maxSimulationTime': 40…"
      ]
     },
     "metadata": {},
     "output_type": "display_data"
    }
   ],
   "source": [
    "draw(conn.instrument_graph)"
   ]
  },
  {
   "cell_type": "code",
   "execution_count": 11,
   "id": "e5a1c53d-2e8a-44ad-a21e-e9f7146be865",
   "metadata": {},
   "outputs": [],
   "source": [
    "from qcodes.station import Station"
   ]
  },
  {
   "cell_type": "code",
   "execution_count": 12,
   "id": "998e37fe-731d-470c-8961-7e10def9944a",
   "metadata": {},
   "outputs": [],
   "source": [
    "a = Station()"
   ]
  },
  {
   "cell_type": "code",
   "execution_count": 13,
   "id": "bf88261b-6ba1-4f40-b172-215aec6338df",
   "metadata": {},
   "outputs": [
    {
     "name": "stderr",
     "output_type": "stream",
     "text": [
      "[instr_ChanA(DummyChannel)] Snapshot: Could not update parameter: dummy_sp_axis\n",
      "[instr_ChanA(DummyChannel)] Snapshot: Could not update parameter: dummy_sp_axis_2\n",
      "[instr_ChanB(DummyChannel)] Snapshot: Could not update parameter: dummy_sp_axis\n",
      "[instr_ChanB(DummyChannel)] Snapshot: Could not update parameter: dummy_sp_axis_2\n",
      "[instr_ChanC(DummyChannel)] Snapshot: Could not update parameter: dummy_sp_axis\n",
      "[instr_ChanC(DummyChannel)] Snapshot: Could not update parameter: dummy_sp_axis_2\n",
      "[instr_ChanD(DummyChannel)] Snapshot: Could not update parameter: dummy_sp_axis\n",
      "[instr_ChanD(DummyChannel)] Snapshot: Could not update parameter: dummy_sp_axis_2\n",
      "[instr_ChanE(DummyChannel)] Snapshot: Could not update parameter: dummy_sp_axis\n",
      "[instr_ChanE(DummyChannel)] Snapshot: Could not update parameter: dummy_sp_axis_2\n",
      "[instr_ChanF(DummyChannel)] Snapshot: Could not update parameter: dummy_sp_axis\n",
      "[instr_ChanF(DummyChannel)] Snapshot: Could not update parameter: dummy_sp_axis_2\n",
      "[instr2_ChanA(DummyChannel)] Snapshot: Could not update parameter: dummy_sp_axis\n",
      "[instr2_ChanA(DummyChannel)] Snapshot: Could not update parameter: dummy_sp_axis_2\n",
      "[instr2_ChanB(DummyChannel)] Snapshot: Could not update parameter: dummy_sp_axis\n",
      "[instr2_ChanB(DummyChannel)] Snapshot: Could not update parameter: dummy_sp_axis_2\n",
      "[instr2_ChanC(DummyChannel)] Snapshot: Could not update parameter: dummy_sp_axis\n",
      "[instr2_ChanC(DummyChannel)] Snapshot: Could not update parameter: dummy_sp_axis_2\n",
      "[instr2_ChanD(DummyChannel)] Snapshot: Could not update parameter: dummy_sp_axis\n",
      "[instr2_ChanD(DummyChannel)] Snapshot: Could not update parameter: dummy_sp_axis_2\n",
      "[instr2_ChanE(DummyChannel)] Snapshot: Could not update parameter: dummy_sp_axis\n",
      "[instr2_ChanE(DummyChannel)] Snapshot: Could not update parameter: dummy_sp_axis_2\n",
      "[instr2_ChanF(DummyChannel)] Snapshot: Could not update parameter: dummy_sp_axis\n",
      "[instr2_ChanF(DummyChannel)] Snapshot: Could not update parameter: dummy_sp_axis_2\n"
     ]
    },
    {
     "data": {
      "text/plain": [
       "'instr2'"
      ]
     },
     "execution_count": 13,
     "metadata": {},
     "output_type": "execute_result"
    }
   ],
   "source": [
    "a.add_component(instr)\n",
    "a.add_component(instr2)"
   ]
  },
  {
   "cell_type": "code",
   "execution_count": 14,
   "id": "237c2443-cc41-435f-8f7f-c893f0e5acba",
   "metadata": {},
   "outputs": [
    {
     "data": {
      "text/plain": [
       "'conn'"
      ]
     },
     "execution_count": 14,
     "metadata": {},
     "output_type": "execute_result"
    }
   ],
   "source": [
    "a.add_component(conn)"
   ]
  },
  {
   "cell_type": "code",
   "execution_count": 17,
   "id": "92dbd05b-1c25-473b-abc5-42aa619ba9a5",
   "metadata": {},
   "outputs": [
    {
     "name": "stdout",
     "output_type": "stream",
     "text": [
      "adding node instr\n",
      "adding node instr_ChanA\n",
      "adding node instr_ChanB\n",
      "adding node instr_ChanC\n",
      "adding node instr_ChanD\n",
      "adding node instr_ChanE\n",
      "adding node instr_ChanF\n",
      "adding node instr2\n",
      "adding node instr2_ChanA\n",
      "adding node instr2_ChanB\n",
      "adding node instr2_ChanC\n",
      "adding node instr2_ChanD\n",
      "adding node instr2_ChanE\n",
      "adding node instr2_ChanF\n"
     ]
    }
   ],
   "source": [
    "c= draw(a._create_station_graph(), disjoint=True)"
   ]
  },
  {
   "cell_type": "code",
   "execution_count": 18,
   "id": "5df447fe-0b40-491a-b585-c9c05fa17562",
   "metadata": {},
   "outputs": [
    {
     "data": {
      "application/vnd.jupyter.widget-view+json": {
       "model_id": "4c11c7f1c1c8436f975a93c79baac55f",
       "version_major": 2,
       "version_minor": 0
      },
      "text/plain": [
       "HBox(children=(CytoscapeWidget(cytoscape_layout={'name': 'cola', 'avoidOverlap': True, 'maxSimulationTime': 40…"
      ]
     },
     "metadata": {},
     "output_type": "display_data"
    }
   ],
   "source": [
    "c"
   ]
  },
  {
   "cell_type": "code",
   "execution_count": null,
   "id": "977221df-bb33-4c6f-afee-3bd1e6d1d444",
   "metadata": {},
   "outputs": [],
   "source": [
    "c.children[0].graph.nodes[7].data['parent'] = 'instr'"
   ]
  },
  {
   "cell_type": "code",
   "execution_count": null,
   "id": "c382ee78-222f-44e9-9449-cc0ed08798fc",
   "metadata": {},
   "outputs": [],
   "source": [
    "c.children[0]"
   ]
  },
  {
   "cell_type": "code",
   "execution_count": null,
   "id": "d48762f1-a907-4269-94ad-9022ebbd5cda",
   "metadata": {},
   "outputs": [],
   "source": [
    "d = c.childrengraph"
   ]
  },
  {
   "cell_type": "code",
   "execution_count": null,
   "id": "15aff4c7-faa0-40c1-a91a-fef51d98e8ad",
   "metadata": {},
   "outputs": [],
   "source": [
    "d.graph."
   ]
  },
  {
   "cell_type": "code",
   "execution_count": null,
   "id": "fae6c270-3e23-4b30-a19d-4a657d9166b3",
   "metadata": {},
   "outputs": [],
   "source": []
  }
 ],
 "metadata": {
  "kernelspec": {
   "display_name": "Python 3 (ipykernel)",
   "language": "python",
   "name": "python3"
  },
  "language_info": {
   "codemirror_mode": {
    "name": "ipython",
    "version": 3
   },
   "file_extension": ".py",
   "mimetype": "text/x-python",
   "name": "python",
   "nbconvert_exporter": "python",
   "pygments_lexer": "ipython3",
   "version": "3.10.0"
  },
  "widgets": {
   "application/vnd.jupyter.widget-state+json": {
    "state": {},
    "version_major": 2,
    "version_minor": 0
   }
  }
 },
 "nbformat": 4,
 "nbformat_minor": 5
}
