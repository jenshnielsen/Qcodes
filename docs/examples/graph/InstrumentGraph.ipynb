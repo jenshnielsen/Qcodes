{
 "cells": [
  {
   "cell_type": "markdown",
   "id": "ee8d69f0-6127-4e87-8659-35b508d709ff",
   "metadata": {},
   "source": [
    "# Instrument Graph"
   ]
  },
  {
   "cell_type": "code",
   "execution_count": 1,
   "id": "6de37bdc-e561-4ef2-a933-7e0f3b4cda85",
   "metadata": {},
   "outputs": [],
   "source": [
    "from qcodes.tests.instrument_mocks import DummyChannelInstrument"
   ]
  },
  {
   "cell_type": "code",
   "execution_count": 2,
   "id": "23d52084-01bc-4b60-afac-5bbf8a623bdc",
   "metadata": {},
   "outputs": [],
   "source": [
    "instr = DummyChannelInstrument('instr')"
   ]
  },
  {
   "cell_type": "code",
   "execution_count": 3,
   "id": "be252edf-87e7-405c-a918-c4b4544a296f",
   "metadata": {},
   "outputs": [],
   "source": [
    "from qcodes.graph.visulization import draw"
   ]
  },
  {
   "cell_type": "code",
   "execution_count": 4,
   "id": "30273007-0acf-418c-8540-37993df6e4f7",
   "metadata": {},
   "outputs": [
    {
     "name": "stdout",
     "output_type": "stream",
     "text": [
      "adding node instr_ChanA\n",
      "adding node instr_ChanB\n",
      "adding node instr_ChanC\n",
      "adding node instr_ChanD\n",
      "adding node instr_ChanE\n",
      "adding node instr_ChanF\n",
      "adding node instr\n"
     ]
    },
    {
     "data": {
      "application/vnd.jupyter.widget-view+json": {
       "model_id": "f74b0948eb8d4c01ab060c8062d6faf0",
       "version_major": 2,
       "version_minor": 0
      },
      "text/plain": [
       "HBox(children=(CytoscapeWidget(cytoscape_layout={'name': 'cola', 'avoidOverlap': True, 'maxSimulationTime': 40…"
      ]
     },
     "metadata": {},
     "output_type": "display_data"
    }
   ],
   "source": [
    "draw(instr.instrument_graph())"
   ]
  },
  {
   "cell_type": "code",
   "execution_count": null,
   "id": "9c43a001-d806-44bc-9439-9a7eb91c1a3d",
   "metadata": {},
   "outputs": [],
   "source": []
  }
 ],
 "metadata": {
  "kernelspec": {
   "display_name": "Python 3 (ipykernel)",
   "language": "python",
   "name": "python3"
  },
  "language_info": {
   "codemirror_mode": {
    "name": "ipython",
    "version": 3
   },
   "file_extension": ".py",
   "mimetype": "text/x-python",
   "name": "python",
   "nbconvert_exporter": "python",
   "pygments_lexer": "ipython3",
   "version": "3.10.0"
  },
  "widgets": {
   "application/vnd.jupyter.widget-state+json": {
    "state": {
     "04c6cb2efc7441f7af4d7a05855920c6": {
      "model_module": "jupyter-cytoscape",
      "model_module_version": "^1.3.2",
      "model_name": "NodeModel",
      "state": {
       "_model_module_version": "^1.3.2",
       "_view_module_version": "^1.3.2",
       "classes": "node",
       "data": {
        "id": "instr_ChanC"
       },
       "grabbable": true,
       "grabbed": false,
       "position": {
        "x": 685.3213024847424,
        "y": 307.31886293395365
       },
       "selectable": false
      }
     },
     "36860ef1ffee4e55aed808a6310107b2": {
      "model_module": "jupyter-cytoscape",
      "model_module_version": "^1.3.2",
      "model_name": "EdgeModel",
      "state": {
       "_model_module_version": "^1.3.2",
       "_view_module_version": "^1.3.2",
       "classes": "EdgeStatus_NOT_ACTIVATABLE directed ",
       "data": {
        "id": "63140821-e397-4f5e-aa5e-c6cfdea0b4c4",
        "source": "instr",
        "target": "instr_ChanA"
       },
       "selectable": false
      }
     },
     "38449bf2de5c4e2297179345d02fd61f": {
      "model_module": "jupyter-cytoscape",
      "model_module_version": "^1.3.2",
      "model_name": "EdgeModel",
      "state": {
       "_model_module_version": "^1.3.2",
       "_view_module_version": "^1.3.2",
       "classes": "EdgeStatus_NOT_ACTIVATABLE directed ",
       "data": {
        "id": "8853b27b-ba27-4eef-a54a-ae82683e0c52",
        "source": "instr",
        "target": "instr_ChanB"
       },
       "selectable": false
      }
     },
     "4e841d20133f4e3494a2d6e7be0be6cf": {
      "model_module": "jupyter-cytoscape",
      "model_module_version": "^1.3.2",
      "model_name": "EdgeModel",
      "state": {
       "_model_module_version": "^1.3.2",
       "_view_module_version": "^1.3.2",
       "classes": "EdgeStatus_NOT_ACTIVATABLE directed ",
       "data": {
        "id": "b982edbd-bb60-41c9-be84-011969e24c3e",
        "source": "instr",
        "target": "instr_ChanD"
       },
       "selectable": false
      }
     },
     "573d7da283f1474aa9427a8bea032a68": {
      "model_module": "jupyter-cytoscape",
      "model_module_version": "^1.3.2",
      "model_name": "NodeModel",
      "state": {
       "_model_module_version": "^1.3.2",
       "_view_module_version": "^1.3.2",
       "classes": "node",
       "data": {
        "id": "instr_ChanE"
       },
       "grabbable": true,
       "grabbed": false,
       "position": {
        "x": 791.9886252516109,
        "y": 362.7165970458141
       },
       "selectable": false
      }
     },
     "6591fb7949ed4a1cbbe1bde7f27cb9e6": {
      "model_module": "jupyter-cytoscape",
      "model_module_version": "^1.3.2",
      "model_name": "GraphModel",
      "state": {
       "_adj": {},
       "_model_module_version": "^1.3.2",
       "_view_module": "jupyter-cytoscape",
       "_view_module_version": "^1.3.2"
      }
     },
     "678868b0d4614c1abd1ef87f2e9702f3": {
      "model_module": "jupyter-cytoscape",
      "model_module_version": "^1.3.2",
      "model_name": "NodeModel",
      "state": {
       "_model_module_version": "^1.3.2",
       "_view_module_version": "^1.3.2",
       "classes": "node",
       "data": {
        "id": "instr_ChanF"
       },
       "grabbable": true,
       "grabbed": false,
       "position": {
        "x": 893.1030819747643,
        "y": 297.965546444101
       },
       "selectable": false
      }
     },
     "6fd16286ad7d49799d8cc03e61b93051": {
      "model_module": "jupyter-cytoscape",
      "model_module_version": "^1.3.2",
      "model_name": "CytoscapeModel",
      "state": {
       "_interaction_handlers": {},
       "_model_module_version": "^1.3.2",
       "_view_module_version": "^1.3.2",
       "auto_ungrabify": false,
       "autolock": false,
       "cytoscape_layout": {
        "avoidOverlap": true,
        "maxSimulationTime": 4000,
        "name": "cola"
       },
       "cytoscape_style": [
        {
         "css": {
          "background-color": "#11479e",
          "color": "white",
          "content": "data(id)",
          "text-outline-color": "#11479e",
          "text-outline-width": 2,
          "text-valign": "center"
         },
         "selector": "node"
        },
        {
         "css": {
          "background-color": "black",
          "line-color": "black",
          "source-arrow-color": "black",
          "target-arrow-color": "black",
          "text-outline-color": "black"
         },
         "selector": ":selected"
        },
        {
         "selector": "edge",
         "style": {
          "line-color": "#9dbaea",
          "width": 4
         }
        },
        {
         "selector": "edge.directed.EdgeStatus_ACTIVE",
         "style": {
          "curve-style": "bezier",
          "target-arrow-color": "#9dbaea",
          "target-arrow-shape": "triangle"
         }
        },
        {
         "selector": "edge.directed.EdgeStatus_INACTIVE",
         "style": {
          "curve-style": "bezier",
          "line-color": "red",
          "target-arrow-color": "red",
          "target-arrow-shape": "triangle"
         }
        },
        {
         "selector": "edge.directed.EdgeStatus_NOT_ACTIVATABLE",
         "style": {
          "curve-style": "bezier",
          "line-color": "green",
          "target-arrow-color": "green",
          "target-arrow-shape": "triangle"
         }
        },
        {
         "selector": "edge.multiple_edges",
         "style": {
          "curve-style": "bezier"
         }
        }
       ],
       "desktop_tap_threshold": 4,
       "graph": "IPY_MODEL_cfb2178d8529403a9107fb8b3eaf6db5",
       "headless": false,
       "hide_edges_on_viewport": false,
       "layout": "IPY_MODEL_9ff0424d9cbd424498f91e9cdc96d783",
       "max_zoom": 5,
       "min_zoom": 0.2,
       "motion_blur": false,
       "motion_blur_opacity": 0.2,
       "panning_enabled": true,
       "pixel_ratio": "auto",
       "rendered_position": {
        "renderedPosition": {
         "x": 100,
         "y": 100
        }
       },
       "selection_type": "single",
       "style_enabled": true,
       "texture_on_viewport": false,
       "tooltip_source": "tooltip",
       "touch_tap_threshold": 8,
       "user_panning_enabled": true,
       "user_zooming_enabled": true,
       "wheel_sensitivity": 0.1,
       "zoom": 2,
       "zooming_enabled": true
      }
     },
     "880ed135d3b74a77b89243c03b379fa7": {
      "model_module": "jupyter-cytoscape",
      "model_module_version": "^1.3.2",
      "model_name": "NodeModel",
      "state": {
       "_model_module_version": "^1.3.2",
       "_view_module_version": "^1.3.2",
       "classes": "node",
       "data": {
        "id": "instr_ChanA"
       },
       "grabbable": true,
       "grabbed": false,
       "position": {
        "x": 781.3323226142415,
        "y": 122.96840264498654
       },
       "selectable": false
      }
     },
     "9a4c82da49794c89bb06e569b38c482b": {
      "model_module": "jupyter-cytoscape",
      "model_module_version": "^1.3.2",
      "model_name": "EdgeModel",
      "state": {
       "_model_module_version": "^1.3.2",
       "_view_module_version": "^1.3.2",
       "classes": "EdgeStatus_NOT_ACTIVATABLE directed ",
       "data": {
        "id": "eda61b29-79f0-4f41-9bc8-338af7a45368",
        "source": "instr",
        "target": "instr_ChanE"
       },
       "selectable": false
      }
     },
     "9ff0424d9cbd424498f91e9cdc96d783": {
      "model_module": "@jupyter-widgets/base",
      "model_module_version": "1.2.0",
      "model_name": "LayoutModel",
      "state": {}
     },
     "a76f7eeb3bdb454697aeebd60d77590b": {
      "model_module": "jupyter-cytoscape",
      "model_module_version": "^1.3.2",
      "model_name": "NodeModel",
      "state": {
       "_model_module_version": "^1.3.2",
       "_view_module_version": "^1.3.2",
       "classes": "node",
       "data": {
        "id": "instr"
       },
       "grabbable": true,
       "grabbed": false,
       "position": {
        "x": 786.5339353879461,
        "y": 242.82080796803564
       },
       "selectable": false
      }
     },
     "b59dc875111748bf84208f5154618946": {
      "model_module": "jupyter-cytoscape",
      "model_module_version": "^1.3.2",
      "model_name": "NodeModel",
      "state": {
       "_model_module_version": "^1.3.2",
       "_view_module_version": "^1.3.2",
       "classes": "node",
       "data": {
        "id": "instr_ChanD"
       },
       "grabbable": true,
       "grabbed": false,
       "position": {
        "x": 887.6465986615776,
        "y": 178.2156340785767
       },
       "selectable": false
      }
     },
     "c3527fd05ff1464380ca5412e08bc312": {
      "model_module": "jupyter-cytoscape",
      "model_module_version": "^1.3.2",
      "model_name": "NodeModel",
      "state": {
       "_model_module_version": "^1.3.2",
       "_view_module_version": "^1.3.2",
       "classes": "node",
       "data": {
        "id": "instr_ChanB"
       },
       "grabbable": true,
       "grabbed": false,
       "position": {
        "x": 680.1245659424825,
        "y": 187.31444787801738
       },
       "selectable": false
      }
     },
     "cfb2178d8529403a9107fb8b3eaf6db5": {
      "model_module": "jupyter-cytoscape",
      "model_module_version": "^1.3.2",
      "model_name": "GraphModel",
      "state": {
       "_adj": {
        "instr": {},
        "instr_ChanA": {},
        "instr_ChanB": {},
        "instr_ChanC": {},
        "instr_ChanD": {},
        "instr_ChanE": {},
        "instr_ChanF": {}
       },
       "_model_module_version": "^1.3.2",
       "_view_module": "jupyter-cytoscape",
       "_view_module_version": "^1.3.2",
       "edges": [
        "IPY_MODEL_36860ef1ffee4e55aed808a6310107b2",
        "IPY_MODEL_38449bf2de5c4e2297179345d02fd61f",
        "IPY_MODEL_cffc77f8da43413388108f1d0e3ad6f9",
        "IPY_MODEL_4e841d20133f4e3494a2d6e7be0be6cf",
        "IPY_MODEL_9a4c82da49794c89bb06e569b38c482b",
        "IPY_MODEL_eb40f927f3ed47c6846c54bbd83345cd"
       ],
       "nodes": [
        "IPY_MODEL_880ed135d3b74a77b89243c03b379fa7",
        "IPY_MODEL_c3527fd05ff1464380ca5412e08bc312",
        "IPY_MODEL_04c6cb2efc7441f7af4d7a05855920c6",
        "IPY_MODEL_b59dc875111748bf84208f5154618946",
        "IPY_MODEL_573d7da283f1474aa9427a8bea032a68",
        "IPY_MODEL_678868b0d4614c1abd1ef87f2e9702f3",
        "IPY_MODEL_a76f7eeb3bdb454697aeebd60d77590b"
       ]
      }
     },
     "cffc77f8da43413388108f1d0e3ad6f9": {
      "model_module": "jupyter-cytoscape",
      "model_module_version": "^1.3.2",
      "model_name": "EdgeModel",
      "state": {
       "_model_module_version": "^1.3.2",
       "_view_module_version": "^1.3.2",
       "classes": "EdgeStatus_NOT_ACTIVATABLE directed ",
       "data": {
        "id": "5592aba9-7921-4d7b-8ca7-ed546d5b357c",
        "source": "instr",
        "target": "instr_ChanC"
       },
       "selectable": false
      }
     },
     "eb40f927f3ed47c6846c54bbd83345cd": {
      "model_module": "jupyter-cytoscape",
      "model_module_version": "^1.3.2",
      "model_name": "EdgeModel",
      "state": {
       "_model_module_version": "^1.3.2",
       "_view_module_version": "^1.3.2",
       "classes": "EdgeStatus_NOT_ACTIVATABLE directed ",
       "data": {
        "id": "54374307-e043-4e97-a2e3-5af80859bcd2",
        "source": "instr",
        "target": "instr_ChanF"
       },
       "selectable": false
      }
     },
     "f74b0948eb8d4c01ab060c8062d6faf0": {
      "model_module": "@jupyter-widgets/controls",
      "model_module_version": "1.5.0",
      "model_name": "HBoxModel",
      "state": {
       "children": [
        "IPY_MODEL_6fd16286ad7d49799d8cc03e61b93051"
       ],
       "layout": "IPY_MODEL_f87eee56de53470893ed66d9164e4243"
      }
     },
     "f87eee56de53470893ed66d9164e4243": {
      "model_module": "@jupyter-widgets/base",
      "model_module_version": "1.2.0",
      "model_name": "LayoutModel",
      "state": {}
     }
    },
    "version_major": 2,
    "version_minor": 0
   }
  }
 },
 "nbformat": 4,
 "nbformat_minor": 5
}
