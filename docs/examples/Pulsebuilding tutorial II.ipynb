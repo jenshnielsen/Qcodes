{
 "cells": [
  {
   "cell_type": "markdown",
   "metadata": {},
   "source": [
    "# Pulsebuilding for QCoDeS part II\n",
    "\n",
    "This set of tutorials covers the offline construction of pulse sequences from idea to numpy array to awg file. No instrument is required. In part one, we deal with individual pulse sequence elements. Part two covers sequences and awg files.\n",
    "\n",
    "## The Sequence Object\n",
    "\n",
    "In this part of the tutorial, **blueprints** are collected together to form a fully-fletched pulse **sequence**.\n",
    "A sequence may internally **forge** **elements** and output the corresponding arrays, and it is easily interfaceable with the QCoDeS AWG5014 driver for compilation of .awg files. It can (and indeed should) be updated with instrument parameters to correctly translate blueprint voltages into awg binary format and get the timing right via the correct sample rate. \n",
    "\n",
    "([-] means not implemented yet)\n",
    "\n",
    "It allows for setting different modifications for the output:\n",
    "  \n",
    "  * Cable transfer function compensation [-]\n",
    "  * Cable length difference compensation (channel delays) [-]\n",
    "\n",
    "It supports some higher-order sequence commands:\n",
    "\n",
    "  * Setting and getting across channels [-]\n",
    "  * Creating a sequence with a varying parameter [-]"
   ]
  },
  {
   "cell_type": "code",
   "execution_count": 1,
   "metadata": {
    "collapsed": false
   },
   "outputs": [],
   "source": [
    "%matplotlib nbagg\n",
    "import qcodes.instrument_drivers.tektronix.pulsebuilding as pb\n",
    "import numpy as np\n",
    "\n",
    "ramp = pb.PulseAtoms.ramp\n",
    "sine = pb.PulseAtoms.sine\n",
    "gauss = pb.PulseAtoms.gaussian"
   ]
  },
  {
   "cell_type": "markdown",
   "metadata": {},
   "source": [
    "### Construction"
   ]
  },
  {
   "cell_type": "code",
   "execution_count": 2,
   "metadata": {
    "collapsed": false
   },
   "outputs": [],
   "source": [
    "# simple case, some blueprints\n",
    "\n",
    "tophat = pb.BluePrint([ramp, ramp, ramp],\n",
    "                      [(0, 0), (0, 1), (0, 0)],\n",
    "                      ['', '', ''])\n",
    "\n",
    "wiggleroof1 = pb.BluePrint([ramp, sine, ramp],\n",
    "                           [(1, 0), (5, 1, 1), (-1, 1)],\n",
    "                           ['', '', ''])\n",
    "wiggleroof2 = wiggleroof1.copy()\n",
    "wiggleroof2.changeArg('sine', 'freq', 2.5)\n",
    "\n",
    "dip = pb.BluePrint([ramp, gauss, ramp],\n",
    "                   [(1, 0), (-1, 0.1, 0, 1), (-1, 1)],\n",
    "                   ['', '', ''])\n",
    "\n",
    "durations = [1, 1, 1]\n",
    "seq = pb.Sequence()\n",
    "seq.setSR(200)\n",
    "# add (sub)elements by channel, sequence position\n",
    "#first element\n",
    "seq.addElement(1, 1, tophat, durations)\n",
    "seq.addElement(2, 1, wiggleroof1, durations)\n",
    "seq.addElement(4, 1, tophat, durations)\n",
    "# second element\n",
    "seq.addElement(1, 2, wiggleroof2, durations)\n",
    "seq.addElement(2, 2, dip, durations)\n",
    "seq.addElement(4, 2, tophat, durations)\n",
    "\n",
    "# add some sequencing information\n",
    "seq.setSequenceSettings(1, 1, 1, 1, 1)"
   ]
  },
  {
   "cell_type": "code",
   "execution_count": 3,
   "metadata": {
    "collapsed": false
   },
   "outputs": [
    {
     "data": {
      "text/plain": [
       "True"
      ]
     },
     "execution_count": 3,
     "metadata": {},
     "output_type": "execute_result"
    }
   ],
   "source": [
    "# We may check the the sequence contains consistent build instructions, i.e. that all channels with elements\n",
    "# on them have the same number of elements, that there are no missing elements, and that the elements have the same\n",
    "# length\n",
    "seq.checkConsistency()"
   ]
  },
  {
   "cell_type": "code",
   "execution_count": 4,
   "metadata": {
    "collapsed": false
   },
   "outputs": [
    {
     "ename": "NameError",
     "evalue": "name 'dur' is not defined",
     "output_type": "error",
     "traceback": [
      "\u001b[0;31m---------------------------------------------------------------------------\u001b[0m",
      "\u001b[0;31mNameError\u001b[0m                                 Traceback (most recent call last)",
      "\u001b[0;32m<ipython-input-4-485aae5558d8>\u001b[0m in \u001b[0;36m<module>\u001b[0;34m()\u001b[0m\n\u001b[0;32m----> 1\u001b[0;31m \u001b[0mseq\u001b[0m\u001b[0;34m.\u001b[0m\u001b[0mplotSequence\u001b[0m\u001b[0;34m(\u001b[0m\u001b[0;34m)\u001b[0m\u001b[0;34m\u001b[0m\u001b[0m\n\u001b[0m",
      "\u001b[0;32m/Users/william/QCoDeS/qcodes/instrument_drivers/tektronix/pulsebuilding.py\u001b[0m in \u001b[0;36mplotSequence\u001b[0;34m(self)\u001b[0m\n\u001b[1;32m    660\u001b[0m             \u001b[0mdurations\u001b[0m \u001b[0;34m=\u001b[0m \u001b[0;34m[\u001b[0m\u001b[0mself\u001b[0m\u001b[0;34m.\u001b[0m\u001b[0m_data\u001b[0m\u001b[0;34m[\u001b[0m\u001b[0;34m(\u001b[0m\u001b[0mchan\u001b[0m\u001b[0;34m,\u001b[0m \u001b[0mpos\u001b[0m\u001b[0;34m)\u001b[0m\u001b[0;34m]\u001b[0m\u001b[0;34m[\u001b[0m\u001b[0;36m1\u001b[0m\u001b[0;34m]\u001b[0m \u001b[0;32mfor\u001b[0m \u001b[0mchan\u001b[0m \u001b[0;32min\u001b[0m \u001b[0mchans\u001b[0m\u001b[0;34m]\u001b[0m\u001b[0;34m\u001b[0m\u001b[0m\n\u001b[1;32m    661\u001b[0m             elements.append(elementBuilder(blueprints, SR, durations,\n\u001b[0;32m--> 662\u001b[0;31m                                            chans, returnnewdurs=True))\n\u001b[0m\u001b[1;32m    663\u001b[0m \u001b[0;34m\u001b[0m\u001b[0m\n\u001b[1;32m    664\u001b[0m         \u001b[0;31m# Now get the dimensions. Since the check passed, we may be slobby\u001b[0m\u001b[0;34m\u001b[0m\u001b[0;34m\u001b[0m\u001b[0m\n",
      "\u001b[0;32m/Users/william/QCoDeS/qcodes/instrument_drivers/tektronix/pulsebuilding.py\u001b[0m in \u001b[0;36melementBuilder\u001b[0;34m(blueprints, SR, durations, channels, returnnewdurs)\u001b[0m\n\u001b[1;32m    937\u001b[0m         \u001b[0msubelems\u001b[0m \u001b[0;34m=\u001b[0m \u001b[0;34m[\u001b[0m\u001b[0;34m]\u001b[0m\u001b[0;34m\u001b[0m\u001b[0m\n\u001b[1;32m    938\u001b[0m         \u001b[0;32mfor\u001b[0m \u001b[0;34m(\u001b[0m\u001b[0mbp\u001b[0m\u001b[0;34m,\u001b[0m \u001b[0mdurs\u001b[0m\u001b[0;34m)\u001b[0m \u001b[0;32min\u001b[0m \u001b[0mbpdurs\u001b[0m\u001b[0;34m:\u001b[0m\u001b[0;34m\u001b[0m\u001b[0m\n\u001b[0;32m--> 939\u001b[0;31m             subelems.append(list(_subelementBuilder(bp, SR, dur)[0]) +\n\u001b[0m\u001b[1;32m    940\u001b[0m                             [_subelementBuilder(bp, SR, dur)[1]])\n\u001b[1;32m    941\u001b[0m \u001b[0;34m\u001b[0m\u001b[0m\n",
      "\u001b[0;31mNameError\u001b[0m: name 'dur' is not defined"
     ]
    }
   ],
   "source": [
    "seq.plotSequence()"
   ]
  },
  {
   "cell_type": "markdown",
   "metadata": {
    "collapsed": true
   },
   "source": [
    "## Higher-order functions"
   ]
  },
  {
   "cell_type": "code",
   "execution_count": null,
   "metadata": {
    "collapsed": false
   },
   "outputs": [],
   "source": [
    "# Create a range of elements of a specific channel varying some parameter\n",
    "\n",
    "# Let's say we want a 'dip' element with varying widths\n",
    "\n",
    "# First we make _some_ iterable (list, array, set, dict.keys, range, ...) object containing the values\n",
    "widths1 = [0.1, 0.15, 0.05, 0.2, 0.25]\n",
    "widths2 = np.linspace(0.01, 0.25, 5)\n",
    "\n",
    "# Then a blueprint forming the basis of the variation\n",
    "basisbp = pb.BluePrint([ramp, gauss, ramp],\n",
    "                       [(1, 0), (-1, 666, 0, 1), (-1, 1)],  # Note: this 'sigma' value of 666 is never used\n",
    "                       ['', 'varyme', ''])  # Better safe than sorry; use a unique name\n",
    "\n",
    "# Of course some durations\n",
    "durations = [1, 2, 1]\n",
    "\n",
    "# And then a sequence\n",
    "varyseq = pb.Sequence()\n",
    "varyseq.setSR(500)\n",
    "\n",
    "# And the magic function to create all the elements\n",
    "varyseq.setSeveralElements(1, basisbp, ('varyme', 'sigma'), durations, widths1)\n",
    "\n",
    "# We may of course assign a different variation to a different channel\n",
    "varyseq.setSeveralElements(2, basisbp, ('varyme', 'sigma'), durations, widths2)\n",
    "varyseq.plotSequence()"
   ]
  },
  {
   "cell_type": "markdown",
   "metadata": {},
   "source": [
    "## Uploading to a Tektronix AWG5014"
   ]
  },
  {
   "cell_type": "code",
   "execution_count": null,
   "metadata": {
    "collapsed": false
   },
   "outputs": [],
   "source": [
    "# Since compiling an .awg file requires knowledge of the full internal state of an AWG instrument, only the instrument\n",
    "# itself can do that. The pulse building library provides easy interfacing with the QCoDeS AWG5014 driver.\n",
    "\n",
    "# Here an example. First we make a two-channel sequence.\n",
    "\n",
    "sawtooth = pb.BluePrint([ramp, ramp, ramp],\n",
    "                        [(1, 0), (1, 0), (1, 0)],\n",
    "                        ['', 'varyme', ''])\n",
    "#sawtooth.changeDuration('varyme', 2)\n",
    "\n",
    "boxandwiggle = pb.BluePrint([ramp, ramp, ramp, sine],\n",
    "                            [(0, 0), (0, 1), (0, 0), (2, 1, 0)],\n",
    "                            ['', '', '', 'varyme'])\n",
    "\n",
    "seq = pb.Sequence()\n",
    "seq.setSR(500)\n",
    "seq.setSeveralElements(1, sawtooth, ('varyme', 'slope'), [1, 1, 1], np.linspace(-1, 1, 10))\n",
    "seq.setSeveralElements(3, boxandwiggle, ('varyme', 'freq'), [0.25, 0.25, 0.25, 2.25], np.logspace(0, 1, 10))\n",
    "\n",
    "# The AWG5014 driver takes arrays with values in the range -1 to 1 as input. To ensure the correct scaling, the user \n",
    "# must provide the channel ranges of the relevant instrument\n",
    "\n",
    "help(seq.setChannelVoltageRange)\n",
    "seq.setChannelVoltageRange(1, 3, 0)\n",
    "seq.setChannelVoltageRange(3, 4, 0)\n",
    "\n",
    "tup = seq.outputForAWGFile()\n"
   ]
  },
  {
   "cell_type": "code",
   "execution_count": null,
   "metadata": {
    "collapsed": false
   },
   "outputs": [],
   "source": [
    "seq2 = pb.Sequence()\n",
    "seq2.setSR(500)\n",
    "\n",
    "seq2.setSeveralElements(3, boxandwiggle, ('varyme', 'freq'), [0.25, 0.25, 0.25, 2.25], np.logspace(0, 1, 10))\n",
    "seq2.plotSequence()"
   ]
  },
  {
   "cell_type": "code",
   "execution_count": null,
   "metadata": {
    "collapsed": false
   },
   "outputs": [],
   "source": [
    "seq.plotSequence()"
   ]
  },
  {
   "cell_type": "code",
   "execution_count": null,
   "metadata": {
    "collapsed": false
   },
   "outputs": [],
   "source": [
    "import matplotlib.pyplot as plt\n",
    "fig = plt.figure(); myax = fig.add_subplot(111)\n",
    "pb.bluePrintPlotter(sawtooth, 500, [1, 1, 1], fig=fig, axs=[myax])"
   ]
  },
  {
   "cell_type": "code",
   "execution_count": null,
   "metadata": {
    "collapsed": false
   },
   "outputs": [],
   "source": [
    "lines = myax.get_lines()[-1]\n",
    "lines"
   ]
  },
  {
   "cell_type": "code",
   "execution_count": null,
   "metadata": {
    "collapsed": false
   },
   "outputs": [],
   "source": [
    "help(lines.set_data)"
   ]
  },
  {
   "cell_type": "code",
   "execution_count": null,
   "metadata": {
    "collapsed": true
   },
   "outputs": [],
   "source": []
  }
 ],
 "metadata": {
  "kernelspec": {
   "display_name": "Python 3",
   "language": "python",
   "name": "python3"
  },
  "language_info": {
   "codemirror_mode": {
    "name": "ipython",
    "version": 3
   },
   "file_extension": ".py",
   "mimetype": "text/x-python",
   "name": "python",
   "nbconvert_exporter": "python",
   "pygments_lexer": "ipython3",
   "version": "3.5.3"
  }
 },
 "nbformat": 4,
 "nbformat_minor": 2
}
