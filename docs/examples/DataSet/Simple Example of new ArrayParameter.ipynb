{
 "cells": [
  {
   "cell_type": "markdown",
   "metadata": {},
   "source": [
    "# Simple Example of new ArrayParameter\n",
    "\n",
    "This notebook has an example of a new simpler ArrayParameter\n"
   ]
  },
  {
   "cell_type": "code",
   "execution_count": 1,
   "metadata": {},
   "outputs": [],
   "source": [
    "import numpy as np"
   ]
  },
  {
   "cell_type": "code",
   "execution_count": 2,
   "metadata": {},
   "outputs": [],
   "source": [
    "from qcodes.instrument.parameter import Parameter, _BaseParameter"
   ]
  },
  {
   "cell_type": "code",
   "execution_count": 3,
   "metadata": {},
   "outputs": [],
   "source": [
    "from typing import Optional, Union, Iterable, Callable\n",
    "Number = Union[float, int]\n",
    "from qcodes.utils.validators import Validator"
   ]
  },
  {
   "cell_type": "code",
   "execution_count": 4,
   "metadata": {},
   "outputs": [],
   "source": [
    "from qcodes.utils.validators import Numbers\n",
    "from qcodes.instrument.base import Instrument\n",
    "from qcodes.dataset.measurements import Measurement"
   ]
  },
  {
   "cell_type": "code",
   "execution_count": 5,
   "metadata": {},
   "outputs": [],
   "source": [
    "from qcodes.instrument.parameter import ArrayParameter2, GeneratedSetPoints"
   ]
  },
  {
   "cell_type": "markdown",
   "metadata": {},
   "source": [
    "Here we define an dummy instrument that returns something like a frequency spectrum from `f_start` to `f_stop`\n",
    "in `n_points` steps. The functionality of the ArrayParameter is implemented only by having a reference to it's setpoints which is consumed by the dataset context manager. To do this we only have to define the parameter for the setpoints and the spectrum and let the parameter know that the frequency axis is the setpoints "
   ]
  },
  {
   "cell_type": "code",
   "execution_count": 17,
   "metadata": {},
   "outputs": [],
   "source": [
    "class DummyArray(ArrayParameter2):\n",
    "    \n",
    "    def get_raw(self):\n",
    "        npoints = self.root_instrument.n_points()\n",
    "        return np.random.rand(npoints)\n",
    "    \n",
    "\n",
    "class DummySpectrumAnalyzer(Instrument):\n",
    "    \n",
    "    def __init__(self, name, **kwargs):\n",
    "        \n",
    "        super().__init__(name, **kwargs)\n",
    "            \n",
    "\n",
    "        self.add_parameter('f_start',\n",
    "                           initial_value=0,\n",
    "                           unit='Hz',\n",
    "                           label='f start',\n",
    "                           vals=Numbers(0,1e3),\n",
    "                           get_cmd=None,\n",
    "                           set_cmd=None)\n",
    "\n",
    "        self.add_parameter('f_stop',\n",
    "                           unit='Hz',\n",
    "                           label='f stop',\n",
    "                           vals=Numbers(1,1e3),\n",
    "                           get_cmd=None,\n",
    "                           set_cmd=None)\n",
    "\n",
    "        self.add_parameter('n_points',\n",
    "                           unit='',\n",
    "                           vals=Numbers(1,1e3),\n",
    "                           get_cmd=None,\n",
    "                           set_cmd=None)\n",
    "        \n",
    "        self.add_parameter('freq_axis',\n",
    "                           unit='Hz',\n",
    "                           label='Freq Axis',\n",
    "                           parameter_class=GeneratedSetPoints,\n",
    "                           startparam=self.f_start,\n",
    "                           stopparam=self.f_stop,\n",
    "                           numpointsparam=self.n_points)\n",
    "                           \n",
    "        self.add_parameter('spectrum',\n",
    "                   unit='dBm',\n",
    "                   setpoints=(self.freq_axis,),\n",
    "                   label='Spectrum',\n",
    "                   parameter_class=DummyArray)\n",
    "                "
   ]
  },
  {
   "cell_type": "code",
   "execution_count": 19,
   "metadata": {},
   "outputs": [],
   "source": [
    "a = DummySpectrumAnalyzer('foobar')"
   ]
  },
  {
   "cell_type": "markdown",
   "metadata": {},
   "source": [
    "First we setup the limits of the spectrum"
   ]
  },
  {
   "cell_type": "code",
   "execution_count": 20,
   "metadata": {},
   "outputs": [],
   "source": [
    "a.f_start(0)\n",
    "a.f_stop(500)\n",
    "a.n_points(501)"
   ]
  },
  {
   "cell_type": "markdown",
   "metadata": {},
   "source": [
    "And we can grab the axis"
   ]
  },
  {
   "cell_type": "code",
   "execution_count": 21,
   "metadata": {
    "scrolled": true
   },
   "outputs": [
    {
     "data": {
      "text/plain": [
       "array([  0.,   1.,   2.,   3.,   4.,   5.,   6.,   7.,   8.,   9.,  10.,\n",
       "        11.,  12.,  13.,  14.,  15.,  16.,  17.,  18.,  19.,  20.,  21.,\n",
       "        22.,  23.,  24.,  25.,  26.,  27.,  28.,  29.,  30.,  31.,  32.,\n",
       "        33.,  34.,  35.,  36.,  37.,  38.,  39.,  40.,  41.,  42.,  43.,\n",
       "        44.,  45.,  46.,  47.,  48.,  49.,  50.,  51.,  52.,  53.,  54.,\n",
       "        55.,  56.,  57.,  58.,  59.,  60.,  61.,  62.,  63.,  64.,  65.,\n",
       "        66.,  67.,  68.,  69.,  70.,  71.,  72.,  73.,  74.,  75.,  76.,\n",
       "        77.,  78.,  79.,  80.,  81.,  82.,  83.,  84.,  85.,  86.,  87.,\n",
       "        88.,  89.,  90.,  91.,  92.,  93.,  94.,  95.,  96.,  97.,  98.,\n",
       "        99., 100., 101., 102., 103., 104., 105., 106., 107., 108., 109.,\n",
       "       110., 111., 112., 113., 114., 115., 116., 117., 118., 119., 120.,\n",
       "       121., 122., 123., 124., 125., 126., 127., 128., 129., 130., 131.,\n",
       "       132., 133., 134., 135., 136., 137., 138., 139., 140., 141., 142.,\n",
       "       143., 144., 145., 146., 147., 148., 149., 150., 151., 152., 153.,\n",
       "       154., 155., 156., 157., 158., 159., 160., 161., 162., 163., 164.,\n",
       "       165., 166., 167., 168., 169., 170., 171., 172., 173., 174., 175.,\n",
       "       176., 177., 178., 179., 180., 181., 182., 183., 184., 185., 186.,\n",
       "       187., 188., 189., 190., 191., 192., 193., 194., 195., 196., 197.,\n",
       "       198., 199., 200., 201., 202., 203., 204., 205., 206., 207., 208.,\n",
       "       209., 210., 211., 212., 213., 214., 215., 216., 217., 218., 219.,\n",
       "       220., 221., 222., 223., 224., 225., 226., 227., 228., 229., 230.,\n",
       "       231., 232., 233., 234., 235., 236., 237., 238., 239., 240., 241.,\n",
       "       242., 243., 244., 245., 246., 247., 248., 249., 250., 251., 252.,\n",
       "       253., 254., 255., 256., 257., 258., 259., 260., 261., 262., 263.,\n",
       "       264., 265., 266., 267., 268., 269., 270., 271., 272., 273., 274.,\n",
       "       275., 276., 277., 278., 279., 280., 281., 282., 283., 284., 285.,\n",
       "       286., 287., 288., 289., 290., 291., 292., 293., 294., 295., 296.,\n",
       "       297., 298., 299., 300., 301., 302., 303., 304., 305., 306., 307.,\n",
       "       308., 309., 310., 311., 312., 313., 314., 315., 316., 317., 318.,\n",
       "       319., 320., 321., 322., 323., 324., 325., 326., 327., 328., 329.,\n",
       "       330., 331., 332., 333., 334., 335., 336., 337., 338., 339., 340.,\n",
       "       341., 342., 343., 344., 345., 346., 347., 348., 349., 350., 351.,\n",
       "       352., 353., 354., 355., 356., 357., 358., 359., 360., 361., 362.,\n",
       "       363., 364., 365., 366., 367., 368., 369., 370., 371., 372., 373.,\n",
       "       374., 375., 376., 377., 378., 379., 380., 381., 382., 383., 384.,\n",
       "       385., 386., 387., 388., 389., 390., 391., 392., 393., 394., 395.,\n",
       "       396., 397., 398., 399., 400., 401., 402., 403., 404., 405., 406.,\n",
       "       407., 408., 409., 410., 411., 412., 413., 414., 415., 416., 417.,\n",
       "       418., 419., 420., 421., 422., 423., 424., 425., 426., 427., 428.,\n",
       "       429., 430., 431., 432., 433., 434., 435., 436., 437., 438., 439.,\n",
       "       440., 441., 442., 443., 444., 445., 446., 447., 448., 449., 450.,\n",
       "       451., 452., 453., 454., 455., 456., 457., 458., 459., 460., 461.,\n",
       "       462., 463., 464., 465., 466., 467., 468., 469., 470., 471., 472.,\n",
       "       473., 474., 475., 476., 477., 478., 479., 480., 481., 482., 483.,\n",
       "       484., 485., 486., 487., 488., 489., 490., 491., 492., 493., 494.,\n",
       "       495., 496., 497., 498., 499., 500.])"
      ]
     },
     "execution_count": 21,
     "metadata": {},
     "output_type": "execute_result"
    }
   ],
   "source": [
    "a.freq_axis()"
   ]
  },
  {
   "cell_type": "markdown",
   "metadata": {},
   "source": [
    "Or the spectrum"
   ]
  },
  {
   "cell_type": "code",
   "execution_count": 22,
   "metadata": {
    "scrolled": true
   },
   "outputs": [
    {
     "data": {
      "text/plain": [
       "array([0.31281518, 0.96887871, 0.42191194, 0.51714415, 0.25538286,\n",
       "       0.92696486, 0.76954697, 0.51712345, 0.48111713, 0.61014766,\n",
       "       0.42801603, 0.43561301, 0.64152132, 0.24845664, 0.68491269,\n",
       "       0.57899917, 0.16974739, 0.18945099, 0.77348716, 0.32345713,\n",
       "       0.32283512, 0.03025562, 0.91810724, 0.57521798, 0.58470989,\n",
       "       0.38120617, 0.46536914, 0.48650925, 0.30560833, 0.78322953,\n",
       "       0.93716312, 0.60605105, 0.75239911, 0.96351199, 0.32925186,\n",
       "       0.71956489, 0.49513814, 0.40072415, 0.71484636, 0.47744867,\n",
       "       0.99183756, 0.42884688, 0.87046585, 0.97636722, 0.80768148,\n",
       "       0.47275855, 0.04567205, 0.80345861, 0.16429275, 0.98433221,\n",
       "       0.31342919, 0.25533898, 0.71032451, 0.03503889, 0.69431169,\n",
       "       0.85934569, 0.15493456, 0.350528  , 0.13867757, 0.88801413,\n",
       "       0.12544615, 0.71695272, 0.80233482, 0.95412588, 0.08481348,\n",
       "       0.88858004, 0.20740531, 0.62895786, 0.7094034 , 0.71663199,\n",
       "       0.04516419, 0.25645949, 0.3619041 , 0.22624793, 0.03096165,\n",
       "       0.50486112, 0.38058129, 0.38549274, 0.93265042, 0.69570252,\n",
       "       0.9715744 , 0.26551269, 0.0278466 , 0.47564881, 0.14327013,\n",
       "       0.65544137, 0.37554881, 0.81038091, 0.4373319 , 0.63655817,\n",
       "       0.84999389, 0.48549494, 0.37636679, 0.24317791, 0.46666367,\n",
       "       0.93993374, 0.2030196 , 0.20372072, 0.55596547, 0.64384574,\n",
       "       0.55032748, 0.18346428, 0.13315848, 0.4444626 , 0.57653102,\n",
       "       0.28088507, 0.47296397, 0.19810506, 0.02489858, 0.08292104,\n",
       "       0.15122852, 0.02681189, 0.1825864 , 0.83923332, 0.82979598,\n",
       "       0.12532781, 0.28667028, 0.06138414, 0.54201822, 0.28361495,\n",
       "       0.04006816, 0.55588607, 0.08477299, 0.2226377 , 0.74544186,\n",
       "       0.248556  , 0.90649953, 0.09848282, 0.63803225, 0.54836512,\n",
       "       0.09148153, 0.14109837, 0.62075636, 0.52826137, 0.8763575 ,\n",
       "       0.48961966, 0.24877176, 0.89193214, 0.7763051 , 0.6191885 ,\n",
       "       0.93309929, 0.48183231, 0.38190092, 0.76675634, 0.31256475,\n",
       "       0.64081171, 0.23996295, 0.17831513, 0.70911486, 0.3689516 ,\n",
       "       0.77318391, 0.26551174, 0.9332016 , 0.80833114, 0.94929732,\n",
       "       0.05899685, 0.14579488, 0.50757545, 0.84313475, 0.67681984,\n",
       "       0.09312281, 0.17850811, 0.30471426, 0.70653125, 0.94016408,\n",
       "       0.77204967, 0.78658342, 0.96252718, 0.05135915, 0.6104287 ,\n",
       "       0.57842423, 0.54790475, 0.18708696, 0.40089462, 0.61792494,\n",
       "       0.78666442, 0.45664661, 0.57400101, 0.21632045, 0.65836317,\n",
       "       0.41728132, 0.09314095, 0.39881779, 0.69329242, 0.89670779,\n",
       "       0.39077226, 0.36796047, 0.51413186, 0.24017188, 0.96503661,\n",
       "       0.39737534, 0.14966974, 0.05272144, 0.07344577, 0.65384573,\n",
       "       0.3244456 , 0.93881849, 0.77149932, 0.34256363, 0.57171536,\n",
       "       0.99633436, 0.7128691 , 0.53621015, 0.20434432, 0.95889797,\n",
       "       0.14452839, 0.52756577, 0.59106331, 0.3081482 , 0.4549849 ,\n",
       "       0.20716477, 0.46569662, 0.74935475, 0.43593272, 0.27032474,\n",
       "       0.76637407, 0.88225447, 0.65898922, 0.80142354, 0.14939703,\n",
       "       0.54069258, 0.78950072, 0.83605732, 0.62979079, 0.21252879,\n",
       "       0.60680212, 0.97419554, 0.77182435, 0.75763177, 0.97771958,\n",
       "       0.91581111, 0.7219678 , 0.96016159, 0.65960683, 0.23570303,\n",
       "       0.33695877, 0.23561085, 0.82518603, 0.94735652, 0.52801753,\n",
       "       0.62309437, 0.98345045, 0.35983667, 0.07843121, 0.09146102,\n",
       "       0.66973072, 0.93494067, 0.05280839, 0.93756376, 0.7293141 ,\n",
       "       0.50768684, 0.14962689, 0.2658266 , 0.27975887, 0.96575044,\n",
       "       0.86352484, 0.00677849, 0.60706878, 0.60814407, 0.12029253,\n",
       "       0.34831538, 0.34223691, 0.58388414, 0.681435  , 0.21728724,\n",
       "       0.94635087, 0.33127465, 0.64361487, 0.92241564, 0.59245856,\n",
       "       0.1148949 , 0.7021584 , 0.11996621, 0.64843461, 0.94555061,\n",
       "       0.70387657, 0.77887487, 0.72795828, 0.68279723, 0.39879606,\n",
       "       0.1533654 , 0.38515401, 0.71375073, 0.17799896, 0.0252395 ,\n",
       "       0.06283647, 0.84102243, 0.45017289, 0.29994363, 0.58409358,\n",
       "       0.80281348, 0.79188333, 0.1162714 , 0.32685503, 0.75942253,\n",
       "       0.38373489, 0.79152529, 0.97062294, 0.67297296, 0.79336539,\n",
       "       0.43884364, 0.24561457, 0.65555045, 0.87768973, 0.64103826,\n",
       "       0.2666453 , 0.1391131 , 0.86647697, 0.61714395, 0.41203585,\n",
       "       0.11707366, 0.95913778, 0.05950737, 0.74316187, 0.24973516,\n",
       "       0.55441886, 0.19049959, 0.72943378, 0.14485682, 0.23767495,\n",
       "       0.23655284, 0.75358185, 0.11639362, 0.22699845, 0.58859088,\n",
       "       0.19922609, 0.59756317, 0.31772437, 0.31891757, 0.61702834,\n",
       "       0.2307571 , 0.71656227, 0.77801287, 0.61430522, 0.43949158,\n",
       "       0.904222  , 0.13305298, 0.97109297, 0.03946522, 0.27349123,\n",
       "       0.60728714, 0.11184083, 0.20264691, 0.41851126, 0.34208404,\n",
       "       0.3516932 , 0.72207464, 0.62215237, 0.83973124, 0.61972589,\n",
       "       0.00746499, 0.67415024, 0.64700587, 0.31843831, 0.85093758,\n",
       "       0.36074848, 0.26198126, 0.55974394, 0.7755382 , 0.96214801,\n",
       "       0.60038967, 0.5871515 , 0.97103239, 0.25660708, 0.8394608 ,\n",
       "       0.61362974, 0.7721306 , 0.41902284, 0.56507279, 0.97512555,\n",
       "       0.1757342 , 0.12194126, 0.72601828, 0.46489845, 0.20108013,\n",
       "       0.12265486, 0.32739885, 0.23558657, 0.02516245, 0.90309388,\n",
       "       0.71132001, 0.35639495, 0.99692481, 0.13415441, 0.65833817,\n",
       "       0.11460708, 0.51822322, 0.53973366, 0.81536775, 0.13440548,\n",
       "       0.48233264, 0.25445079, 0.00434424, 0.84816563, 0.02711536,\n",
       "       0.21425029, 0.07758158, 0.02883053, 0.56527235, 0.19727065,\n",
       "       0.49378938, 0.66257068, 0.99112211, 0.49515019, 0.45807055,\n",
       "       0.24407957, 0.80594336, 0.52918217, 0.7366867 , 0.12172603,\n",
       "       0.50720039, 0.89600683, 0.03299381, 0.87402446, 0.03942597,\n",
       "       0.4398926 , 0.56602433, 0.1827016 , 0.34461014, 0.48292586,\n",
       "       0.37908904, 0.05441919, 0.20705179, 0.34375954, 0.6649455 ,\n",
       "       0.0731173 , 0.10959237, 0.98139206, 0.03566843, 0.00688507,\n",
       "       0.91668891, 0.91156237, 0.65782263, 0.15321753, 0.12761921,\n",
       "       0.70015197, 0.5353978 , 0.48899851, 0.92041438, 0.58646024,\n",
       "       0.24802929, 0.58023147, 0.51882816, 0.49366176, 0.03196893,\n",
       "       0.56670287, 0.06277128, 0.54048722, 0.85678255, 0.31840659,\n",
       "       0.60387901, 0.25282476, 0.62576788, 0.34045001, 0.78477856,\n",
       "       0.19135518, 0.89802393, 0.56130128, 0.54358126, 0.70889138,\n",
       "       0.23780924, 0.43899571, 0.04051872, 0.73162057, 0.7630328 ,\n",
       "       0.42628733, 0.5824199 , 0.51831109, 0.5821532 , 0.01817897,\n",
       "       0.20330086, 0.02747431, 0.15170385, 0.63457024, 0.30606336,\n",
       "       0.15690499, 0.75987837, 0.87250445, 0.34596773, 0.35767279,\n",
       "       0.42499385, 0.14849033, 0.79368317, 0.08853673, 0.87720111,\n",
       "       0.3156627 , 0.73408487, 0.16822168, 0.13283555, 0.35081781,\n",
       "       0.23496507, 0.11859108, 0.19449802, 0.8220064 , 0.30034061,\n",
       "       0.61608037, 0.64891939, 0.15747444, 0.40561231, 0.23300349,\n",
       "       0.11877202])"
      ]
     },
     "execution_count": 22,
     "metadata": {},
     "output_type": "execute_result"
    }
   ],
   "source": [
    "a.spectrum.get()"
   ]
  },
  {
   "cell_type": "markdown",
   "metadata": {},
   "source": [
    "We can also directly consume the parameter in a measurement"
   ]
  },
  {
   "cell_type": "code",
   "execution_count": 23,
   "metadata": {},
   "outputs": [
    {
     "name": "stdout",
     "output_type": "stream",
     "text": [
      "Starting experimental run with id: 614\n"
     ]
    }
   ],
   "source": [
    "meas = Measurement()\n",
    "meas.register_parameter(a.spectrum)  # register the first independent parameter\n",
    "\n",
    "with meas.run() as datasaver:\n",
    "    datasaver.add_result((a.spectrum, a.spectrum.get(),))\n",
    "    \n",
    "    dataid = datasaver.run_id  # convenient to have for plotting"
   ]
  },
  {
   "cell_type": "code",
   "execution_count": 24,
   "metadata": {},
   "outputs": [],
   "source": [
    "from qcodes.dataset.plotting import plot_by_id"
   ]
  },
  {
   "cell_type": "markdown",
   "metadata": {},
   "source": [
    "And plot it"
   ]
  },
  {
   "cell_type": "code",
   "execution_count": 26,
   "metadata": {},
   "outputs": [
    {
     "data": {
      "text/plain": [
       "([<matplotlib.axes._subplots.AxesSubplot at 0x2046acfe860>], [None])"
      ]
     },
     "execution_count": 26,
     "metadata": {},
     "output_type": "execute_result"
    },
    {
     "data": {
      "image/png": "[encoded data removed]",
      "text/plain": [
       "<Figure size 432x288 with 1 Axes>"
      ]
     },
     "metadata": {
      "needs_background": "light"
     },
     "output_type": "display_data"
    }
   ],
   "source": [
    "plot_by_id(dataid)"
   ]
  },
  {
   "cell_type": "code",
   "execution_count": null,
   "metadata": {},
   "outputs": [],
   "source": []
  }
 ],
 "metadata": {
  "kernelspec": {
   "display_name": "Python 3",
   "language": "python",
   "name": "python3"
  },
  "language_info": {
   "codemirror_mode": {
    "name": "ipython",
    "version": 3
   },
   "file_extension": ".py",
   "mimetype": "text/x-python",
   "name": "python",
   "nbconvert_exporter": "python",
   "pygments_lexer": "ipython3",
   "version": "3.6.6"
  },
  "toc": {
   "base_numbering": 1,
   "nav_menu": {},
   "number_sections": true,
   "sideBar": true,
   "skip_h1_title": false,
   "title_cell": "Table of Contents",
   "title_sidebar": "Contents",
   "toc_cell": false,
   "toc_position": {},
   "toc_section_display": true,
   "toc_window_display": false
  },
  "varInspector": {
   "cols": {
    "lenName": 16,
    "lenType": 16,
    "lenVar": 40
   },
   "kernels_config": {
    "python": {
     "delete_cmd_postfix": "",
     "delete_cmd_prefix": "del ",
     "library": "var_list.py",
     "varRefreshCmd": "print(var_dic_list())"
    },
    "r": {
     "delete_cmd_postfix": ") ",
     "delete_cmd_prefix": "rm(",
     "library": "var_list.r",
     "varRefreshCmd": "cat(var_dic_list()) "
    }
   },
   "types_to_exclude": [
    "module",
    "function",
    "builtin_function_or_method",
    "instance",
    "_Feature"
   ],
   "window_display": false
  }
 },
 "nbformat": 4,
 "nbformat_minor": 2
}
