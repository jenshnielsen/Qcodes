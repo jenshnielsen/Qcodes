{
 "cells": [
  {
   "cell_type": "markdown",
   "metadata": {},
   "source": [
    "# Pedestrian example of subscribing to a DataSet\n",
    "\n",
    "It is possible to *subscribe* to a dataset. Subscribing means adding a function to the dataset and having the dataset call that function every time a result is added to the dataset (or more rarely, see below).\n",
    "\n",
    "### Call signature\n",
    "\n",
    "The subscribing function must have the following call signature:\n",
    "```\n",
    "fun(results: List[Tuple[Value]], length: int,\n",
    "    state: Union[MutableSequence, MutableMapping]) -> None:\n",
    "    \"\"\"\n",
    "    Args:\n",
    "        results: A list of tuples where each tuple holds the results inserted into the dataset.\n",
    "            For two scalar parameters, X and Y, results might look like [(x1, y1), (x2, y2), ...]\n",
    "        length: The current length of the dataset.\n",
    "        state: Any mutable sequence/mapping that can be used to hold information from call to call.\n",
    "            In practice a list or a dict.\n",
    "    \"\"\"\n",
    "```\n",
    "Below we provide an example function that counts the number of times a voltage has exceeded a certain limit.\n",
    "\n",
    "### Frequency\n",
    "\n",
    "Since calling the function **every** time an insertion is made may be too frequent, a `min_wait` and a `min_count` argument may be provided when subscribing. The dataset will then only call the function upon inserting a result\n",
    "if `min_wait` seconds have elapsed since the last call (or the start of the subscription, in the time before the first call) AND `min_count` results have been added to the dataset since the last call (or the start of the subscription). All the results added in the meantime are queued and passed to the function in one go.\n",
    "\n",
    "### Order\n",
    "\n",
    "The subscription must be set up **after** all parameters have been added to the dataset."
   ]
  },
  {
   "cell_type": "code",
   "execution_count": 1,
   "metadata": {},
   "outputs": [],
   "source": [
    "import qcodes"
   ]
  },
  {
   "cell_type": "code",
   "execution_count": 2,
   "metadata": {},
   "outputs": [
    {
     "name": "stdout",
     "output_type": "stream",
     "text": [
      "Logging hadn't been started.\n",
      "Activating auto-logging. Current session state plus future input saved.\n",
      "Filename       : C:\\Users\\jenielse\\.qcodes\\logs\\command_history.log\n",
      "Mode           : append\n",
      "Output logging : True\n",
      "Raw input log  : False\n",
      "Timestamping   : True\n",
      "State          : active\n"
     ]
    }
   ],
   "source": [
    "qcodes.logger.start_all_logging()"
   ]
  },
  {
   "cell_type": "code",
   "execution_count": 3,
   "metadata": {},
   "outputs": [],
   "source": [
    "from qcodes import initialise_database, load_or_create_experiment, \\\n",
    "    new_data_set, ParamSpec\n",
    "import numpy as np\n",
    "from time import sleep"
   ]
  },
  {
   "cell_type": "markdown",
   "metadata": {},
   "source": [
    "## Example 1: A notification\n",
    "\n",
    "We imagine scanning a frequency and reading out a noisy voltage. When the voltage has exceeded a threshold 5 times, we want to receive a warning."
   ]
  },
  {
   "cell_type": "code",
   "execution_count": 4,
   "metadata": {},
   "outputs": [],
   "source": [
    "initialise_database()\n",
    "exp = load_or_create_experiment(experiment_name=\"subscription_tutorial\", sample_name=\"no_sample\")"
   ]
  },
  {
   "cell_type": "code",
   "execution_count": 5,
   "metadata": {},
   "outputs": [
    {
     "name": "stdout",
     "output_type": "stream",
     "text": [
      "[]\n",
      "()\n",
      "[ParamSpecBase('x', 'numeric', '', 'Hz'), ParamSpecBase('y', 'numeric', '', 'V')]\n",
      "(ParamSpecBase('x', 'numeric', '', 'Hz'), ParamSpecBase('y', 'numeric', '', 'V'))\n",
      "[ParamSpecBase('x', 'numeric', '', 'Hz'), ParamSpecBase('y', 'numeric', '', 'V')]\n",
      "(ParamSpecBase('x', 'numeric', '', 'Hz'), ParamSpecBase('y', 'numeric', '', 'V'))\n"
     ]
    }
   ],
   "source": [
    "dataSet = new_data_set(\"test\",\n",
    "                       exp_id=exp.exp_id,\n",
    "                       specs=[ParamSpec(\"x\", \"numeric\", unit='Hz'),\n",
    "                              ParamSpec(\"y\", \"numeric\", unit='V')])\n",
    "dataSet.mark_started()"
   ]
  },
  {
   "cell_type": "code",
   "execution_count": 6,
   "metadata": {},
   "outputs": [],
   "source": [
    "def threshold_notifier(results, length, state):\n",
    "    if len(state) > 4:\n",
    "        print(f'At step {length}: The voltage exceeded the limit 5 times! ')\n",
    "        state.clear()\n",
    "    for result in results:\n",
    "        if result[1] > 0.8:\n",
    "            state.append(result[1])"
   ]
  },
  {
   "cell_type": "code",
   "execution_count": 7,
   "metadata": {},
   "outputs": [
    {
     "name": "stdout",
     "output_type": "stream",
     "text": [
      "NEW.x,NEW.y\n"
     ]
    }
   ],
   "source": [
    "# now perform the subscription\n",
    "# since this is important safety info, we want our callback function called\n",
    "# on EVERY insertion\n",
    "sub_id = dataSet.subscribe(threshold_notifier, min_wait=0, min_count=1, state=[])"
   ]
  },
  {
   "cell_type": "code",
   "execution_count": 8,
   "metadata": {
    "scrolled": false
   },
   "outputs": [
    {
     "name": "stdout",
     "output_type": "stream",
     "text": [
      "At step 24: The voltage exceeded the limit 5 times! \n",
      "At step 65: The voltage exceeded the limit 5 times! \n",
      "At step 102: The voltage exceeded the limit 5 times! \n"
     ]
    }
   ],
   "source": [
    "for x in np.linspace(100, 200, 150):\n",
    "    y = np.random.randn()\n",
    "    dataSet.add_result({\"x\": x, \"y\": y})"
   ]
  },
  {
   "cell_type": "code",
   "execution_count": 9,
   "metadata": {},
   "outputs": [],
   "source": [
    "dataSet.unsubscribe_all()"
   ]
  },
  {
   "cell_type": "markdown",
   "metadata": {
    "collapsed": true
   },
   "source": [
    "## Example 2: ASCII Plotter\n",
    "\n",
    "Not the most useful example for real life, but indeed what every kid on the block seems to be demanding."
   ]
  },
  {
   "cell_type": "code",
   "execution_count": 10,
   "metadata": {},
   "outputs": [
    {
     "name": "stdout",
     "output_type": "stream",
     "text": [
      "[]\n",
      "()\n",
      "[ParamSpecBase('blip', 'numeric', '', 'bit'), ParamSpecBase('blop', 'numeric', '', 'bit')]\n",
      "(ParamSpecBase('blip', 'numeric', '', 'bit'), ParamSpecBase('blop', 'numeric', '', 'bit'))\n",
      "[ParamSpecBase('blop', 'numeric', '', 'bit'), ParamSpecBase('blip', 'numeric', '', 'bit')]\n",
      "(ParamSpecBase('blop', 'numeric', '', 'bit'), ParamSpecBase('blip', 'numeric', '', 'bit'))\n"
     ]
    }
   ],
   "source": [
    "dataSet = new_data_set(\"test\", exp_id=exp.exp_id,\n",
    "                       specs=[ParamSpec(\"blip\", \"numeric\", unit='bit'),\n",
    "                              ParamSpec(\"blop\", \"numeric\", unit='bit')])\n",
    "dataSet.mark_started()"
   ]
  },
  {
   "cell_type": "code",
   "execution_count": 11,
   "metadata": {},
   "outputs": [],
   "source": [
    "def print_subscriber(results, lenght, state):\n",
    "    print(f\"result {results}\")\n",
    "    print(f\"lenght {lenght}\")\n",
    "    print(f\"state {state}\")"
   ]
  },
  {
   "cell_type": "code",
   "execution_count": 12,
   "metadata": {},
   "outputs": [],
   "source": [
    "def ASCII_plotter_5bit(results, length, state):\n",
    "    \"\"\"\n",
    "    Glorious 5-bit signal plotter\n",
    "    \n",
    "    Digitises the range (-1, 1) with 4 bits and plots it\n",
    "    in stdout. Crashes and burns if given data outside that\n",
    "    interval.\n",
    "    \"\"\"\n",
    "    for result in results:\n",
    "        plotline = ['.'] * 32\n",
    "        yvalue = result[0]\n",
    "        yvalue += 1\n",
    "        yvalue /= 2\n",
    "        yvalue = int(yvalue*31)\n",
    "        plotline[yvalue] = 'O'\n",
    "        print(''.join(plotline))\n",
    "        "
   ]
  },
  {
   "cell_type": "code",
   "execution_count": 13,
   "metadata": {},
   "outputs": [
    {
     "name": "stdout",
     "output_type": "stream",
     "text": [
      "NEW.blop,NEW.blip\n"
     ]
    }
   ],
   "source": [
    "sub_id = dataSet.subscribe(ASCII_plotter_5bit, min_wait=0, min_count=3, state=[])"
   ]
  },
  {
   "cell_type": "code",
   "execution_count": 24,
   "metadata": {},
   "outputs": [],
   "source": [
    "from qcodes.dataset.descriptions.versioning.v0 import InterDependencies\n",
    "from qcodes.dataset.descriptions.versioning.converters import old_to_new, new_to_old\n",
    "from qcodes.dataset.descriptions.dependencies import InterDependencies_"
   ]
  },
  {
   "cell_type": "code",
   "execution_count": 15,
   "metadata": {},
   "outputs": [],
   "source": [
    "specs=[ParamSpec(\"blip\", \"numeric\", unit='bit'),\n",
    "                              ParamSpec(\"blop\", \"numeric\", unit='bit')]"
   ]
  },
  {
   "cell_type": "markdown",
   "metadata": {},
   "source": [
    "In oldstyle interdependencies the parameters are ordered by insertion as they are just storred in a tuple of paramspecs"
   ]
  },
  {
   "cell_type": "code",
   "execution_count": 52,
   "metadata": {},
   "outputs": [
    {
     "data": {
      "text/plain": [
       "InterDependencies(ParamSpec('blip', 'numeric', '', 'bit', inferred_from=[], depends_on=[]), ParamSpec('blop', 'numeric', '', 'bit', inferred_from=[], depends_on=[]))"
      ]
     },
     "execution_count": 52,
     "metadata": {},
     "output_type": "execute_result"
    }
   ],
   "source": [
    "a = InterDependencies(*specs)\n",
    "a"
   ]
  },
  {
   "cell_type": "code",
   "execution_count": 65,
   "metadata": {},
   "outputs": [
    {
     "data": {
      "text/plain": [
       "(ParamSpec('blip', 'numeric', '', 'bit', inferred_from=[], depends_on=[]),\n",
       " ParamSpec('blop', 'numeric', '', 'bit', inferred_from=[], depends_on=[]))"
      ]
     },
     "execution_count": 65,
     "metadata": {},
     "output_type": "execute_result"
    }
   ],
   "source": [
    "a.paramspecs"
   ]
  },
  {
   "cell_type": "code",
   "execution_count": 56,
   "metadata": {},
   "outputs": [
    {
     "name": "stdout",
     "output_type": "stream",
     "text": [
      "ParamSpec('blip', 'numeric', '', 'bit', inferred_from=[], depends_on=[])\n",
      "ParamSpec('blop', 'numeric', '', 'bit', inferred_from=[], depends_on=[])\n"
     ]
    }
   ],
   "source": [
    "for s in a.paramspecs:\n",
    "    print(s)"
   ]
  },
  {
   "cell_type": "code",
   "execution_count": null,
   "metadata": {},
   "outputs": [],
   "source": []
  },
  {
   "cell_type": "code",
   "execution_count": 66,
   "metadata": {},
   "outputs": [
    {
     "name": "stdout",
     "output_type": "stream",
     "text": [
      "[ParamSpecBase('blip', 'numeric', '', 'bit'), ParamSpecBase('blop', 'numeric', '', 'bit')]\n",
      "(ParamSpecBase('blip', 'numeric', '', 'bit'), ParamSpecBase('blop', 'numeric', '', 'bit'))\n"
     ]
    }
   ],
   "source": [
    "id_  = old_to_new(a)"
   ]
  },
  {
   "cell_type": "code",
   "execution_count": 67,
   "metadata": {},
   "outputs": [
    {
     "data": {
      "text/plain": [
       "InterDependencies_(dependencies={}, inferences={}, standalones=frozenset({ParamSpecBase('blop', 'numeric', '', 'bit'), ParamSpecBase('blip', 'numeric', '', 'bit')}))"
      ]
     },
     "execution_count": 67,
     "metadata": {},
     "output_type": "execute_result"
    }
   ],
   "source": [
    "id_"
   ]
  },
  {
   "cell_type": "code",
   "execution_count": 68,
   "metadata": {},
   "outputs": [],
   "source": [
    "standls = id_.standalones"
   ]
  },
  {
   "cell_type": "code",
   "execution_count": 69,
   "metadata": {},
   "outputs": [
    {
     "data": {
      "text/plain": [
       "frozenset({ParamSpecBase('blip', 'numeric', '', 'bit'),\n",
       "           ParamSpecBase('blop', 'numeric', '', 'bit')})"
      ]
     },
     "execution_count": 69,
     "metadata": {},
     "output_type": "execute_result"
    }
   ],
   "source": [
    "standls"
   ]
  },
  {
   "cell_type": "markdown",
   "metadata": {},
   "source": [
    "However, in the new style they are storred as a set. The set has no guaranteed iteration order"
   ]
  },
  {
   "cell_type": "code",
   "execution_count": 70,
   "metadata": {},
   "outputs": [
    {
     "data": {
      "text/plain": [
       "\"frozenset({ParamSpecBase('blop', 'numeric', '', 'bit'), ParamSpecBase('blip', 'numeric', '', 'bit')})\""
      ]
     },
     "execution_count": 70,
     "metadata": {},
     "output_type": "execute_result"
    }
   ],
   "source": [
    "standls.__repr__()"
   ]
  },
  {
   "cell_type": "code",
   "execution_count": 71,
   "metadata": {},
   "outputs": [
    {
     "data": {
      "text/plain": [
       "\"frozenset({ParamSpecBase('blop', 'numeric', '', 'bit'), ParamSpecBase('blip', 'numeric', '', 'bit')})\""
      ]
     },
     "execution_count": 71,
     "metadata": {},
     "output_type": "execute_result"
    }
   ],
   "source": [
    "standls.__str__()"
   ]
  },
  {
   "cell_type": "code",
   "execution_count": 72,
   "metadata": {},
   "outputs": [
    {
     "name": "stdout",
     "output_type": "stream",
     "text": [
      "ParamSpecBase('blop', 'numeric', '', 'bit')\n",
      "ParamSpecBase('blip', 'numeric', '', 'bit')\n"
     ]
    }
   ],
   "source": [
    "for s in standls:\n",
    "    print(s)"
   ]
  },
  {
   "cell_type": "markdown",
   "metadata": {},
   "source": [
    "This means that get_parameres may return the parameters in any order."
   ]
  },
  {
   "cell_type": "markdown",
   "metadata": {},
   "source": [
    "Internally the sqlite statment will setup a trigger that returns the data in the order given by get_parameters"
   ]
  },
  {
   "cell_type": "code",
   "execution_count": 49,
   "metadata": {},
   "outputs": [
    {
     "data": {
      "text/plain": [
       "[ParamSpec('blop', 'numeric', '', 'bit', inferred_from=[], depends_on=[]),\n",
       " ParamSpec('blip', 'numeric', '', 'bit', inferred_from=[], depends_on=[])]"
      ]
     },
     "execution_count": 49,
     "metadata": {},
     "output_type": "execute_result"
    }
   ],
   "source": [
    "dataSet.get_parameters()"
   ]
  },
  {
   "cell_type": "code",
   "execution_count": 16,
   "metadata": {},
   "outputs": [
    {
     "data": {
      "text/plain": [
       "RunDescriber(InterDependencies_(dependencies={}, inferences={}, standalones=frozenset({ParamSpecBase('blop', 'numeric', '', 'bit'), ParamSpecBase('blip', 'numeric', '', 'bit')})))"
      ]
     },
     "execution_count": 16,
     "metadata": {},
     "output_type": "execute_result"
    }
   ],
   "source": [
    "dataSet.description"
   ]
  },
  {
   "cell_type": "code",
   "execution_count": 17,
   "metadata": {},
   "outputs": [
    {
     "data": {
      "text/plain": [
       "InterDependencies_(dependencies={}, inferences={}, standalones=frozenset({ParamSpecBase('blop', 'numeric', '', 'bit'), ParamSpecBase('blip', 'numeric', '', 'bit')}))"
      ]
     },
     "execution_count": 17,
     "metadata": {},
     "output_type": "execute_result"
    }
   ],
   "source": [
    "dataSet._interdeps"
   ]
  },
  {
   "cell_type": "code",
   "execution_count": null,
   "metadata": {},
   "outputs": [],
   "source": []
  }
 ],
 "metadata": {
  "kernelspec": {
   "display_name": "Python 3",
   "language": "python",
   "name": "python3"
  },
  "language_info": {
   "codemirror_mode": {
    "name": "ipython",
    "version": 3
   },
   "file_extension": ".py",
   "mimetype": "text/x-python",
   "name": "python",
   "nbconvert_exporter": "python",
   "pygments_lexer": "ipython3",
   "version": "3.6.9"
  }
 },
 "nbformat": 4,
 "nbformat_minor": 2
}
