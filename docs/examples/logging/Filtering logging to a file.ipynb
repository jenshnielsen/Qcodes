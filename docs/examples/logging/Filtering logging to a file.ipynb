{
 "cells": [
  {
   "cell_type": "code",
   "execution_count": 1,
   "metadata": {},
   "outputs": [
    {
     "name": "stdout",
     "output_type": "stream",
     "text": [
      "Logging hadn't been started.\n",
      "Activating auto-logging. Current session state plus future input saved.\n",
      "Filename       : C:\\Users\\jenielse\\.qcodes\\logs\\command_history.log\n",
      "Mode           : append\n",
      "Output logging : True\n",
      "Raw input log  : False\n",
      "Timestamping   : True\n",
      "State          : active\n",
      "Qcodes Logfile : C:\\Users\\jenielse\\.qcodes\\logs\\200204-21196-qcodes.log\n"
     ]
    }
   ],
   "source": [
    "import logging\n",
    "import qcodes as qc\n",
    "from qcodes.tests.instrument_mocks import DummyInstrument"
   ]
  },
  {
   "cell_type": "code",
   "execution_count": 2,
   "metadata": {},
   "outputs": [],
   "source": [
    "# A dummy instrument dac with two parameters ch1 and Ch2\n",
    "dac = DummyInstrument('dac', gates=['ch1', 'ch2'])\n",
    "\n",
    "# A dummy instrument dmm with two parameters ch1 and Ch2\n",
    "dmm = DummyInstrument('dmm', gates=['v1', 'v2'])"
   ]
  },
  {
   "cell_type": "code",
   "execution_count": 3,
   "metadata": {},
   "outputs": [],
   "source": [
    "from qcodes.logger.instrument_logger import filter_instrument\n",
    "from qcodes.logger.logger import handler_level\n",
    "from qcodes.logger.logger import get_file_handler"
   ]
  },
  {
   "cell_type": "code",
   "execution_count": 4,
   "metadata": {},
   "outputs": [
    {
     "name": "stderr",
     "output_type": "stream",
     "text": [
      "2020-02-04 13:01:13,584 ¦ qcodes.tests.instrument_mocks.DummyInstrument-dac ¦ WARNING ¦ <ipython-input-4-ed431083e776> ¦ <module> ¦ 5 ¦ [dac(DummyInstrument)] Bad problems on the dac\n"
     ]
    }
   ],
   "source": [
    "file_handle = get_file_handler()\n",
    "with handler_level(logging.DEBUG, file_handle):\n",
    "    with filter_instrument(dmm, handler=file_handle):\n",
    "        dmm.log.debug(\"dmm debug\")\n",
    "        dac.log.warning(\"Bad problems on the dac\")"
   ]
  },
  {
   "cell_type": "code",
   "execution_count": 6,
   "metadata": {},
   "outputs": [],
   "source": [
    "less C:\\Users\\jenielse\\.qcodes\\logs\\200204-21196-qcodes.log"
   ]
  },
  {
   "cell_type": "markdown",
   "metadata": {},
   "source": [
    "2020-02-04 13:01:12,463 ¦ qcodes.logger.logger ¦ INFO ¦ logger ¦ start_logger ¦ 240 ¦ QCoDes logger setup completed\n",
    "2020-02-04 13:01:13,378 ¦ qcodes.logger.logger ¦ INFO ¦ logger ¦ log_qcodes_versions ¦ 284 ¦ QCoDeS version: 0.10.0+51.g186291fa8.dirty\n",
    "2020-02-04 13:01:13,378 ¦ qcodes.logger.logger ¦ INFO ¦ logger ¦ log_qcodes_versions ¦ 285 ¦ QCoDeS installed in editable mode: True\n",
    "2020-02-04 13:01:13,378 ¦ qcodes.logger.logger ¦ INFO ¦ logger ¦ log_qcodes_versions ¦ 286 ¦ QCoDeS requirements versions: {'numpy': '1.18.1', 'pyvisa': '1.10.1', 'h5py': '2.10.0', 'websockets': '8.1', 'jsonschema': '3.2.0', 'ruamel.yaml': '0.16.5', 'pyzmq': '18.1.0', 'wrapt': '1.11.2', 'pandas': '1.0.0', 'tabulate': '0.8.3', 'tqdm': '4.42.0', 'applicationinsights': '0.11.9', 'matplotlib': '3.1.1', 'requirements-parser': '0.2.0', 'dataclasses': 'Not installed', 'importlib-metadata': '1.4.0', 'pyqtgraph': '0.10.0', 'slacker': 'Not installed', 'coverage': '5.0'}\n",
    "2020-02-04 13:01:13,584 ¦ qcodes.tests.instrument_mocks.DummyInstrument-dmm ¦ DEBUG ¦ <ipython-input-4-ed431083e776> ¦ <module> ¦ 4 ¦ [dmm(DummyInstrument)] dmm debug"
   ]
  },
  {
   "cell_type": "code",
   "execution_count": null,
   "metadata": {},
   "outputs": [],
   "source": []
  }
 ],
 "metadata": {
  "kernelspec": {
   "display_name": "Python 3",
   "language": "python",
   "name": "python3"
  },
  "language_info": {
   "codemirror_mode": {
    "name": "ipython",
    "version": 3
   },
   "file_extension": ".py",
   "mimetype": "text/x-python",
   "name": "python",
   "nbconvert_exporter": "python",
   "pygments_lexer": "ipython3",
   "version": "3.7.6"
  },
  "toc": {
   "base_numbering": 1,
   "nav_menu": {},
   "number_sections": true,
   "sideBar": true,
   "skip_h1_title": false,
   "title_cell": "Table of Contents",
   "title_sidebar": "Contents",
   "toc_cell": false,
   "toc_position": {
    "height": "calc(100% - 180px)",
    "left": "10px",
    "top": "150px",
    "width": "303px"
   },
   "toc_section_display": true,
   "toc_window_display": true
  },
  "varInspector": {
   "cols": {
    "lenName": 16,
    "lenType": 16,
    "lenVar": 40
   },
   "kernels_config": {
    "python": {
     "delete_cmd_postfix": "",
     "delete_cmd_prefix": "del ",
     "library": "var_list.py",
     "varRefreshCmd": "print(var_dic_list())"
    },
    "r": {
     "delete_cmd_postfix": ") ",
     "delete_cmd_prefix": "rm(",
     "library": "var_list.r",
     "varRefreshCmd": "cat(var_dic_list()) "
    }
   },
   "types_to_exclude": [
    "module",
    "function",
    "builtin_function_or_method",
    "instance",
    "_Feature"
   ],
   "window_display": false
  }
 },
 "nbformat": 4,
 "nbformat_minor": 4
}
