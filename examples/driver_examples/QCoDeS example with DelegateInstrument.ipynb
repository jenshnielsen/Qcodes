{
 "cells": [
  {
   "cell_type": "markdown",
   "id": "plain-primary",
   "metadata": {},
   "source": [
    "# Qcodes example with DelegateInstrument driver\n",
    "\n",
    "This notebooks explains how to use the `DelegateInstrument` driver.\n",
    "\n",
    "## About\n",
    "The goal of the `DelegateInstrument` driver is to make it easier to combine different parameters together into a new \"virtual\" instrument. Each parameter on a `DelegateInstrument` can point to one or more parameters on other instruments in the station.\n",
    "\n",
    "## Usage\n",
    "The way it's used is mainly by specifying an entry in the station YAML. For instance, let's say you want to use a magnetic field coil. The driver has a method set_field(value, block), that by default is set to block=True, which means the field is ramped in a way that blocks further execution until the desired value is reached. However, let's say you are creating a measurement in which you want the parameter to be set, and while the value is ramping, you want to measure other parameters. This can be done by using `DelegateInstrument` and specifying a custom `setter` for the parameter that gets and sets the magnetic field.\n",
    "\n",
    "By default, each parameter is represented by a `DelegateParameter`. The `DelegateInstrument` also supports passing multiple source parameters to a given parameter. In order to do this, simply specify multiple parameters in the dictionary values  under the `parameters` key.\n",
    "\n",
    "It can also add instrument channels, specified under a separate key `channels`, shown in the second half of the notebook."
   ]
  },
  {
   "cell_type": "code",
   "execution_count": 1,
   "id": "sapphire-quebec",
   "metadata": {
    "execution": {
     "iopub.execute_input": "2022-11-08T07:38:15.188935Z",
     "iopub.status.busy": "2022-11-08T07:38:15.188481Z",
     "iopub.status.idle": "2022-11-08T07:38:15.199121Z",
     "shell.execute_reply": "2022-11-08T07:38:15.198295Z"
    }
   },
   "outputs": [
    {
     "name": "stdout",
     "output_type": "stream",
     "text": [
      "Writing example.yaml\n"
     ]
    }
   ],
   "source": [
    "%%writefile example.yaml\n",
    "\n",
    "instruments:\n",
    "  field_X:\n",
    "    type: qcodes.tests.instrument_mocks.MockField\n",
    "\n",
    "  field:\n",
    "    type: qcodes.instrument.delegate.DelegateInstrument\n",
    "    init:\n",
    "      parameters:\n",
    "        X:\n",
    "          - field_X.field\n",
    "        ramp_rate:\n",
    "          - field_X.ramp_rate\n",
    "        combined:\n",
    "          - field_X.field\n",
    "          - field_X.ramp_rate\n",
    "      set_initial_values_on_load: true\n",
    "      initial_values:\n",
    "        ramp_rate: 1.0\n",
    "      setters:\n",
    "        X:\n",
    "          method: field_X.set_field\n",
    "          block: false"
   ]
  },
  {
   "cell_type": "code",
   "execution_count": 2,
   "id": "younger-newspaper",
   "metadata": {
    "execution": {
     "iopub.execute_input": "2022-11-08T07:38:15.203045Z",
     "iopub.status.busy": "2022-11-08T07:38:15.202523Z",
     "iopub.status.idle": "2022-11-08T07:38:15.551986Z",
     "shell.execute_reply": "2022-11-08T07:38:15.551183Z"
    }
   },
   "outputs": [],
   "source": [
    "import qcodes as qc"
   ]
  },
  {
   "cell_type": "code",
   "execution_count": 3,
   "id": "muslim-briefs",
   "metadata": {
    "execution": {
     "iopub.execute_input": "2022-11-08T07:38:15.556165Z",
     "iopub.status.busy": "2022-11-08T07:38:15.555548Z",
     "iopub.status.idle": "2022-11-08T07:38:15.573475Z",
     "shell.execute_reply": "2022-11-08T07:38:15.572764Z"
    }
   },
   "outputs": [],
   "source": [
    "station = qc.Station(config_file=\"example.yaml\")"
   ]
  },
  {
   "cell_type": "code",
   "execution_count": 4,
   "id": "greatest-antenna",
   "metadata": {
    "execution": {
     "iopub.execute_input": "2022-11-08T07:38:15.577065Z",
     "iopub.status.busy": "2022-11-08T07:38:15.576639Z",
     "iopub.status.idle": "2022-11-08T07:38:15.609219Z",
     "shell.execute_reply": "2022-11-08T07:38:15.608502Z"
    }
   },
   "outputs": [],
   "source": [
    "field_X = station.load_field_X()\n",
    "field = station.load_field(station=station)"
   ]
  },
  {
   "cell_type": "code",
   "execution_count": 5,
   "id": "every-playing",
   "metadata": {
    "execution": {
     "iopub.execute_input": "2022-11-08T07:38:15.612770Z",
     "iopub.status.busy": "2022-11-08T07:38:15.612375Z",
     "iopub.status.idle": "2022-11-08T07:38:15.623631Z",
     "shell.execute_reply": "2022-11-08T07:38:15.622874Z"
    }
   },
   "outputs": [
    {
     "data": {
      "text/plain": [
       "0.0"
      ]
     },
     "execution_count": 5,
     "metadata": {},
     "output_type": "execute_result"
    }
   ],
   "source": [
    "field.X()"
   ]
  },
  {
   "cell_type": "code",
   "execution_count": 6,
   "id": "undefined-worst",
   "metadata": {
    "execution": {
     "iopub.execute_input": "2022-11-08T07:38:15.627350Z",
     "iopub.status.busy": "2022-11-08T07:38:15.627091Z",
     "iopub.status.idle": "2022-11-08T07:38:15.630618Z",
     "shell.execute_reply": "2022-11-08T07:38:15.629785Z"
    }
   },
   "outputs": [],
   "source": [
    "field.X(1.)"
   ]
  },
  {
   "cell_type": "code",
   "execution_count": 7,
   "id": "recreational-suggestion",
   "metadata": {
    "execution": {
     "iopub.execute_input": "2022-11-08T07:38:15.634862Z",
     "iopub.status.busy": "2022-11-08T07:38:15.634183Z",
     "iopub.status.idle": "2022-11-08T07:38:15.640063Z",
     "shell.execute_reply": "2022-11-08T07:38:15.639312Z"
    }
   },
   "outputs": [
    {
     "data": {
      "text/plain": [
       "0.00013318459192911784"
      ]
     },
     "execution_count": 7,
     "metadata": {},
     "output_type": "execute_result"
    }
   ],
   "source": [
    "field.X()"
   ]
  },
  {
   "cell_type": "code",
   "execution_count": 8,
   "id": "adopted-exchange",
   "metadata": {
    "execution": {
     "iopub.execute_input": "2022-11-08T07:38:15.644423Z",
     "iopub.status.busy": "2022-11-08T07:38:15.644005Z",
     "iopub.status.idle": "2022-11-08T07:38:15.649046Z",
     "shell.execute_reply": "2022-11-08T07:38:15.648274Z"
    }
   },
   "outputs": [
    {
     "data": {
      "text/plain": [
       "0.00028262933095296225"
      ]
     },
     "execution_count": 8,
     "metadata": {},
     "output_type": "execute_result"
    }
   ],
   "source": [
    "field.X()"
   ]
  },
  {
   "cell_type": "code",
   "execution_count": 9,
   "id": "bound-broadcasting",
   "metadata": {
    "execution": {
     "iopub.execute_input": "2022-11-08T07:38:15.653229Z",
     "iopub.status.busy": "2022-11-08T07:38:15.652812Z",
     "iopub.status.idle": "2022-11-08T07:38:15.657960Z",
     "shell.execute_reply": "2022-11-08T07:38:15.657207Z"
    }
   },
   "outputs": [
    {
     "data": {
      "text/plain": [
       "0.000429069995880127"
      ]
     },
     "execution_count": 9,
     "metadata": {},
     "output_type": "execute_result"
    }
   ],
   "source": [
    "field.X()"
   ]
  },
  {
   "cell_type": "code",
   "execution_count": 10,
   "id": "casual-ghost",
   "metadata": {
    "execution": {
     "iopub.execute_input": "2022-11-08T07:38:15.662752Z",
     "iopub.status.busy": "2022-11-08T07:38:15.662339Z",
     "iopub.status.idle": "2022-11-08T07:38:15.667350Z",
     "shell.execute_reply": "2022-11-08T07:38:15.666593Z"
    }
   },
   "outputs": [
    {
     "data": {
      "text/plain": [
       "0.0005874474843343099"
      ]
     },
     "execution_count": 10,
     "metadata": {},
     "output_type": "execute_result"
    }
   ],
   "source": [
    "field.X()"
   ]
  },
  {
   "cell_type": "markdown",
   "id": "alike-process",
   "metadata": {},
   "source": [
    "As you can see, the field is now ramped in the background with the specified ramp rate. Now, let's try to create a measurement that uses this ability, and ramps the field in the background while measuring:"
   ]
  },
  {
   "cell_type": "code",
   "execution_count": 11,
   "id": "sustained-tiger",
   "metadata": {
    "execution": {
     "iopub.execute_input": "2022-11-08T07:38:15.671635Z",
     "iopub.status.busy": "2022-11-08T07:38:15.671222Z",
     "iopub.status.idle": "2022-11-08T07:38:15.678444Z",
     "shell.execute_reply": "2022-11-08T07:38:15.677729Z"
    }
   },
   "outputs": [],
   "source": [
    "field.ramp_rate(10.)\n",
    "field_X.field(0.0)"
   ]
  },
  {
   "cell_type": "code",
   "execution_count": 12,
   "id": "pharmaceutical-partition",
   "metadata": {
    "execution": {
     "iopub.execute_input": "2022-11-08T07:38:15.681787Z",
     "iopub.status.busy": "2022-11-08T07:38:15.681377Z",
     "iopub.status.idle": "2022-11-08T07:38:15.686090Z",
     "shell.execute_reply": "2022-11-08T07:38:15.685364Z"
    }
   },
   "outputs": [
    {
     "data": {
      "text/plain": [
       "0.0"
      ]
     },
     "execution_count": 12,
     "metadata": {},
     "output_type": "execute_result"
    }
   ],
   "source": [
    "field.X()"
   ]
  },
  {
   "cell_type": "code",
   "execution_count": 13,
   "id": "happy-ordinance",
   "metadata": {
    "execution": {
     "iopub.execute_input": "2022-11-08T07:38:15.689707Z",
     "iopub.status.busy": "2022-11-08T07:38:15.689020Z",
     "iopub.status.idle": "2022-11-08T07:38:16.929277Z",
     "shell.execute_reply": "2022-11-08T07:38:16.928244Z"
    }
   },
   "outputs": [
    {
     "name": "stdout",
     "output_type": "stream",
     "text": [
      "Starting experimental run with id: 60. \n"
     ]
    }
   ],
   "source": [
    "import time\n",
    "meas = qc.Measurement(station=station)\n",
    "meas.register_parameter(field.X)\n",
    "\n",
    "with meas.run() as datasaver:\n",
    "    for B in [0.1, 0.0]:\n",
    "        field.X(B)\n",
    "        while field.X() != B:\n",
    "            datasaver.add_result((field.X, field.X()))\n",
    "            time.sleep(0.01)\n",
    "    datasaver.flush_data_to_database()"
   ]
  },
  {
   "cell_type": "code",
   "execution_count": 14,
   "id": "short-medium",
   "metadata": {
    "execution": {
     "iopub.execute_input": "2022-11-08T07:38:16.934346Z",
     "iopub.status.busy": "2022-11-08T07:38:16.933606Z",
     "iopub.status.idle": "2022-11-08T07:38:17.745073Z",
     "shell.execute_reply": "2022-11-08T07:38:17.744292Z"
    }
   },
   "outputs": [
    {
     "data": {
      "text/plain": [
       "<AxesSubplot: >"
      ]
     },
     "execution_count": 14,
     "metadata": {},
     "output_type": "execute_result"
    },
    {
     "data": {
      "image/png": "[encoded data removed]",
      "text/plain": [
       "<Figure size 640x480 with 1 Axes>"
      ]
     },
     "metadata": {},
     "output_type": "display_data"
    }
   ],
   "source": [
    "datasaver.dataset.to_pandas_dataframe().plot()"
   ]
  },
  {
   "cell_type": "markdown",
   "id": "incomplete-vietnamese",
   "metadata": {},
   "source": [
    "When specifying multiple source parameters on a given parameter, the grouped parameter will automatically return a `namedtuple` that returns both values."
   ]
  },
  {
   "cell_type": "code",
   "execution_count": 15,
   "id": "dangerous-finder",
   "metadata": {
    "execution": {
     "iopub.execute_input": "2022-11-08T07:38:17.749143Z",
     "iopub.status.busy": "2022-11-08T07:38:17.748686Z",
     "iopub.status.idle": "2022-11-08T07:38:17.755458Z",
     "shell.execute_reply": "2022-11-08T07:38:17.754683Z"
    }
   },
   "outputs": [
    {
     "data": {
      "text/plain": [
       "combined(field=0.0, ramp_rate=10.0)"
      ]
     },
     "execution_count": 15,
     "metadata": {},
     "output_type": "execute_result"
    }
   ],
   "source": [
    "field.combined()"
   ]
  },
  {
   "cell_type": "markdown",
   "id": "consolidated-cooper",
   "metadata": {},
   "source": [
    "We can now also create a custom parameter that does a simple calculation based on the current parameters."
   ]
  },
  {
   "cell_type": "code",
   "execution_count": 16,
   "id": "designed-bloom",
   "metadata": {
    "execution": {
     "iopub.execute_input": "2022-11-08T07:38:17.758961Z",
     "iopub.status.busy": "2022-11-08T07:38:17.758686Z",
     "iopub.status.idle": "2022-11-08T07:38:17.763285Z",
     "shell.execute_reply": "2022-11-08T07:38:17.762479Z"
    }
   },
   "outputs": [],
   "source": [
    "import numpy as np\n",
    "\n",
    "def calculate_ramp_time(X, ramp_rate):\n",
    "    \"\"\"Calculate ramp time in seconds\"\"\"\n",
    "    dfield = np.abs(field.target_field - X)\n",
    "    return 60. * dfield/ramp_rate"
   ]
  },
  {
   "cell_type": "code",
   "execution_count": 17,
   "id": "disabled-logic",
   "metadata": {
    "execution": {
     "iopub.execute_input": "2022-11-08T07:38:17.766757Z",
     "iopub.status.busy": "2022-11-08T07:38:17.766488Z",
     "iopub.status.idle": "2022-11-08T07:38:17.770503Z",
     "shell.execute_reply": "2022-11-08T07:38:17.769714Z"
    },
    "scrolled": true
   },
   "outputs": [],
   "source": [
    "field._create_and_add_parameter(\n",
    "    group_name=\"ramp_time\",\n",
    "    station=station,\n",
    "    paths=[\"field_X.field\", \"field_X.ramp_rate\"],\n",
    "    formatter=calculate_ramp_time\n",
    ")"
   ]
  },
  {
   "cell_type": "code",
   "execution_count": 18,
   "id": "adverse-february",
   "metadata": {
    "execution": {
     "iopub.execute_input": "2022-11-08T07:38:17.773804Z",
     "iopub.status.busy": "2022-11-08T07:38:17.773546Z",
     "iopub.status.idle": "2022-11-08T07:38:17.778769Z",
     "shell.execute_reply": "2022-11-08T07:38:17.778021Z"
    }
   },
   "outputs": [
    {
     "data": {
      "text/plain": [
       "6.0"
      ]
     },
     "execution_count": 18,
     "metadata": {},
     "output_type": "execute_result"
    }
   ],
   "source": [
    "field.ramp_rate(1.0)\n",
    "field.target_field = 0.1\n",
    "field.ramp_time()"
   ]
  },
  {
   "cell_type": "code",
   "execution_count": 19,
   "id": "statutory-xerox",
   "metadata": {
    "execution": {
     "iopub.execute_input": "2022-11-08T07:38:17.782927Z",
     "iopub.status.busy": "2022-11-08T07:38:17.782668Z",
     "iopub.status.idle": "2022-11-08T07:38:17.786191Z",
     "shell.execute_reply": "2022-11-08T07:38:17.785372Z"
    }
   },
   "outputs": [],
   "source": [
    "field.X(0.1)"
   ]
  },
  {
   "cell_type": "code",
   "execution_count": 20,
   "id": "varying-auditor",
   "metadata": {
    "execution": {
     "iopub.execute_input": "2022-11-08T07:38:17.789599Z",
     "iopub.status.busy": "2022-11-08T07:38:17.789340Z",
     "iopub.status.idle": "2022-11-08T07:38:17.794176Z",
     "shell.execute_reply": "2022-11-08T07:38:17.793388Z"
    }
   },
   "outputs": [
    {
     "data": {
      "text/plain": [
       "5.993422031402589"
      ]
     },
     "execution_count": 20,
     "metadata": {},
     "output_type": "execute_result"
    }
   ],
   "source": [
    "field.ramp_time()"
   ]
  },
  {
   "cell_type": "code",
   "execution_count": 21,
   "id": "chubby-nickel",
   "metadata": {
    "execution": {
     "iopub.execute_input": "2022-11-08T07:38:17.798245Z",
     "iopub.status.busy": "2022-11-08T07:38:17.797961Z",
     "iopub.status.idle": "2022-11-08T07:38:18.804502Z",
     "shell.execute_reply": "2022-11-08T07:38:18.803609Z"
    }
   },
   "outputs": [
    {
     "data": {
      "text/plain": [
       "4.983440876007081"
      ]
     },
     "execution_count": 21,
     "metadata": {},
     "output_type": "execute_result"
    }
   ],
   "source": [
    "import time\n",
    "time.sleep(1.)\n",
    "field.ramp_time()"
   ]
  },
  {
   "cell_type": "code",
   "execution_count": 22,
   "id": "italian-liberty",
   "metadata": {
    "execution": {
     "iopub.execute_input": "2022-11-08T07:38:18.808112Z",
     "iopub.status.busy": "2022-11-08T07:38:18.807822Z",
     "iopub.status.idle": "2022-11-08T07:38:19.816672Z",
     "shell.execute_reply": "2022-11-08T07:38:19.815259Z"
    }
   },
   "outputs": [
    {
     "data": {
      "text/plain": [
       "3.9733269214630127"
      ]
     },
     "execution_count": 22,
     "metadata": {},
     "output_type": "execute_result"
    }
   ],
   "source": [
    "import time\n",
    "time.sleep(1.)\n",
    "field.ramp_time()"
   ]
  },
  {
   "cell_type": "markdown",
   "id": "c1145a2d",
   "metadata": {},
   "source": [
    "# Devices with channels"
   ]
  },
  {
   "cell_type": "markdown",
   "id": "182693f8",
   "metadata": {},
   "source": [
    "The YAML file below specifies the instruments with the channels/parameters we wish to group into a new instrument, here called \"device\". The first example simply adds the channel 'as is' using self.add_submodule, while the readout parameter is added as a DelegateParameter."
   ]
  },
  {
   "cell_type": "code",
   "execution_count": 23,
   "id": "a88d5103",
   "metadata": {
    "execution": {
     "iopub.execute_input": "2022-11-08T07:38:19.821784Z",
     "iopub.status.busy": "2022-11-08T07:38:19.821168Z",
     "iopub.status.idle": "2022-11-08T07:38:19.826691Z",
     "shell.execute_reply": "2022-11-08T07:38:19.825841Z"
    }
   },
   "outputs": [
    {
     "name": "stdout",
     "output_type": "stream",
     "text": [
      "Overwriting example.yaml\n"
     ]
    }
   ],
   "source": [
    "%%writefile example.yaml\n",
    "\n",
    "instruments:\n",
    "  lockin:\n",
    "    type: qcodes.tests.instrument_mocks.MockLockin\n",
    "\n",
    "  dac:\n",
    "    type: qcodes.tests.instrument_mocks.MockDAC   \n",
    "\n",
    "  device:\n",
    "    type: qcodes.instrument.delegate.DelegateInstrument\n",
    "    init:\n",
    "      parameters:\n",
    "        readout: lockin.X\n",
    "      channels:\n",
    "        gate_1: dac.ch01\n",
    "      set_initial_values_on_load: true\n",
    "      initial_values:\n",
    "        readout: 1e-5\n",
    "        gate_1.voltage.post_delay: 0.01"
   ]
  },
  {
   "cell_type": "code",
   "execution_count": 24,
   "id": "91f2a8ab",
   "metadata": {
    "execution": {
     "iopub.execute_input": "2022-11-08T07:38:19.831391Z",
     "iopub.status.busy": "2022-11-08T07:38:19.830831Z",
     "iopub.status.idle": "2022-11-08T07:38:19.846349Z",
     "shell.execute_reply": "2022-11-08T07:38:19.845577Z"
    }
   },
   "outputs": [],
   "source": [
    "station = qc.Station(config_file=\"example.yaml\")"
   ]
  },
  {
   "cell_type": "code",
   "execution_count": 25,
   "id": "45b22762",
   "metadata": {
    "execution": {
     "iopub.execute_input": "2022-11-08T07:38:19.850174Z",
     "iopub.status.busy": "2022-11-08T07:38:19.849709Z",
     "iopub.status.idle": "2022-11-08T07:38:19.897043Z",
     "shell.execute_reply": "2022-11-08T07:38:19.895986Z"
    }
   },
   "outputs": [],
   "source": [
    "lockin = station.load_lockin()\n",
    "dac = station.load_dac()\n",
    "device = station.load_device(station=station)"
   ]
  },
  {
   "cell_type": "code",
   "execution_count": 26,
   "id": "9bfa54fb",
   "metadata": {
    "execution": {
     "iopub.execute_input": "2022-11-08T07:38:19.902027Z",
     "iopub.status.busy": "2022-11-08T07:38:19.901516Z",
     "iopub.status.idle": "2022-11-08T07:38:19.905784Z",
     "shell.execute_reply": "2022-11-08T07:38:19.905156Z"
    }
   },
   "outputs": [
    {
     "name": "stdout",
     "output_type": "stream",
     "text": [
      "<MockDACChannel: dac_ch01 of MockDAC: dac>\n",
      "0.01\n"
     ]
    }
   ],
   "source": [
    "print(device.gate_1)\n",
    "print(device.gate_1.voltage.post_delay)"
   ]
  },
  {
   "cell_type": "code",
   "execution_count": 27,
   "id": "91d57fe0",
   "metadata": {
    "execution": {
     "iopub.execute_input": "2022-11-08T07:38:19.909360Z",
     "iopub.status.busy": "2022-11-08T07:38:19.908825Z",
     "iopub.status.idle": "2022-11-08T07:38:19.925162Z",
     "shell.execute_reply": "2022-11-08T07:38:19.924340Z"
    }
   },
   "outputs": [
    {
     "name": "stdout",
     "output_type": "stream",
     "text": [
      "0.0\n"
     ]
    },
    {
     "data": {
      "text/plain": [
       "-0.6"
      ]
     },
     "execution_count": 27,
     "metadata": {},
     "output_type": "execute_result"
    }
   ],
   "source": [
    "print(device.gate_1.voltage())\n",
    "device.gate_1.voltage(-0.6)\n",
    "device.gate_1.voltage()"
   ]
  },
  {
   "cell_type": "markdown",
   "id": "37e1c2c3",
   "metadata": {},
   "source": [
    "The second example adds a channel using a custom channel class, which takes the initial channel and its name as input and has a parameter current_valid_ranges."
   ]
  },
  {
   "cell_type": "code",
   "execution_count": 28,
   "id": "7e4becd1",
   "metadata": {
    "execution": {
     "iopub.execute_input": "2022-11-08T07:38:19.929488Z",
     "iopub.status.busy": "2022-11-08T07:38:19.929195Z",
     "iopub.status.idle": "2022-11-08T07:38:19.934433Z",
     "shell.execute_reply": "2022-11-08T07:38:19.933696Z"
    }
   },
   "outputs": [
    {
     "name": "stdout",
     "output_type": "stream",
     "text": [
      "Overwriting example.yaml\n"
     ]
    }
   ],
   "source": [
    "%%writefile example.yaml\n",
    "\n",
    "instruments:\n",
    "  lockin:\n",
    "    type: qcodes.tests.instrument_mocks.MockLockin\n",
    "\n",
    "  dac:\n",
    "    type: qcodes.tests.instrument_mocks.MockDAC   \n",
    "\n",
    "  device:\n",
    "    type: qcodes.instrument.delegate.DelegateInstrument\n",
    "    init:\n",
    "      parameters:\n",
    "        readout: lockin.X\n",
    "      channels:\n",
    "        type: qcodes.tests.instrument_mocks.MockCustomChannel\n",
    "        gate_1: \n",
    "          channel: dac.ch01\n",
    "          current_valid_range: [-0.5, 0]\n",
    "      set_initial_values_on_load: true\n",
    "      initial_values:\n",
    "        readout: 1e-5"
   ]
  },
  {
   "cell_type": "code",
   "execution_count": 29,
   "id": "2e3ca8d5",
   "metadata": {
    "execution": {
     "iopub.execute_input": "2022-11-08T07:38:19.938160Z",
     "iopub.status.busy": "2022-11-08T07:38:19.937405Z",
     "iopub.status.idle": "2022-11-08T07:38:19.942838Z",
     "shell.execute_reply": "2022-11-08T07:38:19.942058Z"
    }
   },
   "outputs": [],
   "source": [
    "lockin.close()\n",
    "dac.close()"
   ]
  },
  {
   "cell_type": "code",
   "execution_count": 30,
   "id": "2f2d2b2b",
   "metadata": {
    "execution": {
     "iopub.execute_input": "2022-11-08T07:38:19.946940Z",
     "iopub.status.busy": "2022-11-08T07:38:19.946497Z",
     "iopub.status.idle": "2022-11-08T07:38:19.995745Z",
     "shell.execute_reply": "2022-11-08T07:38:19.994914Z"
    }
   },
   "outputs": [],
   "source": [
    "station = qc.Station(config_file=\"example.yaml\")\n",
    "lockin = station.load_lockin()\n",
    "dac = station.load_dac()"
   ]
  },
  {
   "cell_type": "code",
   "execution_count": 31,
   "id": "9cb653b0",
   "metadata": {
    "execution": {
     "iopub.execute_input": "2022-11-08T07:38:19.999668Z",
     "iopub.status.busy": "2022-11-08T07:38:19.999376Z",
     "iopub.status.idle": "2022-11-08T07:38:20.016734Z",
     "shell.execute_reply": "2022-11-08T07:38:20.015885Z"
    }
   },
   "outputs": [],
   "source": [
    "device = station.load_device(station=station)"
   ]
  },
  {
   "cell_type": "code",
   "execution_count": 32,
   "id": "433d9646",
   "metadata": {
    "execution": {
     "iopub.execute_input": "2022-11-08T07:38:20.020827Z",
     "iopub.status.busy": "2022-11-08T07:38:20.020520Z",
     "iopub.status.idle": "2022-11-08T07:38:20.025818Z",
     "shell.execute_reply": "2022-11-08T07:38:20.025003Z"
    }
   },
   "outputs": [
    {
     "data": {
      "text/plain": [
       "<MockCustomChannel: dac_gate_1 of MockDAC: dac>"
      ]
     },
     "execution_count": 32,
     "metadata": {},
     "output_type": "execute_result"
    }
   ],
   "source": [
    "device.gate_1"
   ]
  },
  {
   "cell_type": "code",
   "execution_count": 33,
   "id": "3d2b8faa",
   "metadata": {
    "execution": {
     "iopub.execute_input": "2022-11-08T07:38:20.030329Z",
     "iopub.status.busy": "2022-11-08T07:38:20.030044Z",
     "iopub.status.idle": "2022-11-08T07:38:20.033763Z",
     "shell.execute_reply": "2022-11-08T07:38:20.032963Z"
    }
   },
   "outputs": [],
   "source": [
    "device.gate_1.voltage(-0.3)"
   ]
  },
  {
   "cell_type": "code",
   "execution_count": 34,
   "id": "49def342",
   "metadata": {
    "execution": {
     "iopub.execute_input": "2022-11-08T07:38:20.037366Z",
     "iopub.status.busy": "2022-11-08T07:38:20.037088Z",
     "iopub.status.idle": "2022-11-08T07:38:20.042125Z",
     "shell.execute_reply": "2022-11-08T07:38:20.041302Z"
    }
   },
   "outputs": [
    {
     "data": {
      "text/plain": [
       "-0.3"
      ]
     },
     "execution_count": 34,
     "metadata": {},
     "output_type": "execute_result"
    }
   ],
   "source": [
    "device.gate_1.voltage()"
   ]
  },
  {
   "cell_type": "markdown",
   "id": "7b122128",
   "metadata": {},
   "source": [
    "The MockCustomChannel has a parameter `current_valid_range`."
   ]
  },
  {
   "cell_type": "code",
   "execution_count": 35,
   "id": "d32a06fd",
   "metadata": {
    "execution": {
     "iopub.execute_input": "2022-11-08T07:38:20.046632Z",
     "iopub.status.busy": "2022-11-08T07:38:20.046358Z",
     "iopub.status.idle": "2022-11-08T07:38:20.051552Z",
     "shell.execute_reply": "2022-11-08T07:38:20.050762Z"
    }
   },
   "outputs": [
    {
     "data": {
      "text/plain": [
       "[-0.5, 0]"
      ]
     },
     "execution_count": 35,
     "metadata": {},
     "output_type": "execute_result"
    }
   ],
   "source": [
    "device.gate_1.current_valid_range()"
   ]
  }
 ],
 "metadata": {
  "kernelspec": {
   "display_name": "Python 3 (ipykernel)",
   "language": "python",
   "name": "python3"
  },
  "language_info": {
   "codemirror_mode": {
    "name": "ipython",
    "version": 3
   },
   "file_extension": ".py",
   "mimetype": "text/x-python",
   "name": "python",
   "nbconvert_exporter": "python",
   "pygments_lexer": "ipython3",
   "version": "3.10.8"
  }
 },
 "nbformat": 4,
 "nbformat_minor": 5
}
