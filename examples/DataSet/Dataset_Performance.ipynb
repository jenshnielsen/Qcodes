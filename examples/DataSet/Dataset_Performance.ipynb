{
 "cells": [
  {
   "cell_type": "markdown",
   "metadata": {},
   "source": [
    "# DataSet Performance\n",
    "\n",
    "This notebook shows the trade-off between inserting data into a database row-by-row and as binary blobs. Inserting the data row-by-row means that we have direct access to all the data and may perform queries directly on the values of the data. On the other hand, as we shall see, this is much slower than inserting the data directly as binary blobs."
   ]
  },
  {
   "cell_type": "markdown",
   "metadata": {},
   "source": [
    "First, we choose a new location for the database to ensure that we don't add a bunch of benchmarking data to the default one."
   ]
  },
  {
   "cell_type": "code",
   "execution_count": 1,
   "metadata": {
    "execution": {
     "iopub.execute_input": "2022-11-08T07:31:47.296588Z",
     "iopub.status.busy": "2022-11-08T07:31:47.295884Z",
     "iopub.status.idle": "2022-11-08T07:31:47.673361Z",
     "shell.execute_reply": "2022-11-08T07:31:47.672279Z"
    }
   },
   "outputs": [],
   "source": [
    "import os\n",
    "cwd = os.getcwd()\n",
    "import qcodes as qc\n",
    "qc.config[\"core\"][\"db_location\"] = os.path.join(cwd, 'testing.db')\n"
   ]
  },
  {
   "cell_type": "code",
   "execution_count": 2,
   "metadata": {
    "execution": {
     "iopub.execute_input": "2022-11-08T07:31:47.678872Z",
     "iopub.status.busy": "2022-11-08T07:31:47.678268Z",
     "iopub.status.idle": "2022-11-08T07:31:48.130440Z",
     "shell.execute_reply": "2022-11-08T07:31:48.129487Z"
    }
   },
   "outputs": [],
   "source": [
    "%matplotlib inline\n",
    "import time\n",
    "import matplotlib.pyplot as plt\n",
    "import numpy as np\n",
    "\n",
    "import qcodes as qc\n",
    "from qcodes.instrument.parameter import ManualParameter\n",
    "from qcodes.dataset.experiment_container import (Experiment,\n",
    "                                                 load_last_experiment,\n",
    "                                                 new_experiment)\n",
    "from qcodes.dataset.sqlite.database import initialise_database\n",
    "from qcodes import load_or_create_experiment\n",
    "from qcodes.dataset.measurements import Measurement"
   ]
  },
  {
   "cell_type": "code",
   "execution_count": 3,
   "metadata": {
    "execution": {
     "iopub.execute_input": "2022-11-08T07:31:48.135524Z",
     "iopub.status.busy": "2022-11-08T07:31:48.134839Z",
     "iopub.status.idle": "2022-11-08T07:31:48.177743Z",
     "shell.execute_reply": "2022-11-08T07:31:48.176963Z"
    }
   },
   "outputs": [],
   "source": [
    "initialise_database()\n",
    "exp = load_or_create_experiment(experiment_name='tutorial_exp', sample_name=\"no sample\")"
   ]
  },
  {
   "cell_type": "markdown",
   "metadata": {},
   "source": [
    "Here, we define a simple function to benchmark the time it takes to insert n points with either numeric or array data type.\n",
    "We will compare both the time used to call ``add_result`` and the time used for the full measurement."
   ]
  },
  {
   "cell_type": "code",
   "execution_count": 4,
   "metadata": {
    "execution": {
     "iopub.execute_input": "2022-11-08T07:31:48.181993Z",
     "iopub.status.busy": "2022-11-08T07:31:48.181704Z",
     "iopub.status.idle": "2022-11-08T07:31:48.191117Z",
     "shell.execute_reply": "2022-11-08T07:31:48.190413Z"
    }
   },
   "outputs": [],
   "source": [
    "def insert_data(paramtype, npoints, nreps=1):\n",
    "\n",
    "    meas = Measurement(exp=exp)\n",
    "\n",
    "    x1 = ManualParameter('x1')\n",
    "    x2 = ManualParameter('x2')\n",
    "    x3 = ManualParameter('x3')\n",
    "    y1 = ManualParameter('y1')\n",
    "    y2 = ManualParameter('y2')\n",
    "\n",
    "    meas.register_parameter(x1, paramtype=paramtype)\n",
    "    meas.register_parameter(x2, paramtype=paramtype)\n",
    "    meas.register_parameter(x3, paramtype=paramtype)\n",
    "    meas.register_parameter(y1, setpoints=[x1, x2, x3],\n",
    "                            paramtype=paramtype)\n",
    "    meas.register_parameter(y2, setpoints=[x1, x2, x3],\n",
    "                            paramtype=paramtype)\n",
    "    start = time.perf_counter()\n",
    "    with meas.run() as datasaver:\n",
    "        start_adding = time.perf_counter()\n",
    "        for i in range(nreps):\n",
    "            datasaver.add_result((x1, np.random.rand(npoints)),\n",
    "                                 (x2, np.random.rand(npoints)),\n",
    "                                 (x3, np.random.rand(npoints)),\n",
    "                                 (y1, np.random.rand(npoints)),\n",
    "                                 (y2, np.random.rand(npoints)))\n",
    "        stop_adding = time.perf_counter()\n",
    "        run_id = datasaver.run_id\n",
    "    stop = time.perf_counter()\n",
    "    tot_time = stop - start\n",
    "    add_time = stop_adding - start_adding\n",
    "    return tot_time, add_time, run_id"
   ]
  },
  {
   "cell_type": "markdown",
   "metadata": {},
   "source": [
    "## Comparison between numeric/array data and binary blob"
   ]
  },
  {
   "cell_type": "markdown",
   "metadata": {},
   "source": [
    "### Case1: Short experiment time"
   ]
  },
  {
   "cell_type": "code",
   "execution_count": 5,
   "metadata": {
    "execution": {
     "iopub.execute_input": "2022-11-08T07:31:48.195062Z",
     "iopub.status.busy": "2022-11-08T07:31:48.194793Z",
     "iopub.status.idle": "2022-11-08T07:31:48.709424Z",
     "shell.execute_reply": "2022-11-08T07:31:48.708504Z"
    }
   },
   "outputs": [
    {
     "name": "stdout",
     "output_type": "stream",
     "text": [
      "Starting experimental run with id: 1. \n",
      "Starting experimental run with id: 2. \n",
      "Starting experimental run with id: 3. \n",
      "Starting experimental run with id: 4. \n",
      "Starting experimental run with id: 5. \n",
      "Starting experimental run with id: 6. \n",
      "Starting experimental run with id: 7. \n",
      "Starting experimental run with id: 8. \n",
      "Starting experimental run with id: 9. \n"
     ]
    },
    {
     "name": "stdout",
     "output_type": "stream",
     "text": [
      "Starting experimental run with id: 10. \n",
      "Starting experimental run with id: 11. \n",
      "Starting experimental run with id: 12. \n",
      "Starting experimental run with id: 13. \n"
     ]
    },
    {
     "name": "stdout",
     "output_type": "stream",
     "text": [
      "Starting experimental run with id: 14. \n"
     ]
    }
   ],
   "source": [
    "sizes = [1,500,1000,2000,3000,4000,5000]\n",
    "t_numeric = []\n",
    "t_numeric_add = []\n",
    "t_array = []\n",
    "t_array_add = []\n",
    "for size in sizes:\n",
    "    tn, tna, run_id_n =  insert_data('numeric', size)\n",
    "    t_numeric.append(tn)\n",
    "    t_numeric_add.append(tna)\n",
    "\n",
    "    ta, taa, run_id_a =  insert_data('array', size)\n",
    "    t_array.append(ta)\n",
    "    t_array_add.append(taa)"
   ]
  },
  {
   "cell_type": "code",
   "execution_count": 6,
   "metadata": {
    "execution": {
     "iopub.execute_input": "2022-11-08T07:31:48.713581Z",
     "iopub.status.busy": "2022-11-08T07:31:48.712901Z",
     "iopub.status.idle": "2022-11-08T07:31:48.975474Z",
     "shell.execute_reply": "2022-11-08T07:31:48.974490Z"
    }
   },
   "outputs": [
    {
     "data": {
      "image/png": "[encoded data removed]",
      "text/plain": [
       "<Figure size 640x480 with 1 Axes>"
      ]
     },
     "metadata": {},
     "output_type": "display_data"
    }
   ],
   "source": [
    "fig, ax = plt.subplots(1,1)\n",
    "ax.plot(sizes, t_numeric, 'o-', label='Inserting row-by-row')\n",
    "ax.plot(sizes, t_numeric_add, 'o-', label='Inserting row-by-row: add_result only')\n",
    "ax.plot(sizes, t_array, 'd-', label='Inserting as binary blob')\n",
    "ax.plot(sizes, t_array_add, 'd-', label='Inserting as binary blob: add_result only')\n",
    "ax.legend()\n",
    "ax.set_xlabel('Array length')\n",
    "ax.set_ylabel('Time (s)')\n",
    "fig.tight_layout()"
   ]
  },
  {
   "cell_type": "markdown",
   "metadata": {},
   "source": [
    "As shown in the latter figure, the time to setup and and close the experiment is approximately 0.4 sec. In case of small array sizes, the difference between inserting values of data as arrays and inserting them row-by-row is relatively unimportant. At larger array sizes, i.e. above 10000 points, the cost of writing data as individual datapoints starts to become important.\n"
   ]
  },
  {
   "cell_type": "markdown",
   "metadata": {},
   "source": [
    "### Case2: Long experiment time "
   ]
  },
  {
   "cell_type": "code",
   "execution_count": 7,
   "metadata": {
    "execution": {
     "iopub.execute_input": "2022-11-08T07:31:48.979847Z",
     "iopub.status.busy": "2022-11-08T07:31:48.979551Z",
     "iopub.status.idle": "2022-11-08T07:32:21.755124Z",
     "shell.execute_reply": "2022-11-08T07:32:21.754080Z"
    }
   },
   "outputs": [
    {
     "name": "stdout",
     "output_type": "stream",
     "text": [
      "Starting experimental run with id: 15. \n",
      "Starting experimental run with id: 16. \n",
      "Starting experimental run with id: 17. \n"
     ]
    },
    {
     "name": "stdout",
     "output_type": "stream",
     "text": [
      "Starting experimental run with id: 18. \n",
      "Starting experimental run with id: 19. \n"
     ]
    },
    {
     "name": "stdout",
     "output_type": "stream",
     "text": [
      "Starting experimental run with id: 20. \n",
      "Starting experimental run with id: 21. \n"
     ]
    },
    {
     "name": "stdout",
     "output_type": "stream",
     "text": [
      "Starting experimental run with id: 22. \n"
     ]
    },
    {
     "name": "stdout",
     "output_type": "stream",
     "text": [
      "Starting experimental run with id: 23. \n"
     ]
    },
    {
     "name": "stdout",
     "output_type": "stream",
     "text": [
      "Starting experimental run with id: 24. \n"
     ]
    },
    {
     "name": "stdout",
     "output_type": "stream",
     "text": [
      "Starting experimental run with id: 25. \n"
     ]
    },
    {
     "name": "stdout",
     "output_type": "stream",
     "text": [
      "Starting experimental run with id: 26. \n"
     ]
    },
    {
     "name": "stdout",
     "output_type": "stream",
     "text": [
      "Starting experimental run with id: 27. \n"
     ]
    },
    {
     "name": "stdout",
     "output_type": "stream",
     "text": [
      "Starting experimental run with id: 28. \n"
     ]
    }
   ],
   "source": [
    "sizes = [1,500,1000,2000,3000,4000,5000]\n",
    "nreps = 100\n",
    "t_numeric = []\n",
    "t_numeric_add = []\n",
    "t_numeric_run_ids = []\n",
    "t_array = []\n",
    "t_array_add = []\n",
    "t_array_run_ids = []\n",
    "for size in sizes:\n",
    "    tn, tna, run_id_n =  insert_data('numeric', size, nreps=nreps)\n",
    "    t_numeric.append(tn)\n",
    "    t_numeric_add.append(tna)\n",
    "    t_numeric_run_ids.append(run_id_n)\n",
    "\n",
    "    ta, taa, run_id_a =  insert_data('array', size, nreps=nreps)\n",
    "    t_array.append(ta)\n",
    "    t_array_add.append(taa)\n",
    "    t_array_run_ids.append(run_id_a)"
   ]
  },
  {
   "cell_type": "code",
   "execution_count": 8,
   "metadata": {
    "execution": {
     "iopub.execute_input": "2022-11-08T07:32:21.759609Z",
     "iopub.status.busy": "2022-11-08T07:32:21.758922Z",
     "iopub.status.idle": "2022-11-08T07:32:21.983556Z",
     "shell.execute_reply": "2022-11-08T07:32:21.982650Z"
    },
    "scrolled": true
   },
   "outputs": [
    {
     "data": {
      "image/png": "[encoded data removed]",
      "text/plain": [
       "<Figure size 640x480 with 1 Axes>"
      ]
     },
     "metadata": {},
     "output_type": "display_data"
    }
   ],
   "source": [
    "fig, ax = plt.subplots(1,1)\n",
    "ax.plot(sizes, t_numeric, 'o-', label='Inserting row-by-row')\n",
    "ax.plot(sizes, t_numeric_add, 'o-', label='Inserting row-by-row: add_result only')\n",
    "ax.plot(sizes, t_array, 'd-', label='Inserting as binary blob')\n",
    "ax.plot(sizes, t_array_add, 'd-', label='Inserting as binary blob: add_result only')\n",
    "ax.legend()\n",
    "ax.set_xlabel('Array length')\n",
    "ax.set_ylabel('Time (s)')\n",
    "fig.tight_layout()"
   ]
  },
  {
   "cell_type": "markdown",
   "metadata": {},
   "source": [
    "However, as we increase the length of the experiment, as seen here by repeating the insertion 100 times, we see a big difference between inserting values of the data row-by-row and inserting it as a binary blob."
   ]
  },
  {
   "cell_type": "markdown",
   "metadata": {},
   "source": [
    "## Loading the data "
   ]
  },
  {
   "cell_type": "code",
   "execution_count": 9,
   "metadata": {
    "execution": {
     "iopub.execute_input": "2022-11-08T07:32:21.988032Z",
     "iopub.status.busy": "2022-11-08T07:32:21.987454Z",
     "iopub.status.idle": "2022-11-08T07:32:21.991553Z",
     "shell.execute_reply": "2022-11-08T07:32:21.990774Z"
    }
   },
   "outputs": [],
   "source": [
    "from qcodes.dataset.data_set import load_by_id"
   ]
  },
  {
   "cell_type": "markdown",
   "metadata": {},
   "source": [
    "As usual you can load the data by using the ``load_by_id`` function but you will notice that the different storage methods\n",
    "are reflected in shape of the data as it is retrieved. "
   ]
  },
  {
   "cell_type": "code",
   "execution_count": 10,
   "metadata": {
    "execution": {
     "iopub.execute_input": "2022-11-08T07:32:21.995496Z",
     "iopub.status.busy": "2022-11-08T07:32:21.994796Z",
     "iopub.status.idle": "2022-11-08T07:32:21.998629Z",
     "shell.execute_reply": "2022-11-08T07:32:21.997858Z"
    }
   },
   "outputs": [],
   "source": [
    "run_id_n = t_numeric_run_ids[0]\n",
    "run_id_a = t_array_run_ids[0]"
   ]
  },
  {
   "cell_type": "code",
   "execution_count": 11,
   "metadata": {
    "execution": {
     "iopub.execute_input": "2022-11-08T07:32:22.002055Z",
     "iopub.status.busy": "2022-11-08T07:32:22.001619Z",
     "iopub.status.idle": "2022-11-08T07:32:22.011525Z",
     "shell.execute_reply": "2022-11-08T07:32:22.010768Z"
    },
    "scrolled": true
   },
   "outputs": [
    {
     "data": {
      "text/plain": [
       "{'x1': {'x1': array([0.17147793, 0.17147793, 0.41587135, 0.41587135, 0.3815038 ,\n",
       "         0.3815038 , 0.84625975, 0.84625975, 0.85452224, 0.85452224,\n",
       "         0.38031186, 0.38031186, 0.73131934, 0.73131934, 0.93177847,\n",
       "         0.93177847, 0.23783401, 0.23783401, 0.7260561 , 0.7260561 ,\n",
       "         0.62909877, 0.62909877, 0.23237939, 0.23237939, 0.81259611,\n",
       "         0.81259611, 0.18910919, 0.18910919, 0.48962689, 0.48962689,\n",
       "         0.3927878 , 0.3927878 , 0.26987123, 0.26987123, 0.0120795 ,\n",
       "         0.0120795 , 0.68934723, 0.68934723, 0.27590268, 0.27590268,\n",
       "         0.29373909, 0.29373909, 0.14306279, 0.14306279, 0.91410155,\n",
       "         0.91410155, 0.19293523, 0.19293523, 0.69968246, 0.69968246,\n",
       "         0.3155585 , 0.3155585 , 0.77700417, 0.77700417, 0.40863012,\n",
       "         0.40863012, 0.57025157, 0.57025157, 0.08003891, 0.08003891,\n",
       "         0.23449048, 0.23449048, 0.56478563, 0.56478563, 0.11137665,\n",
       "         0.11137665, 0.65352223, 0.65352223, 0.87593765, 0.87593765,\n",
       "         0.1456743 , 0.1456743 , 0.32206845, 0.32206845, 0.97633386,\n",
       "         0.97633386, 0.30848656, 0.30848656, 0.82971029, 0.82971029,\n",
       "         0.83758475, 0.83758475, 0.62735387, 0.62735387, 0.23318317,\n",
       "         0.23318317, 0.98555032, 0.98555032, 0.9119617 , 0.9119617 ,\n",
       "         0.07664916, 0.07664916, 0.23417655, 0.23417655, 0.83224578,\n",
       "         0.83224578, 0.67492856, 0.67492856, 0.93389228, 0.93389228,\n",
       "         0.84994793, 0.84994793, 0.65086708, 0.65086708, 0.84872954,\n",
       "         0.84872954, 0.71769645, 0.71769645, 0.06064249, 0.06064249,\n",
       "         0.65119357, 0.65119357, 0.8215433 , 0.8215433 , 0.65029734,\n",
       "         0.65029734, 0.38334478, 0.38334478, 0.33244849, 0.33244849,\n",
       "         0.35238855, 0.35238855, 0.71837853, 0.71837853, 0.13423347,\n",
       "         0.13423347, 0.33560701, 0.33560701, 0.27434256, 0.27434256,\n",
       "         0.31046491, 0.31046491, 0.41942379, 0.41942379, 0.91358799,\n",
       "         0.91358799, 0.38063747, 0.38063747, 0.68987044, 0.68987044,\n",
       "         0.88023855, 0.88023855, 0.94196336, 0.94196336, 0.79577217,\n",
       "         0.79577217, 0.55932032, 0.55932032, 0.88264403, 0.88264403,\n",
       "         0.40282463, 0.40282463, 0.20890988, 0.20890988, 0.98140373,\n",
       "         0.98140373, 0.19354195, 0.19354195, 0.13177996, 0.13177996,\n",
       "         0.64812501, 0.64812501, 0.67523594, 0.67523594, 0.07286604,\n",
       "         0.07286604, 0.23207152, 0.23207152, 0.07999526, 0.07999526,\n",
       "         0.6257738 , 0.6257738 , 0.6621516 , 0.6621516 , 0.56024001,\n",
       "         0.56024001, 0.30312844, 0.30312844, 0.58703052, 0.58703052,\n",
       "         0.27266567, 0.27266567, 0.24413349, 0.24413349, 0.79741692,\n",
       "         0.79741692, 0.17677739, 0.17677739, 0.7622922 , 0.7622922 ,\n",
       "         0.09762206, 0.09762206, 0.49735896, 0.49735896, 0.03285359,\n",
       "         0.03285359, 0.86789347, 0.86789347, 0.92292509, 0.92292509])}}"
      ]
     },
     "execution_count": 11,
     "metadata": {},
     "output_type": "execute_result"
    }
   ],
   "source": [
    "ds = load_by_id(run_id_n)\n",
    "ds.get_parameter_data('x1')"
   ]
  },
  {
   "cell_type": "markdown",
   "metadata": {},
   "source": [
    "And a dataset stored as binary arrays"
   ]
  },
  {
   "cell_type": "code",
   "execution_count": 12,
   "metadata": {
    "execution": {
     "iopub.execute_input": "2022-11-08T07:32:22.015200Z",
     "iopub.status.busy": "2022-11-08T07:32:22.014777Z",
     "iopub.status.idle": "2022-11-08T07:32:22.040414Z",
     "shell.execute_reply": "2022-11-08T07:32:22.039471Z"
    },
    "scrolled": true
   },
   "outputs": [
    {
     "data": {
      "text/plain": [
       "{'x1': {'x1': array([[0.45878876],\n",
       "         [0.45878876],\n",
       "         [0.3890967 ],\n",
       "         [0.3890967 ],\n",
       "         [0.9344472 ],\n",
       "         [0.9344472 ],\n",
       "         [0.86118374],\n",
       "         [0.86118374],\n",
       "         [0.59371904],\n",
       "         [0.59371904],\n",
       "         [0.26853635],\n",
       "         [0.26853635],\n",
       "         [0.58325166],\n",
       "         [0.58325166],\n",
       "         [0.14040568],\n",
       "         [0.14040568],\n",
       "         [0.81241091],\n",
       "         [0.81241091],\n",
       "         [0.24847538],\n",
       "         [0.24847538],\n",
       "         [0.45873668],\n",
       "         [0.45873668],\n",
       "         [0.87173136],\n",
       "         [0.87173136],\n",
       "         [0.33525596],\n",
       "         [0.33525596],\n",
       "         [0.92214071],\n",
       "         [0.92214071],\n",
       "         [0.65028993],\n",
       "         [0.65028993],\n",
       "         [0.31612173],\n",
       "         [0.31612173],\n",
       "         [0.68402136],\n",
       "         [0.68402136],\n",
       "         [0.98596926],\n",
       "         [0.98596926],\n",
       "         [0.68152119],\n",
       "         [0.68152119],\n",
       "         [0.14609796],\n",
       "         [0.14609796],\n",
       "         [0.8658897 ],\n",
       "         [0.8658897 ],\n",
       "         [0.63121021],\n",
       "         [0.63121021],\n",
       "         [0.9857458 ],\n",
       "         [0.9857458 ],\n",
       "         [0.30829383],\n",
       "         [0.30829383],\n",
       "         [0.32010492],\n",
       "         [0.32010492],\n",
       "         [0.16382848],\n",
       "         [0.16382848],\n",
       "         [0.39956117],\n",
       "         [0.39956117],\n",
       "         [0.69457177],\n",
       "         [0.69457177],\n",
       "         [0.96066562],\n",
       "         [0.96066562],\n",
       "         [0.72723065],\n",
       "         [0.72723065],\n",
       "         [0.02991346],\n",
       "         [0.02991346],\n",
       "         [0.75368354],\n",
       "         [0.75368354],\n",
       "         [0.33451847],\n",
       "         [0.33451847],\n",
       "         [0.46963335],\n",
       "         [0.46963335],\n",
       "         [0.7349866 ],\n",
       "         [0.7349866 ],\n",
       "         [0.80486662],\n",
       "         [0.80486662],\n",
       "         [0.17570733],\n",
       "         [0.17570733],\n",
       "         [0.60118056],\n",
       "         [0.60118056],\n",
       "         [0.71727325],\n",
       "         [0.71727325],\n",
       "         [0.96419459],\n",
       "         [0.96419459],\n",
       "         [0.42726419],\n",
       "         [0.42726419],\n",
       "         [0.9147213 ],\n",
       "         [0.9147213 ],\n",
       "         [0.34732124],\n",
       "         [0.34732124],\n",
       "         [0.34851611],\n",
       "         [0.34851611],\n",
       "         [0.81658885],\n",
       "         [0.81658885],\n",
       "         [0.48568122],\n",
       "         [0.48568122],\n",
       "         [0.69727943],\n",
       "         [0.69727943],\n",
       "         [0.11772091],\n",
       "         [0.11772091],\n",
       "         [0.63367289],\n",
       "         [0.63367289],\n",
       "         [0.93899064],\n",
       "         [0.93899064],\n",
       "         [0.2859442 ],\n",
       "         [0.2859442 ],\n",
       "         [0.93196998],\n",
       "         [0.93196998],\n",
       "         [0.41381835],\n",
       "         [0.41381835],\n",
       "         [0.3298779 ],\n",
       "         [0.3298779 ],\n",
       "         [0.56833203],\n",
       "         [0.56833203],\n",
       "         [0.2156143 ],\n",
       "         [0.2156143 ],\n",
       "         [0.76761881],\n",
       "         [0.76761881],\n",
       "         [0.06160299],\n",
       "         [0.06160299],\n",
       "         [0.02119148],\n",
       "         [0.02119148],\n",
       "         [0.82108713],\n",
       "         [0.82108713],\n",
       "         [0.42032969],\n",
       "         [0.42032969],\n",
       "         [0.63781755],\n",
       "         [0.63781755],\n",
       "         [0.22934956],\n",
       "         [0.22934956],\n",
       "         [0.55293967],\n",
       "         [0.55293967],\n",
       "         [0.51662175],\n",
       "         [0.51662175],\n",
       "         [0.57343091],\n",
       "         [0.57343091],\n",
       "         [0.94631863],\n",
       "         [0.94631863],\n",
       "         [0.45876122],\n",
       "         [0.45876122],\n",
       "         [0.04276111],\n",
       "         [0.04276111],\n",
       "         [0.18826193],\n",
       "         [0.18826193],\n",
       "         [0.45947115],\n",
       "         [0.45947115],\n",
       "         [0.19035077],\n",
       "         [0.19035077],\n",
       "         [0.37298565],\n",
       "         [0.37298565],\n",
       "         [0.40852943],\n",
       "         [0.40852943],\n",
       "         [0.49698424],\n",
       "         [0.49698424],\n",
       "         [0.77976047],\n",
       "         [0.77976047],\n",
       "         [0.46100462],\n",
       "         [0.46100462],\n",
       "         [0.07191331],\n",
       "         [0.07191331],\n",
       "         [0.62199706],\n",
       "         [0.62199706],\n",
       "         [0.88147493],\n",
       "         [0.88147493],\n",
       "         [0.37622816],\n",
       "         [0.37622816],\n",
       "         [0.69531589],\n",
       "         [0.69531589],\n",
       "         [0.04445806],\n",
       "         [0.04445806],\n",
       "         [0.10380547],\n",
       "         [0.10380547],\n",
       "         [0.60906448],\n",
       "         [0.60906448],\n",
       "         [0.69608223],\n",
       "         [0.69608223],\n",
       "         [0.46047081],\n",
       "         [0.46047081],\n",
       "         [0.57185233],\n",
       "         [0.57185233],\n",
       "         [0.11332378],\n",
       "         [0.11332378],\n",
       "         [0.4237371 ],\n",
       "         [0.4237371 ],\n",
       "         [0.36337366],\n",
       "         [0.36337366],\n",
       "         [0.35474717],\n",
       "         [0.35474717],\n",
       "         [0.16043193],\n",
       "         [0.16043193],\n",
       "         [0.9593435 ],\n",
       "         [0.9593435 ],\n",
       "         [0.11112862],\n",
       "         [0.11112862],\n",
       "         [0.64743311],\n",
       "         [0.64743311],\n",
       "         [0.9379825 ],\n",
       "         [0.9379825 ],\n",
       "         [0.6498045 ],\n",
       "         [0.6498045 ],\n",
       "         [0.88797061],\n",
       "         [0.88797061],\n",
       "         [0.3536862 ],\n",
       "         [0.3536862 ]])}}"
      ]
     },
     "execution_count": 12,
     "metadata": {},
     "output_type": "execute_result"
    }
   ],
   "source": [
    "ds = load_by_id(run_id_a)\n",
    "ds.get_parameter_data('x1')"
   ]
  },
  {
   "cell_type": "code",
   "execution_count": null,
   "metadata": {},
   "outputs": [],
   "source": []
  }
 ],
 "metadata": {
  "kernelspec": {
   "display_name": "Python 3",
   "language": "python",
   "name": "python3"
  },
  "language_info": {
   "codemirror_mode": {
    "name": "ipython",
    "version": 3
   },
   "file_extension": ".py",
   "mimetype": "text/x-python",
   "name": "python",
   "nbconvert_exporter": "python",
   "pygments_lexer": "ipython3",
   "version": "3.10.8"
  },
  "nbsphinx": {
   "timeout": 600
  },
  "toc": {
   "base_numbering": 1,
   "nav_menu": {},
   "number_sections": true,
   "sideBar": true,
   "skip_h1_title": false,
   "title_cell": "Table of Contents",
   "title_sidebar": "Contents",
   "toc_cell": false,
   "toc_position": {},
   "toc_section_display": true,
   "toc_window_display": false
  },
  "varInspector": {
   "cols": {
    "lenName": 16,
    "lenType": 16,
    "lenVar": 40
   },
   "kernels_config": {
    "python": {
     "delete_cmd_postfix": "",
     "delete_cmd_prefix": "del ",
     "library": "var_list.py",
     "varRefreshCmd": "print(var_dic_list())"
    },
    "r": {
     "delete_cmd_postfix": ") ",
     "delete_cmd_prefix": "rm(",
     "library": "var_list.r",
     "varRefreshCmd": "cat(var_dic_list()) "
    }
   },
   "types_to_exclude": [
    "module",
    "function",
    "builtin_function_or_method",
    "instance",
    "_Feature"
   ],
   "window_display": false
  }
 },
 "nbformat": 4,
 "nbformat_minor": 4
}
